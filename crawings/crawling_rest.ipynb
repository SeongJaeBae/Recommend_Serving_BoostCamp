{
 "cells": [
  {
   "cell_type": "code",
   "execution_count": null,
   "metadata": {},
   "outputs": [],
   "source": [
    "import selenium\n",
    "from selenium import webdriver\n",
    "from selenium.webdriver import ActionChains\n",
    "\n",
    "from selenium.webdriver.common.keys import Keys\n",
    "from selenium.webdriver.common.by import By\n",
    "\n",
    "from selenium.webdriver.support import expected_conditions as EC\n",
    "from selenium.webdriver.support.ui import Select\n",
    "from selenium.webdriver.support.ui import WebDriverWait"
   ]
  },
  {
   "attachments": {},
   "cell_type": "markdown",
   "metadata": {},
   "source": [
    "***크롬드라이버 실행(자기 크롬 버전에 맞게 설치후 test.ipynb와 같은 경로에 두기)***"
   ]
  },
  {
   "cell_type": "code",
   "execution_count": null,
   "metadata": {},
   "outputs": [],
   "source": [
    "driver = webdriver.Chrome('chromedriver')\n",
    "url_list = [\"36528615\", \"31317229\", \"1269259731\", \"1779562085\", \"33040151\", \"1675801137\", \"1384361907\", \"1372982703\", \"1681990192\", \"1971062401\"]\n"
   ]
  },
  {
   "attachments": {},
   "cell_type": "markdown",
   "metadata": {},
   "source": [
    "***클릭할 버튼이 없을때까지 스크롤 내림 (일단 임시로 100지정)***"
   ]
  },
  {
   "cell_type": "code",
   "execution_count": null,
   "metadata": {},
   "outputs": [],
   "source": [
    "from selenium.webdriver.common.by import By\n"
   ]
  },
  {
   "cell_type": "code",
   "execution_count": null,
   "metadata": {},
   "outputs": [],
   "source": [
    "import time\n",
    "import pandas as pd\n",
    "userlink = pd.DataFrame()\n",
    "for _url in url_list[0]:\n",
    "    URL = f\"https://m.place.naver.com/restaurant/{_url}/review/visitor\"  \n",
    "    driver.get(URL)\n",
    "    time.sleep(2.5)\n",
    "    for _ in range(100):\n",
    "        driver.find_element(By.CSS_SELECTOR, \"body\").send_keys(Keys.END)\n",
    "        time.sleep(0.5)\n",
    "        try: driver.find_element(By.CLASS_NAME, 'fvwqf').click()\n",
    "        except: pass\n",
    "        time.sleep(0.1)\n",
    "    \n",
    "    link_list = driver.find_elements(By.CLASS_NAME, \"Hazns\")\n",
    "    link_list = [link.get_attribute(\"href\") for link in link_list]\n",
    "    user_list = driver.find_elements(By.CLASS_NAME, \"sBWyy\")\n",
    "    user_list = [user.text for user in user_list]\n",
    "    review_time_list = driver.find_elements(By.CLASS_NAME, \"sb8UA\")\n",
    "    review_time_list = [reviews.text for reviews in review_time_list]\n",
    "    length = min(len(user_list), len(link_list), len(review_time_list))\n",
    "    userlink2 = pd.DataFrame({'user' : user_list[:length], 'link' : link_list[:length], 'review_time' : review_time_list[:length]}, dtype = str)\n",
    "    userlink = pd.concat([userlink, userlink2], axis = 0, sort=False)"
   ]
  },
  {
   "cell_type": "code",
   "execution_count": null,
   "metadata": {},
   "outputs": [],
   "source": [
    "# iframe 아이디를 반환해줌 \n",
    "# iframes = driver.find_elements(By.CSS_SELECTOR, 'iframe')\n",
    "# for iframe in iframes:\n",
    "#     print(iframe.get_attribute('id'))\n"
   ]
  },
  {
   "cell_type": "code",
   "execution_count": null,
   "metadata": {},
   "outputs": [],
   "source": [
    "# driver.switch_to.parent_frame() # 아래 코드를 이용해서 iframe갔을때 빠져나오기 위한 코드 (현재는 의미없음)"
   ]
  },
  {
   "attachments": {},
   "cell_type": "markdown",
   "metadata": {},
   "source": [
    "**식당 리스트 뽑기위한 코드**"
   ]
  },
  {
   "cell_type": "code",
   "execution_count": null,
   "metadata": {},
   "outputs": [],
   "source": [
    "import time\n",
    "import pandas as pd\n",
    "driver = webdriver.Chrome('chromedriver')\n",
    "URL = \"https://map.naver.com/v5/search/%EC%84%9C%EC%B4%88%EA%B5%AC%20%EC%9D%8C%EC%8B%9D%EC%A0%90?c=14137477.8183780,4506726.1284877,12,0,0,0,dh\"  \n",
    "driver.get(URL)"
   ]
  },
  {
   "cell_type": "code",
   "execution_count": null,
   "metadata": {},
   "outputs": [],
   "source": [
    "driver.switch_to.frame('searchIframe') #iframe 으로 이동하기 위한 코드\n",
    "restaurants_list = pd.DataFrame()"
   ]
  },
  {
   "cell_type": "code",
   "execution_count": 69,
   "metadata": {},
   "outputs": [
    {
     "name": "stderr",
     "output_type": "stream",
     "text": [
      "100%|██████████| 6/6 [01:10<00:00, 11.80s/it]\n"
     ]
    }
   ],
   "source": [
    "from tqdm import tqdm\n",
    "epoch = 6 # 6이 최대인듯\n",
    "for _ in tqdm(range(epoch)):\n",
    "    click_list = driver.find_elements(By.CLASS_NAME, \"tzwk0\")\n",
    "    click_list[0].click() #아무거나 클릭을 해야 end키가 먹혀서 임의로 아무 클래스 클릭한거임\n",
    "    for _ in range(10):\n",
    "        driver.find_element(By.CSS_SELECTOR, \"body\").send_keys(Keys.END) # end키를 눌러서 아래까지 로딩\n",
    "    time.sleep(2)\n",
    "    click_list = driver.find_elements(By.CLASS_NAME, \"tzwk0\") # 식당 리스트\n",
    "    name_list = driver.find_elements(By.CLASS_NAME, \"TYaxT\") # 식당 이름 리스트\n",
    "    name_list = [user.text for user in name_list]\n",
    "    tag_list = driver.find_elements(By.CLASS_NAME, \"KCMnt\") # 식당 종류 리스트\n",
    "    tag_list = [user.text for user in tag_list]\n",
    "    url_list = []\n",
    "    for restaurant_link in click_list:\n",
    "        restaurant_link.click()\n",
    "        url_list.append(driver.current_url)\n",
    "        time.sleep(0.5)\n",
    "    restaurants_list2 = pd.DataFrame({'restaurant' : name_list, 'tag' : tag_list, 'url' : url_list}, dtype = str)\n",
    "    restaurants_list = pd.concat([restaurants_list, restaurants_list2], axis = 0, sort=False)\n",
    "    driver.find_elements(By.CLASS_NAME, \"yUtES\")[1].click() #다음페이지 클릭\n",
    "    time.sleep(2)"
   ]
  },
  {
   "cell_type": "code",
   "execution_count": 71,
   "metadata": {},
   "outputs": [],
   "source": [
    "restaurants_list.to_csv('restaurant.csv', index=False)"
   ]
  }
 ],
 "metadata": {
  "kernelspec": {
   "display_name": "final",
   "language": "python",
   "name": "final"
  },
  "vscode": {
   "interpreter": {
    "hash": "c0d07f6d1b588df06992a3ebb12e6b30ff5ec3ab47dcce5911add949478db3bf"
   }
  }
 },
 "nbformat": 4,
 "nbformat_minor": 2
}
