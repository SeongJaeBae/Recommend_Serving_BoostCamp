{
 "cells": [
  {
   "cell_type": "code",
   "execution_count": 7,
   "metadata": {},
   "outputs": [],
   "source": [
    "import os\n",
    "import sys\n",
    "import urllib.request\n",
    "from tqdm import tqdm\n",
    "\n",
    "import selenium\n",
    "from selenium import webdriver\n",
    "from selenium.webdriver import ActionChains\n",
    "\n",
    "from selenium.webdriver.common.keys import Keys\n",
    "from selenium.webdriver.common.by import By\n",
    "\n",
    "from selenium.webdriver.support import expected_conditions as EC\n",
    "from selenium.webdriver.support.ui import Select\n",
    "from selenium.webdriver.support.ui import WebDriverWait\n",
    "\n",
    "from selenium.webdriver.chrome.options import Options\n",
    "\n",
    "import time\n",
    "import pandas as pd\n",
    "\n",
    "import warnings\n",
    "warnings.filterwarnings('ignore')"
   ]
  },
  {
   "cell_type": "code",
   "execution_count": 8,
   "metadata": {},
   "outputs": [],
   "source": [
    "# 지역 이름만 계속 바꿔주면 됩니다.\n",
    "area = 'Gangnam'\n",
    "\n",
    "#csv_file = \"rest_concat\"\n",
    "client_id = \"789Xk04GARJpb4omVvUq\" # 개발자센터에서 발급받은 Client ID 값\n",
    "client_secret = \"oynUXBN1cW\" # 개발자센터에서 발급받은 Client Secret 값"
   ]
  },
  {
   "cell_type": "code",
   "execution_count": 9,
   "metadata": {},
   "outputs": [],
   "source": [
    "chrome_options = Options()\n",
    "chrome_options.add_argument('--headless')\n",
    "chrome_options.add_argument('--no-sandbox')\n",
    "chrome_options.add_argument('--disable-dev-shm-usage')\n",
    "\n",
    "data = pd.read_csv(f'./area_csv/{area}/rest_concat.csv')\n",
    "#rest_list = list(data['restaurant'].values)\n",
    "\n",
    "data['x'] = 0\n",
    "data['y'] = 0\n",
    "data['image'] = 'tem'"
   ]
  },
  {
   "cell_type": "code",
   "execution_count": 10,
   "metadata": {},
   "outputs": [
    {
     "name": "stderr",
     "output_type": "stream",
     "text": [
      "  0%|          | 0/3071 [00:03<?, ?it/s]\n"
     ]
    }
   ],
   "source": [
    "for idx in tqdm(range(len(data))): # range(3)\n",
    "    # 이미지 크롤링\n",
    "    driver = webdriver.Chrome(executable_path='./chromedriver', options=chrome_options)\n",
    "    url = data['url'][idx]\n",
    "    driver.get(f\"https://m.place.naver.com/restaurant/{url}/home\")\n",
    "    name_list = driver.find_elements(By.ID, \"og:image\")\n",
    "    if len(name_list) > 0:\n",
    "        data['image'][idx] = name_list[0].get_attribute('content')\n",
    "\n",
    "    # x,y 크롤링\n",
    "    encText = urllib.parse.quote(data['restaurant'][idx])\n",
    "    url = \"https://openapi.naver.com/v1/search/local?query=\" + encText # JSON 결과\n",
    "    request = urllib.request.Request(url)\n",
    "    request.add_header(\"X-Naver-Client-Id\",client_id)\n",
    "    request.add_header(\"X-Naver-Client-Secret\",client_secret)\n",
    "    response = urllib.request.urlopen(request)\n",
    "    rescode = response.getcode()\n",
    "    time.sleep(0.11)\n",
    "    if(rescode==200):\n",
    "        response_body = response.read()\n",
    "        data['x'][idx] =  response_body.decode('utf-8').split(\"\\\"\")[-6]\n",
    "        data['y'][idx] =  response_body.decode('utf-8').split(\"\\\"\")[-2]\n",
    "    else:\n",
    "        print(\"Error Code:\" + rescode)\n",
    "    break\n",
    "    "
   ]
  },
  {
   "cell_type": "code",
   "execution_count": null,
   "metadata": {},
   "outputs": [],
   "source": [
    "data.to_csv(f'./area_csv/{area}/rest_concat_{area}.csv', index=False)#river_behind500"
   ]
  },
  {
   "cell_type": "code",
   "execution_count": null,
   "metadata": {},
   "outputs": [],
   "source": []
  }
 ],
 "metadata": {
  "kernelspec": {
   "display_name": "final",
   "language": "python",
   "name": "final"
  },
  "language_info": {
   "codemirror_mode": {
    "name": "ipython",
    "version": 3
   },
   "file_extension": ".py",
   "mimetype": "text/x-python",
   "name": "python",
   "nbconvert_exporter": "python",
   "pygments_lexer": "ipython3",
   "version": "3.8.15"
  },
  "vscode": {
   "interpreter": {
    "hash": "d4d1e4263499bec80672ea0156c357c1ee493ec2b1c70f0acce89fc37c4a6abe"
   }
  }
 },
 "nbformat": 4,
 "nbformat_minor": 2
}
