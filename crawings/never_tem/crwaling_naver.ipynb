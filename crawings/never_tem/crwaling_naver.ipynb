{
 "cells": [
  {
   "cell_type": "code",
   "execution_count": 1,
   "metadata": {},
   "outputs": [],
   "source": [
    "from tqdm import tqdm\n",
    "from bs4 import BeautifulSoup\n",
    "import requests\n",
    "import pandas as pd\n",
    "import re\n",
    "import time\n"
   ]
  },
  {
   "cell_type": "code",
   "execution_count": 2,
   "metadata": {},
   "outputs": [
    {
     "data": {
      "text/html": [
       "<div>\n",
       "<style scoped>\n",
       "    .dataframe tbody tr th:only-of-type {\n",
       "        vertical-align: middle;\n",
       "    }\n",
       "\n",
       "    .dataframe tbody tr th {\n",
       "        vertical-align: top;\n",
       "    }\n",
       "\n",
       "    .dataframe thead th {\n",
       "        text-align: right;\n",
       "    }\n",
       "</style>\n",
       "<table border=\"1\" class=\"dataframe\">\n",
       "  <thead>\n",
       "    <tr style=\"text-align: right;\">\n",
       "      <th></th>\n",
       "      <th>업종명</th>\n",
       "      <th>업소명</th>\n",
       "      <th>소재지(도로명)</th>\n",
       "      <th>소재지전화</th>\n",
       "    </tr>\n",
       "  </thead>\n",
       "  <tbody>\n",
       "    <tr>\n",
       "      <th>0</th>\n",
       "      <td>일반음식점</td>\n",
       "      <td>샹하이</td>\n",
       "      <td>서울특별시 송파구 석촌호수로 82, 지상1층 (잠실동)</td>\n",
       "      <td>02-416-2283</td>\n",
       "    </tr>\n",
       "    <tr>\n",
       "      <th>1</th>\n",
       "      <td>일반음식점</td>\n",
       "      <td>영월식당</td>\n",
       "      <td>서울특별시 송파구 마천로51가길 2, 지상1층 (마천동)</td>\n",
       "      <td>02-400-2665</td>\n",
       "    </tr>\n",
       "    <tr>\n",
       "      <th>2</th>\n",
       "      <td>일반음식점</td>\n",
       "      <td>영미식당</td>\n",
       "      <td>서울특별시 송파구 충민로 81-14, 1,2,3층 (문정동)</td>\n",
       "      <td>02-402-1007</td>\n",
       "    </tr>\n",
       "    <tr>\n",
       "      <th>3</th>\n",
       "      <td>일반음식점</td>\n",
       "      <td>국일반점</td>\n",
       "      <td>서울특별시 송파구 마천로 345-1 (마천동)</td>\n",
       "      <td>02-406-1798</td>\n",
       "    </tr>\n",
       "    <tr>\n",
       "      <th>4</th>\n",
       "      <td>일반음식점</td>\n",
       "      <td>부산회집</td>\n",
       "      <td>서울특별시 송파구 올림픽로35길 94 (신천동,장미C상가 2,3,4호)</td>\n",
       "      <td>02-418-4624</td>\n",
       "    </tr>\n",
       "    <tr>\n",
       "      <th>...</th>\n",
       "      <td>...</td>\n",
       "      <td>...</td>\n",
       "      <td>...</td>\n",
       "      <td>...</td>\n",
       "    </tr>\n",
       "    <tr>\n",
       "      <th>7045</th>\n",
       "      <td>일반음식점</td>\n",
       "      <td>BK wing(비케이 윙)</td>\n",
       "      <td>서울특별시 송파구 양재대로64길 28, 지층 A-1호 (가락동)</td>\n",
       "      <td>NaN</td>\n",
       "    </tr>\n",
       "    <tr>\n",
       "      <th>7046</th>\n",
       "      <td>일반음식점</td>\n",
       "      <td>당신은 지금 치킨이 땡긴다 석촌점</td>\n",
       "      <td>서울특별시 송파구 석촌호수로 210, 지하1층 11호 (석촌동, 석촌호수효성해링턴타워)</td>\n",
       "      <td>NaN</td>\n",
       "    </tr>\n",
       "    <tr>\n",
       "      <th>7047</th>\n",
       "      <td>일반음식점</td>\n",
       "      <td>선한사람들</td>\n",
       "      <td>서울특별시 송파구 법원로4길 6, 문정아이파크 108호 중 6호 (문정동)</td>\n",
       "      <td>NaN</td>\n",
       "    </tr>\n",
       "    <tr>\n",
       "      <th>7048</th>\n",
       "      <td>일반음식점</td>\n",
       "      <td>중경식객 송파점</td>\n",
       "      <td>서울특별시 송파구 동남로18길 31, 1층 (가락동)</td>\n",
       "      <td>NaN</td>\n",
       "    </tr>\n",
       "    <tr>\n",
       "      <th>7049</th>\n",
       "      <td>일반음식점</td>\n",
       "      <td>김군초밥</td>\n",
       "      <td>서울특별시 송파구 송파대로28길 24, 밀리아나2차오피스텔 1층 105(좌측1호)호...</td>\n",
       "      <td>NaN</td>\n",
       "    </tr>\n",
       "  </tbody>\n",
       "</table>\n",
       "<p>7050 rows × 4 columns</p>\n",
       "</div>"
      ],
      "text/plain": [
       "        업종명                 업소명  \\\n",
       "0     일반음식점                 샹하이   \n",
       "1     일반음식점                영월식당   \n",
       "2     일반음식점                영미식당   \n",
       "3     일반음식점                국일반점   \n",
       "4     일반음식점                부산회집   \n",
       "...     ...                 ...   \n",
       "7045  일반음식점      BK wing(비케이 윙)   \n",
       "7046  일반음식점  당신은 지금 치킨이 땡긴다 석촌점   \n",
       "7047  일반음식점               선한사람들   \n",
       "7048  일반음식점            중경식객 송파점   \n",
       "7049  일반음식점                김군초밥   \n",
       "\n",
       "                                               소재지(도로명)        소재지전화  \n",
       "0                        서울특별시 송파구 석촌호수로 82, 지상1층 (잠실동)  02-416-2283  \n",
       "1                       서울특별시 송파구 마천로51가길 2, 지상1층 (마천동)  02-400-2665  \n",
       "2                     서울특별시 송파구 충민로 81-14, 1,2,3층 (문정동)  02-402-1007  \n",
       "3                             서울특별시 송파구 마천로 345-1 (마천동)  02-406-1798  \n",
       "4               서울특별시 송파구 올림픽로35길 94 (신천동,장미C상가 2,3,4호)  02-418-4624  \n",
       "...                                                 ...          ...  \n",
       "7045                서울특별시 송파구 양재대로64길 28, 지층 A-1호 (가락동)          NaN  \n",
       "7046   서울특별시 송파구 석촌호수로 210, 지하1층 11호 (석촌동, 석촌호수효성해링턴타워)          NaN  \n",
       "7047          서울특별시 송파구 법원로4길 6, 문정아이파크 108호 중 6호 (문정동)          NaN  \n",
       "7048                      서울특별시 송파구 동남로18길 31, 1층 (가락동)          NaN  \n",
       "7049  서울특별시 송파구 송파대로28길 24, 밀리아나2차오피스텔 1층 105(좌측1호)호...          NaN  \n",
       "\n",
       "[7050 rows x 4 columns]"
      ]
     },
     "execution_count": 2,
     "metadata": {},
     "output_type": "execute_result"
    }
   ],
   "source": [
    "data = pd.read_csv('./일반음식점_송파.csv',encoding='cp949')\n",
    "data"
   ]
  },
  {
   "cell_type": "code",
   "execution_count": 3,
   "metadata": {},
   "outputs": [
    {
     "name": "stderr",
     "output_type": "stream",
     "text": [
      "  1%|          | 52/7050 [00:54<2:03:14,  1.06s/it]\n"
     ]
    },
    {
     "ename": "KeyboardInterrupt",
     "evalue": "",
     "output_type": "error",
     "traceback": [
      "\u001b[0;31m---------------------------------------------------------------------------\u001b[0m",
      "\u001b[0;31mKeyboardInterrupt\u001b[0m                         Traceback (most recent call last)",
      "\u001b[1;32m/opt/ml/crawings/naver_crwaling.ipynb Cell 3\u001b[0m in \u001b[0;36m<cell line: 2>\u001b[0;34m()\u001b[0m\n\u001b[1;32m     <a href='vscode-notebook-cell://ssh-remote%2B27.96.130.127/opt/ml/crawings/naver_crwaling.ipynb#W2sdnNjb2RlLXJlbW90ZQ%3D%3D?line=24'>25</a>\u001b[0m         restaurant_dict[\u001b[39m'\u001b[39m\u001b[39m{}\u001b[39;00m\u001b[39m'\u001b[39m\u001b[39m.\u001b[39mformat(result[\u001b[39m0\u001b[39m][\u001b[39m1\u001b[39m:])] \u001b[39m=\u001b[39m b\u001b[39m.\u001b[39mfind(\u001b[39m'\u001b[39m\u001b[39mspan\u001b[39m\u001b[39m'\u001b[39m)\u001b[39m.\u001b[39mtext\n\u001b[1;32m     <a href='vscode-notebook-cell://ssh-remote%2B27.96.130.127/opt/ml/crawings/naver_crwaling.ipynb#W2sdnNjb2RlLXJlbW90ZQ%3D%3D?line=25'>26</a>\u001b[0m \u001b[39m#print(restaurant_dict)\u001b[39;00m\n\u001b[0;32m---> <a href='vscode-notebook-cell://ssh-remote%2B27.96.130.127/opt/ml/crawings/naver_crwaling.ipynb#W2sdnNjb2RlLXJlbW90ZQ%3D%3D?line=26'>27</a>\u001b[0m time\u001b[39m.\u001b[39;49msleep(\u001b[39m0.5\u001b[39;49m)\n",
      "\u001b[0;31mKeyboardInterrupt\u001b[0m: "
     ]
    }
   ],
   "source": [
    "restaurant_dict = {}\n",
    "for i in tqdm(data['업소명']):    \n",
    "    #print(i)\n",
    "    target = '송파구+' + i\n",
    "    url = 'https://search.naver.com/search.naver?where=nexearch&sm=tab_jum&query={}'.format(target)\n",
    "    req = requests.get(url)\n",
    "\n",
    "    html = req.text\n",
    "    soup = BeautifulSoup(html,'html.parser')\n",
    "    #1) 검색시 여러개 나오는 경우\n",
    "    b =  soup.find_all(class_='VLTHu')\n",
    "    if len(b) >0:\n",
    "        for i in b:\n",
    "            #print(i.find(class_= \"C6RjW\").find('span').text) # 해당 이름\n",
    "            if str(i.find(class_=\"hClKF\")).find(\"서울 송파구\") != -1:\n",
    "                tmp = i.get('data-loc_plc-doc-id')\n",
    "                #print(i.get('data-loc_plc-doc-id'))\n",
    "                restaurant_dict['{}'.format(tmp)] = i.find(class_= \"C6RjW\").find('span').text\n",
    "    else:\n",
    "        #2. 검색해서 하나만 나오는 경우\n",
    "        b =  soup.find(class_='zD5Nm')\n",
    "        if b != None:# 검색시 안나오는 곳일 경우에는 find를 사용시 에러나서 방어함\n",
    "            result = re.findall(r'/[0-9]+', str(b.find(class_='YouOG').a))\n",
    "            #print(result[0][1:]) #해당 타겟 id\n",
    "            restaurant_dict['{}'.format(result[0][1:])] = b.find('span').text\n",
    "    #print(restaurant_dict)\n",
    "    time.sleep(0.5)    \n",
    "\n"
   ]
  },
  {
   "cell_type": "code",
   "execution_count": null,
   "metadata": {},
   "outputs": [],
   "source": [
    "test_df = pd.DataFrame.from_dict(restaurant_dict, orient='index').reset_index()\n",
    "test_df.to_csv('./crwaling.csv', index=False)\n"
   ]
  },
  {
   "cell_type": "code",
   "execution_count": null,
   "metadata": {},
   "outputs": [],
   "source": [
    "test_df"
   ]
  },
  {
   "cell_type": "code",
   "execution_count": null,
   "metadata": {},
   "outputs": [],
   "source": [
    "#process.py\n",
    "#restaurant_dict = {}\n",
    "#url = 'https://search.naver.com/search.naver?where=nexearch&sm=tab_jum&query={}'.format('송파구+상하이')\n",
    "#req = requests.get(url)\n",
    "\n",
    "#html = req.text\n",
    "#soup = BeautifulSoup(html,'html.parser')\n"
   ]
  },
  {
   "cell_type": "code",
   "execution_count": null,
   "metadata": {},
   "outputs": [
    {
     "name": "stdout",
     "output_type": "stream",
     "text": [
      "6\n"
     ]
    }
   ],
   "source": [
    "#1) 검색시 여러개 나오는 경우\n",
    "#b =  soup.find_all(class_='VLTHu')\n",
    "#print(len(b))\n",
    "#for i in b:\n",
    "    #print(i.find(class_= \"C6RjW\").find('span').text) # 해당 이름\n",
    "    #if str(i.find(class_=\"hClKF\")).find(\"서울 송파구\") != -1:\n",
    "        #tmp = i.get('data-loc_plc-doc-id')\n",
    "        #print(i.get('data-loc_plc-doc-id'))\n",
    "        #restaurant_dict['{}'.format(tmp)] = i.find(class_= \"C6RjW\").find('span').text"
   ]
  },
  {
   "cell_type": "code",
   "execution_count": null,
   "metadata": {},
   "outputs": [],
   "source": [
    "#2. 검색해서 하나만 나오는 경우\n",
    "#b =  soup.find(class_='zD5Nm')\n",
    "#print(b.find('span').text)\n",
    "#print(b.attrs)\n",
    "#print(b.find(class_='YouOG').a)\n",
    "#print(b)\n",
    "#print(b.find_all('em'))\n",
    "#print(len(b.find_all('em')))\n",
    "#result = re.findall(r'/[0-9]+', str(b.find(class_='YouOG').a))\n",
    "#print(result[0][1:]) #해당 타겟 id\n",
    "#restaurant_dict['{}'.format(result[0][1:])] = b.find('span').text"
   ]
  },
  {
   "cell_type": "code",
   "execution_count": null,
   "metadata": {},
   "outputs": [],
   "source": [
    "#test_df = pd.DataFrame.from_dict(restaurant_dict, orient='index').reset_index()\n",
    "#test_df\n",
    "#test_df.to_csv('./crwaling.csv', index=False)"
   ]
  }
 ],
 "metadata": {
  "kernelspec": {
   "display_name": "final",
   "language": "python",
   "name": "final"
  },
  "vscode": {
   "interpreter": {
    "hash": "d4d1e4263499bec80672ea0156c357c1ee493ec2b1c70f0acce89fc37c4a6abe"
   }
  }
 },
 "nbformat": 4,
 "nbformat_minor": 2
}
