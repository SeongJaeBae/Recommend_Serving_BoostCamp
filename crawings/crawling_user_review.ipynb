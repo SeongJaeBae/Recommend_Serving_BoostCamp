{
 "cells": [
  {
   "cell_type": "code",
   "execution_count": 7,
   "metadata": {},
   "outputs": [],
   "source": [
    "import selenium\n",
    "from selenium import webdriver\n",
    "from selenium.webdriver import ActionChains\n",
    "\n",
    "from selenium.webdriver.common.keys import Keys\n",
    "from selenium.webdriver.common.by import By\n",
    "\n",
    "from selenium.webdriver.support import expected_conditions as EC\n",
    "from selenium.webdriver.support.ui import Select\n",
    "from selenium.webdriver.support.ui import WebDriverWait\n",
    "from selenium.webdriver.common.action_chains import ActionChains\n",
    "from bs4 import BeautifulSoup\n",
    "from tqdm import tqdm\n",
    "\n",
    "import time\n",
    "import pandas as pd"
   ]
  },
  {
   "cell_type": "code",
   "execution_count": 8,
   "metadata": {},
   "outputs": [],
   "source": [
    "from selenium.webdriver.chrome.options import Options\n",
    "chrome_options = Options()\n",
    "chrome_options.add_argument('--headless')\n",
    "chrome_options.add_argument('--no-sandbox')\n",
    "chrome_options.add_argument('--disable-dev-shm-usage')\n",
    "chrome_options.add_argument('window-size= 1920,1080')\n",
    "chrome_options.add_argument('--kiosk')\n",
    "\n",
    "# executable_path : /opt/ml/crawling/chromedriver, /opt/ml/input/final/chromedriver\n",
    "driver = webdriver.Chrome(executable_path='/opt/ml/input/project/crawings/chromedriver', chrome_options=chrome_options)"
   ]
  },
  {
   "cell_type": "code",
   "execution_count": 11,
   "metadata": {},
   "outputs": [],
   "source": [
    "path = 'Gangnam'"
   ]
  },
  {
   "cell_type": "code",
   "execution_count": 12,
   "metadata": {},
   "outputs": [
    {
     "data": {
      "text/plain": [
       "[1675303081, 1867823297, 38969614, 895457986, 11700226]"
      ]
     },
     "execution_count": 12,
     "metadata": {},
     "output_type": "execute_result"
    }
   ],
   "source": [
    "data = pd.read_csv(f'./area_csv/{path}/river_behind_concat.csv')\n",
    "url_list = list(data['url'].values)\n",
    "url_list[:5]"
   ]
  },
  {
   "cell_type": "code",
   "execution_count": 13,
   "metadata": {},
   "outputs": [],
   "source": [
    "len(url_list)\n",
    "userlink = pd.DataFrame()"
   ]
  },
  {
   "cell_type": "code",
   "execution_count": 14,
   "metadata": {},
   "outputs": [
    {
     "name": "stderr",
     "output_type": "stream",
     "text": [
      "  0%|          | 0/50 [00:00<?, ?it/s]"
     ]
    },
    {
     "name": "stdout",
     "output_type": "stream",
     "text": [
      "1675303081\n",
      " 0"
     ]
    }
   ],
   "source": [
    "for _url in tqdm(url_list[0:50]):\n",
    "    try:\n",
    "        driver = webdriver.Chrome(executable_path='/opt/ml/input/project/crawings/chromedriver', chrome_options=chrome_options)\n",
    "        action = ActionChains(driver)\n",
    "        print(_url)\n",
    "        URL = f\"https://m.place.naver.com/restaurant/{_url}/review/visitor\"\n",
    "        driver.get(URL)\n",
    "        time.sleep(2.5)\n",
    "        count = 0\n",
    "        flag = False\n",
    "        while True:\n",
    "            try: action.move_to_element(driver.find_element(By.CLASS_NAME, \"lfH3O\")).click().perform()\n",
    "            except: break\n",
    "            print(\"\\r\",count, end=\"\")\n",
    "            count+= 1\n",
    "            if count >= 60: flag = True; break\n",
    "        print(\"click 1/2 complete\")\n",
    "        time.sleep(2.5)\n",
    "        try:\n",
    "            #action.move_to_element(driver.find_elements(By.CLASS_NAME, \"YeINN\")[-1]).perform()  #선택 리뷰 창 + 버튼 누르기\n",
    "            driver.find_element(By.CLASS_NAME, 'I8cuq').click()\n",
    "        except: print(\"NO 선택리뷰창\")\n",
    "        time.sleep(2.5)\n",
    "        action = ActionChains(driver)\n",
    "        while True:\n",
    "            try:\n",
    "                action.move_to_element(driver.find_element(By.CLASS_NAME, \"lfH3O\")).click().perform()\n",
    "            except:\n",
    "                break\n",
    "            print(\"\\r\",count, end=\"\")\n",
    "            count+= 1\n",
    "            if count >= 60: flag = True; break\n",
    "        print(\"click 2/2 complete\")\n",
    "        if flag:\n",
    "            with open(f\"./user_csv/{path}/notsaved.txt\", \"a\") as file:\n",
    "                file.write(f\"{str(current_status)}\\n\")\n",
    "                file.close()\n",
    "            current_status += 1\n",
    "            continue\n",
    "        html = driver.page_source\n",
    "        soup = BeautifulSoup(html,'html.parser')\n",
    "        user = soup.find_all(class_='YeINN')\n",
    "        link_list = [i.a['href'] for i in user]\n",
    "        user_list = [i.text for i in user]\n",
    "        #time.sleep(5)\n",
    "        print(_url, len(link_list), len(user_list))\n",
    "        userlink2 = pd.DataFrame({'link' : link_list, 'user' : user_list}, dtype = str)\n",
    "        userlink2['rest'] = _url\n",
    "        userlink = pd.concat([userlink, userlink2], axis = 0, sort=False)\n",
    "        userlink.to_csv(f'./user_csv/{path}/river_behind{current_status}.csv', index=False)#river_behind500\n",
    "        with open(f\"./user_csv/{path}/log.txt\", \"w\") as file:\n",
    "            file.writelines(str(current_status))\n",
    "        current_status += 1\n",
    "    except:\n",
    "        with open(f\"./user_csv/{path}/notsaved.txt\", \"a\") as file:\n",
    "            file.write(f\"{str(current_status)}\\n\")\n",
    "            file.close()\n",
    "        current_status += 1\n",
    "        continue\n",
    "print(\"End~\")"
   ]
  },
  {
   "cell_type": "code",
   "execution_count": null,
   "metadata": {},
   "outputs": [],
   "source": []
  }
 ],
 "metadata": {
  "kernelspec": {
   "display_name": "final",
   "language": "python",
   "name": "final"
  },
  "language_info": {
   "codemirror_mode": {
    "name": "ipython",
    "version": 3
   },
   "file_extension": ".py",
   "mimetype": "text/x-python",
   "name": "python",
   "nbconvert_exporter": "python",
   "pygments_lexer": "ipython3",
   "version": "3.8.15"
  },
  "vscode": {
   "interpreter": {
    "hash": "d4d1e4263499bec80672ea0156c357c1ee493ec2b1c70f0acce89fc37c4a6abe"
   }
  }
 },
 "nbformat": 4,
 "nbformat_minor": 4
}
