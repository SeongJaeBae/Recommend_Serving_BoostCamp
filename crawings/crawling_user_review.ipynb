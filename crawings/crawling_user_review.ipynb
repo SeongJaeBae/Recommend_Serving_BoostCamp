{
 "cells": [
  {
   "cell_type": "code",
   "execution_count": 1,
   "metadata": {},
   "outputs": [],
   "source": [
    "import selenium\n",
    "from selenium import webdriver\n",
    "from selenium.webdriver import ActionChains\n",
    "\n",
    "from selenium.webdriver.common.keys import Keys\n",
    "from selenium.webdriver.common.by import By\n",
    "\n",
    "from selenium.webdriver.support import expected_conditions as EC\n",
    "from selenium.webdriver.support.ui import Select\n",
    "from selenium.webdriver.support.ui import WebDriverWait\n",
    "from selenium.webdriver.common.action_chains import ActionChains\n",
    "from bs4 import BeautifulSoup\n",
    "from tqdm import tqdm\n",
    "\n",
    "import time\n",
    "import pandas as pd"
   ]
  },
  {
   "cell_type": "code",
   "execution_count": 3,
   "metadata": {},
   "outputs": [],
   "source": [
    "from selenium.webdriver.chrome.options import Options\n",
    "chrome_options = Options()\n",
    "chrome_options.add_argument('--headless')\n",
    "chrome_options.add_argument('--no-sandbox')\n",
    "chrome_options.add_argument('--disable-dev-shm-usage')\n",
    "chrome_options.add_argument('window-size= 1920,1080')\n",
    "chrome_options.add_argument('--kiosk')\n",
    "\n",
    "# executable_path : /opt/ml/crawling/chromedriver, /opt/ml/input/final/chromedriver\n",
    "driver = webdriver.Chrome(executable_path='/opt/ml/input/final/chromedriver', chrome_options=chrome_options)"
   ]
  },
  {
   "cell_type": "code",
   "execution_count": 4,
   "metadata": {},
   "outputs": [
    {
     "data": {
      "text/plain": [
       "[1675303081, 1867823297, 38969614, 895457986, 11700226]"
      ]
     },
     "execution_count": 4,
     "metadata": {},
     "output_type": "execute_result"
    }
   ],
   "source": [
    "data = pd.read_csv('./save_csv/river_behind_concat.csv')\n",
    "url_list = list(data['url'].values)\n",
    "url_list[:5]"
   ]
  },
  {
   "cell_type": "code",
   "execution_count": 5,
   "metadata": {},
   "outputs": [],
   "source": [
    "len(url_list)\n",
    "userlink = pd.DataFrame()"
   ]
  },
  {
   "cell_type": "code",
   "execution_count": 7,
   "metadata": {},
   "outputs": [
    {
     "name": "stderr",
     "output_type": "stream",
     "text": [
      "  0%|          | 0/45 [00:00<?, ?it/s]"
     ]
    },
    {
     "name": "stdout",
     "output_type": "stream",
     "text": [
      "35751409\n",
      " 8click 1/2 complete\n",
      " 12click 2/2 complete\n"
     ]
    },
    {
     "name": "stderr",
     "output_type": "stream",
     "text": [
      "  0%|          | 0/45 [00:32<?, ?it/s]\n"
     ]
    },
    {
     "ename": "TypeError",
     "evalue": "'NoneType' object is not subscriptable",
     "output_type": "error",
     "traceback": [
      "\u001b[0;31m---------------------------------------------------------------------------\u001b[0m",
      "\u001b[0;31mTypeError\u001b[0m                                 Traceback (most recent call last)",
      "Cell \u001b[0;32mIn[7], line 40\u001b[0m\n\u001b[1;32m     37\u001b[0m soup \u001b[39m=\u001b[39m BeautifulSoup(html,\u001b[39m'\u001b[39m\u001b[39mhtml.parser\u001b[39m\u001b[39m'\u001b[39m)\n\u001b[1;32m     38\u001b[0m user \u001b[39m=\u001b[39m soup\u001b[39m.\u001b[39mfind_all(class_\u001b[39m=\u001b[39m\u001b[39m'\u001b[39m\u001b[39mYeINN\u001b[39m\u001b[39m'\u001b[39m)\n\u001b[0;32m---> 40\u001b[0m link_list \u001b[39m=\u001b[39m [i\u001b[39m.\u001b[39ma[\u001b[39m'\u001b[39m\u001b[39mhref\u001b[39m\u001b[39m'\u001b[39m] \u001b[39mfor\u001b[39;00m i \u001b[39min\u001b[39;00m user]\n\u001b[1;32m     41\u001b[0m user_list \u001b[39m=\u001b[39m [i\u001b[39m.\u001b[39mtext \u001b[39mfor\u001b[39;00m i \u001b[39min\u001b[39;00m user]\n\u001b[1;32m     43\u001b[0m \u001b[39m#time.sleep(5)\u001b[39;00m\n",
      "Cell \u001b[0;32mIn[7], line 40\u001b[0m, in \u001b[0;36m<listcomp>\u001b[0;34m(.0)\u001b[0m\n\u001b[1;32m     37\u001b[0m soup \u001b[39m=\u001b[39m BeautifulSoup(html,\u001b[39m'\u001b[39m\u001b[39mhtml.parser\u001b[39m\u001b[39m'\u001b[39m)\n\u001b[1;32m     38\u001b[0m user \u001b[39m=\u001b[39m soup\u001b[39m.\u001b[39mfind_all(class_\u001b[39m=\u001b[39m\u001b[39m'\u001b[39m\u001b[39mYeINN\u001b[39m\u001b[39m'\u001b[39m)\n\u001b[0;32m---> 40\u001b[0m link_list \u001b[39m=\u001b[39m [i\u001b[39m.\u001b[39;49ma[\u001b[39m'\u001b[39;49m\u001b[39mhref\u001b[39;49m\u001b[39m'\u001b[39;49m] \u001b[39mfor\u001b[39;00m i \u001b[39min\u001b[39;00m user]\n\u001b[1;32m     41\u001b[0m user_list \u001b[39m=\u001b[39m [i\u001b[39m.\u001b[39mtext \u001b[39mfor\u001b[39;00m i \u001b[39min\u001b[39;00m user]\n\u001b[1;32m     43\u001b[0m \u001b[39m#time.sleep(5)\u001b[39;00m\n",
      "\u001b[0;31mTypeError\u001b[0m: 'NoneType' object is not subscriptable"
     ]
    }
   ],
   "source": [
    "for _url in tqdm(url_list[5:50]):\n",
    "    \n",
    "    \n",
    "    driver = webdriver.Chrome(executable_path='/opt/ml/input/final/chromedriver', chrome_options=chrome_options)\n",
    "    action = ActionChains(driver)\n",
    "    \n",
    "    print(_url)\n",
    "    URL = f\"https://m.place.naver.com/restaurant/{_url}/review/visitor\"  \n",
    "    driver.get(URL)\n",
    "    time.sleep(2.5)\n",
    "    count =0\n",
    "    while True:        \n",
    "        try: action.move_to_element(driver.find_element(By.CLASS_NAME, \"lfH3O\")).click().perform() \n",
    "        except: break\n",
    "        print(\"\\r\",count, end=\"\")\n",
    "        count+= 1\n",
    "    \n",
    "    print(\"click 1/2 complete\")\n",
    "    time.sleep(2.5)\n",
    "\n",
    "    try: \n",
    "        #action.move_to_element(driver.find_elements(By.CLASS_NAME, \"YeINN\")[-1]).perform()  #선택 리뷰 창 + 버튼 누르기\n",
    "        driver.find_element(By.CLASS_NAME, 'I8cuq').click()\n",
    "    except: print(\"NO 선택리뷰창\")\n",
    "    time.sleep(2.5)\n",
    "    action = ActionChains(driver)\n",
    "    while True:\n",
    "        try: \n",
    "            action.move_to_element(driver.find_element(By.CLASS_NAME, \"lfH3O\")).click().perform() \n",
    "        except: \n",
    "            break\n",
    "        print(\"\\r\",count, end=\"\")\n",
    "        count+= 1\n",
    "    print(\"click 2/2 complete\")\n",
    "    \n",
    "    html = driver.page_source\n",
    "    soup = BeautifulSoup(html,'html.parser')\n",
    "    user = soup.find_all(class_='YeINN')\n",
    "\n",
    "    link_list = [i.a['href'] for i in user]\n",
    "    user_list = [i.text for i in user]\n",
    "\n",
    "    #time.sleep(5)\n",
    "   \n",
    "    print(_url, len(link_list), len(user_list))\n",
    "    userlink2 = pd.DataFrame({'link' : link_list, 'user' : user_list}, dtype = str)\n",
    "    userlink2['rest'] = _url\n",
    "    userlink = pd.concat([userlink, userlink2], axis = 0, sort=False)\n",
    "    userlink.to_csv('./user_csv/river_behind0.csv', index=False)#river_behind500\n"
   ]
  },
  {
   "cell_type": "code",
   "execution_count": null,
   "metadata": {},
   "outputs": [],
   "source": []
  }
 ],
 "metadata": {
  "kernelspec": {
   "display_name": "final",
   "language": "python",
   "name": "final"
  },
  "language_info": {
   "codemirror_mode": {
    "name": "ipython",
    "version": 3
   },
   "file_extension": ".py",
   "mimetype": "text/x-python",
   "name": "python",
   "nbconvert_exporter": "python",
   "pygments_lexer": "ipython3",
   "version": "3.8.15"
  },
  "vscode": {
   "interpreter": {
    "hash": "d4d1e4263499bec80672ea0156c357c1ee493ec2b1c70f0acce89fc37c4a6abe"
   }
  }
 },
 "nbformat": 4,
 "nbformat_minor": 4
}
