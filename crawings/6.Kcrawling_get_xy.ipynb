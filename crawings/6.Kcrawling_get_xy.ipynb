{
 "cells": [
  {
   "cell_type": "code",
   "execution_count": 7,
   "metadata": {},
   "outputs": [],
   "source": [
    "import os\n",
    "import sys\n",
    "import urllib.request\n",
    "from tqdm import tqdm\n",
    "\n",
    "import time\n",
    "import pandas as pd"
   ]
  },
  {
   "cell_type": "code",
   "execution_count": 8,
   "metadata": {},
   "outputs": [],
   "source": [
    "csv_file = \"rest_concat\"\n",
    "area = 'SongPa'\n",
    "client_id = \"789Xk04GARJpb4omVvUq\" # 개발자센터에서 발급받은 Client ID 값\n",
    "client_secret = \"oynUXBN1cW\" # 개발자센터에서 발급받은 Client Secret 값"
   ]
  },
  {
   "cell_type": "code",
   "execution_count": 9,
   "metadata": {},
   "outputs": [],
   "source": [
    "data = pd.read_csv(f'./area_csv/{area}/{csv_file}.csv')\n",
    "rest_list = list(data['restaurant'].values)"
   ]
  },
  {
   "cell_type": "code",
   "execution_count": 11,
   "metadata": {},
   "outputs": [],
   "source": [
    "data['x'] = 0\n",
    "data['y'] = 0"
   ]
  },
  {
   "cell_type": "code",
   "execution_count": 12,
   "metadata": {},
   "outputs": [
    {
     "name": "stderr",
     "output_type": "stream",
     "text": [
      "  0%|          | 0/3149 [00:00<?, ?it/s]/tmp/ipykernel_48537/2557093928.py:12: SettingWithCopyWarning: \n",
      "A value is trying to be set on a copy of a slice from a DataFrame\n",
      "\n",
      "See the caveats in the documentation: https://pandas.pydata.org/pandas-docs/stable/user_guide/indexing.html#returning-a-view-versus-a-copy\n",
      "  data['x'][idx] =  response_body.decode('utf-8').split(\"\\\"\")[-6]\n",
      "/tmp/ipykernel_48537/2557093928.py:13: SettingWithCopyWarning: \n",
      "A value is trying to be set on a copy of a slice from a DataFrame\n",
      "\n",
      "See the caveats in the documentation: https://pandas.pydata.org/pandas-docs/stable/user_guide/indexing.html#returning-a-view-versus-a-copy\n",
      "  data['y'][idx] =  response_body.decode('utf-8').split(\"\\\"\")[-2]\n",
      " 37%|███▋      | 1171/3149 [03:28<05:49,  5.66it/s]"
     ]
    }
   ],
   "source": [
    "for idx in tqdm(range(len(data))):\n",
    "    encText = urllib.parse.quote(rest_list[idx])\n",
    "    url = \"https://openapi.naver.com/v1/search/local?query=\" + encText # JSON 결과\n",
    "    request = urllib.request.Request(url)\n",
    "    request.add_header(\"X-Naver-Client-Id\",client_id)\n",
    "    request.add_header(\"X-Naver-Client-Secret\",client_secret)\n",
    "    response = urllib.request.urlopen(request)\n",
    "    rescode = response.getcode()\n",
    "    time.sleep(0.11)\n",
    "    if(rescode==200):\n",
    "        response_body = response.read()\n",
    "        data['x'][idx] =  response_body.decode('utf-8').split(\"\\\"\")[-6]\n",
    "        data['y'][idx] =  response_body.decode('utf-8').split(\"\\\"\")[-2]\n",
    "    else:\n",
    "        print(\"Error Code:\" + rescode)\n",
    "    "
   ]
  },
  {
   "cell_type": "code",
   "execution_count": null,
   "metadata": {},
   "outputs": [],
   "source": [
    "data.to_csv(f'./area_csv/{area}/rest_concat_xy.csv', index=False)#river_behind500\n"
   ]
  },
  {
   "cell_type": "code",
   "execution_count": null,
   "metadata": {},
   "outputs": [
    {
     "data": {
      "text/html": [
       "<div>\n",
       "<style scoped>\n",
       "    .dataframe tbody tr th:only-of-type {\n",
       "        vertical-align: middle;\n",
       "    }\n",
       "\n",
       "    .dataframe tbody tr th {\n",
       "        vertical-align: top;\n",
       "    }\n",
       "\n",
       "    .dataframe thead th {\n",
       "        text-align: right;\n",
       "    }\n",
       "</style>\n",
       "<table border=\"1\" class=\"dataframe\">\n",
       "  <thead>\n",
       "    <tr style=\"text-align: right;\">\n",
       "      <th></th>\n",
       "      <th>restaurant</th>\n",
       "      <th>tag</th>\n",
       "      <th>url</th>\n",
       "      <th>x</th>\n",
       "      <th>y</th>\n",
       "    </tr>\n",
       "  </thead>\n",
       "  <tbody>\n",
       "    <tr>\n",
       "      <th>0</th>\n",
       "      <td>커피랑도서관 반포점</td>\n",
       "      <td>스터디카페</td>\n",
       "      <td>https://map.naver.com/v5/search/%EC%84%9C%EC%B...</td>\n",
       "      <td>312678</td>\n",
       "      <td>545055</td>\n",
       "    </tr>\n",
       "    <tr>\n",
       "      <th>1</th>\n",
       "      <td>오도로키</td>\n",
       "      <td>우동,소바</td>\n",
       "      <td>https://map.naver.com/v5/search/%EC%84%9C%EC%B...</td>\n",
       "      <td>313781</td>\n",
       "      <td>545224</td>\n",
       "    </tr>\n",
       "    <tr>\n",
       "      <th>2</th>\n",
       "      <td>텍사스데브라질 센트럴시티점</td>\n",
       "      <td>스테이크,립</td>\n",
       "      <td>https://map.naver.com/v5/search/%EC%84%9C%EC%B...</td>\n",
       "      <td>312349</td>\n",
       "      <td>545105</td>\n",
       "    </tr>\n",
       "    <tr>\n",
       "      <th>3</th>\n",
       "      <td>샤브리샤브샤브</td>\n",
       "      <td>샤브샤브</td>\n",
       "      <td>https://map.naver.com/v5/search/%EC%84%9C%EC%B...</td>\n",
       "      <td>310332</td>\n",
       "      <td>542157</td>\n",
       "    </tr>\n",
       "    <tr>\n",
       "      <th>4</th>\n",
       "      <td>원조부안집 양재점</td>\n",
       "      <td>돼지고기구이</td>\n",
       "      <td>https://map.naver.com/v5/search/%EC%84%9C%EC%B...</td>\n",
       "      <td>315145</td>\n",
       "      <td>542730</td>\n",
       "    </tr>\n",
       "    <tr>\n",
       "      <th>...</th>\n",
       "      <td>...</td>\n",
       "      <td>...</td>\n",
       "      <td>...</td>\n",
       "      <td>...</td>\n",
       "      <td>...</td>\n",
       "    </tr>\n",
       "    <tr>\n",
       "      <th>299</th>\n",
       "      <td>빠스타</td>\n",
       "      <td>퓨전음식</td>\n",
       "      <td>https://map.naver.com/v5/search/%EC%84%9C%EC%B...</td>\n",
       "      <td>315235</td>\n",
       "      <td>541417</td>\n",
       "    </tr>\n",
       "    <tr>\n",
       "      <th>300</th>\n",
       "      <td>룰커피</td>\n",
       "      <td>카페,디저트</td>\n",
       "      <td>https://map.naver.com/v5/search/%EC%84%9C%EC%B...</td>\n",
       "      <td>312742</td>\n",
       "      <td>542715</td>\n",
       "    </tr>\n",
       "    <tr>\n",
       "      <th>301</th>\n",
       "      <td>아그라 파스텔시티 사당점</td>\n",
       "      <td>인도음식</td>\n",
       "      <td>https://map.naver.com/v5/search/%EC%84%9C%EC%B...</td>\n",
       "      <td>310181</td>\n",
       "      <td>542224</td>\n",
       "    </tr>\n",
       "    <tr>\n",
       "      <th>302</th>\n",
       "      <td>김명자굴국밥</td>\n",
       "      <td>국밥</td>\n",
       "      <td>https://map.naver.com/v5/search/%EC%84%9C%EC%B...</td>\n",
       "      <td>309946</td>\n",
       "      <td>551649</td>\n",
       "    </tr>\n",
       "    <tr>\n",
       "      <th>303</th>\n",
       "      <td>쿠차라 삼성서초사옥점</td>\n",
       "      <td>멕시코,남미음식</td>\n",
       "      <td>https://map.naver.com/v5/search/%EC%84%9C%EC%B...</td>\n",
       "      <td>314155</td>\n",
       "      <td>544282</td>\n",
       "    </tr>\n",
       "  </tbody>\n",
       "</table>\n",
       "<p>304 rows × 5 columns</p>\n",
       "</div>"
      ],
      "text/plain": [
       "         restaurant       tag  \\\n",
       "0        커피랑도서관 반포점     스터디카페   \n",
       "1              오도로키     우동,소바   \n",
       "2    텍사스데브라질 센트럴시티점    스테이크,립   \n",
       "3           샤브리샤브샤브      샤브샤브   \n",
       "4         원조부안집 양재점    돼지고기구이   \n",
       "..              ...       ...   \n",
       "299             빠스타      퓨전음식   \n",
       "300             룰커피    카페,디저트   \n",
       "301   아그라 파스텔시티 사당점      인도음식   \n",
       "302          김명자굴국밥        국밥   \n",
       "303     쿠차라 삼성서초사옥점  멕시코,남미음식   \n",
       "\n",
       "                                                   url       x       y  \n",
       "0    https://map.naver.com/v5/search/%EC%84%9C%EC%B...  312678  545055  \n",
       "1    https://map.naver.com/v5/search/%EC%84%9C%EC%B...  313781  545224  \n",
       "2    https://map.naver.com/v5/search/%EC%84%9C%EC%B...  312349  545105  \n",
       "3    https://map.naver.com/v5/search/%EC%84%9C%EC%B...  310332  542157  \n",
       "4    https://map.naver.com/v5/search/%EC%84%9C%EC%B...  315145  542730  \n",
       "..                                                 ...     ...     ...  \n",
       "299  https://map.naver.com/v5/search/%EC%84%9C%EC%B...  315235  541417  \n",
       "300  https://map.naver.com/v5/search/%EC%84%9C%EC%B...  312742  542715  \n",
       "301  https://map.naver.com/v5/search/%EC%84%9C%EC%B...  310181  542224  \n",
       "302  https://map.naver.com/v5/search/%EC%84%9C%EC%B...  309946  551649  \n",
       "303  https://map.naver.com/v5/search/%EC%84%9C%EC%B...  314155  544282  \n",
       "\n",
       "[304 rows x 5 columns]"
      ]
     },
     "execution_count": 9,
     "metadata": {},
     "output_type": "execute_result"
    }
   ],
   "source": [
    "data"
   ]
  }
 ],
 "metadata": {
  "kernelspec": {
   "display_name": "base",
   "language": "python",
   "name": "python3"
  },
  "language_info": {
   "codemirror_mode": {
    "name": "ipython",
    "version": 3
   },
   "file_extension": ".py",
   "mimetype": "text/x-python",
   "name": "python",
   "nbconvert_exporter": "python",
   "pygments_lexer": "ipython3",
   "version": "3.8.5"
  },
  "vscode": {
   "interpreter": {
    "hash": "d4d1e4263499bec80672ea0156c357c1ee493ec2b1c70f0acce89fc37c4a6abe"
   }
  }
 },
 "nbformat": 4,
 "nbformat_minor": 2
}
