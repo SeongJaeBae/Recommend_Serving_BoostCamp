{
 "cells": [
  {
<<<<<<< HEAD
   "attachments": {},
   "cell_type": "markdown",
   "metadata": {},
   "source": [
    "# 1. URL 으로 레스토랑 리스트 받아오기"
   ]
  },
  {
   "cell_type": "code",
   "execution_count": 1,
=======
   "cell_type": "code",
   "execution_count": 18,
>>>>>>> develop
   "metadata": {},
   "outputs": [],
   "source": [
    "import selenium\n",
    "from selenium import webdriver\n",
    "from selenium.webdriver import ActionChains\n",
    "\n",
    "from selenium.webdriver.common.keys import Keys\n",
    "from selenium.webdriver.common.by import By\n",
    "\n",
    "from selenium.webdriver.support import expected_conditions as EC\n",
    "from selenium.webdriver.support.ui import Select\n",
    "from selenium.webdriver.support.ui import WebDriverWait\n",
    "\n",
    "from selenium.webdriver.chrome.options import Options\n",
    "\n",
    "import time\n",
    "import pandas as pd\n",
    "\n",
    "from tqdm import tqdm\n"
   ]
  },
  {
   "cell_type": "code",
<<<<<<< HEAD
   "execution_count": 2,
=======
   "execution_count": 19,
>>>>>>> develop
   "metadata": {},
   "outputs": [],
   "source": [
    "chrome_options = Options()\n",
    "chrome_options.add_argument('--headless')\n",
    "chrome_options.add_argument('--no-sandbox')\n",
    "chrome_options.add_argument('--disable-dev-shm-usage')"
   ]
  },
  {
   "cell_type": "code",
<<<<<<< HEAD
   "execution_count": 3,
=======
   "execution_count": 20,
>>>>>>> develop
   "metadata": {},
   "outputs": [],
   "source": [
    "# area : 지역 입력하기.\n",
<<<<<<< HEAD
    "area = \"Sungdong\""
=======
    "area = \"Jongno\""
>>>>>>> develop
   ]
  },
  {
   "cell_type": "code",
<<<<<<< HEAD
   "execution_count": 17,
=======
   "execution_count": 21,
>>>>>>> develop
   "metadata": {},
   "outputs": [],
   "source": [
    "# URLS : 주소 입력하기.\n",
<<<<<<< HEAD
    "# 각자 구의 행정동에 해당하는 링크들 하나씩 넣으면 됨  ex) 현재는 성동구 링크\n",
    "URLS = [\n",
    "    'https://map.naver.com/v5/search/%EC%84%B1%EB%8F%99%EA%B5%AC%20%EC%83%81%EC%99%95%EC%8B%AD%EB%A6%AC%EB%8F%99%20%EC%9D%8C%EC%8B%9D%EC%A0%90?c=14146181.1186290,4514995.3198595,14,0,0,0,dh',\n",
    "    'https://map.naver.com/v5/search/%EC%84%B1%EB%8F%99%EA%B5%AC%20%ED%95%98%EC%99%95%EC%8B%AD%EB%A6%AC%EB%8F%99%20%EC%9D%8C%EC%8B%9D%EC%A0%90?c=14146181.1186290,4514995.3198595,14,0,0,0,dh',\n",
    "    'https://map.naver.com/v5/search/%EC%84%B1%EB%8F%99%EA%B5%AC%20%EB%8F%84%EC%84%A0%EB%8F%99%20%EC%9D%8C%EC%8B%9D%EC%A0%90?c=14146181.1186290,4514995.3198595,14,0,0,0,dh',\n",
    "    'https://map.naver.com/v5/search/%EC%84%B1%EB%8F%99%EA%B5%AC%20%EB%A7%88%EC%9E%A5%EB%8F%99%20%EC%9D%8C%EC%8B%9D%EC%A0%90?c=14146181.1186290,4514995.3198595,14,0,0,0,dh',\n",
    "    'https://map.naver.com/v5/search/%EC%84%B1%EB%8F%99%EA%B5%AC%20%EC%82%AC%EA%B7%BC%EB%8F%99%20%EC%9D%8C%EC%8B%9D%EC%A0%90?c=14146181.1186290,4514995.3198595,14,0,0,0,dh',\n",
    "    'https://map.naver.com/v5/search/%EC%84%B1%EB%8F%99%EA%B5%AC%20%EC%9D%91%EB%B4%89%EB%8F%99%20%EC%9D%8C%EC%8B%9D%EC%A0%90?c=14146181.1186290,4514995.3198595,14,0,0,0,dh',\n",
    "    'https://map.naver.com/v5/search/%EC%84%B1%EB%8F%99%EA%B5%AC%20%EA%B8%88%ED%98%B8%EB%8F%99%20%EC%9D%8C%EC%8B%9D%EC%A0%90?c=14146181.1186290,4514995.3198595,14,0,0,0,dh',\n",
    "    'https://map.naver.com/v5/search/%EC%84%B1%EB%8F%99%EA%B5%AC%20%EC%98%A5%EC%88%98%EB%8F%99%20%EC%9D%8C%EC%8B%9D%EC%A0%90?c=14146181.1186290,4514995.3198595,14,0,0,0,dh',\n",
    "    'https://map.naver.com/v5/search/%EC%84%B1%EB%8F%99%EA%B5%AC%20%EC%84%B1%EC%88%98%EB%8F%99%20%EC%9D%8C%EC%8B%9D%EC%A0%90?c=14146181.1186290,4514995.3198595,14,0,0,0,dh',\n",
    "    'https://map.naver.com/v5/search/%EC%84%B1%EB%8F%99%EA%B5%AC%20%EC%86%A1%EC%A0%95%EB%8F%99%20%EC%9D%8C%EC%8B%9D%EC%A0%90?c=14146181.1186290,4514995.3198595,14,0,0,0,dh',\n",
    "    'https://map.naver.com/v5/search/%EC%84%B1%EB%8F%99%EA%B5%AC%20%EC%9A%A9%EB%8B%B5%EB%8F%99%20%EC%9D%8C%EC%8B%9D%EC%A0%90?c=14146181.1186290,4514995.3198595,14,0,0,0,dh',\n",
    "    'https://map.naver.com/v5/search/%EC%84%B1%EB%8F%99%EA%B5%AC%20%EC%82%AC%EA%B7%BC%EB%8F%99%20%EC%9D%8C%EC%8B%9D%EC%A0%90?c=14146181.1186290,4514995.3198595,14,0,0,0,dh'\n",
    "]\n"
=======
    "# 각자 구의 행정동에 해당하는 링크들 하나씩 넣으면 됨  ex) 현재는 종로구 링크\n",
    "URLS = [\n",
    "    \"https://map.naver.com/v5/search/%EC%A2%85%EB%A1%9C%EA%B5%AC%20%ED%8F%89%EC%B0%BD%EB%8F%99%20%EC%9D%8C%EC%8B%9D%EC%A0%90?c=14132935.1526363,4524638.2400055,13,0,0,0,dh&isCorrectAnswer=true\",  # 평창동\n",
    "    \"https://map.naver.com/v5/search/%EC%A2%85%EB%A1%9C%EA%B5%AC%20%EB%B6%80%EC%95%94%EB%8F%99%20%EC%9D%8C%EC%8B%9D%EC%A0%90?c=14132647.3847439,4522015.5752283,14,0,0,0,dh&isCorrectAnswer=true\",  # 부암동\n",
    "    \"https://map.naver.com/v5/search/%EC%A2%85%EB%A1%9C%EA%B5%AC%20%EC%B2%AD%EC%9A%B4%ED%9A%A8%EC%9E%90%EB%8F%99%20%EC%9D%8C%EC%8B%9D%EC%A0%90?c=14133842.5270569,4520843.7070300,15,0,0,0,dh&isCorrectAnswer=true\",  # 청운효자동\n",
    "    \"https://map.naver.com/v5/search/%EC%A2%85%EB%A1%9C%EA%B5%AC%20%EC%82%BC%EC%B2%AD%EB%8F%99%20%EC%9D%8C%EC%8B%9D%EC%A0%90?c=14134621.7472328,4520966.7485652,14,0,0,0,dh&isCorrectAnswer=true\",  # 삼청동\n",
    "    \"https://map.naver.com/v5/search/%EC%A2%85%EB%A1%9C%EA%B5%AC%20%EA%B0%80%ED%9A%8C%EB%8F%99%20%EC%9D%8C%EC%8B%9D%EC%A0%90?c=14135417.4306851,4520273.6386260,15,0,0,0,dh&isCorrectAnswer=true\",  # 가회동\n",
    "    \"https://map.naver.com/v5/search/%EC%A2%85%EB%A1%9C%EA%B5%AC%20%ED%98%9C%ED%99%94%EB%8F%99%20%EC%9D%8C%EC%8B%9D%EC%A0%90?c=14136707.9190180,4521234.4977928,14,0,0,0,dh&isCorrectAnswer=true\",  # 혜화동\n",
    "    \"https://map.naver.com/v5/search/%EC%A2%85%EB%A1%9C%EA%B5%AC%20%EC%9D%B4%ED%99%94%EB%8F%99%20%EC%9D%8C%EC%8B%9D%EC%A0%90?c=14137126.6584144,4519842.3609400,14,0,0,0,dh&isCorrectAnswer=true\",  # 이화동\n",
    "    \"https://map.naver.com/v5/search/%EC%A2%85%EB%A1%9C%EA%B5%AC%20%EC%B0%BD%EC%8B%A0%EB%8F%99%20%EC%9D%8C%EC%8B%9D%EC%A0%90?c=14138465.2752912,4518964.5219443,14,0,0,0,dh&isCorrectAnswer=true\",  # 창신동\n",
    "    \"https://map.naver.com/v5/search/%EC%A2%85%EB%A1%9C%EA%B5%AC%20%EC%88%AD%EC%9D%B8%EB%8F%99%20%EC%9D%8C%EC%8B%9D%EC%A0%90?c=14138383.3886742,4519954.2942195,14,0,0,0,dh&isCorrectAnswer=true\",  # 숭인동\n",
    "    \"https://map.naver.com/v5/search/%EC%A2%85%EB%A1%9C%EA%B5%AC%20%EB%AC%B4%EC%95%85%EB%8F%99%20%EC%9D%8C%EC%8B%9D%EC%A0%90?c=14132450.5992763,4519701.2275503,15,0,0,0,dh&isCorrectAnswer=true\",  # 무악동\n",
    "    \"https://map.naver.com/v5/search/%EC%A2%85%EB%A1%9C%EA%B5%AC%20%EA%B5%90%EB%82%A8%EB%8F%99%20%EC%9D%8C%EC%8B%9D%EC%A0%90?c=14132872.3220349,4519130.4068010,15,0,0,0,dh&isCorrectAnswer=true\",  # 교남동\n",
    "    \"https://map.naver.com/v5/search/%EC%A2%85%EB%A1%9C%EA%B5%AC%20%EC%82%AC%EC%A7%81%EB%8F%99%20%EC%9D%8C%EC%8B%9D%EC%A0%90?c=14133729.1741897,4519699.6440473,14,0,0,0,dh&isCorrectAnswer=true\",  # 사직동\n",
    "    \"https://map.naver.com/v5/search/%EC%A2%85%EB%A1%9C%EA%B5%AC%20%EC%A2%85%EB%A1%9C1234%EA%B0%80%20%EC%9D%8C%EC%8B%9D%EC%A0%90?c=14136025.4911392,4519484.6150982,15,0,0,0,dh&isCorrectAnswer=true\",  # 종로1234가동\n",
    "    \"https://map.naver.com/v5/search/%EC%A2%85%EB%A1%9C%EA%B5%AC%20%EC%A2%85%EB%A1%9C56%EA%B0%80%20%EC%9D%8C%EC%8B%9D%EC%A0%90?c=14137670.7486853,4519141.0389146,15,0,0,0,dh&isCorrectAnswer=true\",  # 종로56가동\n",
    "]"
>>>>>>> develop
   ]
  },
  {
   "cell_type": "code",
<<<<<<< HEAD
   "execution_count": 18,
=======
   "execution_count": null,
>>>>>>> develop
   "metadata": {},
   "outputs": [],
   "source": [
    "# 최근 네이버측의 주소록 변경 이슈 해결\n",
    "for i in range(len(URLS)):\n",
    "    newURLs = URLS[i].split('?c=')\n",
    "    newURL = newURLs[0] + '?c=14146181.1186290,4514995.3198595,14,0,0,0,dh'\n",
    "    URLS[i] = newURL"
   ]
  },
  {
   "cell_type": "code",
<<<<<<< HEAD
   "execution_count": 20,
=======
   "execution_count": 22,
>>>>>>> develop
   "metadata": {},
   "outputs": [
    {
     "name": "stdout",
     "output_type": "stream",
     "text": [
      "1\n"
     ]
    },
    {
     "name": "stderr",
     "output_type": "stream",
     "text": [
<<<<<<< HEAD
=======
      " 83%|████████▎ | 5/6 [03:30<00:42, 42.12s/it]\n"
     ]
    },
    {
     "name": "stdout",
     "output_type": "stream",
     "text": [
      "IndexError!! Retry\n"
     ]
    },
    {
     "name": "stderr",
     "output_type": "stream",
     "text": [
      " 17%|█▋        | 1/6 [00:41<03:29, 41.80s/it]\n"
     ]
    },
    {
     "name": "stdout",
     "output_type": "stream",
     "text": [
      "IndexError!! Retry\n"
     ]
    },
    {
     "name": "stderr",
     "output_type": "stream",
     "text": [
>>>>>>> develop
      "  0%|          | 0/6 [00:00<?, ?it/s]\n"
     ]
    },
    {
     "name": "stdout",
     "output_type": "stream",
     "text": [
      "IndexError!! Retry\n"
     ]
    },
    {
     "name": "stderr",
     "output_type": "stream",
     "text": [
<<<<<<< HEAD
      "  0%|          | 0/6 [00:20<?, ?it/s]\n"
     ]
    },
    {
     "ename": "KeyboardInterrupt",
     "evalue": "",
     "output_type": "error",
     "traceback": [
      "\u001b[0;31m---------------------------------------------------------------------------\u001b[0m",
      "\u001b[0;31mKeyboardInterrupt\u001b[0m                         Traceback (most recent call last)",
      "\u001b[1;32m/opt/ml/input/project/crawings/1.Kcrawling_rest_server.ipynb 셀 7\u001b[0m in \u001b[0;36m<cell line: 7>\u001b[0;34m()\u001b[0m\n\u001b[1;32m     <a href='vscode-notebook-cell://ssh-remote%2Bboostcamp/opt/ml/input/project/crawings/1.Kcrawling_rest_server.ipynb#W4sdnNjb2RlLXJlbW90ZQ%3D%3D?line=35'>36</a>\u001b[0m     restaurant_link\u001b[39m.\u001b[39mclick()\n\u001b[1;32m     <a href='vscode-notebook-cell://ssh-remote%2Bboostcamp/opt/ml/input/project/crawings/1.Kcrawling_rest_server.ipynb#W4sdnNjb2RlLXJlbW90ZQ%3D%3D?line=36'>37</a>\u001b[0m     url_list\u001b[39m.\u001b[39mappend(driver\u001b[39m.\u001b[39mcurrent_url)\n\u001b[0;32m---> <a href='vscode-notebook-cell://ssh-remote%2Bboostcamp/opt/ml/input/project/crawings/1.Kcrawling_rest_server.ipynb#W4sdnNjb2RlLXJlbW90ZQ%3D%3D?line=37'>38</a>\u001b[0m     time\u001b[39m.\u001b[39;49msleep(\u001b[39m0.5\u001b[39;49m)\n\u001b[1;32m     <a href='vscode-notebook-cell://ssh-remote%2Bboostcamp/opt/ml/input/project/crawings/1.Kcrawling_rest_server.ipynb#W4sdnNjb2RlLXJlbW90ZQ%3D%3D?line=38'>39</a>\u001b[0m restaurants_list2 \u001b[39m=\u001b[39m pd\u001b[39m.\u001b[39mDataFrame({\u001b[39m'\u001b[39m\u001b[39mrestaurant\u001b[39m\u001b[39m'\u001b[39m : name_list, \u001b[39m'\u001b[39m\u001b[39mtag\u001b[39m\u001b[39m'\u001b[39m : tag_list, \u001b[39m'\u001b[39m\u001b[39murl\u001b[39m\u001b[39m'\u001b[39m : url_list, \u001b[39m'\u001b[39m\u001b[39mreview\u001b[39m\u001b[39m'\u001b[39m : review_list}, dtype \u001b[39m=\u001b[39m \u001b[39mstr\u001b[39m)\n\u001b[1;32m     <a href='vscode-notebook-cell://ssh-remote%2Bboostcamp/opt/ml/input/project/crawings/1.Kcrawling_rest_server.ipynb#W4sdnNjb2RlLXJlbW90ZQ%3D%3D?line=39'>40</a>\u001b[0m restaurants_list \u001b[39m=\u001b[39m pd\u001b[39m.\u001b[39mconcat([restaurants_list, restaurants_list2], axis \u001b[39m=\u001b[39m \u001b[39m0\u001b[39m, sort\u001b[39m=\u001b[39m\u001b[39mFalse\u001b[39;00m)\n",
      "\u001b[0;31mKeyboardInterrupt\u001b[0m: "
=======
      "100%|██████████| 6/6 [04:21<00:00, 43.52s/it]\n"
     ]
    },
    {
     "name": "stdout",
     "output_type": "stream",
     "text": [
      "2\n"
     ]
    },
    {
     "name": "stderr",
     "output_type": "stream",
     "text": [
      "  0%|          | 0/6 [00:00<?, ?it/s]\n"
     ]
    },
    {
     "name": "stdout",
     "output_type": "stream",
     "text": [
      "IndexError!! Retry\n"
     ]
    },
    {
     "name": "stderr",
     "output_type": "stream",
     "text": [
      "  0%|          | 0/6 [00:00<?, ?it/s]\n"
     ]
    },
    {
     "name": "stdout",
     "output_type": "stream",
     "text": [
      "IndexError!! Retry\n"
     ]
    },
    {
     "name": "stderr",
     "output_type": "stream",
     "text": [
      "100%|██████████| 6/6 [04:06<00:00, 41.17s/it]\n"
     ]
    },
    {
     "name": "stdout",
     "output_type": "stream",
     "text": [
      "3\n"
     ]
    },
    {
     "name": "stderr",
     "output_type": "stream",
     "text": [
      "  0%|          | 0/6 [00:00<?, ?it/s]\n"
     ]
    },
    {
     "name": "stdout",
     "output_type": "stream",
     "text": [
      "IndexError!! Retry\n"
     ]
    },
    {
     "name": "stderr",
     "output_type": "stream",
     "text": [
      "  0%|          | 0/6 [00:00<?, ?it/s]\n"
     ]
    },
    {
     "name": "stdout",
     "output_type": "stream",
     "text": [
      "IndexError!! Retry\n"
     ]
    },
    {
     "name": "stderr",
     "output_type": "stream",
     "text": [
      "  0%|          | 0/6 [00:01<?, ?it/s]\n"
     ]
    },
    {
     "name": "stdout",
     "output_type": "stream",
     "text": [
      "IndexError!! Retry\n"
     ]
    },
    {
     "name": "stderr",
     "output_type": "stream",
     "text": [
      " 17%|█▋        | 1/6 [00:42<03:30, 42.01s/it]\n"
     ]
    },
    {
     "name": "stdout",
     "output_type": "stream",
     "text": [
      "IndexError!! Retry\n"
     ]
    },
    {
     "name": "stderr",
     "output_type": "stream",
     "text": [
      "100%|██████████| 6/6 [04:05<00:00, 40.91s/it]\n"
     ]
    },
    {
     "name": "stdout",
     "output_type": "stream",
     "text": [
      "4\n"
     ]
    },
    {
     "name": "stderr",
     "output_type": "stream",
     "text": [
      "  0%|          | 0/6 [00:00<?, ?it/s]\n"
     ]
    },
    {
     "name": "stdout",
     "output_type": "stream",
     "text": [
      "IndexError!! Retry\n"
     ]
    },
    {
     "name": "stderr",
     "output_type": "stream",
     "text": [
      "  0%|          | 0/6 [00:00<?, ?it/s]\n"
     ]
    },
    {
     "name": "stdout",
     "output_type": "stream",
     "text": [
      "IndexError!! Retry\n"
     ]
    },
    {
     "name": "stderr",
     "output_type": "stream",
     "text": [
      "100%|██████████| 6/6 [04:06<00:00, 41.03s/it]\n"
     ]
    },
    {
     "name": "stdout",
     "output_type": "stream",
     "text": [
      "5\n"
     ]
    },
    {
     "name": "stderr",
     "output_type": "stream",
     "text": [
      "  0%|          | 0/6 [00:00<?, ?it/s]\n"
     ]
    },
    {
     "name": "stdout",
     "output_type": "stream",
     "text": [
      "IndexError!! Retry\n"
     ]
    },
    {
     "name": "stderr",
     "output_type": "stream",
     "text": [
      "  0%|          | 0/6 [00:00<?, ?it/s]\n"
     ]
    },
    {
     "name": "stdout",
     "output_type": "stream",
     "text": [
      "IndexError!! Retry\n"
     ]
    },
    {
     "name": "stderr",
     "output_type": "stream",
     "text": [
      "100%|██████████| 6/6 [04:09<00:00, 41.61s/it]\n"
     ]
    },
    {
     "name": "stdout",
     "output_type": "stream",
     "text": [
      "6\n"
     ]
    },
    {
     "name": "stderr",
     "output_type": "stream",
     "text": [
      "  0%|          | 0/6 [00:00<?, ?it/s]\n"
     ]
    },
    {
     "name": "stdout",
     "output_type": "stream",
     "text": [
      "IndexError!! Retry\n"
     ]
    },
    {
     "name": "stderr",
     "output_type": "stream",
     "text": [
      "  0%|          | 0/6 [00:00<?, ?it/s]\n"
     ]
    },
    {
     "name": "stdout",
     "output_type": "stream",
     "text": [
      "IndexError!! Retry\n"
     ]
    },
    {
     "name": "stderr",
     "output_type": "stream",
     "text": [
      "100%|██████████| 6/6 [04:12<00:00, 42.02s/it]\n"
     ]
    },
    {
     "name": "stdout",
     "output_type": "stream",
     "text": [
      "7\n"
     ]
    },
    {
     "name": "stderr",
     "output_type": "stream",
     "text": [
      "  0%|          | 0/6 [00:01<?, ?it/s]\n"
     ]
    },
    {
     "name": "stdout",
     "output_type": "stream",
     "text": [
      "IndexError!! Retry\n"
     ]
    },
    {
     "name": "stderr",
     "output_type": "stream",
     "text": [
      "  0%|          | 0/6 [00:00<?, ?it/s]\n"
     ]
    },
    {
     "name": "stdout",
     "output_type": "stream",
     "text": [
      "IndexError!! Retry\n"
     ]
    },
    {
     "name": "stderr",
     "output_type": "stream",
     "text": [
      "  0%|          | 0/6 [00:01<?, ?it/s]\n"
     ]
    },
    {
     "name": "stdout",
     "output_type": "stream",
     "text": [
      "IndexError!! Retry\n"
     ]
    },
    {
     "name": "stderr",
     "output_type": "stream",
     "text": [
      "100%|██████████| 6/6 [04:06<00:00, 41.00s/it]\n"
     ]
    },
    {
     "name": "stdout",
     "output_type": "stream",
     "text": [
      "8\n"
     ]
    },
    {
     "name": "stderr",
     "output_type": "stream",
     "text": [
      "  0%|          | 0/6 [00:00<?, ?it/s]\n"
     ]
    },
    {
     "name": "stdout",
     "output_type": "stream",
     "text": [
      "IndexError!! Retry\n"
     ]
    },
    {
     "name": "stderr",
     "output_type": "stream",
     "text": [
      "  0%|          | 0/6 [00:00<?, ?it/s]\n"
     ]
    },
    {
     "name": "stdout",
     "output_type": "stream",
     "text": [
      "IndexError!! Retry\n"
     ]
    },
    {
     "name": "stderr",
     "output_type": "stream",
     "text": [
      "  0%|          | 0/6 [00:02<?, ?it/s]\n"
     ]
    },
    {
     "name": "stdout",
     "output_type": "stream",
     "text": [
      "IndexError!! Retry\n"
     ]
    },
    {
     "name": "stderr",
     "output_type": "stream",
     "text": [
      "100%|██████████| 6/6 [04:03<00:00, 40.63s/it]\n"
     ]
    },
    {
     "name": "stdout",
     "output_type": "stream",
     "text": [
      "9\n"
     ]
    },
    {
     "name": "stderr",
     "output_type": "stream",
     "text": [
      "  0%|          | 0/6 [00:00<?, ?it/s]\n"
     ]
    },
    {
     "name": "stdout",
     "output_type": "stream",
     "text": [
      "IndexError!! Retry\n"
     ]
    },
    {
     "name": "stderr",
     "output_type": "stream",
     "text": [
      "  0%|          | 0/6 [00:01<?, ?it/s]\n"
     ]
    },
    {
     "name": "stdout",
     "output_type": "stream",
     "text": [
      "IndexError!! Retry\n"
     ]
    },
    {
     "name": "stderr",
     "output_type": "stream",
     "text": [
      "100%|██████████| 6/6 [04:02<00:00, 40.50s/it]\n"
     ]
    },
    {
     "name": "stdout",
     "output_type": "stream",
     "text": [
      "10\n"
     ]
    },
    {
     "name": "stderr",
     "output_type": "stream",
     "text": [
      "  0%|          | 0/6 [00:00<?, ?it/s]\n"
     ]
    },
    {
     "name": "stdout",
     "output_type": "stream",
     "text": [
      "IndexError!! Retry\n"
     ]
    },
    {
     "name": "stderr",
     "output_type": "stream",
     "text": [
      "  0%|          | 0/6 [00:00<?, ?it/s]\n"
     ]
    },
    {
     "name": "stdout",
     "output_type": "stream",
     "text": [
      "IndexError!! Retry\n"
     ]
    },
    {
     "name": "stderr",
     "output_type": "stream",
     "text": [
      "100%|██████████| 6/6 [04:02<00:00, 40.36s/it]\n"
     ]
    },
    {
     "name": "stdout",
     "output_type": "stream",
     "text": [
      "11\n"
     ]
    },
    {
     "name": "stderr",
     "output_type": "stream",
     "text": [
      "  0%|          | 0/6 [00:00<?, ?it/s]\n"
     ]
    },
    {
     "name": "stdout",
     "output_type": "stream",
     "text": [
      "IndexError!! Retry\n"
     ]
    },
    {
     "name": "stderr",
     "output_type": "stream",
     "text": [
      "  0%|          | 0/6 [00:00<?, ?it/s]\n"
     ]
    },
    {
     "name": "stdout",
     "output_type": "stream",
     "text": [
      "IndexError!! Retry\n"
     ]
    },
    {
     "name": "stderr",
     "output_type": "stream",
     "text": [
      "100%|██████████| 6/6 [04:05<00:00, 40.93s/it]\n"
     ]
    },
    {
     "name": "stdout",
     "output_type": "stream",
     "text": [
      "12\n"
     ]
    },
    {
     "name": "stderr",
     "output_type": "stream",
     "text": [
      "  0%|          | 0/6 [00:00<?, ?it/s]\n"
     ]
    },
    {
     "name": "stdout",
     "output_type": "stream",
     "text": [
      "IndexError!! Retry\n"
     ]
    },
    {
     "name": "stderr",
     "output_type": "stream",
     "text": [
      "  0%|          | 0/6 [00:00<?, ?it/s]\n"
     ]
    },
    {
     "name": "stdout",
     "output_type": "stream",
     "text": [
      "IndexError!! Retry\n"
     ]
    },
    {
     "name": "stderr",
     "output_type": "stream",
     "text": [
      "  0%|          | 0/6 [00:01<?, ?it/s]\n"
     ]
    },
    {
     "name": "stdout",
     "output_type": "stream",
     "text": [
      "IndexError!! Retry\n"
     ]
    },
    {
     "name": "stderr",
     "output_type": "stream",
     "text": [
      "100%|██████████| 6/6 [04:02<00:00, 40.49s/it]\n"
     ]
    },
    {
     "name": "stdout",
     "output_type": "stream",
     "text": [
      "13\n"
     ]
    },
    {
     "name": "stderr",
     "output_type": "stream",
     "text": [
      "  0%|          | 0/6 [00:00<?, ?it/s]\n"
     ]
    },
    {
     "name": "stdout",
     "output_type": "stream",
     "text": [
      "IndexError!! Retry\n"
     ]
    },
    {
     "name": "stderr",
     "output_type": "stream",
     "text": [
      "  0%|          | 0/6 [00:00<?, ?it/s]\n"
     ]
    },
    {
     "name": "stdout",
     "output_type": "stream",
     "text": [
      "IndexError!! Retry\n"
     ]
    },
    {
     "name": "stderr",
     "output_type": "stream",
     "text": [
      "  0%|          | 0/6 [00:01<?, ?it/s]\n"
     ]
    },
    {
     "name": "stdout",
     "output_type": "stream",
     "text": [
      "IndexError!! Retry\n"
     ]
    },
    {
     "name": "stderr",
     "output_type": "stream",
     "text": [
      "100%|██████████| 6/6 [04:03<00:00, 40.66s/it]\n"
     ]
    },
    {
     "name": "stdout",
     "output_type": "stream",
     "text": [
      "14\n"
     ]
    },
    {
     "name": "stderr",
     "output_type": "stream",
     "text": [
      "  0%|          | 0/6 [00:01<?, ?it/s]\n"
     ]
    },
    {
     "name": "stdout",
     "output_type": "stream",
     "text": [
      "IndexError!! Retry\n"
     ]
    },
    {
     "name": "stderr",
     "output_type": "stream",
     "text": [
      "  0%|          | 0/6 [00:00<?, ?it/s]\n"
     ]
    },
    {
     "name": "stdout",
     "output_type": "stream",
     "text": [
      "IndexError!! Retry\n"
     ]
    },
    {
     "name": "stderr",
     "output_type": "stream",
     "text": [
      "100%|██████████| 6/6 [04:01<00:00, 40.26s/it]\n"
>>>>>>> develop
     ]
    }
   ],
   "source": [
    "# 실행 전에 ./area_csv/ 폴더 안에 해당 구 폴더 생성하세요.\n",
    "# ex) ./area_csv/Jongno/\n",
    "\n",
    "driver = webdriver.Chrome(executable_path='./chromedriver', options=chrome_options)\n",
    "\n",
    "# num : 1부터 시작해서 하나씩 알아서 늘어남\n",
    "for num, URL in enumerate(URLS, start=1):\n",
    "    print(num)\n",
    "    is_repeat = True\n",
    "    while is_repeat:\n",
    "        try:\n",
    "            driver.quit()\n",
    "            restaurants_list = pd.DataFrame()\n",
    "            \n",
    "            driver = webdriver.Chrome(executable_path='./chromedriver', options=chrome_options)\n",
    "            driver.get(URL)\n",
    "\n",
    "            driver.switch_to.frame('searchIframe') #iframe 으로 이동하기 위한 코드\n",
    "\n",
    "            epoch = 6 # 6이 최대인듯\n",
    "            for _ in tqdm(range(epoch)):\n",
    "                click_list = driver.find_elements(By.CLASS_NAME, \"tzwk0\")\n",
    "                click_list[0].click() #아무거나 클릭을 해야 end키가 먹혀서 임의로 아무 클래스 클릭한거임\n",
    "                for _ in range(10):\n",
    "                    driver.find_element(By.CSS_SELECTOR, \"body\").send_keys(Keys.END) # end키를 눌러서 아래까지 로딩\n",
    "                time.sleep(2)\n",
    "                click_list = driver.find_elements(By.CLASS_NAME, \"tzwk0\") # 식당 리스트\n",
    "                name_list = driver.find_elements(By.CLASS_NAME, \"TYaxT\") # 식당 이름 리스트\n",
    "                name_list = [user.text for user in name_list]\n",
    "                tag_list = driver.find_elements(By.CLASS_NAME, \"KCMnt\") # 식당 종류 리스트\n",
    "                tag_list = [user.text for user in tag_list]\n",
    "                review_list = driver.find_elements(By.CLASS_NAME, \"MVx6e\") # 리뷰 개수 리스트\n",
    "                review_list = [user.text.split(\"\\n\")[-1] for user in review_list]\n",
    "                url_list = []\n",
    "                for restaurant_link in click_list:\n",
    "                    restaurant_link.click()\n",
    "                    url_list.append(driver.current_url)\n",
    "                    time.sleep(0.5)\n",
    "                restaurants_list2 = pd.DataFrame({'restaurant' : name_list, 'tag' : tag_list, 'url' : url_list, 'review' : review_list}, dtype = str)\n",
    "                restaurants_list = pd.concat([restaurants_list, restaurants_list2], axis = 0, sort=False)\n",
    "                driver.find_elements(By.CLASS_NAME, \"yUtES\")[1].click() #다음페이지 클릭\n",
    "                time.sleep(2)\n",
    "            \n",
    "            is_repeat = False\n",
    "\n",
    "        except IndexError:\n",
    "            print(\"IndexError!! Retry\")\n",
    "            ...\n",
    "\n",
    "    restaurants_list.to_csv(f'./area_csv/{area}/rest_{num}.csv', index=False)\n"
   ]
  },
  {
   "cell_type": "code",
   "execution_count": null,
   "metadata": {},
   "outputs": [],
   "source": []
  }
 ],
 "metadata": {
  "kernelspec": {
<<<<<<< HEAD
   "display_name": "base",
=======
   "display_name": "final",
>>>>>>> develop
   "language": "python",
   "name": "python3"
  },
  "language_info": {
   "codemirror_mode": {
    "name": "ipython",
    "version": 3
   },
   "file_extension": ".py",
   "mimetype": "text/x-python",
   "name": "python",
   "nbconvert_exporter": "python",
   "pygments_lexer": "ipython3",
<<<<<<< HEAD
   "version": "3.8.5"
  },
  "vscode": {
   "interpreter": {
    "hash": "d4d1e4263499bec80672ea0156c357c1ee493ec2b1c70f0acce89fc37c4a6abe"
=======
   "version": "3.8.15 (default, Nov 24 2022, 15:19:38) \n[GCC 11.2.0]"
  },
  "vscode": {
   "interpreter": {
    "hash": "981f108a204f421f158e0977940335d851edffa6dd3586828a3e1aec045160e4"
>>>>>>> develop
   }
  }
 },
 "nbformat": 4,
 "nbformat_minor": 2
}
