{
 "cells": [
  {
   "cell_type": "code",
   "execution_count": 12,
   "metadata": {},
   "outputs": [],
   "source": [
    "import selenium\n",
    "from selenium import webdriver\n",
    "from selenium.webdriver import ActionChains\n",
    "\n",
    "from selenium.webdriver.common.keys import Keys\n",
    "from selenium.webdriver.common.by import By\n",
    "\n",
    "from selenium.webdriver.support import expected_conditions as EC\n",
    "from selenium.webdriver.support.ui import Select\n",
    "from selenium.webdriver.support.ui import WebDriverWait\n",
    "from selenium.webdriver.common.action_chains import ActionChains\n",
    "\n",
    "from selenium.webdriver.chrome.options import Options\n",
    "\n",
    "from bs4 import BeautifulSoup\n",
    "\n",
    "from tqdm import tqdm\n",
    "\n",
    "import time\n",
    "import pandas as pd"
   ]
  },
  {
   "cell_type": "code",
   "execution_count": 13,
   "metadata": {},
   "outputs": [],
   "source": [
    "chrome_options = Options()\n",
    "chrome_options.add_argument('--headless')\n",
    "chrome_options.add_argument('--no-sandbox')\n",
    "chrome_options.add_argument('--disable-dev-shm-usage')\n",
    "chrome_options.add_argument('window-size= 1920,1080')\n",
    "chrome_options.add_argument('--kiosk')"
   ]
  },
  {
   "cell_type": "code",
   "execution_count": 14,
   "metadata": {},
   "outputs": [],
   "source": [
    "person = 'schini'  # 본인 이름 (파일 이름에 들어감)\n",
    "path = 'Gangnam'  # 구 설정\n",
    "version = 0  # 파일 이름 안 겹치게, 각자 실행할 때마다 1씩 더해주기\n",
    "failed_list = []  # 실패한 번호들 담을 리스트\n",
    "userlink = pd.DataFrame()"
   ]
  },
  {
   "cell_type": "code",
   "execution_count": 15,
   "metadata": {},
   "outputs": [
    {
     "name": "stdout",
     "output_type": "stream",
     "text": [
      "3071\n",
      "[1675303081, 1867823297, 38969614, 895457986, 11700226]\n"
     ]
    }
   ],
   "source": [
    "data = pd.read_csv(f'./area_csv/{path}/river_behind_concat.csv')\n",
    "url_list = list(data['url'].values)\n",
    "print(len(url_list))\n",
    "print(url_list[:5])"
   ]
  },
  {
   "cell_type": "code",
   "execution_count": 16,
   "metadata": {},
   "outputs": [
    {
     "name": "stderr",
     "output_type": "stream",
     "text": [
      "  0%|          | 0/5 [00:00<?, ?it/s]/tmp/ipykernel_118439/3237678808.py:6: DeprecationWarning: use options instead of chrome_options\n",
      "  driver = webdriver.Chrome(executable_path='/opt/ml/input/project/crawings/chromedriver', chrome_options=chrome_options)\n"
     ]
    },
    {
     "name": "stdout",
     "output_type": "stream",
     "text": [
      "11684863\n",
      "11684863\n",
      " 4click 1/2 complete\n"
     ]
    },
    {
     "name": "stderr",
     "output_type": "stream",
     "text": [
      " 20%|██        | 1/5 [00:17<01:10, 17.51s/it]"
     ]
    },
    {
     "name": "stdout",
     "output_type": "stream",
     "text": [
      "click 2/2 complete\n",
      "failed\n",
      "18468954\n",
      "18468954\n",
      " 4click 1/2 complete\n"
     ]
    },
    {
     "name": "stderr",
     "output_type": "stream",
     "text": [
      " 40%|████      | 2/5 [00:33<00:50, 16.89s/it]"
     ]
    },
    {
     "name": "stdout",
     "output_type": "stream",
     "text": [
      "click 2/2 complete\n",
      "failed\n",
      "832737607\n",
      "832737607\n",
      " 4click 1/2 complete\n"
     ]
    },
    {
     "name": "stderr",
     "output_type": "stream",
     "text": [
      " 60%|██████    | 3/5 [00:50<00:33, 16.84s/it]"
     ]
    },
    {
     "name": "stdout",
     "output_type": "stream",
     "text": [
      "click 2/2 complete\n",
      "failed\n",
      "1459540460\n",
      "1459540460\n",
      " 4click 1/2 complete\n"
     ]
    },
    {
     "name": "stderr",
     "output_type": "stream",
     "text": [
      " 80%|████████  | 4/5 [01:07<00:16, 16.74s/it]"
     ]
    },
    {
     "name": "stdout",
     "output_type": "stream",
     "text": [
      "click 2/2 complete\n",
      "failed\n",
      "1043463604\n",
      "1043463604\n",
      " 3click 1/2 complete\n",
      "click 2/2 complete\n"
     ]
    },
    {
     "name": "stderr",
     "output_type": "stream",
     "text": [
      "100%|██████████| 5/5 [01:23<00:00, 16.65s/it]"
     ]
    },
    {
     "name": "stdout",
     "output_type": "stream",
     "text": [
      "1043463604 68 68\n",
      "End~\n"
     ]
    },
    {
     "name": "stderr",
     "output_type": "stream",
     "text": [
      "\n"
     ]
    }
   ],
   "source": [
    "for idx in tqdm(list(map(int, open('./notsaved.txt', 'r').read().split()))):\n",
    "    _url = url_list[idx]\n",
    "\n",
    "    try:\n",
    "        driver = webdriver.Chrome(executable_path='/opt/ml/input/project/crawings/chromedriver', chrome_options=chrome_options)\n",
    "        action = ActionChains(driver)\n",
    "        print(_url)\n",
    "        URL = f\"https://m.place.naver.com/restaurant/{_url}/review/visitor\"\n",
    "        driver.get(URL)\n",
    "        time.sleep(2.5)\n",
    "        count = 0\n",
    "        flag = False\n",
    "        while True:\n",
    "            try: action.move_to_element(driver.find_element(By.CLASS_NAME, \"lfH3O\")).click().perform()\n",
    "            except: break\n",
    "            print(\"\\r\",count, end=\"\")\n",
    "            count+= 1\n",
    "            if count >= 60: flag = True; break\n",
    "        print(\"click 1/2 complete\")\n",
    "        time.sleep(2.5)\n",
    "        try:\n",
    "            #action.move_to_element(driver.find_elements(By.CLASS_NAME, \"YeINN\")[-1]).perform()  #선택 리뷰 창 + 버튼 누르기\n",
    "            driver.find_element(By.CLASS_NAME, 'I8cuq').click()\n",
    "        except: print(\"NO 선택리뷰창\")\n",
    "        time.sleep(2.5)\n",
    "        action = ActionChains(driver)\n",
    "        while True:\n",
    "            if flag:\n",
    "                break  ## 첫 번째에서 이미 flag=True이면, 굳이 두 번째 while문 진행할 필요 없을듯\n",
    "            try:\n",
    "                action.move_to_element(driver.find_element(By.CLASS_NAME, \"lfH3O\")).click().perform()\n",
    "            except:\n",
    "                break\n",
    "            print(\"\\r\",count, end=\"\")\n",
    "            count+= 1\n",
    "            if count >= 60: flag = True; break\n",
    "        print(\"click 2/2 complete\")\n",
    "        if flag:\n",
    "            failed_list.append(idx); print('failed\\n')\n",
    "            continue\n",
    "        html = driver.page_source\n",
    "        soup = BeautifulSoup(html,'html.parser')\n",
    "        user = soup.find_all(class_='YeINN')\n",
    "        link_list = [i.a['href'] for i in user]\n",
    "        user_list = [i.text for i in user]\n",
    "        #time.sleep(5)\n",
    "        print(_url, len(link_list), len(user_list))\n",
    "        userlink2 = pd.DataFrame({'link' : link_list, 'user' : user_list}, dtype = str)\n",
    "        userlink2['rest'] = _url\n",
    "        userlink = pd.concat([userlink, userlink2], axis = 0, sort=False)\n",
    "        userlink.to_csv(f'./user_csv/{path}/{path}_{person}_{version}.csv', index=False)  # ex) Gangnam_schini_0.csv\n",
    "    except:\n",
    "        print(_url)\n",
    "        failed_list.append(idx); print('failed\\n')\n",
    "        continue\n",
    "\n",
    "print(\"End~\")"
   ]
  },
  {
   "cell_type": "code",
   "execution_count": 17,
   "metadata": {},
   "outputs": [
    {
     "name": "stdout",
     "output_type": "stream",
     "text": [
      "[1135, 1136, 1137, 1138]\n"
     ]
    },
    {
     "data": {
      "text/plain": [
       "19"
      ]
     },
     "execution_count": 17,
     "metadata": {},
     "output_type": "execute_result"
    }
   ],
   "source": [
    "print(failed_list)  # 실패한 번호들 확인\n",
    "open('./notsaved.txt', 'w').write('\\n'.join(map(str, failed_list)))  # 실패한 번호들 다시 저장"
   ]
  },
  {
   "cell_type": "code",
   "execution_count": null,
   "metadata": {},
   "outputs": [],
   "source": []
  }
 ],
 "metadata": {
  "kernelspec": {
   "display_name": "final",
   "language": "python",
   "name": "python3"
  },
  "language_info": {
   "codemirror_mode": {
    "name": "ipython",
    "version": 3
   },
   "file_extension": ".py",
   "mimetype": "text/x-python",
   "name": "python",
   "nbconvert_exporter": "python",
   "pygments_lexer": "ipython3",
   "version": "3.8.15"
  },
  "vscode": {
   "interpreter": {
    "hash": "981f108a204f421f158e0977940335d851edffa6dd3586828a3e1aec045160e4"
   }
  }
 },
 "nbformat": 4,
 "nbformat_minor": 4
}
