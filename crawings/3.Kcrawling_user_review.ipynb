{
 "cells": [
  {
   "attachments": {},
   "cell_type": "markdown",
   "metadata": {},
   "source": [
    "# 3. 유저 리뷰 뽑기"
   ]
  },
  {
   "cell_type": "code",
   "execution_count": 1,
   "metadata": {},
   "outputs": [],
   "source": [
    "import selenium\n",
    "from selenium import webdriver\n",
    "from selenium.webdriver import ActionChains\n",
    "\n",
    "from selenium.webdriver.common.keys import Keys\n",
    "from selenium.webdriver.common.by import By\n",
    "\n",
    "from selenium.webdriver.support import expected_conditions as EC\n",
    "from selenium.webdriver.support.ui import Select\n",
    "from selenium.webdriver.support.ui import WebDriverWait\n",
    "from selenium.webdriver.common.action_chains import ActionChains\n",
    "from bs4 import BeautifulSoup\n",
    "from tqdm import tqdm\n",
    "\n",
    "import time\n",
    "import pandas as pd"
   ]
  },
  {
   "cell_type": "code",
   "execution_count": null,
   "metadata": {},
   "outputs": [],
   "source": [
    "'''\n",
    "돌리기 전에 다시 확인 꼭 하기!!\n",
    "'''\n",
    "## area : 지역\n",
    "## current_status, start : 같은 숫자가 와야함. 시작하는 인덱스\n",
    "## end : 끝나는 인덱스\n",
    "area = 'Gangnam'\n",
    "current_status = 100\n",
    "start = 100\n",
    "end = 500"
   ]
  },
  {
   "cell_type": "code",
   "execution_count": 2,
   "metadata": {},
   "outputs": [],
   "source": [
    "from selenium.webdriver.chrome.options import Options\n",
    "chrome_options = Options()\n",
    "chrome_options.add_argument('--headless')\n",
    "chrome_options.add_argument('--no-sandbox')\n",
    "chrome_options.add_argument('--disable-dev-shm-usage')\n",
    "chrome_options.add_argument('window-size= 1920,1080')\n",
    "chrome_options.add_argument('--kiosk')\n",
    "\n",
    "driver = webdriver.Chrome(executable_path='/opt/ml/input/project/crawings/chromedriver', chrome_options=chrome_options)"
   ]
  },
  {
   "cell_type": "code",
   "execution_count": 1,
   "metadata": {},
   "outputs": [
    {
     "name": "stdout",
     "output_type": "stream",
     "text": [
      "24 24 24\n"
     ]
    }
   ],
   "source": [
    "a= '5dce3c508f87a842bcea3ec5'\n",
    "b= '5dd0f5898f87a842bce831d0'\n",
    "c= '5c20ab07d3c4893c74653302'\n",
    "\n",
    "print(len(a), len(b),len(c))"
   ]
  },
  {
   "cell_type": "code",
   "execution_count": 4,
   "metadata": {},
   "outputs": [
    {
     "data": {
      "text/plain": [
       "[1675303081, 1867823297, 38969614, 895457986, 11700226]"
      ]
     },
     "execution_count": 4,
     "metadata": {},
     "output_type": "execute_result"
    }
   ],
   "source": [
    "data = pd.read_csv(f'./area_csv/{area}/rest_concat.csv')\n",
    "url_list = list(data['url'].values)\n",
    "userlink = pd.DataFrame()"
   ]
  },
  {
   "cell_type": "code",
   "execution_count": 6,
   "metadata": {},
   "outputs": [
    {
     "name": "stderr",
     "output_type": "stream",
     "text": [
      "  0%|          | 0/400 [00:00<?, ?it/s]"
     ]
    },
    {
     "name": "stdout",
     "output_type": "stream",
     "text": [
      "1781934048\n",
      " 10click 1/2 complete\n",
      " 17click 2/2 complete\n"
     ]
    },
    {
     "name": "stderr",
     "output_type": "stream",
     "text": [
      "  0%|          | 1/400 [00:53<5:57:31, 53.76s/it]"
     ]
    },
    {
     "name": "stdout",
     "output_type": "stream",
     "text": [
      "1781934048 489 489\n",
      "11710160\n",
      " 10click 1/2 complete\n",
      " 23click 2/2 complete\n"
     ]
    },
    {
     "name": "stderr",
     "output_type": "stream",
     "text": [
      "  0%|          | 2/400 [02:15<7:46:43, 70.36s/it]"
     ]
    },
    {
     "name": "stdout",
     "output_type": "stream",
     "text": [
      "11710160 862 862\n",
      "1705916422\n",
      " 6click 1/2 complete\n",
      " 12click 2/2 complete\n"
     ]
    },
    {
     "name": "stderr",
     "output_type": "stream",
     "text": [
      "  1%|          | 3/400 [02:44<5:40:04, 51.40s/it]"
     ]
    },
    {
     "name": "stdout",
     "output_type": "stream",
     "text": [
      "1705916422 251 251\n",
      "1010727183\n",
      " 7click 1/2 complete\n",
      " 14click 2/2 complete\n"
     ]
    },
    {
     "name": "stderr",
     "output_type": "stream",
     "text": [
      "  1%|          | 4/400 [03:22<5:05:01, 46.22s/it]"
     ]
    },
    {
     "name": "stdout",
     "output_type": "stream",
     "text": [
      "1010727183 374 374\n",
      "1487617489\n",
      " 5click 1/2 complete\n",
      " 6click 2/2 complete\n"
     ]
    },
    {
     "name": "stderr",
     "output_type": "stream",
     "text": [
      "  1%|▏         | 5/400 [03:45<4:07:18, 37.57s/it]"
     ]
    },
    {
     "name": "stdout",
     "output_type": "stream",
     "text": [
      "1487617489 145 145\n",
      "1279519421\n",
      " 3click 1/2 complete\n",
      "click 2/2 complete\n"
     ]
    },
    {
     "name": "stderr",
     "output_type": "stream",
     "text": [
      "  2%|▏         | 6/400 [04:00<3:18:00, 30.15s/it]"
     ]
    },
    {
     "name": "stdout",
     "output_type": "stream",
     "text": [
      "1279519421 76 76\n",
      "37256574\n",
      " 16click 1/2 complete\n",
      " 36click 2/2 complete\n"
     ]
    },
    {
     "name": "stderr",
     "output_type": "stream",
     "text": [
      "  2%|▏         | 7/400 [08:00<10:47:02, 98.78s/it]"
     ]
    },
    {
     "name": "stdout",
     "output_type": "stream",
     "text": [
      "1801554171\n",
      " 5click 1/2 complete\n",
      " 8click 2/2 complete\n"
     ]
    },
    {
     "name": "stderr",
     "output_type": "stream",
     "text": [
      "  2%|▏         | 8/400 [08:22<8:05:41, 74.34s/it] "
     ]
    },
    {
     "name": "stdout",
     "output_type": "stream",
     "text": [
      "1801554171 164 164\n",
      "1126310741\n",
      " 2click 1/2 complete\n",
      "click 2/2 complete\n"
     ]
    },
    {
     "name": "stderr",
     "output_type": "stream",
     "text": [
      "  2%|▏         | 9/400 [08:36<6:01:21, 55.45s/it]"
     ]
    },
    {
     "name": "stdout",
     "output_type": "stream",
     "text": [
      "1126310741 53 53\n",
      "1901891528\n",
      " 2click 1/2 complete\n",
      " 3click 2/2 complete\n"
     ]
    },
    {
     "name": "stderr",
     "output_type": "stream",
     "text": [
      "  2%|▎         | 10/400 [08:51<4:38:21, 42.82s/it]"
     ]
    },
    {
     "name": "stdout",
     "output_type": "stream",
     "text": [
      "1901891528 52 52\n",
      "37069188\n",
      " 4click 1/2 complete\n",
      " 9click 2/2 complete\n"
     ]
    },
    {
     "name": "stderr",
     "output_type": "stream",
     "text": [
      "  3%|▎         | 11/400 [09:14<3:58:53, 36.85s/it]"
     ]
    },
    {
     "name": "stdout",
     "output_type": "stream",
     "text": [
      "37069188 190 190\n",
      "878378143\n",
      " 4click 1/2 complete\n",
      " 7click 2/2 complete\n"
     ]
    },
    {
     "name": "stderr",
     "output_type": "stream",
     "text": [
      "  3%|▎         | 12/400 [09:34<3:25:43, 31.81s/it]"
     ]
    },
    {
     "name": "stdout",
     "output_type": "stream",
     "text": [
      "878378143 130 130\n",
      "1706029841\n",
      " 11click 1/2 complete\n",
      " 22click 2/2 complete\n"
     ]
    },
    {
     "name": "stderr",
     "output_type": "stream",
     "text": [
      "  3%|▎         | 13/400 [10:58<5:06:44, 47.56s/it]"
     ]
    },
    {
     "name": "stdout",
     "output_type": "stream",
     "text": [
      "1706029841 869 869\n",
      "1659563330\n",
      " 10click 1/2 complete\n",
      " 20click 2/2 complete\n"
     ]
    },
    {
     "name": "stderr",
     "output_type": "stream",
     "text": [
      "  4%|▎         | 14/400 [12:00<5:33:45, 51.88s/it]"
     ]
    },
    {
     "name": "stdout",
     "output_type": "stream",
     "text": [
      "1659563330 630 630\n",
      "1609433684\n",
      " 17click 1/2 complete\n",
      " 23click 2/2 complete\n"
     ]
    },
    {
     "name": "stderr",
     "output_type": "stream",
     "text": [
      "  4%|▍         | 15/400 [14:20<8:22:52, 78.37s/it]"
     ]
    },
    {
     "name": "stdout",
     "output_type": "stream",
     "text": [
      "1609433684 1153 1153\n",
      "1207253764\n",
      " 18click 1/2 complete\n",
      " 45click 2/2 complete\n"
     ]
    },
    {
     "name": "stderr",
     "output_type": "stream",
     "text": [
      "  4%|▍         | 16/400 [21:45<20:08:24, 188.81s/it]"
     ]
    },
    {
     "name": "stdout",
     "output_type": "stream",
     "text": [
      "1207253764 3450 3450\n",
      "32260073\n",
      " 9click 1/2 complete\n",
      " 21click 2/2 complete\n"
     ]
    },
    {
     "name": "stderr",
     "output_type": "stream",
     "text": [
      "  4%|▍         | 17/400 [22:50<16:06:17, 151.38s/it]"
     ]
    },
    {
     "name": "stdout",
     "output_type": "stream",
     "text": [
      "1108285231\n",
      " 12click 1/2 complete\n",
      " 24click 2/2 complete\n"
     ]
    },
    {
     "name": "stderr",
     "output_type": "stream",
     "text": [
      "  4%|▍         | 18/400 [24:21<14:08:27, 133.27s/it]"
     ]
    },
    {
     "name": "stdout",
     "output_type": "stream",
     "text": [
      "1108285231 884 884\n",
      "1924644034\n",
      " 7click 1/2 complete\n",
      " 13click 2/2 complete\n"
     ]
    },
    {
     "name": "stderr",
     "output_type": "stream",
     "text": [
      "  5%|▍         | 19/400 [24:53<10:54:11, 103.02s/it]"
     ]
    },
    {
     "name": "stdout",
     "output_type": "stream",
     "text": [
      "1924644034 308 308\n",
      "38391956\n",
      " 5click 1/2 complete\n",
      " 11click 2/2 complete\n"
     ]
    },
    {
     "name": "stderr",
     "output_type": "stream",
     "text": [
      "  5%|▌         | 20/400 [25:19<8:26:13, 79.93s/it]  "
     ]
    },
    {
     "name": "stdout",
     "output_type": "stream",
     "text": [
      "32269733\n",
      " 25click 1/2 complete\n",
      " 44click 2/2 complete\n"
     ]
    },
    {
     "name": "stderr",
     "output_type": "stream",
     "text": [
      "  5%|▌         | 21/400 [33:20<21:05:41, 200.37s/it]"
     ]
    },
    {
     "name": "stdout",
     "output_type": "stream",
     "text": [
      "32269733 3069 3069\n",
      "1040333531\n",
      " 11click 1/2 complete\n",
      " 18click 2/2 complete\n"
     ]
    },
    {
     "name": "stderr",
     "output_type": "stream",
     "text": [
      "  6%|▌         | 22/400 [34:28<16:51:47, 160.60s/it]"
     ]
    },
    {
     "name": "stdout",
     "output_type": "stream",
     "text": [
      "1040333531 573 573\n",
      "1650247686\n",
      " 16click 1/2 complete\n",
      " 35click 2/2 complete\n"
     ]
    },
    {
     "name": "stderr",
     "output_type": "stream",
     "text": [
      "  6%|▌         | 23/400 [38:21<19:04:36, 182.17s/it]"
     ]
    },
    {
     "name": "stdout",
     "output_type": "stream",
     "text": [
      "1650247686 1969 1969\n",
      "37941875\n",
      " 21click 1/2 complete\n",
      " 49click 2/2 complete\n"
     ]
    },
    {
     "name": "stderr",
     "output_type": "stream",
     "text": [
      "  6%|▌         | 24/400 [47:48<31:06:29, 297.85s/it]"
     ]
    },
    {
     "name": "stdout",
     "output_type": "stream",
     "text": [
      "37941875 4200 4200\n",
      "1580864200\n",
      " 7click 1/2 complete\n",
      " 13click 2/2 complete\n"
     ]
    },
    {
     "name": "stderr",
     "output_type": "stream",
     "text": [
      "  6%|▋         | 25/400 [48:22<22:46:30, 218.64s/it]"
     ]
    },
    {
     "name": "stdout",
     "output_type": "stream",
     "text": [
      "1580864200 305 305\n",
      "1320390218\n",
      " 15click 1/2 complete\n",
      " 27click 2/2 complete\n"
     ]
    },
    {
     "name": "stderr",
     "output_type": "stream",
     "text": [
      "  6%|▋         | 26/400 [50:37<20:05:30, 193.40s/it]"
     ]
    },
    {
     "name": "stdout",
     "output_type": "stream",
     "text": [
      "1320390218 1211 1211\n",
      "13469576\n",
      " 12click 1/2 complete\n",
      " 21click 2/2 complete\n"
     ]
    },
    {
     "name": "stderr",
     "output_type": "stream",
     "text": [
      "  7%|▋         | 27/400 [51:50<16:18:46, 157.44s/it]"
     ]
    },
    {
     "name": "stdout",
     "output_type": "stream",
     "text": [
      "13469576 732 732\n",
      "1341393737\n",
      " 12click 1/2 complete\n",
      " 23click 2/2 complete\n"
     ]
    },
    {
     "name": "stderr",
     "output_type": "stream",
     "text": [
      "  7%|▋         | 28/400 [53:18<14:06:10, 136.48s/it]"
     ]
    },
    {
     "name": "stdout",
     "output_type": "stream",
     "text": [
      "1341393737 895 895\n",
      "12783829\n",
      " 10click 1/2 complete\n",
      " 23click 2/2 complete\n"
     ]
    },
    {
     "name": "stderr",
     "output_type": "stream",
     "text": [
      "  7%|▋         | 29/400 [54:40<12:22:31, 120.09s/it]"
     ]
    },
    {
     "name": "stdout",
     "output_type": "stream",
     "text": [
      "12783829 842 842\n",
      "1305176626\n",
      " 1click 1/2 complete\n",
      " 3click 2/2 complete\n",
      "1305176626 42 42\n"
     ]
    },
    {
     "name": "stderr",
     "output_type": "stream",
     "text": [
      "  8%|▊         | 30/400 [54:53<9:03:25, 88.12s/it]  "
     ]
    },
    {
     "name": "stdout",
     "output_type": "stream",
     "text": [
      "11679364\n",
      " 11click 1/2 complete\n",
      " 23click 2/2 complete\n"
     ]
    },
    {
     "name": "stderr",
     "output_type": "stream",
     "text": [
      "  8%|▊         | 31/400 [56:11<8:42:33, 84.97s/it]"
     ]
    },
    {
     "name": "stdout",
     "output_type": "stream",
     "text": [
      "11679364 801 801\n",
      "11707317\n",
      " 12click 1/2 complete\n",
      " 27click 2/2 complete\n"
     ]
    },
    {
     "name": "stderr",
     "output_type": "stream",
     "text": [
      "  8%|▊         | 32/400 [58:00<9:24:58, 92.11s/it]"
     ]
    },
    {
     "name": "stdout",
     "output_type": "stream",
     "text": [
      "11707317 1075 1075\n",
      "1185481426\n",
      " 7click 1/2 complete\n",
      " 12click 2/2 complete\n",
      "1185481426 275 275\n"
     ]
    },
    {
     "name": "stderr",
     "output_type": "stream",
     "text": [
      "  8%|▊         | 33/400 [58:32<7:33:42, 74.18s/it]"
     ]
    },
    {
     "name": "stdout",
     "output_type": "stream",
     "text": [
      "1688133421\n",
      " 59click 1/2 complete\n"
     ]
    },
    {
     "name": "stderr",
     "output_type": "stream",
     "text": [
      "  8%|▊         | 34/400 [1:19:08<42:59:02, 422.79s/it]"
     ]
    },
    {
     "name": "stdout",
     "output_type": "stream",
     "text": [
      " 60click 2/2 complete\n",
      "32202042\n",
      " 15click 1/2 complete\n",
      " 20click 2/2 complete\n",
      "32202042 905 905\n"
     ]
    },
    {
     "name": "stderr",
     "output_type": "stream",
     "text": [
      "  9%|▉         | 35/400 [1:20:45<32:57:14, 325.03s/it]"
     ]
    },
    {
     "name": "stdout",
     "output_type": "stream",
     "text": [
      "1130419307\n",
      " 4click 1/2 complete\n",
      " 6click 2/2 complete\n",
      "1130419307 111 111\n"
     ]
    },
    {
     "name": "stderr",
     "output_type": "stream",
     "text": [
      "  9%|▉         | 36/400 [1:21:05<23:36:58, 233.57s/it]"
     ]
    },
    {
     "name": "stdout",
     "output_type": "stream",
     "text": [
      "1514939124\n",
      " 3click 1/2 complete\n",
      " 6click 2/2 complete\n",
      "1514939124 103 103\n"
     ]
    },
    {
     "name": "stderr",
     "output_type": "stream",
     "text": [
      "  9%|▉         | 37/400 [1:21:23<17:00:44, 168.72s/it]"
     ]
    },
    {
     "name": "stdout",
     "output_type": "stream",
     "text": [
      "1837802607\n",
      " 5click 1/2 complete\n",
      " 10click 2/2 complete\n",
      "1837802607 198 198\n"
     ]
    },
    {
     "name": "stderr",
     "output_type": "stream",
     "text": [
      " 10%|▉         | 38/400 [1:21:47<12:36:13, 125.34s/it]"
     ]
    },
    {
     "name": "stdout",
     "output_type": "stream",
     "text": [
      "37525791\n",
      " 9click 1/2 complete\n",
      " 15click 2/2 complete\n",
      "37525791 399 399\n"
     ]
    },
    {
     "name": "stderr",
     "output_type": "stream",
     "text": [
      " 10%|▉         | 39/400 [1:22:34<10:12:43, 101.84s/it]"
     ]
    },
    {
     "name": "stdout",
     "output_type": "stream",
     "text": [
      "1857521875\n",
      " 18click 1/2 complete\n",
      " 39click 2/2 complete\n",
      "1857521875 2300 2300\n"
     ]
    },
    {
     "name": "stderr",
     "output_type": "stream",
     "text": [
      " 10%|█         | 40/400 [1:27:27<15:55:18, 159.22s/it]"
     ]
    },
    {
     "name": "stdout",
     "output_type": "stream",
     "text": [
      "1154124309\n",
      " 15click 1/2 complete\n",
      " 25click 2/2 complete\n",
      "1154124309 1044 1044\n"
     ]
    },
    {
     "name": "stderr",
     "output_type": "stream",
     "text": [
      " 10%|█         | 41/400 [1:29:19<14:28:37, 145.18s/it]"
     ]
    },
    {
     "name": "stdout",
     "output_type": "stream",
     "text": [
      "1621296173\n",
      " 15click 1/2 complete\n",
      " 34click 2/2 complete\n",
      "1621296173 1620 1620\n"
     ]
    },
    {
     "name": "stderr",
     "output_type": "stream",
     "text": [
      " 10%|█         | 42/400 [1:32:30<15:46:41, 158.66s/it]"
     ]
    },
    {
     "name": "stdout",
     "output_type": "stream",
     "text": [
      "1384470700\n",
      " 12click 1/2 complete\n",
      " 25click 2/2 complete\n",
      "1384470700 942 942\n"
     ]
    },
    {
     "name": "stderr",
     "output_type": "stream",
     "text": [
      " 11%|█         | 43/400 [1:34:06<13:52:21, 139.89s/it]"
     ]
    },
    {
     "name": "stdout",
     "output_type": "stream",
     "text": [
      "1307835048\n",
      " 2click 1/2 complete\n",
      " 4click 2/2 complete\n",
      "1307835048 60 60\n"
     ]
    },
    {
     "name": "stderr",
     "output_type": "stream",
     "text": [
      " 11%|█         | 44/400 [1:34:21<10:07:37, 102.41s/it]"
     ]
    },
    {
     "name": "stdout",
     "output_type": "stream",
     "text": [
      "11710847\n",
      " 18click 1/2 complete\n",
      " 41click 2/2 complete\n",
      "11710847 2509 2509\n"
     ]
    },
    {
     "name": "stderr",
     "output_type": "stream",
     "text": [
      " 11%|█▏        | 45/400 [1:39:48<16:44:37, 169.80s/it]"
     ]
    },
    {
     "name": "stdout",
     "output_type": "stream",
     "text": [
      "1645884170\n",
      " 3click 1/2 complete\n",
      " 7click 2/2 complete\n",
      "1645884170 129 129\n"
     ]
    },
    {
     "name": "stderr",
     "output_type": "stream",
     "text": [
      " 12%|█▏        | 46/400 [1:40:08<12:17:14, 124.96s/it]"
     ]
    },
    {
     "name": "stdout",
     "output_type": "stream",
     "text": [
      "1066950219\n",
      " 4click 1/2 complete\n",
      " 11click 2/2 complete\n",
      "1066950219 245 245\n"
     ]
    },
    {
     "name": "stderr",
     "output_type": "stream",
     "text": [
      " 12%|█▏        | 47/400 [1:40:35<9:22:58, 95.69s/it]  "
     ]
    },
    {
     "name": "stdout",
     "output_type": "stream",
     "text": [
      "1226456242\n",
      " 3click 1/2 complete\n",
      " 6click 2/2 complete\n",
      "1226456242 119 119\n"
     ]
    },
    {
     "name": "stderr",
     "output_type": "stream",
     "text": [
      " 12%|█▏        | 48/400 [1:40:54<7:06:26, 72.69s/it]"
     ]
    },
    {
     "name": "stdout",
     "output_type": "stream",
     "text": [
      "13321644\n",
      " 59click 1/2 complete\n"
     ]
    },
    {
     "name": "stderr",
     "output_type": "stream",
     "text": [
      " 12%|█▏        | 49/400 [2:01:16<40:41:08, 417.29s/it]"
     ]
    },
    {
     "name": "stdout",
     "output_type": "stream",
     "text": [
      " 60click 2/2 complete\n",
      "19792442\n",
      " 14click 1/2 complete\n",
      " 27click 2/2 complete\n",
      "19792442 1110 1110\n"
     ]
    },
    {
     "name": "stderr",
     "output_type": "stream",
     "text": [
      " 12%|█▎        | 50/400 [2:03:17<31:55:39, 328.40s/it]"
     ]
    },
    {
     "name": "stdout",
     "output_type": "stream",
     "text": [
      "1711464605\n",
      " 16click 1/2 complete\n",
      " 18click 2/2 complete\n",
      "1711464605 815 815\n"
     ]
    },
    {
     "name": "stderr",
     "output_type": "stream",
     "text": [
      " 13%|█▎        | 51/400 [2:05:02<25:20:18, 261.37s/it]"
     ]
    },
    {
     "name": "stdout",
     "output_type": "stream",
     "text": [
      "19882567\n",
      " 7click 1/2 complete\n",
      " 18click 2/2 complete\n",
      "19882567 520 520\n"
     ]
    },
    {
     "name": "stderr",
     "output_type": "stream",
     "text": [
      " 13%|█▎        | 52/400 [2:05:53<19:10:54, 198.43s/it]"
     ]
    },
    {
     "name": "stdout",
     "output_type": "stream",
     "text": [
      "11726653\n",
      " 7click 1/2 complete\n",
      " 17click 2/2 complete\n",
      "11726653 479 479\n"
     ]
    },
    {
     "name": "stderr",
     "output_type": "stream",
     "text": [
      " 13%|█▎        | 53/400 [2:06:40<14:44:10, 152.88s/it]"
     ]
    },
    {
     "name": "stdout",
     "output_type": "stream",
     "text": [
      "1885466106\n",
      " 9click 1/2 complete\n",
      " 10click 2/2 complete\n",
      "1885466106 304 304\n"
     ]
    },
    {
     "name": "stderr",
     "output_type": "stream",
     "text": [
      " 14%|█▎        | 54/400 [2:07:18<11:22:54, 118.42s/it]"
     ]
    },
    {
     "name": "stdout",
     "output_type": "stream",
     "text": [
      "1433251190\n",
      " 0click 1/2 complete\n",
      "click 2/2 complete\n",
      "1433251190 16 16\n"
     ]
    },
    {
     "name": "stderr",
     "output_type": "stream",
     "text": [
      " 14%|█▍        | 55/400 [2:07:30<8:17:27, 86.51s/it]  "
     ]
    },
    {
     "name": "stdout",
     "output_type": "stream",
     "text": [
      "1730142162\n",
      " 5click 1/2 complete\n",
      " 7click 2/2 complete\n",
      "1730142162 123 123\n"
     ]
    },
    {
     "name": "stderr",
     "output_type": "stream",
     "text": [
      " 14%|█▍        | 56/400 [2:07:52<6:24:58, 67.15s/it]"
     ]
    },
    {
     "name": "stdout",
     "output_type": "stream",
     "text": [
      "1931179940\n",
      " 6click 1/2 complete\n",
      " 13click 2/2 complete\n",
      "1931179940 305 305\n"
     ]
    },
    {
     "name": "stderr",
     "output_type": "stream",
     "text": [
      " 14%|█▍        | 57/400 [2:08:26<5:27:51, 57.35s/it]"
     ]
    },
    {
     "name": "stdout",
     "output_type": "stream",
     "text": [
      "1480979852\n",
      " 11click 1/2 complete\n",
      " 22click 2/2 complete\n",
      "1480979852 724 724\n"
     ]
    },
    {
     "name": "stderr",
     "output_type": "stream",
     "text": [
      " 14%|█▍        | 58/400 [2:09:41<5:56:16, 62.50s/it]"
     ]
    },
    {
     "name": "stdout",
     "output_type": "stream",
     "text": [
      "1060101453\n",
      " 13click 1/2 complete\n",
      " 26click 2/2 complete\n",
      "1060101453 1025 1025\n"
     ]
    },
    {
     "name": "stderr",
     "output_type": "stream",
     "text": [
      " 15%|█▍        | 59/400 [2:11:27<7:08:56, 75.47s/it]"
     ]
    },
    {
     "name": "stdout",
     "output_type": "stream",
     "text": [
      "1831273227\n",
      " 6click 1/2 complete\n",
      " 9click 2/2 complete\n",
      "1831273227 220 220\n"
     ]
    },
    {
     "name": "stderr",
     "output_type": "stream",
     "text": [
      " 15%|█▌        | 60/400 [2:11:55<5:47:51, 61.39s/it]"
     ]
    },
    {
     "name": "stdout",
     "output_type": "stream",
     "text": [
      "38305412\n",
      " 9click 1/2 complete\n",
      " 21click 2/2 complete\n",
      "38305412 651 651\n"
     ]
    },
    {
     "name": "stderr",
     "output_type": "stream",
     "text": [
      " 15%|█▌        | 61/400 [2:13:01<5:53:46, 62.61s/it]"
     ]
    },
    {
     "name": "stdout",
     "output_type": "stream",
     "text": [
      "1742177967\n",
      " 6click 1/2 complete\n",
      " 11click 2/2 complete\n",
      "1742177967 192 192\n"
     ]
    },
    {
     "name": "stderr",
     "output_type": "stream",
     "text": [
      " 16%|█▌        | 62/400 [2:13:28<4:52:53, 51.99s/it]"
     ]
    },
    {
     "name": "stdout",
     "output_type": "stream",
     "text": [
      "1448537546\n",
      " 3click 1/2 complete\n",
      " 5click 2/2 complete\n",
      "1448537546 101 101\n"
     ]
    },
    {
     "name": "stderr",
     "output_type": "stream",
     "text": [
      " 16%|█▌        | 63/400 [2:13:47<3:56:41, 42.14s/it]"
     ]
    },
    {
     "name": "stdout",
     "output_type": "stream",
     "text": [
      "19877737\n",
      " 4click 1/2 complete\n",
      " 8click 2/2 complete\n",
      "19877737 148 148\n"
     ]
    },
    {
     "name": "stderr",
     "output_type": "stream",
     "text": [
      " 16%|█▌        | 64/400 [2:14:09<3:22:27, 36.15s/it]"
     ]
    },
    {
     "name": "stdout",
     "output_type": "stream",
     "text": [
      "1292591534\n",
      " 6click 1/2 complete\n",
      " 11click 2/2 complete\n",
      "1292591534 245 245\n"
     ]
    },
    {
     "name": "stderr",
     "output_type": "stream",
     "text": [
      " 16%|█▋        | 65/400 [2:14:39<3:11:19, 34.27s/it]"
     ]
    },
    {
     "name": "stdout",
     "output_type": "stream",
     "text": [
      "1224469606\n",
      " 6click 1/2 complete\n",
      " 14click 2/2 complete\n",
      "1224469606 409 409\n"
     ]
    },
    {
     "name": "stderr",
     "output_type": "stream",
     "text": [
      " 16%|█▋        | 66/400 [2:15:18<3:19:08, 35.77s/it]"
     ]
    },
    {
     "name": "stdout",
     "output_type": "stream",
     "text": [
      "13542746\n",
      " 12click 1/2 complete\n",
      " 22click 2/2 complete\n",
      "13542746 736 736\n"
     ]
    },
    {
     "name": "stderr",
     "output_type": "stream",
     "text": [
      " 17%|█▋        | 67/400 [2:16:35<4:26:27, 48.01s/it]"
     ]
    },
    {
     "name": "stdout",
     "output_type": "stream",
     "text": [
      "1672120714\n",
      " 2click 1/2 complete\n",
      " 3click 2/2 complete\n",
      "1672120714 55 55\n"
     ]
    },
    {
     "name": "stderr",
     "output_type": "stream",
     "text": [
      " 17%|█▋        | 68/400 [2:16:51<3:31:54, 38.30s/it]"
     ]
    },
    {
     "name": "stdout",
     "output_type": "stream",
     "text": [
      "1049547557\n",
      " 4click 1/2 complete\n",
      " 6click 2/2 complete\n",
      "1049547557 105 105\n"
     ]
    },
    {
     "name": "stderr",
     "output_type": "stream",
     "text": [
      " 17%|█▋        | 69/400 [2:17:10<3:00:14, 32.67s/it]"
     ]
    },
    {
     "name": "stdout",
     "output_type": "stream",
     "text": [
      "1119605388\n",
      " 8click 1/2 complete\n",
      " 14click 2/2 complete\n",
      "1119605388 373 373\n"
     ]
    },
    {
     "name": "stderr",
     "output_type": "stream",
     "text": [
      " 18%|█▊        | 70/400 [2:17:50<3:12:01, 34.91s/it]"
     ]
    },
    {
     "name": "stdout",
     "output_type": "stream",
     "text": [
      "1926711875\n",
      " 4click 1/2 complete\n",
      " 8click 2/2 complete\n",
      "1926711875 167 167\n"
     ]
    },
    {
     "name": "stderr",
     "output_type": "stream",
     "text": [
      " 18%|█▊        | 71/400 [2:18:12<2:50:16, 31.05s/it]"
     ]
    },
    {
     "name": "stdout",
     "output_type": "stream",
     "text": [
      "1772140077\n",
      " 15click 1/2 complete\n",
      " 31click 2/2 complete\n",
      "1772140077 1460 1460\n"
     ]
    },
    {
     "name": "stderr",
     "output_type": "stream",
     "text": [
      " 18%|█▊        | 72/400 [2:21:05<6:42:24, 73.61s/it]"
     ]
    },
    {
     "name": "stdout",
     "output_type": "stream",
     "text": [
      "1212470050\n",
      " 8click 1/2 complete\n",
      " 9click 2/2 complete\n",
      "1212470050 258 258\n"
     ]
    },
    {
     "name": "stderr",
     "output_type": "stream",
     "text": [
      " 18%|█▊        | 73/400 [2:21:38<5:33:45, 61.24s/it]"
     ]
    },
    {
     "name": "stdout",
     "output_type": "stream",
     "text": [
      "1764908312\n",
      " 2click 1/2 complete\n",
      " 5click 2/2 complete\n",
      "1764908312 90 90\n"
     ]
    },
    {
     "name": "stderr",
     "output_type": "stream",
     "text": [
      " 18%|█▊        | 74/400 [2:21:54<4:20:19, 47.91s/it]"
     ]
    },
    {
     "name": "stdout",
     "output_type": "stream",
     "text": [
      "1203572380\n",
      " 16click 1/2 complete\n",
      " 20click 2/2 complete\n",
      "1203572380 802 802\n"
     ]
    },
    {
     "name": "stderr",
     "output_type": "stream",
     "text": [
      " 19%|█▉        | 75/400 [2:23:29<5:35:35, 61.95s/it]"
     ]
    },
    {
     "name": "stdout",
     "output_type": "stream",
     "text": [
      "1705860023\n",
      " 6click 1/2 complete\n",
      " 12click 2/2 complete\n",
      "1705860023 275 275\n"
     ]
    },
    {
     "name": "stderr",
     "output_type": "stream",
     "text": [
      " 19%|█▉        | 76/400 [2:24:00<4:44:54, 52.76s/it]"
     ]
    },
    {
     "name": "stdout",
     "output_type": "stream",
     "text": [
      "1800618953\n",
      "click 1/2 complete\n",
      " 0click 2/2 complete\n",
      "1800618953 25 25\n"
     ]
    },
    {
     "name": "stderr",
     "output_type": "stream",
     "text": [
      " 19%|█▉        | 77/400 [2:24:12<3:38:07, 40.52s/it]"
     ]
    },
    {
     "name": "stdout",
     "output_type": "stream",
     "text": [
      "1308826860\n",
      " 20click 1/2 complete\n",
      " 34click 2/2 complete\n",
      "1308826860 1803 1803\n"
     ]
    },
    {
     "name": "stderr",
     "output_type": "stream",
     "text": [
      " 20%|█▉        | 78/400 [2:27:55<8:30:45, 95.17s/it]"
     ]
    },
    {
     "name": "stdout",
     "output_type": "stream",
     "text": [
      "11845608\n",
      " 13click 1/2 complete\n",
      " 32click 2/2 complete\n",
      "11845608 1504 1504\n"
     ]
    },
    {
     "name": "stderr",
     "output_type": "stream",
     "text": [
      " 20%|█▉        | 79/400 [2:30:37<10:16:02, 115.15s/it]"
     ]
    },
    {
     "name": "stdout",
     "output_type": "stream",
     "text": [
      "12064600\n",
      " 6click 1/2 complete\n",
      " 14click 2/2 complete\n",
      "12064600 366 366\n"
     ]
    },
    {
     "name": "stderr",
     "output_type": "stream",
     "text": [
      " 20%|██        | 80/400 [2:31:16<8:12:37, 92.37s/it]  "
     ]
    },
    {
     "name": "stdout",
     "output_type": "stream",
     "text": [
      "31896201\n",
      " 7click 1/2 complete\n",
      " 17click 2/2 complete\n"
     ]
    },
    {
     "name": "stderr",
     "output_type": "stream",
     "text": [
      " 20%|██        | 81/400 [2:32:00<6:54:12, 77.91s/it]"
     ]
    },
    {
     "name": "stdout",
     "output_type": "stream",
     "text": [
      "1201043555\n",
      " 11click 1/2 complete\n",
      " 23click 2/2 complete\n",
      "1201043555 771 771\n"
     ]
    },
    {
     "name": "stderr",
     "output_type": "stream",
     "text": [
      " 20%|██        | 82/400 [2:33:19<6:53:37, 78.04s/it]"
     ]
    },
    {
     "name": "stdout",
     "output_type": "stream",
     "text": [
      "1065930306\n",
      " 1click 1/2 complete\n",
      "click 2/2 complete\n",
      "1065930306 42 42\n"
     ]
    },
    {
     "name": "stderr",
     "output_type": "stream",
     "text": [
      " 21%|██        | 83/400 [2:33:32<5:10:40, 58.80s/it]"
     ]
    },
    {
     "name": "stdout",
     "output_type": "stream",
     "text": [
      "1888066284\n",
      " 10click 1/2 complete\n",
      " 22click 2/2 complete\n",
      "1888066284 746 746\n"
     ]
    },
    {
     "name": "stderr",
     "output_type": "stream",
     "text": [
      " 21%|██        | 84/400 [2:34:45<5:32:02, 63.05s/it]"
     ]
    },
    {
     "name": "stdout",
     "output_type": "stream",
     "text": [
      "1961540814\n",
      " 4click 1/2 complete\n",
      " 7click 2/2 complete\n",
      "1961540814 112 112\n"
     ]
    },
    {
     "name": "stderr",
     "output_type": "stream",
     "text": [
      " 21%|██▏       | 85/400 [2:35:05<4:22:53, 50.07s/it]"
     ]
    },
    {
     "name": "stdout",
     "output_type": "stream",
     "text": [
      "957701774\n",
      " 11click 1/2 complete\n",
      " 26click 2/2 complete\n",
      "957701774 1062 1062\n"
     ]
    },
    {
     "name": "stderr",
     "output_type": "stream",
     "text": [
      " 22%|██▏       | 86/400 [2:36:54<5:53:35, 67.57s/it]"
     ]
    },
    {
     "name": "stdout",
     "output_type": "stream",
     "text": [
      "1389858469\n",
      " 7click 1/2 complete\n",
      " 8click 2/2 complete\n",
      "1389858469 199 199\n"
     ]
    },
    {
     "name": "stderr",
     "output_type": "stream",
     "text": [
      " 22%|██▏       | 87/400 [2:37:24<4:54:12, 56.40s/it]"
     ]
    },
    {
     "name": "stdout",
     "output_type": "stream",
     "text": [
      "1030539253\n",
      " 4click 1/2 complete\n",
      " 7click 2/2 complete\n",
      "1030539253 129 129\n"
     ]
    },
    {
     "name": "stderr",
     "output_type": "stream",
     "text": [
      " 22%|██▏       | 88/400 [2:37:45<3:58:11, 45.80s/it]"
     ]
    },
    {
     "name": "stdout",
     "output_type": "stream",
     "text": [
      "1141137916\n",
      " 4click 1/2 complete\n",
      " 9click 2/2 complete\n",
      "1141137916 166 166\n"
     ]
    },
    {
     "name": "stderr",
     "output_type": "stream",
     "text": [
      " 22%|██▏       | 89/400 [2:38:08<3:22:09, 39.00s/it]"
     ]
    },
    {
     "name": "stdout",
     "output_type": "stream",
     "text": [
      "47916461\n",
      " 4click 1/2 complete\n",
      " 9click 2/2 complete\n",
      "47916461 194 194\n"
     ]
    },
    {
     "name": "stderr",
     "output_type": "stream",
     "text": [
      " 22%|██▎       | 90/400 [2:38:32<2:58:45, 34.60s/it]"
     ]
    },
    {
     "name": "stdout",
     "output_type": "stream",
     "text": [
      "1346291809\n",
      " 10click 1/2 complete\n",
      " 22click 2/2 complete\n",
      "1346291809 755 755\n"
     ]
    },
    {
     "name": "stderr",
     "output_type": "stream",
     "text": [
      " 23%|██▎       | 91/400 [2:39:48<4:01:01, 46.80s/it]"
     ]
    },
    {
     "name": "stdout",
     "output_type": "stream",
     "text": [
      "1491540976\n",
      " 8click 1/2 complete\n",
      " 16click 2/2 complete\n",
      "1491540976 413 413\n"
     ]
    },
    {
     "name": "stderr",
     "output_type": "stream",
     "text": [
      " 23%|██▎       | 92/400 [2:40:32<3:56:16, 46.03s/it]"
     ]
    },
    {
     "name": "stdout",
     "output_type": "stream",
     "text": [
      "11718583\n",
      " 10click 1/2 complete\n",
      " 22click 2/2 complete\n",
      "11718583 698 698\n"
     ]
    },
    {
     "name": "stderr",
     "output_type": "stream",
     "text": [
      " 23%|██▎       | 93/400 [2:41:44<4:35:35, 53.86s/it]"
     ]
    },
    {
     "name": "stdout",
     "output_type": "stream",
     "text": [
      "1361693886\n",
      " 13click 1/2 complete\n",
      " 19click 2/2 complete\n",
      "1361693886 558 558\n"
     ]
    },
    {
     "name": "stderr",
     "output_type": "stream",
     "text": [
      " 24%|██▎       | 94/400 [2:42:51<4:54:25, 57.73s/it]"
     ]
    },
    {
     "name": "stdout",
     "output_type": "stream",
     "text": [
      "1389685968\n",
      " 0click 1/2 complete\n",
      "click 2/2 complete\n",
      "1389685968 22 22\n"
     ]
    },
    {
     "name": "stderr",
     "output_type": "stream",
     "text": [
      " 24%|██▍       | 95/400 [2:43:03<3:43:49, 44.03s/it]"
     ]
    },
    {
     "name": "stdout",
     "output_type": "stream",
     "text": [
      "1286781898\n",
      " 25click 1/2 complete\n",
      " 51click 2/2 complete\n",
      "1286781898 4010 4010\n"
     ]
    },
    {
     "name": "stderr",
     "output_type": "stream",
     "text": [
      " 24%|██▍       | 96/400 [2:53:30<18:29:31, 218.99s/it]"
     ]
    },
    {
     "name": "stdout",
     "output_type": "stream",
     "text": [
      "258029709\n",
      " 8click 1/2 complete\n",
      " 14click 2/2 complete\n",
      "258029709 332 332\n"
     ]
    },
    {
     "name": "stderr",
     "output_type": "stream",
     "text": [
      " 24%|██▍       | 97/400 [2:54:09<13:52:42, 164.89s/it]"
     ]
    },
    {
     "name": "stdout",
     "output_type": "stream",
     "text": [
      "1347429754\n",
      " 9click 1/2 complete\n",
      " 19click 2/2 complete\n",
      "1347429754 566 566\n"
     ]
    },
    {
     "name": "stderr",
     "output_type": "stream",
     "text": [
      " 24%|██▍       | 98/400 [2:55:05<11:06:02, 132.33s/it]"
     ]
    },
    {
     "name": "stdout",
     "output_type": "stream",
     "text": [
      "1535927805\n",
      " 1click 1/2 complete\n",
      "click 2/2 complete\n",
      "1535927805 21 21\n"
     ]
    },
    {
     "name": "stderr",
     "output_type": "stream",
     "text": [
      " 25%|██▍       | 99/400 [2:55:18<8:03:16, 96.33s/it]  "
     ]
    },
    {
     "name": "stdout",
     "output_type": "stream",
     "text": [
      "1581231694\n",
      " 4click 1/2 complete\n",
      " 8click 2/2 complete\n",
      "1581231694 136 136\n"
     ]
    },
    {
     "name": "stderr",
     "output_type": "stream",
     "text": [
      " 25%|██▌       | 100/400 [2:55:40<6:11:08, 74.23s/it]"
     ]
    },
    {
     "name": "stdout",
     "output_type": "stream",
     "text": [
      "1848770148\n",
      " 13click 1/2 complete\n",
      " 28click 2/2 complete\n",
      "1848770148 1152 1152\n"
     ]
    },
    {
     "name": "stderr",
     "output_type": "stream",
     "text": [
      " 25%|██▌       | 101/400 [2:57:41<7:20:00, 88.29s/it]"
     ]
    },
    {
     "name": "stdout",
     "output_type": "stream",
     "text": [
      "11680226\n",
      " 11click 1/2 complete\n",
      " 27click 2/2 complete\n",
      "11680226 1244 1244\n"
     ]
    },
    {
     "name": "stderr",
     "output_type": "stream",
     "text": [
      " 26%|██▌       | 102/400 [2:59:45<8:11:19, 98.92s/it]"
     ]
    },
    {
     "name": "stdout",
     "output_type": "stream",
     "text": [
      "36262174\n",
      " 3click 1/2 complete\n",
      " 7click 2/2 complete\n",
      "36262174 121 121\n"
     ]
    },
    {
     "name": "stderr",
     "output_type": "stream",
     "text": [
      " 26%|██▌       | 103/400 [3:00:04<6:11:22, 75.02s/it]"
     ]
    },
    {
     "name": "stdout",
     "output_type": "stream",
     "text": [
      "1499082136\n",
      " 2click 1/2 complete\n",
      " 3click 2/2 complete\n",
      "1499082136 48 48\n"
     ]
    },
    {
     "name": "stderr",
     "output_type": "stream",
     "text": [
      " 26%|██▌       | 104/400 [3:00:19<4:41:10, 56.99s/it]"
     ]
    },
    {
     "name": "stdout",
     "output_type": "stream",
     "text": [
      "1673275044\n",
      " 3click 1/2 complete\n",
      "click 2/2 complete\n",
      "1673275044 56 56\n"
     ]
    },
    {
     "name": "stderr",
     "output_type": "stream",
     "text": [
      " 26%|██▋       | 105/400 [3:00:35<3:38:48, 44.50s/it]"
     ]
    },
    {
     "name": "stdout",
     "output_type": "stream",
     "text": [
      "1441121091\n",
      " 12click 1/2 complete\n",
      " 21click 2/2 complete\n",
      "1441121091 790 790\n"
     ]
    },
    {
     "name": "stderr",
     "output_type": "stream",
     "text": [
      " 26%|██▋       | 106/400 [3:01:55<4:31:20, 55.38s/it]"
     ]
    },
    {
     "name": "stdout",
     "output_type": "stream",
     "text": [
      "1366903580\n",
      " 13click 1/2 complete\n",
      " 24click 2/2 complete\n",
      "1366903580 863 863\n"
     ]
    },
    {
     "name": "stderr",
     "output_type": "stream",
     "text": [
      " 27%|██▋       | 107/400 [3:03:27<5:23:52, 66.32s/it]"
     ]
    },
    {
     "name": "stdout",
     "output_type": "stream",
     "text": [
      "848321501\n",
      " 7click 1/2 complete\n",
      " 15click 2/2 complete\n",
      "848321501 407 407\n"
     ]
    },
    {
     "name": "stderr",
     "output_type": "stream",
     "text": [
      " 27%|██▋       | 108/400 [3:04:08<4:45:14, 58.61s/it]"
     ]
    },
    {
     "name": "stdout",
     "output_type": "stream",
     "text": [
      "11730042\n",
      " 5click 1/2 complete\n",
      " 11click 2/2 complete\n",
      "11730042 235 235\n"
     ]
    },
    {
     "name": "stderr",
     "output_type": "stream",
     "text": [
      " 27%|██▋       | 109/400 [3:04:35<3:58:36, 49.20s/it]"
     ]
    },
    {
     "name": "stdout",
     "output_type": "stream",
     "text": [
      "33499940\n",
      " 5click 1/2 complete\n",
      " 10click 2/2 complete\n",
      "33499940 194 194\n"
     ]
    },
    {
     "name": "stderr",
     "output_type": "stream",
     "text": [
      " 28%|██▊       | 110/400 [3:05:00<3:23:06, 42.02s/it]"
     ]
    },
    {
     "name": "stdout",
     "output_type": "stream",
     "text": [
      "1295981580\n",
      " 7click 1/2 complete\n",
      " 14click 2/2 complete\n",
      "1295981580 315 315\n"
     ]
    },
    {
     "name": "stderr",
     "output_type": "stream",
     "text": [
      " 28%|██▊       | 111/400 [3:05:35<3:11:44, 39.81s/it]"
     ]
    },
    {
     "name": "stdout",
     "output_type": "stream",
     "text": [
      "1376511832\n",
      " 7click 1/2 complete\n",
      " 15click 2/2 complete\n",
      "1376511832 345 345\n"
     ]
    },
    {
     "name": "stderr",
     "output_type": "stream",
     "text": [
      " 28%|██▊       | 112/400 [3:06:13<3:08:55, 39.36s/it]"
     ]
    },
    {
     "name": "stdout",
     "output_type": "stream",
     "text": [
      "1379308723\n",
      " 8click 1/2 complete\n",
      " 15click 2/2 complete\n",
      "1379308723 354 354\n"
     ]
    },
    {
     "name": "stderr",
     "output_type": "stream",
     "text": [
      " 28%|██▊       | 113/400 [3:06:52<3:07:06, 39.12s/it]"
     ]
    },
    {
     "name": "stdout",
     "output_type": "stream",
     "text": [
      "1543458598\n",
      " 13click 1/2 complete\n",
      " 16click 2/2 complete\n",
      "1543458598 538 538\n"
     ]
    },
    {
     "name": "stderr",
     "output_type": "stream",
     "text": [
      " 28%|██▊       | 114/400 [3:07:59<3:46:49, 47.58s/it]"
     ]
    },
    {
     "name": "stdout",
     "output_type": "stream",
     "text": [
      "1645629071\n",
      " 1click 1/2 complete\n",
      "click 2/2 complete\n",
      "1645629071 36 36\n"
     ]
    },
    {
     "name": "stderr",
     "output_type": "stream",
     "text": [
      " 29%|██▉       | 115/400 [3:08:12<2:56:30, 37.16s/it]"
     ]
    },
    {
     "name": "stdout",
     "output_type": "stream",
     "text": [
      "21656860\n",
      " 4click 1/2 complete\n",
      " 10click 2/2 complete\n",
      "21656860 207 207\n"
     ]
    },
    {
     "name": "stderr",
     "output_type": "stream",
     "text": [
      " 29%|██▉       | 116/400 [3:08:37<2:38:19, 33.45s/it]"
     ]
    },
    {
     "name": "stdout",
     "output_type": "stream",
     "text": [
      "1327534325\n",
      " 8click 1/2 complete\n",
      " 16click 2/2 complete\n",
      "1327534325 417 417\n"
     ]
    },
    {
     "name": "stderr",
     "output_type": "stream",
     "text": [
      " 29%|██▉       | 117/400 [3:09:20<2:51:08, 36.29s/it]"
     ]
    },
    {
     "name": "stdout",
     "output_type": "stream",
     "text": [
      "1697940428\n",
      " 12click 1/2 complete\n",
      " 20click 2/2 complete\n",
      "1697940428 597 597\n"
     ]
    },
    {
     "name": "stderr",
     "output_type": "stream",
     "text": [
      " 30%|██▉       | 118/400 [3:10:26<3:32:34, 45.23s/it]"
     ]
    },
    {
     "name": "stdout",
     "output_type": "stream",
     "text": [
      "35781952\n",
      " 8click 1/2 complete\n",
      " 19click 2/2 complete\n",
      "35781952 570 570\n"
     ]
    },
    {
     "name": "stderr",
     "output_type": "stream",
     "text": [
      " 30%|██▉       | 119/400 [3:11:20<3:44:24, 47.92s/it]"
     ]
    },
    {
     "name": "stdout",
     "output_type": "stream",
     "text": [
      "1485534307\n",
      " 8click 1/2 complete\n",
      " 11click 2/2 complete\n",
      "1485534307 300 300\n"
     ]
    },
    {
     "name": "stderr",
     "output_type": "stream",
     "text": [
      " 30%|███       | 120/400 [3:11:57<3:28:27, 44.67s/it]"
     ]
    },
    {
     "name": "stdout",
     "output_type": "stream",
     "text": [
      "1305195216\n",
      " 5click 1/2 complete\n",
      " 10click 2/2 complete\n",
      "1305195216 196 196\n"
     ]
    },
    {
     "name": "stderr",
     "output_type": "stream",
     "text": [
      " 30%|███       | 121/400 [3:12:23<3:01:23, 39.01s/it]"
     ]
    },
    {
     "name": "stdout",
     "output_type": "stream",
     "text": [
      "1902703813\n",
      " 11click 1/2 complete\n",
      " 23click 2/2 complete\n",
      "1902703813 810 810\n"
     ]
    },
    {
     "name": "stderr",
     "output_type": "stream",
     "text": [
      " 30%|███       | 122/400 [3:13:42<3:56:09, 50.97s/it]"
     ]
    },
    {
     "name": "stdout",
     "output_type": "stream",
     "text": [
      "11722762\n",
      " 11click 1/2 complete\n",
      " 26click 2/2 complete\n",
      "11722762 946 946\n"
     ]
    },
    {
     "name": "stderr",
     "output_type": "stream",
     "text": [
      " 31%|███       | 123/400 [3:15:17<4:56:48, 64.29s/it]"
     ]
    },
    {
     "name": "stdout",
     "output_type": "stream",
     "text": [
      "37003691\n",
      " 3click 1/2 complete\n",
      " 8click 2/2 complete\n",
      "37003691 113 113\n"
     ]
    },
    {
     "name": "stderr",
     "output_type": "stream",
     "text": [
      " 31%|███       | 124/400 [3:15:36<3:53:08, 50.68s/it]"
     ]
    },
    {
     "name": "stdout",
     "output_type": "stream",
     "text": [
      "1906165591\n",
      " 4click 1/2 complete\n",
      " 6click 2/2 complete\n",
      "1906165591 99 99\n"
     ]
    },
    {
     "name": "stderr",
     "output_type": "stream",
     "text": [
      " 31%|███▏      | 125/400 [3:15:55<3:08:05, 41.04s/it]"
     ]
    },
    {
     "name": "stdout",
     "output_type": "stream",
     "text": [
      "1695162378\n",
      " 59click 1/2 complete\n"
     ]
    },
    {
     "name": "stderr",
     "output_type": "stream",
     "text": [
      " 32%|███▏      | 126/400 [3:24:53<14:28:23, 190.16s/it]"
     ]
    },
    {
     "name": "stdout",
     "output_type": "stream",
     "text": [
      " 60click 2/2 complete\n",
      "658897525\n",
      " 9click 1/2 complete\n",
      " 19click 2/2 complete\n",
      "658897525 538 538\n"
     ]
    },
    {
     "name": "stderr",
     "output_type": "stream",
     "text": [
      " 32%|███▏      | 127/400 [3:25:49<11:22:01, 149.90s/it]"
     ]
    },
    {
     "name": "stdout",
     "output_type": "stream",
     "text": [
      "31155879\n",
      " 4click 1/2 complete\n",
      " 11click 2/2 complete\n",
      "31155879 247 247\n"
     ]
    },
    {
     "name": "stderr",
     "output_type": "stream",
     "text": [
      " 32%|███▏      | 128/400 [3:26:15<8:31:40, 112.87s/it] "
     ]
    },
    {
     "name": "stdout",
     "output_type": "stream",
     "text": [
      "1198374614\n",
      " 10click 1/2 complete\n",
      " 20click 2/2 complete\n",
      "1198374614 624 624\n"
     ]
    },
    {
     "name": "stderr",
     "output_type": "stream",
     "text": [
      " 32%|███▏      | 129/400 [3:27:16<7:19:16, 97.26s/it] "
     ]
    },
    {
     "name": "stdout",
     "output_type": "stream",
     "text": [
      "38010707\n",
      " 9click 1/2 complete\n",
      " 19click 2/2 complete\n",
      "38010707 512 512\n"
     ]
    },
    {
     "name": "stderr",
     "output_type": "stream",
     "text": [
      " 32%|███▎      | 130/400 [3:28:08<6:16:28, 83.66s/it]"
     ]
    },
    {
     "name": "stdout",
     "output_type": "stream",
     "text": [
      "1263425600\n",
      " 14click 1/2 complete\n",
      " 17click 2/2 complete\n",
      "1263425600 679 679\n"
     ]
    },
    {
     "name": "stderr",
     "output_type": "stream",
     "text": [
      " 33%|███▎      | 131/400 [3:29:31<6:14:16, 83.48s/it]"
     ]
    },
    {
     "name": "stdout",
     "output_type": "stream",
     "text": [
      "1817134114\n",
      " 8click 1/2 complete\n",
      " 17click 2/2 complete\n",
      "1817134114 467 467\n"
     ]
    },
    {
     "name": "stderr",
     "output_type": "stream",
     "text": [
      " 33%|███▎      | 132/400 [3:30:18<5:23:51, 72.50s/it]"
     ]
    },
    {
     "name": "stdout",
     "output_type": "stream",
     "text": [
      "36771985\n",
      " 8click 1/2 complete\n",
      " 15click 2/2 complete\n",
      "36771985 400 400\n"
     ]
    },
    {
     "name": "stderr",
     "output_type": "stream",
     "text": [
      " 33%|███▎      | 133/400 [3:30:59<4:41:30, 63.26s/it]"
     ]
    },
    {
     "name": "stdout",
     "output_type": "stream",
     "text": [
      "1304420575\n",
      " 3click 1/2 complete\n",
      " 6click 2/2 complete\n",
      "1304420575 117 117\n"
     ]
    },
    {
     "name": "stderr",
     "output_type": "stream",
     "text": [
      " 34%|███▎      | 134/400 [3:31:18<3:41:00, 49.85s/it]"
     ]
    },
    {
     "name": "stdout",
     "output_type": "stream",
     "text": [
      "1286235543\n",
      " 4click 1/2 complete\n",
      " 7click 2/2 complete\n",
      "1286235543 134 134\n"
     ]
    },
    {
     "name": "stderr",
     "output_type": "stream",
     "text": [
      " 34%|███▍      | 135/400 [3:31:40<3:02:37, 41.35s/it]"
     ]
    },
    {
     "name": "stdout",
     "output_type": "stream",
     "text": [
      "1858594333\n",
      " 2click 1/2 complete\n",
      "click 2/2 complete\n",
      "1858594333 49 49\n"
     ]
    },
    {
     "name": "stderr",
     "output_type": "stream",
     "text": [
      " 34%|███▍      | 136/400 [3:31:55<2:28:12, 33.68s/it]"
     ]
    },
    {
     "name": "stdout",
     "output_type": "stream",
     "text": [
      "1378067891\n",
      " 13click 1/2 complete\n",
      " 20click 2/2 complete\n",
      "1378067891 698 698\n"
     ]
    },
    {
     "name": "stderr",
     "output_type": "stream",
     "text": [
      " 34%|███▍      | 137/400 [3:33:06<3:15:38, 44.63s/it]"
     ]
    },
    {
     "name": "stdout",
     "output_type": "stream",
     "text": [
      "1204459776\n",
      " 2click 1/2 complete\n",
      "click 2/2 complete\n",
      "1204459776 32 32\n"
     ]
    },
    {
     "name": "stderr",
     "output_type": "stream",
     "text": [
      " 34%|███▍      | 138/400 [3:33:20<2:35:19, 35.57s/it]"
     ]
    },
    {
     "name": "stdout",
     "output_type": "stream",
     "text": [
      "1495347361\n",
      " 12click 1/2 complete\n",
      " 23click 2/2 complete\n",
      "1495347361 796 796\n"
     ]
    },
    {
     "name": "stderr",
     "output_type": "stream",
     "text": [
      " 35%|███▍      | 139/400 [3:34:42<3:34:53, 49.40s/it]"
     ]
    },
    {
     "name": "stdout",
     "output_type": "stream",
     "text": [
      "1783887685\n",
      " 5click 1/2 complete\n",
      " 10click 2/2 complete\n",
      "1783887685 179 179\n"
     ]
    },
    {
     "name": "stderr",
     "output_type": "stream",
     "text": [
      " 35%|███▌      | 140/400 [3:35:06<3:01:39, 41.92s/it]"
     ]
    },
    {
     "name": "stdout",
     "output_type": "stream",
     "text": [
      "1536502781\n",
      " 11click 1/2 complete\n",
      " 23click 2/2 complete\n",
      "1536502781 799 799\n"
     ]
    },
    {
     "name": "stderr",
     "output_type": "stream",
     "text": [
      " 35%|███▌      | 141/400 [3:36:29<3:53:41, 54.14s/it]"
     ]
    },
    {
     "name": "stdout",
     "output_type": "stream",
     "text": [
      "1560525570\n",
      " 9click 1/2 complete\n",
      " 13click 2/2 complete\n",
      "1560525570 377 377\n"
     ]
    },
    {
     "name": "stderr",
     "output_type": "stream",
     "text": [
      " 36%|███▌      | 142/400 [3:37:12<3:39:03, 50.94s/it]"
     ]
    },
    {
     "name": "stdout",
     "output_type": "stream",
     "text": [
      "35372688\n",
      " 59click 1/2 complete\n"
     ]
    },
    {
     "name": "stderr",
     "output_type": "stream",
     "text": [
      " 36%|███▌      | 143/400 [3:48:59<17:40:22, 247.56s/it]"
     ]
    },
    {
     "name": "stdout",
     "output_type": "stream",
     "text": [
      " 60click 2/2 complete\n",
      "1120549775\n",
      " 5click 1/2 complete\n",
      " 9click 2/2 complete\n",
      "1120549775 180 180\n"
     ]
    },
    {
     "name": "stderr",
     "output_type": "stream",
     "text": [
      " 36%|███▌      | 144/400 [3:49:24<12:52:09, 180.97s/it]"
     ]
    },
    {
     "name": "stdout",
     "output_type": "stream",
     "text": [
      "1633821940\n",
      " 59click 1/2 complete\n"
     ]
    },
    {
     "name": "stderr",
     "output_type": "stream",
     "text": [
      " 36%|███▋      | 145/400 [3:57:46<19:37:45, 277.12s/it]"
     ]
    },
    {
     "name": "stdout",
     "output_type": "stream",
     "text": [
      " 60click 2/2 complete\n",
      "1879263018\n",
      " 13click 1/2 complete\n",
      " 20click 2/2 complete\n",
      "1879263018 642 642\n"
     ]
    },
    {
     "name": "stderr",
     "output_type": "stream",
     "text": [
      " 36%|███▋      | 146/400 [3:58:59<15:13:53, 215.88s/it]"
     ]
    },
    {
     "name": "stdout",
     "output_type": "stream",
     "text": [
      "31936212\n",
      " 15click 1/2 complete\n",
      " 19click 2/2 complete\n",
      "31936212 748 748\n"
     ]
    },
    {
     "name": "stderr",
     "output_type": "stream",
     "text": [
      " 37%|███▋      | 147/400 [4:00:29<12:31:54, 178.32s/it]"
     ]
    },
    {
     "name": "stdout",
     "output_type": "stream",
     "text": [
      "1788766997\n",
      " 2click 1/2 complete\n",
      "click 2/2 complete\n",
      "1788766997 45 45\n"
     ]
    },
    {
     "name": "stderr",
     "output_type": "stream",
     "text": [
      " 37%|███▋      | 148/400 [4:00:44<9:02:15, 129.11s/it] "
     ]
    },
    {
     "name": "stdout",
     "output_type": "stream",
     "text": [
      "1109525914\n",
      " 8click 1/2 complete\n",
      " 12click 2/2 complete\n",
      "1109525914 294 294\n"
     ]
    },
    {
     "name": "stderr",
     "output_type": "stream",
     "text": [
      " 37%|███▋      | 149/400 [4:01:21<7:04:44, 101.53s/it]"
     ]
    },
    {
     "name": "stdout",
     "output_type": "stream",
     "text": [
      "21867596\n",
      " 15click 1/2 complete\n",
      " 27click 2/2 complete\n",
      "21867596 1083 1083\n"
     ]
    },
    {
     "name": "stderr",
     "output_type": "stream",
     "text": [
      " 38%|███▊      | 150/400 [4:03:17<7:20:56, 105.82s/it]"
     ]
    },
    {
     "name": "stdout",
     "output_type": "stream",
     "text": [
      "1495686510\n",
      " 8click 1/2 complete\n",
      " 15click 2/2 complete\n",
      "1495686510 389 389\n"
     ]
    },
    {
     "name": "stderr",
     "output_type": "stream",
     "text": [
      " 38%|███▊      | 151/400 [4:04:02<6:03:35, 87.61s/it] "
     ]
    },
    {
     "name": "stdout",
     "output_type": "stream",
     "text": [
      "1183661719\n",
      " 13click 1/2 complete\n",
      " 20click 2/2 complete\n",
      "1183661719 684 684\n"
     ]
    },
    {
     "name": "stderr",
     "output_type": "stream",
     "text": [
      " 38%|███▊      | 152/400 [4:05:17<5:47:17, 84.02s/it]"
     ]
    },
    {
     "name": "stdout",
     "output_type": "stream",
     "text": [
      "1903511796\n",
      " 5click 1/2 complete\n",
      " 9click 2/2 complete\n",
      "1903511796 189 189\n"
     ]
    },
    {
     "name": "stderr",
     "output_type": "stream",
     "text": [
      " 38%|███▊      | 153/400 [4:05:41<4:31:38, 65.99s/it]"
     ]
    },
    {
     "name": "stdout",
     "output_type": "stream",
     "text": [
      "1697186775\n",
      " 7click 1/2 complete\n",
      " 14click 2/2 complete\n",
      "1697186775 336 336\n"
     ]
    },
    {
     "name": "stderr",
     "output_type": "stream",
     "text": [
      " 38%|███▊      | 154/400 [4:06:19<3:56:10, 57.61s/it]"
     ]
    },
    {
     "name": "stdout",
     "output_type": "stream",
     "text": [
      "1508002933\n",
      " 5click 1/2 complete\n",
      " 7click 2/2 complete\n",
      "1508002933 161 161\n"
     ]
    },
    {
     "name": "stderr",
     "output_type": "stream",
     "text": [
      " 39%|███▉      | 155/400 [4:06:43<3:13:03, 47.28s/it]"
     ]
    },
    {
     "name": "stdout",
     "output_type": "stream",
     "text": [
      "1164963003\n",
      " 4click 1/2 complete\n",
      " 5click 2/2 complete\n",
      "1164963003 104 104\n"
     ]
    },
    {
     "name": "stderr",
     "output_type": "stream",
     "text": [
      " 39%|███▉      | 156/400 [4:07:03<2:39:44, 39.28s/it]"
     ]
    },
    {
     "name": "stdout",
     "output_type": "stream",
     "text": [
      "1708080025\n",
      " 3click 1/2 complete\n",
      "click 2/2 complete\n",
      "1708080025 66 66\n"
     ]
    },
    {
     "name": "stderr",
     "output_type": "stream",
     "text": [
      " 39%|███▉      | 157/400 [4:07:19<2:11:06, 32.37s/it]"
     ]
    },
    {
     "name": "stdout",
     "output_type": "stream",
     "text": [
      "1198465868\n",
      " 6click 1/2 complete\n",
      " 8click 2/2 complete\n",
      "1198465868 173 173\n"
     ]
    },
    {
     "name": "stderr",
     "output_type": "stream",
     "text": [
      " 40%|███▉      | 158/400 [4:07:48<2:05:37, 31.15s/it]"
     ]
    },
    {
     "name": "stdout",
     "output_type": "stream",
     "text": [
      "1488625963\n",
      " 10click 1/2 complete\n",
      " 19click 2/2 complete\n",
      "1488625963 594 594\n"
     ]
    },
    {
     "name": "stderr",
     "output_type": "stream",
     "text": [
      " 40%|███▉      | 159/400 [4:08:47<2:39:17, 39.66s/it]"
     ]
    },
    {
     "name": "stdout",
     "output_type": "stream",
     "text": [
      "21037785\n",
      " 13click 1/2 complete\n",
      " 18click 2/2 complete\n",
      "21037785 525 525\n"
     ]
    },
    {
     "name": "stderr",
     "output_type": "stream",
     "text": [
      " 40%|████      | 160/400 [4:09:54<3:11:02, 47.76s/it]"
     ]
    },
    {
     "name": "stdout",
     "output_type": "stream",
     "text": [
      "1051733906\n",
      " 10click 1/2 complete\n",
      " 22click 2/2 complete\n",
      "1051733906 778 778\n"
     ]
    },
    {
     "name": "stderr",
     "output_type": "stream",
     "text": [
      " 40%|████      | 161/400 [4:11:11<3:45:18, 56.56s/it]"
     ]
    },
    {
     "name": "stdout",
     "output_type": "stream",
     "text": [
      "1056844497\n",
      " 19click 1/2 complete\n",
      " 43click 2/2 complete\n",
      "1056844497 2910 2910\n"
     ]
    },
    {
     "name": "stderr",
     "output_type": "stream",
     "text": [
      " 40%|████      | 162/400 [4:17:18<9:53:31, 149.63s/it]"
     ]
    },
    {
     "name": "stdout",
     "output_type": "stream",
     "text": [
      "37402764\n",
      " 4click 1/2 complete\n",
      " 10click 2/2 complete\n",
      "37402764 216 216\n"
     ]
    },
    {
     "name": "stderr",
     "output_type": "stream",
     "text": [
      " 41%|████      | 163/400 [4:17:42<7:22:47, 112.10s/it]"
     ]
    },
    {
     "name": "stdout",
     "output_type": "stream",
     "text": [
      "1735987846\n",
      " 7click 1/2 complete\n",
      " 13click 2/2 complete\n",
      "1735987846 328 328\n"
     ]
    },
    {
     "name": "stderr",
     "output_type": "stream",
     "text": [
      " 41%|████      | 164/400 [4:18:17<5:49:59, 88.98s/it] "
     ]
    },
    {
     "name": "stdout",
     "output_type": "stream",
     "text": [
      "1469590264\n",
      " 10click 1/2 complete\n",
      " 23click 2/2 complete\n",
      "1469590264 793 793\n"
     ]
    },
    {
     "name": "stderr",
     "output_type": "stream",
     "text": [
      " 41%|████▏     | 165/400 [4:19:34<5:33:53, 85.25s/it]"
     ]
    },
    {
     "name": "stdout",
     "output_type": "stream",
     "text": [
      "1513586832\n",
      " 3click 1/2 complete\n",
      " 4click 2/2 complete\n",
      "1513586832 77 77\n"
     ]
    },
    {
     "name": "stderr",
     "output_type": "stream",
     "text": [
      " 42%|████▏     | 166/400 [4:19:51<4:13:11, 64.92s/it]"
     ]
    },
    {
     "name": "stdout",
     "output_type": "stream",
     "text": [
      "1836210120\n",
      " 9click 1/2 complete\n",
      " 12click 2/2 complete\n",
      "1836210120 315 315\n"
     ]
    },
    {
     "name": "stderr",
     "output_type": "stream",
     "text": [
      " 42%|████▏     | 167/400 [4:20:29<3:40:51, 56.87s/it]"
     ]
    },
    {
     "name": "stdout",
     "output_type": "stream",
     "text": [
      "1487459290\n",
      " 1click 1/2 complete\n",
      "click 2/2 complete\n",
      "1487459290 33 33\n"
     ]
    },
    {
     "name": "stderr",
     "output_type": "stream",
     "text": [
      " 42%|████▏     | 168/400 [4:20:42<2:49:00, 43.71s/it]"
     ]
    },
    {
     "name": "stdout",
     "output_type": "stream",
     "text": [
      "1630800917\n",
      " 9click 1/2 complete\n",
      " 22click 2/2 complete\n",
      "1630800917 804 804\n"
     ]
    },
    {
     "name": "stderr",
     "output_type": "stream",
     "text": [
      " 42%|████▏     | 169/400 [4:21:59<3:26:02, 53.52s/it]"
     ]
    },
    {
     "name": "stdout",
     "output_type": "stream",
     "text": [
      "1010776488\n",
      " 3click 1/2 complete\n",
      " 6click 2/2 complete\n",
      "1010776488 90 90\n"
     ]
    },
    {
     "name": "stderr",
     "output_type": "stream",
     "text": [
      " 42%|████▎     | 170/400 [4:22:17<2:43:56, 42.77s/it]"
     ]
    },
    {
     "name": "stdout",
     "output_type": "stream",
     "text": [
      "19882193\n",
      " 8click 1/2 complete\n",
      " 19click 2/2 complete\n",
      "19882193 583 583\n"
     ]
    },
    {
     "name": "stderr",
     "output_type": "stream",
     "text": [
      " 43%|████▎     | 171/400 [4:23:12<2:58:16, 46.71s/it]"
     ]
    },
    {
     "name": "stdout",
     "output_type": "stream",
     "text": [
      "1203453191\n",
      " 7click 1/2 complete\n",
      " 13click 2/2 complete\n"
     ]
    },
    {
     "name": "stderr",
     "output_type": "stream",
     "text": [
      " 43%|████▎     | 172/400 [4:23:45<2:41:44, 42.56s/it]"
     ]
    },
    {
     "name": "stdout",
     "output_type": "stream",
     "text": [
      "35432638\n",
      " 12click 1/2 complete\n",
      " 18click 2/2 complete\n",
      "35432638 614 614\n"
     ]
    },
    {
     "name": "stderr",
     "output_type": "stream",
     "text": [
      " 43%|████▎     | 173/400 [4:24:59<3:16:18, 51.89s/it]"
     ]
    },
    {
     "name": "stdout",
     "output_type": "stream",
     "text": [
      "1087332427\n",
      " 8click 1/2 complete\n",
      " 17click 2/2 complete\n",
      "1087332427 454 454\n"
     ]
    },
    {
     "name": "stderr",
     "output_type": "stream",
     "text": [
      " 44%|████▎     | 174/400 [4:25:44<3:07:45, 49.85s/it]"
     ]
    },
    {
     "name": "stdout",
     "output_type": "stream",
     "text": [
      "1049791619\n",
      " 11click 1/2 complete\n",
      " 23click 2/2 complete\n",
      "1049791619 808 808\n"
     ]
    },
    {
     "name": "stderr",
     "output_type": "stream",
     "text": [
      " 44%|████▍     | 175/400 [4:27:05<3:41:44, 59.13s/it]"
     ]
    },
    {
     "name": "stdout",
     "output_type": "stream",
     "text": [
      "1075528481\n",
      " 10click 1/2 complete\n",
      " 13click 2/2 complete\n",
      "1075528481 365 365\n"
     ]
    },
    {
     "name": "stderr",
     "output_type": "stream",
     "text": [
      " 44%|████▍     | 176/400 [4:27:51<3:26:44, 55.38s/it]"
     ]
    },
    {
     "name": "stdout",
     "output_type": "stream",
     "text": [
      "1771720857\n",
      " 6click 1/2 complete\n",
      " 9click 2/2 complete\n",
      "1771720857 200 200\n"
     ]
    },
    {
     "name": "stderr",
     "output_type": "stream",
     "text": [
      " 44%|████▍     | 177/400 [4:28:21<2:56:57, 47.61s/it]"
     ]
    },
    {
     "name": "stdout",
     "output_type": "stream",
     "text": [
      "1060598083\n",
      " 4click 1/2 complete\n",
      " 8click 2/2 complete\n",
      "1060598083 133 133\n"
     ]
    },
    {
     "name": "stderr",
     "output_type": "stream",
     "text": [
      " 44%|████▍     | 178/400 [4:28:42<2:27:06, 39.76s/it]"
     ]
    },
    {
     "name": "stdout",
     "output_type": "stream",
     "text": [
      "1485169197\n",
      " 10click 1/2 complete\n",
      " 11click 2/2 complete\n",
      "1485169197 324 324\n"
     ]
    },
    {
     "name": "stderr",
     "output_type": "stream",
     "text": [
      " 45%|████▍     | 179/400 [4:29:23<2:27:40, 40.09s/it]"
     ]
    },
    {
     "name": "stdout",
     "output_type": "stream",
     "text": [
      "1199132262\n",
      " 12click 1/2 complete\n",
      " 22click 2/2 complete\n",
      "1199132262 714 714\n"
     ]
    },
    {
     "name": "stderr",
     "output_type": "stream",
     "text": [
      " 45%|████▌     | 180/400 [4:30:36<3:03:25, 50.02s/it]"
     ]
    },
    {
     "name": "stdout",
     "output_type": "stream",
     "text": [
      "1878231328\n",
      " 11click 1/2 complete\n",
      " 24click 2/2 complete\n",
      "1878231328 943 943\n"
     ]
    },
    {
     "name": "stderr",
     "output_type": "stream",
     "text": [
      " 45%|████▌     | 181/400 [4:32:09<3:49:06, 62.77s/it]"
     ]
    },
    {
     "name": "stdout",
     "output_type": "stream",
     "text": [
      "1974242355\n",
      " 13click 1/2 complete\n",
      " 24click 2/2 complete\n",
      "1974242355 869 869\n"
     ]
    },
    {
     "name": "stderr",
     "output_type": "stream",
     "text": [
      " 46%|████▌     | 182/400 [4:33:42<4:20:31, 71.70s/it]"
     ]
    },
    {
     "name": "stdout",
     "output_type": "stream",
     "text": [
      "1544911772\n",
      " 4click 1/2 complete\n",
      " 10click 2/2 complete\n",
      "1544911772 214 214\n"
     ]
    },
    {
     "name": "stderr",
     "output_type": "stream",
     "text": [
      " 46%|████▌     | 183/400 [4:34:07<3:29:00, 57.79s/it]"
     ]
    },
    {
     "name": "stdout",
     "output_type": "stream",
     "text": [
      "495182989\n",
      " 5click 1/2 complete\n",
      " 11click 2/2 complete\n",
      "495182989 204 204\n"
     ]
    },
    {
     "name": "stderr",
     "output_type": "stream",
     "text": [
      " 46%|████▌     | 184/400 [4:34:32<2:52:28, 47.91s/it]"
     ]
    },
    {
     "name": "stdout",
     "output_type": "stream",
     "text": [
      "1956591980\n",
      " 6click 1/2 complete\n",
      " 12click 2/2 complete\n",
      "1956591980 297 297\n"
     ]
    },
    {
     "name": "stderr",
     "output_type": "stream",
     "text": [
      " 46%|████▋     | 185/400 [4:35:06<2:37:16, 43.89s/it]"
     ]
    },
    {
     "name": "stdout",
     "output_type": "stream",
     "text": [
      "1392526471\n",
      " 4click 1/2 complete\n",
      " 5click 2/2 complete\n",
      "1392526471 90 90\n"
     ]
    },
    {
     "name": "stderr",
     "output_type": "stream",
     "text": [
      " 46%|████▋     | 186/400 [4:35:24<2:09:03, 36.19s/it]"
     ]
    },
    {
     "name": "stdout",
     "output_type": "stream",
     "text": [
      "38526674\n",
      " 6click 1/2 complete\n",
      " 13click 2/2 complete\n",
      "38526674 318 318\n"
     ]
    },
    {
     "name": "stderr",
     "output_type": "stream",
     "text": [
      " 47%|████▋     | 187/400 [4:35:59<2:06:36, 35.67s/it]"
     ]
    },
    {
     "name": "stdout",
     "output_type": "stream",
     "text": [
      "36003590\n",
      " 3click 1/2 complete\n",
      " 6click 2/2 complete\n",
      "36003590 90 90\n"
     ]
    },
    {
     "name": "stderr",
     "output_type": "stream",
     "text": [
      " 47%|████▋     | 188/400 [4:36:16<1:46:13, 30.07s/it]"
     ]
    },
    {
     "name": "stdout",
     "output_type": "stream",
     "text": [
      "83081035\n",
      " 3click 1/2 complete\n",
      " 4click 2/2 complete\n",
      "83081035 71 71\n"
     ]
    },
    {
     "name": "stderr",
     "output_type": "stream",
     "text": [
      " 47%|████▋     | 189/400 [4:36:33<1:31:37, 26.05s/it]"
     ]
    },
    {
     "name": "stdout",
     "output_type": "stream",
     "text": [
      "1826984139\n",
      " 9click 1/2 complete\n",
      " 11click 2/2 complete\n",
      "1826984139 297 297\n"
     ]
    },
    {
     "name": "stderr",
     "output_type": "stream",
     "text": [
      " 48%|████▊     | 190/400 [4:37:13<1:46:09, 30.33s/it]"
     ]
    },
    {
     "name": "stdout",
     "output_type": "stream",
     "text": [
      "1657029013\n",
      " 13click 1/2 complete\n",
      " 22click 2/2 complete\n",
      "1657029013 781 781\n"
     ]
    },
    {
     "name": "stderr",
     "output_type": "stream",
     "text": [
      " 48%|████▊     | 191/400 [4:38:35<2:39:56, 45.92s/it]"
     ]
    },
    {
     "name": "stdout",
     "output_type": "stream",
     "text": [
      "1299449726\n",
      " 5click 1/2 complete\n",
      " 7click 2/2 complete\n",
      "1299449726 140 140\n"
     ]
    },
    {
     "name": "stderr",
     "output_type": "stream",
     "text": [
      " 48%|████▊     | 192/400 [4:38:59<2:15:45, 39.16s/it]"
     ]
    },
    {
     "name": "stdout",
     "output_type": "stream",
     "text": [
      "1328337783\n",
      " 5click 1/2 complete\n",
      "click 2/2 complete\n",
      "1328337783 128 128\n"
     ]
    },
    {
     "name": "stderr",
     "output_type": "stream",
     "text": [
      " 48%|████▊     | 193/400 [4:39:23<1:59:23, 34.61s/it]"
     ]
    },
    {
     "name": "stdout",
     "output_type": "stream",
     "text": [
      "1231109089\n",
      " 5click 1/2 complete\n",
      " 13click 2/2 complete\n",
      "1231109089 300 300\n"
     ]
    },
    {
     "name": "stderr",
     "output_type": "stream",
     "text": [
      " 48%|████▊     | 194/400 [4:39:55<1:56:20, 33.89s/it]"
     ]
    },
    {
     "name": "stdout",
     "output_type": "stream",
     "text": [
      "1926429712\n",
      " 11click 1/2 complete\n",
      " 20click 2/2 complete\n",
      "1926429712 737 737\n"
     ]
    },
    {
     "name": "stderr",
     "output_type": "stream",
     "text": [
      " 49%|████▉     | 195/400 [4:41:11<2:39:41, 46.74s/it]"
     ]
    },
    {
     "name": "stdout",
     "output_type": "stream",
     "text": [
      "1643374390\n",
      " 2click 1/2 complete\n",
      " 3click 2/2 complete\n",
      "1643374390 60 60\n"
     ]
    },
    {
     "name": "stderr",
     "output_type": "stream",
     "text": [
      " 49%|████▉     | 196/400 [4:41:27<2:07:12, 37.41s/it]"
     ]
    },
    {
     "name": "stdout",
     "output_type": "stream",
     "text": [
      "33238438\n",
      " 11click 1/2 complete\n",
      " 24click 2/2 complete\n",
      "33238438 963 963\n"
     ]
    },
    {
     "name": "stderr",
     "output_type": "stream",
     "text": [
      " 49%|████▉     | 197/400 [4:42:59<3:02:09, 53.84s/it]"
     ]
    },
    {
     "name": "stdout",
     "output_type": "stream",
     "text": [
      "11839623\n",
      " 10click 1/2 complete\n",
      " 24click 2/2 complete\n",
      "11839623 903 903\n"
     ]
    },
    {
     "name": "stderr",
     "output_type": "stream",
     "text": [
      " 50%|████▉     | 198/400 [4:44:28<3:36:51, 64.42s/it]"
     ]
    },
    {
     "name": "stdout",
     "output_type": "stream",
     "text": [
      "1102942936\n",
      " 12click 1/2 complete\n",
      " 20click 2/2 complete\n",
      "1102942936 662 662\n"
     ]
    },
    {
     "name": "stderr",
     "output_type": "stream",
     "text": [
      " 50%|████▉     | 199/400 [4:45:39<3:41:48, 66.21s/it]"
     ]
    },
    {
     "name": "stdout",
     "output_type": "stream",
     "text": [
      "1005495070\n",
      " 9click 1/2 complete\n",
      " 17click 2/2 complete\n",
      "1005495070 457 457\n"
     ]
    },
    {
     "name": "stderr",
     "output_type": "stream",
     "text": [
      " 50%|█████     | 200/400 [4:46:33<3:28:59, 62.70s/it]"
     ]
    },
    {
     "name": "stdout",
     "output_type": "stream",
     "text": [
      "1271618346\n",
      " 24click 1/2 complete\n",
      " 29click 2/2 complete\n",
      "1271618346 2021 2021\n"
     ]
    },
    {
     "name": "stderr",
     "output_type": "stream",
     "text": [
      " 50%|█████     | 201/400 [4:51:42<7:32:30, 136.43s/it]"
     ]
    },
    {
     "name": "stdout",
     "output_type": "stream",
     "text": [
      "37912230\n",
      " 23click 1/2 complete\n",
      " 33click 2/2 complete\n",
      "37912230 2108 2108\n"
     ]
    },
    {
     "name": "stderr",
     "output_type": "stream",
     "text": [
      " 50%|█████     | 202/400 [4:56:43<10:13:36, 185.94s/it]"
     ]
    },
    {
     "name": "stdout",
     "output_type": "stream",
     "text": [
      "1562525784\n",
      " 35click 1/2 complete\n",
      " 46click 2/2 complete\n",
      "1562525784 3775 3775\n"
     ]
    },
    {
     "name": "stderr",
     "output_type": "stream",
     "text": [
      " 51%|█████     | 203/400 [5:21:11<31:12:37, 570.34s/it]"
     ]
    },
    {
     "name": "stdout",
     "output_type": "stream",
     "text": [
      "1160712189\n",
      " 6click 1/2 complete\n",
      " 12click 2/2 complete\n",
      "1160712189 306 306\n"
     ]
    },
    {
     "name": "stderr",
     "output_type": "stream",
     "text": [
      " 51%|█████     | 204/400 [5:21:43<22:15:44, 408.90s/it]"
     ]
    },
    {
     "name": "stdout",
     "output_type": "stream",
     "text": [
      "1908328156\n",
      " 10click 1/2 complete\n",
      " 14click 2/2 complete\n",
      "1908328156 381 381\n"
     ]
    },
    {
     "name": "stderr",
     "output_type": "stream",
     "text": [
      " 51%|█████▏    | 205/400 [5:22:25<16:11:53, 299.05s/it]"
     ]
    },
    {
     "name": "stdout",
     "output_type": "stream",
     "text": [
      "1034494104\n",
      " 13click 1/2 complete\n",
      " 23click 2/2 complete\n"
     ]
    },
    {
     "name": "stderr",
     "output_type": "stream",
     "text": [
      " 52%|█████▏    | 206/400 [5:23:58<12:46:45, 237.14s/it]"
     ]
    },
    {
     "name": "stdout",
     "output_type": "stream",
     "text": [
      "1609915935\n",
      " 6click 1/2 complete\n",
      " 11click 2/2 complete\n",
      "1609915935 255 255\n"
     ]
    },
    {
     "name": "stderr",
     "output_type": "stream",
     "text": [
      " 52%|█████▏    | 207/400 [5:24:30<9:24:47, 175.58s/it] "
     ]
    },
    {
     "name": "stdout",
     "output_type": "stream",
     "text": [
      "11678788\n",
      " 5click 1/2 complete\n",
      " 12click 2/2 complete\n",
      "11678788 253 253\n"
     ]
    },
    {
     "name": "stderr",
     "output_type": "stream",
     "text": [
      " 52%|█████▏    | 208/400 [5:24:59<7:00:52, 131.52s/it]"
     ]
    },
    {
     "name": "stdout",
     "output_type": "stream",
     "text": [
      "18836449\n",
      " 10click 1/2 complete\n",
      " 22click 2/2 complete\n",
      "18836449 718 718\n"
     ]
    },
    {
     "name": "stderr",
     "output_type": "stream",
     "text": [
      " 52%|█████▏    | 209/400 [5:26:08<5:58:47, 112.71s/it]"
     ]
    },
    {
     "name": "stdout",
     "output_type": "stream",
     "text": [
      "12107143\n",
      " 23click 1/2 complete\n",
      " 53click 2/2 complete\n",
      "12107143 5320 5320\n"
     ]
    },
    {
     "name": "stderr",
     "output_type": "stream",
     "text": [
      " 52%|█████▎    | 210/400 [5:39:15<16:37:26, 314.98s/it]"
     ]
    },
    {
     "name": "stdout",
     "output_type": "stream",
     "text": [
      "1914870568\n",
      " 6click 1/2 complete\n",
      " 12click 2/2 complete\n",
      "1914870568 247 247\n"
     ]
    },
    {
     "name": "stderr",
     "output_type": "stream",
     "text": [
      " 53%|█████▎    | 211/400 [5:39:44<12:02:41, 229.43s/it]"
     ]
    },
    {
     "name": "stdout",
     "output_type": "stream",
     "text": [
      "36924292\n",
      " 8click 1/2 complete\n",
      " 11click 2/2 complete\n",
      "36924292 268 268\n"
     ]
    },
    {
     "name": "stderr",
     "output_type": "stream",
     "text": [
      " 53%|█████▎    | 212/400 [5:40:21<8:57:50, 171.65s/it] "
     ]
    },
    {
     "name": "stdout",
     "output_type": "stream",
     "text": [
      "1770967295\n",
      " 18click 1/2 complete\n",
      " 37click 2/2 complete\n",
      "1770967295 2218 2218\n"
     ]
    },
    {
     "name": "stderr",
     "output_type": "stream",
     "text": [
      " 53%|█████▎    | 213/400 [5:45:08<10:42:32, 206.16s/it]"
     ]
    },
    {
     "name": "stdout",
     "output_type": "stream",
     "text": [
      "12915620\n",
      " 10click 1/2 complete\n",
      " 21click 2/2 complete\n",
      "12915620 682 682\n"
     ]
    },
    {
     "name": "stderr",
     "output_type": "stream",
     "text": [
      " 54%|█████▎    | 214/400 [5:46:14<8:29:11, 164.25s/it] "
     ]
    },
    {
     "name": "stdout",
     "output_type": "stream",
     "text": [
      "1613373762\n",
      " 6click 1/2 complete\n",
      " 13click 2/2 complete\n",
      "1613373762 279 279\n"
     ]
    },
    {
     "name": "stderr",
     "output_type": "stream",
     "text": [
      " 54%|█████▍    | 215/400 [5:46:48<6:25:43, 125.10s/it]"
     ]
    },
    {
     "name": "stdout",
     "output_type": "stream",
     "text": [
      "20927353\n",
      " 2click 1/2 complete\n",
      " 6click 2/2 complete\n",
      "20927353 109 109\n"
     ]
    },
    {
     "name": "stderr",
     "output_type": "stream",
     "text": [
      " 54%|█████▍    | 216/400 [5:47:07<4:46:01, 93.27s/it] "
     ]
    },
    {
     "name": "stdout",
     "output_type": "stream",
     "text": [
      "1776037148\n",
      " 8click 1/2 complete\n",
      " 15click 2/2 complete\n",
      "1776037148 427 427\n"
     ]
    },
    {
     "name": "stderr",
     "output_type": "stream",
     "text": [
      " 54%|█████▍    | 217/400 [5:47:52<4:00:02, 78.70s/it]"
     ]
    },
    {
     "name": "stdout",
     "output_type": "stream",
     "text": [
      "1921750340\n",
      " 6click 1/2 complete\n",
      " 12click 2/2 complete\n",
      "1921750340 246 246\n"
     ]
    },
    {
     "name": "stderr",
     "output_type": "stream",
     "text": [
      " 55%|█████▍    | 218/400 [5:48:21<3:13:22, 63.75s/it]"
     ]
    },
    {
     "name": "stdout",
     "output_type": "stream",
     "text": [
      "13419591\n",
      " 14click 1/2 complete\n",
      " 33click 2/2 complete\n",
      "13419591 1719 1719\n"
     ]
    },
    {
     "name": "stderr",
     "output_type": "stream",
     "text": [
      " 55%|█████▍    | 219/400 [5:51:25<5:01:17, 99.87s/it]"
     ]
    },
    {
     "name": "stdout",
     "output_type": "stream",
     "text": [
      "1217767512\n",
      " 5click 1/2 complete\n",
      " 13click 2/2 complete\n",
      "1217767512 338 338\n"
     ]
    },
    {
     "name": "stderr",
     "output_type": "stream",
     "text": [
      " 55%|█████▌    | 220/400 [5:51:59<4:00:08, 80.05s/it]"
     ]
    },
    {
     "name": "stdout",
     "output_type": "stream",
     "text": [
      "36465914\n",
      " 22click 1/2 complete\n",
      " 32click 2/2 complete\n",
      "36465914 1849 1849\n"
     ]
    },
    {
     "name": "stderr",
     "output_type": "stream",
     "text": [
      " 55%|█████▌    | 221/400 [5:56:15<6:36:22, 132.86s/it]"
     ]
    },
    {
     "name": "stdout",
     "output_type": "stream",
     "text": [
      "1208377887\n",
      " 4click 1/2 complete\n",
      " 11click 2/2 complete\n",
      "1208377887 282 282\n"
     ]
    },
    {
     "name": "stderr",
     "output_type": "stream",
     "text": [
      " 56%|█████▌    | 222/400 [5:56:46<5:03:27, 102.29s/it]"
     ]
    },
    {
     "name": "stdout",
     "output_type": "stream",
     "text": [
      "1165104818\n",
      " 13click 1/2 complete\n",
      " 19click 2/2 complete\n",
      "1165104818 671 671\n"
     ]
    },
    {
     "name": "stderr",
     "output_type": "stream",
     "text": [
      " 56%|█████▌    | 223/400 [5:57:58<4:35:32, 93.40s/it] "
     ]
    },
    {
     "name": "stdout",
     "output_type": "stream",
     "text": [
      "1256111344\n",
      " 7click 1/2 complete\n",
      " 11click 2/2 complete\n",
      "1256111344 253 253\n"
     ]
    },
    {
     "name": "stderr",
     "output_type": "stream",
     "text": [
      " 56%|█████▌    | 224/400 [5:58:29<3:39:05, 74.69s/it]"
     ]
    },
    {
     "name": "stdout",
     "output_type": "stream",
     "text": [
      "1653433739\n",
      " 19click 1/2 complete\n",
      " 40click 2/2 complete\n",
      "1653433739 2520 2520\n"
     ]
    },
    {
     "name": "stderr",
     "output_type": "stream",
     "text": [
      " 56%|█████▋    | 225/400 [6:03:44<7:07:29, 146.57s/it]"
     ]
    },
    {
     "name": "stdout",
     "output_type": "stream",
     "text": [
      "1290591526\n",
      " 17click 1/2 complete\n",
      " 22click 2/2 complete\n",
      "1290591526 1188 1188\n"
     ]
    },
    {
     "name": "stderr",
     "output_type": "stream",
     "text": [
      " 56%|█████▋    | 226/400 [6:05:52<6:49:01, 141.04s/it]"
     ]
    },
    {
     "name": "stdout",
     "output_type": "stream",
     "text": [
      "11673211\n",
      " 8click 1/2 complete\n",
      " 16click 2/2 complete\n",
      "11673211 403 403\n"
     ]
    },
    {
     "name": "stderr",
     "output_type": "stream",
     "text": [
      " 57%|█████▋    | 227/400 [6:06:35<5:22:25, 111.82s/it]"
     ]
    },
    {
     "name": "stdout",
     "output_type": "stream",
     "text": [
      "1105443717\n",
      " 59click 1/2 complete\n"
     ]
    },
    {
     "name": "stderr",
     "output_type": "stream",
     "text": [
      " 57%|█████▋    | 228/400 [6:18:11<13:42:41, 286.99s/it]"
     ]
    },
    {
     "name": "stdout",
     "output_type": "stream",
     "text": [
      " 60click 2/2 complete\n",
      "38737203\n",
      " 59click 1/2 complete\n"
     ]
    },
    {
     "name": "stderr",
     "output_type": "stream",
     "text": [
      " 57%|█████▋    | 229/400 [6:32:42<21:56:52, 462.06s/it]"
     ]
    },
    {
     "name": "stdout",
     "output_type": "stream",
     "text": [
      " 60click 2/2 complete\n",
      "1998347538\n",
      " 5click 1/2 complete\n",
      " 10click 2/2 complete\n",
      "1998347538 195 195\n"
     ]
    },
    {
     "name": "stderr",
     "output_type": "stream",
     "text": [
      " 57%|█████▊    | 230/400 [6:33:08<15:39:09, 331.47s/it]"
     ]
    },
    {
     "name": "stdout",
     "output_type": "stream",
     "text": [
      "1014025729\n",
      " 8click 1/2 complete\n",
      " 17click 2/2 complete\n",
      "1014025729 480 480\n"
     ]
    },
    {
     "name": "stderr",
     "output_type": "stream",
     "text": [
      " 58%|█████▊    | 231/400 [6:33:58<11:35:13, 246.83s/it]"
     ]
    },
    {
     "name": "stdout",
     "output_type": "stream",
     "text": [
      "34550318\n",
      " 11click 1/2 complete\n",
      " 17click 2/2 complete\n",
      "34550318 503 503\n"
     ]
    },
    {
     "name": "stderr",
     "output_type": "stream",
     "text": [
      " 58%|█████▊    | 232/400 [6:34:55<8:51:39, 189.88s/it] "
     ]
    },
    {
     "name": "stdout",
     "output_type": "stream",
     "text": [
      "37837245\n",
      " 13click 1/2 complete\n",
      " 28click 2/2 complete\n",
      "37837245 1183 1183\n"
     ]
    },
    {
     "name": "stderr",
     "output_type": "stream",
     "text": [
      " 58%|█████▊    | 233/400 [6:36:56<7:51:11, 169.29s/it]"
     ]
    },
    {
     "name": "stdout",
     "output_type": "stream",
     "text": [
      "12838557\n",
      " 59click 1/2 complete\n"
     ]
    },
    {
     "name": "stderr",
     "output_type": "stream",
     "text": [
      " 58%|█████▊    | 234/400 [6:47:08<13:55:51, 302.12s/it]"
     ]
    },
    {
     "name": "stdout",
     "output_type": "stream",
     "text": [
      " 60click 2/2 complete\n",
      "1215151657\n",
      " 14click 1/2 complete\n",
      " 20click 2/2 complete\n",
      "1215151657 775 775\n"
     ]
    },
    {
     "name": "stderr",
     "output_type": "stream",
     "text": [
      " 59%|█████▉    | 235/400 [6:48:41<10:58:15, 239.37s/it]"
     ]
    },
    {
     "name": "stdout",
     "output_type": "stream",
     "text": [
      "1569736538\n",
      " 7click 1/2 complete\n",
      " 11click 2/2 complete\n",
      "1569736538 283 283\n"
     ]
    },
    {
     "name": "stderr",
     "output_type": "stream",
     "text": [
      " 59%|█████▉    | 236/400 [6:49:12<8:03:22, 176.85s/it] "
     ]
    },
    {
     "name": "stdout",
     "output_type": "stream",
     "text": [
      "1602300509\n",
      " 15click 1/2 complete\n",
      " 20click 2/2 complete\n",
      "1602300509 840 840\n"
     ]
    },
    {
     "name": "stderr",
     "output_type": "stream",
     "text": [
      " 59%|█████▉    | 237/400 [6:50:53<6:58:16, 153.97s/it]"
     ]
    },
    {
     "name": "stdout",
     "output_type": "stream",
     "text": [
      "11687518\n",
      " 8click 1/2 complete\n",
      " 17click 2/2 complete\n",
      "11687518 480 480\n"
     ]
    },
    {
     "name": "stderr",
     "output_type": "stream",
     "text": [
      " 60%|█████▉    | 238/400 [6:51:39<5:28:33, 121.69s/it]"
     ]
    },
    {
     "name": "stdout",
     "output_type": "stream",
     "text": [
      "1936871865\n",
      " 16click 1/2 complete\n",
      " 25click 2/2 complete\n",
      "1936871865 1063 1063\n"
     ]
    },
    {
     "name": "stderr",
     "output_type": "stream",
     "text": [
      " 60%|█████▉    | 239/400 [6:53:42<5:27:49, 122.17s/it]"
     ]
    },
    {
     "name": "stdout",
     "output_type": "stream",
     "text": [
      "20623381\n",
      " 8click 1/2 complete\n",
      " 20click 2/2 complete\n",
      "20623381 662 662\n"
     ]
    },
    {
     "name": "stderr",
     "output_type": "stream",
     "text": [
      " 60%|██████    | 240/400 [6:54:44<4:37:37, 104.11s/it]"
     ]
    },
    {
     "name": "stdout",
     "output_type": "stream",
     "text": [
      "13150137\n",
      " 15click 1/2 complete\n",
      " 30click 2/2 complete\n",
      "13150137 1402 1402\n"
     ]
    },
    {
     "name": "stderr",
     "output_type": "stream",
     "text": [
      " 60%|██████    | 241/400 [6:57:27<5:22:27, 121.68s/it]"
     ]
    },
    {
     "name": "stdout",
     "output_type": "stream",
     "text": [
      "37537313\n",
      " 9click 1/2 complete\n",
      " 19click 2/2 complete\n",
      "37537313 589 589\n"
     ]
    },
    {
     "name": "stderr",
     "output_type": "stream",
     "text": [
      " 60%|██████    | 242/400 [6:58:24<4:29:22, 102.29s/it]"
     ]
    },
    {
     "name": "stdout",
     "output_type": "stream",
     "text": [
      "35657272\n",
      " 12click 1/2 complete\n",
      " 27click 2/2 complete\n",
      "35657272 1048 1048\n"
     ]
    },
    {
     "name": "stderr",
     "output_type": "stream",
     "text": [
      " 61%|██████    | 243/400 [7:00:11<4:31:18, 103.68s/it]"
     ]
    },
    {
     "name": "stdout",
     "output_type": "stream",
     "text": [
      "11725899\n",
      " 9click 1/2 complete\n",
      " 19click 2/2 complete\n",
      "11725899 577 577\n"
     ]
    },
    {
     "name": "stderr",
     "output_type": "stream",
     "text": [
      " 61%|██████    | 244/400 [7:01:06<3:51:48, 89.16s/it] "
     ]
    },
    {
     "name": "stdout",
     "output_type": "stream",
     "text": [
      "1054314594\n",
      " 3click 1/2 complete\n",
      " 6click 2/2 complete\n",
      "1054314594 89 89\n"
     ]
    },
    {
     "name": "stderr",
     "output_type": "stream",
     "text": [
      " 61%|██████▏   | 245/400 [7:01:25<2:55:37, 67.98s/it]"
     ]
    },
    {
     "name": "stdout",
     "output_type": "stream",
     "text": [
      "1926554735\n",
      " 2click 1/2 complete\n",
      " 3click 2/2 complete\n",
      "1926554735 49 49\n"
     ]
    },
    {
     "name": "stderr",
     "output_type": "stream",
     "text": [
      " 62%|██████▏   | 246/400 [7:01:40<2:13:47, 52.13s/it]"
     ]
    },
    {
     "name": "stdout",
     "output_type": "stream",
     "text": [
      "61244505\n",
      " 12click 1/2 complete\n",
      " 22click 2/2 complete\n",
      "61244505 807 807\n"
     ]
    },
    {
     "name": "stderr",
     "output_type": "stream",
     "text": [
      " 62%|██████▏   | 247/400 [7:03:00<2:34:09, 60.46s/it]"
     ]
    },
    {
     "name": "stdout",
     "output_type": "stream",
     "text": [
      "1091174289\n",
      " 9click 1/2 complete\n",
      " 10click 2/2 complete\n",
      "1091174289 291 291\n"
     ]
    },
    {
     "name": "stderr",
     "output_type": "stream",
     "text": [
      " 62%|██████▏   | 248/400 [7:03:35<2:13:52, 52.84s/it]"
     ]
    },
    {
     "name": "stdout",
     "output_type": "stream",
     "text": [
      "1261546000\n",
      " 5click 1/2 complete\n",
      " 8click 2/2 complete\n",
      "1261546000 148 148\n"
     ]
    },
    {
     "name": "stderr",
     "output_type": "stream",
     "text": [
      " 62%|██████▏   | 249/400 [7:03:56<1:49:17, 43.43s/it]"
     ]
    },
    {
     "name": "stdout",
     "output_type": "stream",
     "text": [
      "1680847530\n",
      " 7click 1/2 complete\n",
      " 14click 2/2 complete\n",
      "1680847530 357 357\n"
     ]
    },
    {
     "name": "stderr",
     "output_type": "stream",
     "text": [
      " 62%|██████▎   | 250/400 [7:04:34<1:44:35, 41.84s/it]"
     ]
    },
    {
     "name": "stdout",
     "output_type": "stream",
     "text": [
      "1136980373\n",
      " 7click 1/2 complete\n",
      " 14click 2/2 complete\n",
      "1136980373 347 347\n"
     ]
    },
    {
     "name": "stderr",
     "output_type": "stream",
     "text": [
      " 63%|██████▎   | 251/400 [7:05:12<1:40:56, 40.65s/it]"
     ]
    },
    {
     "name": "stdout",
     "output_type": "stream",
     "text": [
      "1417514733\n",
      " 59click 1/2 complete\n"
     ]
    },
    {
     "name": "stderr",
     "output_type": "stream",
     "text": [
      " 63%|██████▎   | 252/400 [7:15:03<8:27:37, 205.79s/it]"
     ]
    },
    {
     "name": "stdout",
     "output_type": "stream",
     "text": [
      " 60click 2/2 complete\n",
      "21656422\n",
      " 5click 1/2 complete\n",
      " 11click 2/2 complete\n",
      "21656422 249 249\n"
     ]
    },
    {
     "name": "stderr",
     "output_type": "stream",
     "text": [
      " 63%|██████▎   | 253/400 [7:15:34<6:15:08, 153.12s/it]"
     ]
    },
    {
     "name": "stdout",
     "output_type": "stream",
     "text": [
      "1712603119\n",
      " 3click 1/2 complete\n",
      " 6click 2/2 complete\n",
      "1712603119 88 88\n"
     ]
    },
    {
     "name": "stderr",
     "output_type": "stream",
     "text": [
      " 64%|██████▎   | 254/400 [7:15:51<4:33:36, 112.44s/it]"
     ]
    },
    {
     "name": "stdout",
     "output_type": "stream",
     "text": [
      "1287899904\n",
      " 9click 1/2 complete\n",
      " 15click 2/2 complete\n",
      "1287899904 360 360\n"
     ]
    },
    {
     "name": "stderr",
     "output_type": "stream",
     "text": [
      " 64%|██████▍   | 255/400 [7:16:33<3:40:20, 91.18s/it] "
     ]
    },
    {
     "name": "stdout",
     "output_type": "stream",
     "text": [
      "20694410\n",
      " 59click 1/2 complete\n"
     ]
    },
    {
     "name": "stderr",
     "output_type": "stream",
     "text": [
      " 64%|██████▍   | 256/400 [7:25:44<9:10:03, 229.19s/it]"
     ]
    },
    {
     "name": "stdout",
     "output_type": "stream",
     "text": [
      " 60click 2/2 complete\n",
      "1202715954\n",
      " 15click 1/2 complete\n",
      " 23click 2/2 complete\n",
      "1202715954 935 935\n"
     ]
    },
    {
     "name": "stderr",
     "output_type": "stream",
     "text": [
      " 64%|██████▍   | 257/400 [7:27:20<7:31:13, 189.33s/it]"
     ]
    },
    {
     "name": "stdout",
     "output_type": "stream",
     "text": [
      "37446016\n",
      " 3click 1/2 complete\n",
      " 8click 2/2 complete\n",
      "37446016 167 167\n"
     ]
    },
    {
     "name": "stderr",
     "output_type": "stream",
     "text": [
      " 64%|██████▍   | 258/400 [7:27:43<5:30:01, 139.45s/it]"
     ]
    },
    {
     "name": "stdout",
     "output_type": "stream",
     "text": [
      "1055688781\n",
      " 10click 1/2 complete\n",
      " 14click 2/2 complete\n",
      "1055688781 388 388\n"
     ]
    },
    {
     "name": "stderr",
     "output_type": "stream",
     "text": [
      " 65%|██████▍   | 259/400 [7:28:29<4:21:35, 111.32s/it]"
     ]
    },
    {
     "name": "stdout",
     "output_type": "stream",
     "text": [
      "13129498\n",
      " 6click 1/2 complete\n",
      " 13click 2/2 complete\n"
     ]
    },
    {
     "name": "stderr",
     "output_type": "stream",
     "text": [
      " 65%|██████▌   | 260/400 [7:29:02<3:24:49, 87.78s/it] "
     ]
    },
    {
     "name": "stdout",
     "output_type": "stream",
     "text": [
      "1338225371\n",
      " 4click 1/2 complete\n",
      " 6click 2/2 complete\n",
      "1338225371 117 117\n"
     ]
    },
    {
     "name": "stderr",
     "output_type": "stream",
     "text": [
      " 65%|██████▌   | 261/400 [7:29:23<2:37:10, 67.85s/it]"
     ]
    },
    {
     "name": "stdout",
     "output_type": "stream",
     "text": [
      "37365742\n",
      " 17click 1/2 complete\n",
      " 31click 2/2 complete\n",
      "37365742 1438 1438\n"
     ]
    },
    {
     "name": "stderr",
     "output_type": "stream",
     "text": [
      " 66%|██████▌   | 262/400 [7:32:10<3:44:38, 97.67s/it]"
     ]
    },
    {
     "name": "stdout",
     "output_type": "stream",
     "text": [
      "13080557\n",
      " 2click 1/2 complete\n",
      " 5click 2/2 complete\n"
     ]
    },
    {
     "name": "stderr",
     "output_type": "stream",
     "text": [
      " 66%|██████▌   | 263/400 [7:32:27<2:47:26, 73.33s/it]"
     ]
    },
    {
     "name": "stdout",
     "output_type": "stream",
     "text": [
      "1379166228\n",
      " 5click 1/2 complete\n",
      " 10click 2/2 complete\n"
     ]
    },
    {
     "name": "stderr",
     "output_type": "stream",
     "text": [
      " 66%|██████▌   | 264/400 [7:32:52<2:13:05, 58.71s/it]"
     ]
    },
    {
     "name": "stdout",
     "output_type": "stream",
     "text": [
      "1437178508\n",
      " 10click 1/2 complete\n",
      " 13click 2/2 complete\n",
      "1437178508 374 374\n"
     ]
    },
    {
     "name": "stderr",
     "output_type": "stream",
     "text": [
      " 66%|██████▋   | 265/400 [7:33:39<2:04:29, 55.33s/it]"
     ]
    },
    {
     "name": "stdout",
     "output_type": "stream",
     "text": [
      "1313967118\n",
      " 3click 1/2 complete\n",
      "click 2/2 complete\n",
      "1313967118 62 62\n"
     ]
    },
    {
     "name": "stderr",
     "output_type": "stream",
     "text": [
      " 66%|██████▋   | 266/400 [7:33:55<1:37:17, 43.57s/it]"
     ]
    },
    {
     "name": "stdout",
     "output_type": "stream",
     "text": [
      "1373989551\n",
      " 7click 1/2 complete\n",
      " 15click 2/2 complete\n",
      "1373989551 400 400\n"
     ]
    },
    {
     "name": "stderr",
     "output_type": "stream",
     "text": [
      " 67%|██████▋   | 267/400 [7:34:36<1:34:48, 42.77s/it]"
     ]
    },
    {
     "name": "stdout",
     "output_type": "stream",
     "text": [
      "1946588713\n",
      " 6click 1/2 complete\n",
      " 13click 2/2 complete\n",
      "1946588713 288 288\n"
     ]
    },
    {
     "name": "stderr",
     "output_type": "stream",
     "text": [
      " 67%|██████▋   | 268/400 [7:35:07<1:26:15, 39.21s/it]"
     ]
    },
    {
     "name": "stdout",
     "output_type": "stream",
     "text": [
      "1845236311\n",
      " 8click 1/2 complete\n",
      " 16click 2/2 complete\n",
      "1845236311 468 468\n"
     ]
    },
    {
     "name": "stderr",
     "output_type": "stream",
     "text": [
      " 67%|██████▋   | 269/400 [7:35:54<1:31:00, 41.69s/it]"
     ]
    },
    {
     "name": "stdout",
     "output_type": "stream",
     "text": [
      "11856684\n",
      " 5click 1/2 complete\n",
      " 13click 2/2 complete\n",
      "11856684 290 290\n"
     ]
    },
    {
     "name": "stderr",
     "output_type": "stream",
     "text": [
      " 68%|██████▊   | 270/400 [7:36:27<1:24:16, 38.90s/it]"
     ]
    },
    {
     "name": "stdout",
     "output_type": "stream",
     "text": [
      "35572263\n",
      " 4click 1/2 complete\n",
      " 9click 2/2 complete\n",
      "35572263 162 162\n"
     ]
    },
    {
     "name": "stderr",
     "output_type": "stream",
     "text": [
      " 68%|██████▊   | 271/400 [7:36:49<1:12:59, 33.95s/it]"
     ]
    },
    {
     "name": "stdout",
     "output_type": "stream",
     "text": [
      "11725907\n",
      " 7click 1/2 complete\n",
      " 19click 2/2 complete\n",
      "11725907 600 600\n"
     ]
    },
    {
     "name": "stderr",
     "output_type": "stream",
     "text": [
      " 68%|██████▊   | 272/400 [7:37:48<1:28:12, 41.35s/it]"
     ]
    },
    {
     "name": "stdout",
     "output_type": "stream",
     "text": [
      "11710893\n",
      " 10click 1/2 complete\n",
      " 22click 2/2 complete\n",
      "11710893 780 780\n"
     ]
    },
    {
     "name": "stderr",
     "output_type": "stream",
     "text": [
      " 68%|██████▊   | 273/400 [7:39:03<1:48:42, 51.36s/it]"
     ]
    },
    {
     "name": "stdout",
     "output_type": "stream",
     "text": [
      "34006990\n",
      " 5click 1/2 complete\n",
      " 12click 2/2 complete\n",
      "34006990 282 282\n"
     ]
    },
    {
     "name": "stderr",
     "output_type": "stream",
     "text": [
      " 68%|██████▊   | 274/400 [7:39:34<1:35:05, 45.28s/it]"
     ]
    },
    {
     "name": "stdout",
     "output_type": "stream",
     "text": [
      "812869774\n",
      " 10click 1/2 complete\n",
      " 15click 2/2 complete\n",
      "812869774 455 455\n"
     ]
    },
    {
     "name": "stderr",
     "output_type": "stream",
     "text": [
      " 69%|██████▉   | 275/400 [7:40:25<1:38:04, 47.08s/it]"
     ]
    },
    {
     "name": "stdout",
     "output_type": "stream",
     "text": [
      "37278410\n",
      " 3click 1/2 complete\n",
      " 9click 2/2 complete\n",
      "37278410 174 174\n"
     ]
    },
    {
     "name": "stderr",
     "output_type": "stream",
     "text": [
      " 69%|██████▉   | 276/400 [7:40:48<1:22:30, 39.92s/it]"
     ]
    },
    {
     "name": "stdout",
     "output_type": "stream",
     "text": [
      "13330315\n",
      " 2click 1/2 complete\n",
      " 7click 2/2 complete\n",
      "13330315 121 121\n"
     ]
    },
    {
     "name": "stderr",
     "output_type": "stream",
     "text": [
      " 69%|██████▉   | 277/400 [7:41:07<1:08:56, 33.63s/it]"
     ]
    },
    {
     "name": "stdout",
     "output_type": "stream",
     "text": [
      "1148488047\n",
      " 12click 1/2 complete\n",
      " 24click 2/2 complete\n",
      "1148488047 884 884\n"
     ]
    },
    {
     "name": "stderr",
     "output_type": "stream",
     "text": [
      " 70%|██████▉   | 278/400 [7:42:38<1:43:18, 50.81s/it]"
     ]
    },
    {
     "name": "stdout",
     "output_type": "stream",
     "text": [
      "13505971\n",
      " 6click 1/2 complete\n",
      " 17click 2/2 complete\n",
      "13505971 544 544\n"
     ]
    },
    {
     "name": "stderr",
     "output_type": "stream",
     "text": [
      " 70%|██████▉   | 279/400 [7:43:29<1:42:37, 50.89s/it]"
     ]
    },
    {
     "name": "stdout",
     "output_type": "stream",
     "text": [
      "1204470192\n",
      " 13click 1/2 complete\n",
      " 23click 2/2 complete\n",
      "1204470192 830 830\n"
     ]
    },
    {
     "name": "stderr",
     "output_type": "stream",
     "text": [
      " 70%|███████   | 280/400 [7:44:57<2:03:47, 61.89s/it]"
     ]
    },
    {
     "name": "stdout",
     "output_type": "stream",
     "text": [
      "107633518\n",
      " 10click 1/2 complete\n",
      " 15click 2/2 complete\n"
     ]
    },
    {
     "name": "stderr",
     "output_type": "stream",
     "text": [
      " 70%|███████   | 281/400 [7:45:45<1:54:47, 57.88s/it]"
     ]
    },
    {
     "name": "stdout",
     "output_type": "stream",
     "text": [
      "1374995918\n",
      " 13click 1/2 complete\n",
      " 23click 2/2 complete\n",
      "1374995918 847 847\n"
     ]
    },
    {
     "name": "stderr",
     "output_type": "stream",
     "text": [
      " 70%|███████   | 282/400 [7:47:11<2:10:29, 66.35s/it]"
     ]
    },
    {
     "name": "stdout",
     "output_type": "stream",
     "text": [
      "1080987735\n",
      " 11click 1/2 complete\n",
      " 24click 2/2 complete\n",
      "1080987735 888 888\n"
     ]
    },
    {
     "name": "stderr",
     "output_type": "stream",
     "text": [
      " 71%|███████   | 283/400 [7:48:39<2:21:52, 72.76s/it]"
     ]
    },
    {
     "name": "stdout",
     "output_type": "stream",
     "text": [
      "42783747\n",
      " 4click 1/2 complete\n",
      " 9click 2/2 complete\n",
      "42783747 188 188\n"
     ]
    },
    {
     "name": "stderr",
     "output_type": "stream",
     "text": [
      " 71%|███████   | 284/400 [7:49:02<1:52:06, 57.99s/it]"
     ]
    },
    {
     "name": "stdout",
     "output_type": "stream",
     "text": [
      "1232387490\n",
      " 6click 1/2 complete\n",
      " 13click 2/2 complete\n",
      "1232387490 302 302\n"
     ]
    },
    {
     "name": "stderr",
     "output_type": "stream",
     "text": [
      " 71%|███████▏  | 285/400 [7:49:36<1:37:07, 50.68s/it]"
     ]
    },
    {
     "name": "stdout",
     "output_type": "stream",
     "text": [
      "38252334\n",
      " 16click 1/2 complete\n",
      " 28click 2/2 complete\n",
      "38252334 1268 1268\n"
     ]
    },
    {
     "name": "stderr",
     "output_type": "stream",
     "text": [
      " 72%|███████▏  | 286/400 [7:52:05<2:32:25, 80.22s/it]"
     ]
    },
    {
     "name": "stdout",
     "output_type": "stream",
     "text": [
      "1591617232\n",
      " 14click 1/2 complete\n",
      " 21click 2/2 complete\n",
      "1591617232 824 824\n"
     ]
    },
    {
     "name": "stderr",
     "output_type": "stream",
     "text": [
      " 72%|███████▏  | 287/400 [7:53:39<2:38:59, 84.42s/it]"
     ]
    },
    {
     "name": "stdout",
     "output_type": "stream",
     "text": [
      "13410427\n",
      " 8click 1/2 complete\n",
      " 16click 2/2 complete\n",
      "13410427 437 437\n"
     ]
    },
    {
     "name": "stderr",
     "output_type": "stream",
     "text": [
      " 72%|███████▏  | 288/400 [7:54:23<2:14:30, 72.06s/it]"
     ]
    },
    {
     "name": "stdout",
     "output_type": "stream",
     "text": [
      "1649170201\n",
      " 6click 1/2 complete\n",
      " 14click 2/2 complete\n",
      "1649170201 361 361\n"
     ]
    },
    {
     "name": "stderr",
     "output_type": "stream",
     "text": [
      " 72%|███████▏  | 289/400 [7:55:01<1:54:32, 61.92s/it]"
     ]
    },
    {
     "name": "stdout",
     "output_type": "stream",
     "text": [
      "20601213\n",
      "click 1/2 complete\n",
      "click 2/2 complete\n",
      "20601213 14 14\n"
     ]
    },
    {
     "name": "stderr",
     "output_type": "stream",
     "text": [
      " 72%|███████▎  | 290/400 [7:55:13<1:25:58, 46.90s/it]"
     ]
    },
    {
     "name": "stdout",
     "output_type": "stream",
     "text": [
      "1601317880\n",
      " 18click 1/2 complete\n",
      " 25click 2/2 complete\n",
      "1601317880 1137 1137\n"
     ]
    },
    {
     "name": "stderr",
     "output_type": "stream",
     "text": [
      " 73%|███████▎  | 291/400 [7:57:30<2:14:35, 74.09s/it]"
     ]
    },
    {
     "name": "stdout",
     "output_type": "stream",
     "text": [
      "1216618207\n",
      " 5click 1/2 complete\n",
      " 12click 2/2 complete\n",
      "1216618207 268 268\n"
     ]
    },
    {
     "name": "stderr",
     "output_type": "stream",
     "text": [
      " 73%|███████▎  | 292/400 [7:58:01<1:50:03, 61.14s/it]"
     ]
    },
    {
     "name": "stdout",
     "output_type": "stream",
     "text": [
      "164280595\n",
      " 14click 1/2 complete\n",
      " 22click 2/2 complete\n",
      "164280595 854 854\n"
     ]
    },
    {
     "name": "stderr",
     "output_type": "stream",
     "text": [
      " 73%|███████▎  | 293/400 [7:59:31<2:04:36, 69.87s/it]"
     ]
    },
    {
     "name": "stdout",
     "output_type": "stream",
     "text": [
      "1961194724\n",
      " 6click 1/2 complete\n",
      " 11click 2/2 complete\n",
      "1961194724 255 255\n"
     ]
    },
    {
     "name": "stderr",
     "output_type": "stream",
     "text": [
      " 74%|███████▎  | 294/400 [8:00:01<1:42:13, 57.86s/it]"
     ]
    },
    {
     "name": "stdout",
     "output_type": "stream",
     "text": [
      "36470412\n",
      " 8click 1/2 complete\n",
      " 19click 2/2 complete\n",
      "36470412 596 596\n"
     ]
    },
    {
     "name": "stderr",
     "output_type": "stream",
     "text": [
      " 74%|███████▍  | 295/400 [8:00:59<1:41:11, 57.82s/it]"
     ]
    },
    {
     "name": "stdout",
     "output_type": "stream",
     "text": [
      "1351592138\n",
      " 10click 1/2 complete\n",
      " 14click 2/2 complete\n",
      "1351592138 397 397\n"
     ]
    },
    {
     "name": "stderr",
     "output_type": "stream",
     "text": [
      " 74%|███████▍  | 296/400 [8:01:49<1:36:15, 55.53s/it]"
     ]
    },
    {
     "name": "stdout",
     "output_type": "stream",
     "text": [
      "11600048\n",
      " 9click 1/2 complete\n",
      " 14click 2/2 complete\n",
      "11600048 396 396\n"
     ]
    },
    {
     "name": "stderr",
     "output_type": "stream",
     "text": [
      " 74%|███████▍  | 297/400 [8:02:35<1:30:24, 52.67s/it]"
     ]
    },
    {
     "name": "stdout",
     "output_type": "stream",
     "text": [
      "1544449209\n",
      " 9click 1/2 complete\n",
      " 12click 2/2 complete\n",
      "1544449209 320 320\n"
     ]
    },
    {
     "name": "stderr",
     "output_type": "stream",
     "text": [
      " 74%|███████▍  | 298/400 [8:03:13<1:21:59, 48.23s/it]"
     ]
    },
    {
     "name": "stdout",
     "output_type": "stream",
     "text": [
      "1127421435\n",
      " 5click 1/2 complete\n",
      " 10click 2/2 complete\n",
      "1127421435 202 202\n"
     ]
    },
    {
     "name": "stderr",
     "output_type": "stream",
     "text": [
      " 75%|███████▍  | 299/400 [8:03:39<1:09:45, 41.44s/it]"
     ]
    },
    {
     "name": "stdout",
     "output_type": "stream",
     "text": [
      "38232881\n",
      " 10click 1/2 complete\n",
      " 18click 2/2 complete\n",
      "38232881 558 558\n"
     ]
    },
    {
     "name": "stderr",
     "output_type": "stream",
     "text": [
      " 75%|███████▌  | 300/400 [8:04:38<1:18:05, 46.86s/it]"
     ]
    },
    {
     "name": "stdout",
     "output_type": "stream",
     "text": [
      "1587528278\n",
      " 8click 1/2 complete\n",
      " 12click 2/2 complete\n",
      "1587528278 309 309\n"
     ]
    },
    {
     "name": "stderr",
     "output_type": "stream",
     "text": [
      " 75%|███████▌  | 301/400 [8:05:18<1:13:48, 44.73s/it]"
     ]
    },
    {
     "name": "stdout",
     "output_type": "stream",
     "text": [
      "1464999012\n",
      " 5click 1/2 complete\n",
      " 8click 2/2 complete\n",
      "1464999012 175 175\n"
     ]
    },
    {
     "name": "stderr",
     "output_type": "stream",
     "text": [
      " 76%|███████▌  | 302/400 [8:05:43<1:03:20, 38.78s/it]"
     ]
    },
    {
     "name": "stdout",
     "output_type": "stream",
     "text": [
      "1372829918\n",
      " 5click 1/2 complete\n",
      " 9click 2/2 complete\n",
      "1372829918 191 191\n"
     ]
    },
    {
     "name": "stderr",
     "output_type": "stream",
     "text": [
      " 76%|███████▌  | 303/400 [8:06:09<56:20, 34.85s/it]  "
     ]
    },
    {
     "name": "stdout",
     "output_type": "stream",
     "text": [
      "21362277\n",
      " 9click 1/2 complete\n",
      " 16click 2/2 complete\n",
      "21362277 442 442\n"
     ]
    },
    {
     "name": "stderr",
     "output_type": "stream",
     "text": [
      " 76%|███████▌  | 304/400 [8:06:56<1:01:42, 38.57s/it]"
     ]
    },
    {
     "name": "stdout",
     "output_type": "stream",
     "text": [
      "1609486868\n",
      " 7click 1/2 complete\n",
      " 12click 2/2 complete\n",
      "1609486868 257 257\n"
     ]
    },
    {
     "name": "stderr",
     "output_type": "stream",
     "text": [
      " 76%|███████▋  | 305/400 [8:07:27<57:43, 36.45s/it]  "
     ]
    },
    {
     "name": "stdout",
     "output_type": "stream",
     "text": [
      "1809466236\n",
      " 7click 1/2 complete\n",
      " 14click 2/2 complete\n",
      "1809466236 332 332\n"
     ]
    },
    {
     "name": "stderr",
     "output_type": "stream",
     "text": [
      " 76%|███████▋  | 306/400 [8:08:04<57:05, 36.44s/it]"
     ]
    },
    {
     "name": "stdout",
     "output_type": "stream",
     "text": [
      "20881962\n",
      " 3click 1/2 complete\n",
      " 9click 2/2 complete\n",
      "20881962 160 160\n"
     ]
    },
    {
     "name": "stderr",
     "output_type": "stream",
     "text": [
      " 77%|███████▋  | 307/400 [8:08:26<50:06, 32.33s/it]"
     ]
    },
    {
     "name": "stdout",
     "output_type": "stream",
     "text": [
      "1716622269\n",
      " 7click 1/2 complete\n",
      "click 2/2 complete\n",
      "1716622269 195 195\n"
     ]
    },
    {
     "name": "stderr",
     "output_type": "stream",
     "text": [
      " 77%|███████▋  | 308/400 [8:08:56<48:08, 31.40s/it]"
     ]
    },
    {
     "name": "stdout",
     "output_type": "stream",
     "text": [
      "1554402024\n",
      " 2click 1/2 complete\n",
      " 3click 2/2 complete\n",
      "1554402024 60 60\n"
     ]
    },
    {
     "name": "stderr",
     "output_type": "stream",
     "text": [
      " 77%|███████▋  | 309/400 [8:09:11<40:26, 26.66s/it]"
     ]
    },
    {
     "name": "stdout",
     "output_type": "stream",
     "text": [
      "20798498\n",
      " 10click 1/2 complete\n",
      " 14click 2/2 complete\n",
      "20798498 449 449\n"
     ]
    },
    {
     "name": "stderr",
     "output_type": "stream",
     "text": [
      " 78%|███████▊  | 310/400 [8:10:01<50:29, 33.66s/it]"
     ]
    },
    {
     "name": "stdout",
     "output_type": "stream",
     "text": [
      "1623822620\n",
      " 5click 1/2 complete\n",
      " 8click 2/2 complete\n",
      "1623822620 163 163\n"
     ]
    },
    {
     "name": "stderr",
     "output_type": "stream",
     "text": [
      " 78%|███████▊  | 311/400 [8:10:24<45:12, 30.47s/it]"
     ]
    },
    {
     "name": "stdout",
     "output_type": "stream",
     "text": [
      "1985529752\n",
      " 6click 1/2 complete\n",
      " 12click 2/2 complete\n",
      "1985529752 310 310\n"
     ]
    },
    {
     "name": "stderr",
     "output_type": "stream",
     "text": [
      " 78%|███████▊  | 312/400 [8:10:59<46:25, 31.65s/it]"
     ]
    },
    {
     "name": "stdout",
     "output_type": "stream",
     "text": [
      "32613811\n",
      " 5click 1/2 complete\n",
      " 11click 2/2 complete\n",
      "32613811 237 237\n"
     ]
    },
    {
     "name": "stderr",
     "output_type": "stream",
     "text": [
      " 78%|███████▊  | 313/400 [8:11:26<44:02, 30.37s/it]"
     ]
    },
    {
     "name": "stdout",
     "output_type": "stream",
     "text": [
      "38555222\n",
      " 11click 1/2 complete\n",
      " 24click 2/2 complete\n",
      "38555222 904 904\n"
     ]
    },
    {
     "name": "stderr",
     "output_type": "stream",
     "text": [
      " 78%|███████▊  | 314/400 [8:12:55<1:08:33, 47.84s/it]"
     ]
    },
    {
     "name": "stdout",
     "output_type": "stream",
     "text": [
      "1702628561\n",
      " 3click 1/2 complete\n",
      " 6click 2/2 complete\n",
      "1702628561 111 111\n"
     ]
    },
    {
     "name": "stderr",
     "output_type": "stream",
     "text": [
      " 79%|███████▉  | 315/400 [8:13:14<55:38, 39.27s/it]  "
     ]
    },
    {
     "name": "stdout",
     "output_type": "stream",
     "text": [
      "1637343292\n",
      " 7click 1/2 complete\n",
      " 15click 2/2 complete\n",
      "1637343292 370 370\n"
     ]
    },
    {
     "name": "stderr",
     "output_type": "stream",
     "text": [
      " 79%|███████▉  | 316/400 [8:13:51<54:14, 38.74s/it]"
     ]
    },
    {
     "name": "stdout",
     "output_type": "stream",
     "text": [
      "31564452\n",
      " 7click 1/2 complete\n",
      " 18click 2/2 complete\n",
      "31564452 512 512\n"
     ]
    },
    {
     "name": "stderr",
     "output_type": "stream",
     "text": [
      " 79%|███████▉  | 317/400 [8:14:42<58:17, 42.13s/it]"
     ]
    },
    {
     "name": "stdout",
     "output_type": "stream",
     "text": [
      "37997384\n",
      " 6click 1/2 complete\n",
      " 13click 2/2 complete\n",
      "37997384 334 334\n"
     ]
    },
    {
     "name": "stderr",
     "output_type": "stream",
     "text": [
      " 80%|███████▉  | 318/400 [8:15:16<54:32, 39.91s/it]"
     ]
    },
    {
     "name": "stdout",
     "output_type": "stream",
     "text": [
      "1482078310\n",
      " 0click 1/2 complete\n",
      " 2click 2/2 complete\n",
      "1482078310 24 24\n"
     ]
    },
    {
     "name": "stderr",
     "output_type": "stream",
     "text": [
      " 80%|███████▉  | 319/400 [8:15:30<43:15, 32.05s/it]"
     ]
    },
    {
     "name": "stdout",
     "output_type": "stream",
     "text": [
      "1203544176\n",
      " 8click 1/2 complete\n",
      " 12click 2/2 complete\n",
      "1203544176 311 311\n"
     ]
    },
    {
     "name": "stderr",
     "output_type": "stream",
     "text": [
      " 80%|████████  | 320/400 [8:16:09<45:23, 34.04s/it]"
     ]
    },
    {
     "name": "stdout",
     "output_type": "stream",
     "text": [
      "1177888625\n",
      " 11click 1/2 complete\n",
      " 26click 2/2 complete\n",
      "1177888625 1034 1034\n"
     ]
    },
    {
     "name": "stderr",
     "output_type": "stream",
     "text": [
      " 80%|████████  | 321/400 [8:17:52<1:12:03, 54.73s/it]"
     ]
    },
    {
     "name": "stdout",
     "output_type": "stream",
     "text": [
      "965725656\n",
      " 4click 1/2 complete\n",
      " 8click 2/2 complete\n",
      "965725656 169 169\n"
     ]
    },
    {
     "name": "stderr",
     "output_type": "stream",
     "text": [
      " 80%|████████  | 322/400 [8:18:15<58:47, 45.23s/it]  "
     ]
    },
    {
     "name": "stdout",
     "output_type": "stream",
     "text": [
      "19882368\n",
      " 8click 1/2 complete\n",
      " 18click 2/2 complete\n",
      "19882368 570 570\n"
     ]
    },
    {
     "name": "stderr",
     "output_type": "stream",
     "text": [
      " 81%|████████  | 323/400 [8:19:08<1:01:07, 47.64s/it]"
     ]
    },
    {
     "name": "stdout",
     "output_type": "stream",
     "text": [
      "38327984\n",
      " 11click 1/2 complete\n",
      " 23click 2/2 complete\n",
      "38327984 790 790\n"
     ]
    },
    {
     "name": "stderr",
     "output_type": "stream",
     "text": [
      " 81%|████████  | 324/400 [8:20:29<1:12:55, 57.58s/it]"
     ]
    },
    {
     "name": "stdout",
     "output_type": "stream",
     "text": [
      "1159616641\n",
      " 2click 1/2 complete\n",
      "click 2/2 complete\n",
      "1159616641 34 34\n"
     ]
    },
    {
     "name": "stderr",
     "output_type": "stream",
     "text": [
      " 81%|████████▏ | 325/400 [8:20:44<56:15, 45.00s/it]  "
     ]
    },
    {
     "name": "stdout",
     "output_type": "stream",
     "text": [
      "1325798341\n",
      " 4click 1/2 complete\n",
      " 7click 2/2 complete\n",
      "1325798341 104 104\n"
     ]
    },
    {
     "name": "stderr",
     "output_type": "stream",
     "text": [
      " 82%|████████▏ | 326/400 [8:21:06<46:41, 37.86s/it]"
     ]
    },
    {
     "name": "stdout",
     "output_type": "stream",
     "text": [
      "1851080812\n",
      " 8click 1/2 complete\n",
      " 11click 2/2 complete\n",
      "1851080812 262 262\n"
     ]
    },
    {
     "name": "stderr",
     "output_type": "stream",
     "text": [
      " 82%|████████▏ | 327/400 [8:21:40<44:52, 36.88s/it]"
     ]
    },
    {
     "name": "stdout",
     "output_type": "stream",
     "text": [
      "20631387\n",
      " 8click 1/2 complete\n",
      " 20click 2/2 complete\n",
      "20631387 642 642\n"
     ]
    },
    {
     "name": "stderr",
     "output_type": "stream",
     "text": [
      " 82%|████████▏ | 328/400 [8:22:39<52:07, 43.44s/it]"
     ]
    },
    {
     "name": "stdout",
     "output_type": "stream",
     "text": [
      "1150149691\n",
      " 10click 1/2 complete\n",
      " 21click 2/2 complete\n",
      "1150149691 737 737\n"
     ]
    },
    {
     "name": "stderr",
     "output_type": "stream",
     "text": [
      " 82%|████████▏ | 329/400 [8:23:48<1:00:34, 51.19s/it]"
     ]
    },
    {
     "name": "stdout",
     "output_type": "stream",
     "text": [
      "1169550040\n",
      " 3click 1/2 complete\n",
      " 4click 2/2 complete\n",
      "1169550040 88 88\n"
     ]
    },
    {
     "name": "stderr",
     "output_type": "stream",
     "text": [
      " 82%|████████▎ | 330/400 [8:24:07<48:14, 41.35s/it]  "
     ]
    },
    {
     "name": "stdout",
     "output_type": "stream",
     "text": [
      "38654935\n",
      " 5click 1/2 complete\n",
      " 12click 2/2 complete\n",
      "38654935 254 254\n"
     ]
    },
    {
     "name": "stderr",
     "output_type": "stream",
     "text": [
      " 83%|████████▎ | 331/400 [8:24:36<43:23, 37.73s/it]"
     ]
    },
    {
     "name": "stdout",
     "output_type": "stream",
     "text": [
      "1581253302\n",
      " 1click 1/2 complete\n",
      " 2click 2/2 complete\n",
      "1581253302 45 45\n"
     ]
    },
    {
     "name": "stderr",
     "output_type": "stream",
     "text": [
      " 83%|████████▎ | 332/400 [8:24:51<34:55, 30.81s/it]"
     ]
    },
    {
     "name": "stdout",
     "output_type": "stream",
     "text": [
      "1365049906\n",
      " 7click 1/2 complete\n",
      " 14click 2/2 complete\n",
      "1365049906 347 347\n"
     ]
    },
    {
     "name": "stderr",
     "output_type": "stream",
     "text": [
      " 83%|████████▎ | 333/400 [8:25:26<35:58, 32.22s/it]"
     ]
    },
    {
     "name": "stdout",
     "output_type": "stream",
     "text": [
      "1045786490\n",
      " 5click 1/2 complete\n",
      " 10click 2/2 complete\n",
      "1045786490 193 193\n"
     ]
    },
    {
     "name": "stderr",
     "output_type": "stream",
     "text": [
      " 84%|████████▎ | 334/400 [8:25:52<33:24, 30.37s/it]"
     ]
    },
    {
     "name": "stdout",
     "output_type": "stream",
     "text": [
      "1324576148\n",
      " 5click 1/2 complete\n",
      "click 2/2 complete\n",
      "1324576148 111 111\n"
     ]
    },
    {
     "name": "stderr",
     "output_type": "stream",
     "text": [
      " 84%|████████▍ | 335/400 [8:26:13<29:52, 27.57s/it]"
     ]
    },
    {
     "name": "stdout",
     "output_type": "stream",
     "text": [
      "1742195691\n",
      " 3click 1/2 complete\n",
      " 5click 2/2 complete\n",
      "1742195691 75 75\n"
     ]
    },
    {
     "name": "stderr",
     "output_type": "stream",
     "text": [
      " 84%|████████▍ | 336/400 [8:26:31<26:09, 24.52s/it]"
     ]
    },
    {
     "name": "stdout",
     "output_type": "stream",
     "text": [
      "34249769\n",
      " 13click 1/2 complete\n",
      " 18click 2/2 complete\n",
      "34249769 680 680\n"
     ]
    },
    {
     "name": "stderr",
     "output_type": "stream",
     "text": [
      " 84%|████████▍ | 337/400 [8:27:46<41:48, 39.82s/it]"
     ]
    },
    {
     "name": "stdout",
     "output_type": "stream",
     "text": [
      "32602513\n",
      " 7click 1/2 complete\n",
      " 16click 2/2 complete\n",
      "32602513 458 458\n"
     ]
    },
    {
     "name": "stderr",
     "output_type": "stream",
     "text": [
      " 84%|████████▍ | 338/400 [8:28:30<42:17, 40.93s/it]"
     ]
    },
    {
     "name": "stdout",
     "output_type": "stream",
     "text": [
      "472172486\n",
      " 6click 1/2 complete\n",
      " 9click 2/2 complete\n",
      "472172486 171 171\n"
     ]
    },
    {
     "name": "stderr",
     "output_type": "stream",
     "text": [
      " 85%|████████▍ | 339/400 [8:28:55<36:55, 36.33s/it]"
     ]
    },
    {
     "name": "stdout",
     "output_type": "stream",
     "text": [
      "1150520764\n",
      " 2click 1/2 complete\n",
      " 4click 2/2 complete\n",
      "1150520764 71 71\n"
     ]
    },
    {
     "name": "stderr",
     "output_type": "stream",
     "text": [
      " 85%|████████▌ | 340/400 [8:29:12<30:22, 30.37s/it]"
     ]
    },
    {
     "name": "stdout",
     "output_type": "stream",
     "text": [
      "13517177\n",
      " 5click 1/2 complete\n",
      " 12click 2/2 complete\n",
      "13517177 290 290\n"
     ]
    },
    {
     "name": "stderr",
     "output_type": "stream",
     "text": [
      " 85%|████████▌ | 341/400 [8:29:43<30:04, 30.59s/it]"
     ]
    },
    {
     "name": "stdout",
     "output_type": "stream",
     "text": [
      "37867681\n",
      " 17click 1/2 complete\n",
      " 45click 2/2 complete\n",
      "37867681 3500 3500\n"
     ]
    },
    {
     "name": "stderr",
     "output_type": "stream",
     "text": [
      " 86%|████████▌ | 342/400 [8:37:07<2:29:24, 154.55s/it]"
     ]
    },
    {
     "name": "stdout",
     "output_type": "stream",
     "text": [
      "11818472\n",
      " 5click 1/2 complete\n",
      " 14click 2/2 complete\n",
      "11818472 382 382\n"
     ]
    },
    {
     "name": "stderr",
     "output_type": "stream",
     "text": [
      " 86%|████████▌ | 343/400 [8:37:45<1:53:36, 119.59s/it]"
     ]
    },
    {
     "name": "stdout",
     "output_type": "stream",
     "text": [
      "1032109304\n",
      " 4click 1/2 complete\n",
      " 5click 2/2 complete\n",
      "1032109304 108 108\n"
     ]
    },
    {
     "name": "stderr",
     "output_type": "stream",
     "text": [
      " 86%|████████▌ | 344/400 [8:38:07<1:24:28, 90.51s/it] "
     ]
    },
    {
     "name": "stdout",
     "output_type": "stream",
     "text": [
      "1896940114\n",
      " 7click 1/2 complete\n",
      " 15click 2/2 complete\n",
      "1896940114 414 414\n"
     ]
    },
    {
     "name": "stderr",
     "output_type": "stream",
     "text": [
      " 86%|████████▋ | 345/400 [8:38:48<1:09:17, 75.59s/it]"
     ]
    },
    {
     "name": "stdout",
     "output_type": "stream",
     "text": [
      "1070527862\n",
      " 6click 1/2 complete\n",
      " 14click 2/2 complete\n",
      "1070527862 319 319\n"
     ]
    },
    {
     "name": "stderr",
     "output_type": "stream",
     "text": [
      " 86%|████████▋ | 346/400 [8:39:24<57:19, 63.70s/it]  "
     ]
    },
    {
     "name": "stdout",
     "output_type": "stream",
     "text": [
      "33879353\n",
      " 8click 1/2 complete\n",
      " 18click 2/2 complete\n",
      "33879353 528 528\n"
     ]
    },
    {
     "name": "stderr",
     "output_type": "stream",
     "text": [
      " 87%|████████▋ | 347/400 [8:40:16<53:07, 60.14s/it]"
     ]
    },
    {
     "name": "stdout",
     "output_type": "stream",
     "text": [
      "1613219033\n",
      " 5click 1/2 complete\n",
      " 7click 2/2 complete\n",
      "1613219033 125 125\n"
     ]
    },
    {
     "name": "stderr",
     "output_type": "stream",
     "text": [
      " 87%|████████▋ | 348/400 [8:40:39<42:24, 48.94s/it]"
     ]
    },
    {
     "name": "stdout",
     "output_type": "stream",
     "text": [
      "1526748736\n",
      " 8click 1/2 complete\n",
      " 13click 2/2 complete\n",
      "1526748736 388 388\n"
     ]
    },
    {
     "name": "stderr",
     "output_type": "stream",
     "text": [
      " 87%|████████▋ | 349/400 [8:41:21<39:54, 46.94s/it]"
     ]
    },
    {
     "name": "stdout",
     "output_type": "stream",
     "text": [
      "37996835\n",
      " 10click 1/2 complete\n",
      " 21click 2/2 complete\n",
      "37996835 728 728\n"
     ]
    },
    {
     "name": "stderr",
     "output_type": "stream",
     "text": [
      " 88%|████████▊ | 350/400 [8:42:32<45:08, 54.17s/it]"
     ]
    },
    {
     "name": "stdout",
     "output_type": "stream",
     "text": [
      "18518437\n",
      " 4click 1/2 complete\n",
      " 9click 2/2 complete\n",
      "18518437 202 202\n"
     ]
    },
    {
     "name": "stderr",
     "output_type": "stream",
     "text": [
      " 88%|████████▊ | 351/400 [8:42:57<37:02, 45.35s/it]"
     ]
    },
    {
     "name": "stdout",
     "output_type": "stream",
     "text": [
      "10976693\n",
      " 6click 1/2 complete\n",
      " 16click 2/2 complete\n",
      "10976693 424 424\n"
     ]
    },
    {
     "name": "stderr",
     "output_type": "stream",
     "text": [
      " 88%|████████▊ | 352/400 [8:43:38<35:15, 44.08s/it]"
     ]
    },
    {
     "name": "stdout",
     "output_type": "stream",
     "text": [
      "1240960957\n",
      " 0click 1/2 complete\n",
      " 3click 2/2 complete\n",
      "1240960957 46 46\n"
     ]
    },
    {
     "name": "stderr",
     "output_type": "stream",
     "text": [
      " 88%|████████▊ | 353/400 [8:43:53<27:41, 35.34s/it]"
     ]
    },
    {
     "name": "stdout",
     "output_type": "stream",
     "text": [
      "1828224291\n",
      " 9click 1/2 complete\n",
      " 11click 2/2 complete\n",
      "1828224291 363 363\n"
     ]
    },
    {
     "name": "stderr",
     "output_type": "stream",
     "text": [
      " 88%|████████▊ | 354/400 [8:44:38<29:29, 38.47s/it]"
     ]
    },
    {
     "name": "stdout",
     "output_type": "stream",
     "text": [
      "32308138\n",
      " 4click 1/2 complete\n",
      " 11click 2/2 complete\n",
      "32308138 243 243\n"
     ]
    },
    {
     "name": "stderr",
     "output_type": "stream",
     "text": [
      " 89%|████████▉ | 355/400 [8:45:07<26:30, 35.35s/it]"
     ]
    },
    {
     "name": "stdout",
     "output_type": "stream",
     "text": [
      "1001683359\n",
      " 10click 1/2 complete\n",
      " 14click 2/2 complete\n",
      "1001683359 354 354\n"
     ]
    },
    {
     "name": "stderr",
     "output_type": "stream",
     "text": [
      " 89%|████████▉ | 356/400 [8:45:51<27:53, 38.02s/it]"
     ]
    },
    {
     "name": "stdout",
     "output_type": "stream",
     "text": [
      "1051121579\n",
      " 2click 1/2 complete\n",
      " 3click 2/2 complete\n",
      "1051121579 59 59\n"
     ]
    },
    {
     "name": "stderr",
     "output_type": "stream",
     "text": [
      " 89%|████████▉ | 357/400 [8:46:06<22:25, 31.30s/it]"
     ]
    },
    {
     "name": "stdout",
     "output_type": "stream",
     "text": [
      "31168837\n",
      " 2click 1/2 complete\n",
      " 7click 2/2 complete\n",
      "31168837 111 111\n"
     ]
    },
    {
     "name": "stderr",
     "output_type": "stream",
     "text": [
      " 90%|████████▉ | 358/400 [8:46:26<19:24, 27.72s/it]"
     ]
    },
    {
     "name": "stdout",
     "output_type": "stream",
     "text": [
      "1840458024\n",
      " 4click 1/2 complete\n",
      " 10click 2/2 complete\n",
      "1840458024 215 215\n"
     ]
    },
    {
     "name": "stderr",
     "output_type": "stream",
     "text": [
      " 90%|████████▉ | 359/400 [8:46:52<18:33, 27.17s/it]"
     ]
    },
    {
     "name": "stdout",
     "output_type": "stream",
     "text": [
      "20132822\n",
      " 5click 1/2 complete\n",
      " 13click 2/2 complete\n",
      "20132822 332 332\n"
     ]
    },
    {
     "name": "stderr",
     "output_type": "stream",
     "text": [
      " 90%|█████████ | 360/400 [8:47:25<19:26, 29.16s/it]"
     ]
    },
    {
     "name": "stdout",
     "output_type": "stream",
     "text": [
      "1945446361\n",
      " 7click 1/2 complete\n",
      "click 2/2 complete\n",
      "1945446361 199 199\n"
     ]
    },
    {
     "name": "stderr",
     "output_type": "stream",
     "text": [
      " 90%|█████████ | 361/400 [8:47:56<19:13, 29.59s/it]"
     ]
    },
    {
     "name": "stdout",
     "output_type": "stream",
     "text": [
      "741700898\n",
      " 4click 1/2 complete\n",
      " 7click 2/2 complete\n",
      "741700898 117 117\n"
     ]
    },
    {
     "name": "stderr",
     "output_type": "stream",
     "text": [
      " 90%|█████████ | 362/400 [8:48:17<17:03, 26.93s/it]"
     ]
    },
    {
     "name": "stdout",
     "output_type": "stream",
     "text": [
      "1458630035\n",
      " 2click 1/2 complete\n",
      " 5click 2/2 complete\n",
      "1458630035 83 83\n"
     ]
    },
    {
     "name": "stderr",
     "output_type": "stream",
     "text": [
      " 91%|█████████ | 363/400 [8:48:35<14:55, 24.20s/it]"
     ]
    },
    {
     "name": "stdout",
     "output_type": "stream",
     "text": [
      "1269345123\n",
      " 8click 1/2 complete\n",
      " 14click 2/2 complete\n",
      "1269345123 371 371\n"
     ]
    },
    {
     "name": "stderr",
     "output_type": "stream",
     "text": [
      " 91%|█████████ | 364/400 [8:49:15<17:29, 29.14s/it]"
     ]
    },
    {
     "name": "stdout",
     "output_type": "stream",
     "text": [
      "1899944311\n",
      " 9click 1/2 complete\n",
      " 17click 2/2 complete\n",
      "1899944311 476 476\n"
     ]
    },
    {
     "name": "stderr",
     "output_type": "stream",
     "text": [
      " 91%|█████████▏| 365/400 [8:50:04<20:28, 35.11s/it]"
     ]
    },
    {
     "name": "stdout",
     "output_type": "stream",
     "text": [
      "292501040\n",
      " 8click 1/2 complete\n",
      " 18click 2/2 complete\n",
      "292501040 530 530\n"
     ]
    },
    {
     "name": "stderr",
     "output_type": "stream",
     "text": [
      " 92%|█████████▏| 366/400 [8:50:55<22:31, 39.75s/it]"
     ]
    },
    {
     "name": "stdout",
     "output_type": "stream",
     "text": [
      "1705392665\n",
      " 5click 1/2 complete\n",
      " 6click 2/2 complete\n",
      "1705392665 142 142\n"
     ]
    },
    {
     "name": "stderr",
     "output_type": "stream",
     "text": [
      " 92%|█████████▏| 367/400 [8:51:17<18:54, 34.38s/it]"
     ]
    },
    {
     "name": "stdout",
     "output_type": "stream",
     "text": [
      "1737034074\n",
      " 9click 1/2 complete\n",
      " 20click 2/2 complete\n",
      "1737034074 645 645\n"
     ]
    },
    {
     "name": "stderr",
     "output_type": "stream",
     "text": [
      " 92%|█████████▏| 368/400 [8:52:20<22:55, 42.99s/it]"
     ]
    },
    {
     "name": "stdout",
     "output_type": "stream",
     "text": [
      "1754058199\n",
      " 3click 1/2 complete\n",
      " 7click 2/2 complete\n",
      "1754058199 127 127\n"
     ]
    },
    {
     "name": "stderr",
     "output_type": "stream",
     "text": [
      " 92%|█████████▏| 369/400 [8:52:40<18:41, 36.16s/it]"
     ]
    },
    {
     "name": "stdout",
     "output_type": "stream",
     "text": [
      "1432555498\n",
      " 2click 1/2 complete\n",
      " 6click 2/2 complete\n",
      "1432555498 107 107\n"
     ]
    },
    {
     "name": "stderr",
     "output_type": "stream",
     "text": [
      " 92%|█████████▎| 370/400 [8:52:58<15:20, 30.68s/it]"
     ]
    },
    {
     "name": "stdout",
     "output_type": "stream",
     "text": [
      "1961533564\n",
      " 7click 1/2 complete\n",
      " 15click 2/2 complete\n",
      "1961533564 401 401\n"
     ]
    },
    {
     "name": "stderr",
     "output_type": "stream",
     "text": [
      " 93%|█████████▎| 371/400 [8:53:39<16:23, 33.93s/it]"
     ]
    },
    {
     "name": "stdout",
     "output_type": "stream",
     "text": [
      "31744281\n",
      " 8click 1/2 complete\n",
      " 19click 2/2 complete\n",
      "31744281 575 575\n"
     ]
    },
    {
     "name": "stderr",
     "output_type": "stream",
     "text": [
      " 93%|█████████▎| 372/400 [8:54:36<18:56, 40.60s/it]"
     ]
    },
    {
     "name": "stdout",
     "output_type": "stream",
     "text": [
      "1182846928\n",
      " 7click 1/2 complete\n",
      " 16click 2/2 complete\n",
      "1182846928 425 425\n"
     ]
    },
    {
     "name": "stderr",
     "output_type": "stream",
     "text": [
      " 93%|█████████▎| 373/400 [8:55:17<18:20, 40.78s/it]"
     ]
    },
    {
     "name": "stdout",
     "output_type": "stream",
     "text": [
      "212256181\n",
      " 6click 1/2 complete\n",
      " 9click 2/2 complete\n",
      "212256181 173 173\n"
     ]
    },
    {
     "name": "stderr",
     "output_type": "stream",
     "text": [
      " 94%|█████████▎| 374/400 [8:55:43<15:43, 36.29s/it]"
     ]
    },
    {
     "name": "stdout",
     "output_type": "stream",
     "text": [
      "38269378\n",
      " 14click 1/2 complete\n",
      " 21click 2/2 complete\n",
      "38269378 717 717\n"
     ]
    },
    {
     "name": "stderr",
     "output_type": "stream",
     "text": [
      " 94%|█████████▍| 375/400 [8:57:01<20:19, 48.77s/it]"
     ]
    },
    {
     "name": "stdout",
     "output_type": "stream",
     "text": [
      "1462240358\n",
      " 2click 1/2 complete\n",
      "click 2/2 complete\n",
      "1462240358 52 52\n"
     ]
    },
    {
     "name": "stderr",
     "output_type": "stream",
     "text": [
      " 94%|█████████▍| 376/400 [8:57:16<15:29, 38.72s/it]"
     ]
    },
    {
     "name": "stdout",
     "output_type": "stream",
     "text": [
      "1228282259\n",
      " 5click 1/2 complete\n",
      " 6click 2/2 complete\n",
      "1228282259 120 120\n"
     ]
    },
    {
     "name": "stderr",
     "output_type": "stream",
     "text": [
      " 94%|█████████▍| 377/400 [8:57:37<12:50, 33.49s/it]"
     ]
    },
    {
     "name": "stdout",
     "output_type": "stream",
     "text": [
      "34646496\n",
      " 3click 1/2 complete\n",
      " 9click 2/2 complete\n",
      "34646496 171 171\n"
     ]
    },
    {
     "name": "stderr",
     "output_type": "stream",
     "text": [
      " 94%|█████████▍| 378/400 [8:58:00<11:07, 30.33s/it]"
     ]
    },
    {
     "name": "stdout",
     "output_type": "stream",
     "text": [
      "1871469872\n",
      "click 1/2 complete\n",
      " 0click 2/2 complete\n",
      "1871469872 22 22\n"
     ]
    },
    {
     "name": "stderr",
     "output_type": "stream",
     "text": [
      " 95%|█████████▍| 379/400 [8:58:13<08:49, 25.19s/it]"
     ]
    },
    {
     "name": "stdout",
     "output_type": "stream",
     "text": [
      "1331772122\n",
      " 4click 1/2 complete\n",
      " 9click 2/2 complete\n",
      "1331772122 158 158\n"
     ]
    },
    {
     "name": "stderr",
     "output_type": "stream",
     "text": [
      " 95%|█████████▌| 380/400 [8:58:35<08:02, 24.12s/it]"
     ]
    },
    {
     "name": "stdout",
     "output_type": "stream",
     "text": [
      "19867390\n",
      " 5click 1/2 complete\n",
      " 13click 2/2 complete\n",
      "19867390 350 350\n"
     ]
    },
    {
     "name": "stderr",
     "output_type": "stream",
     "text": [
      " 95%|█████████▌| 381/400 [8:59:08<08:30, 26.88s/it]"
     ]
    },
    {
     "name": "stdout",
     "output_type": "stream",
     "text": [
      "1415008843\n",
      " 3click 1/2 complete\n",
      " 8click 2/2 complete\n",
      "1415008843 172 172\n"
     ]
    },
    {
     "name": "stderr",
     "output_type": "stream",
     "text": [
      " 96%|█████████▌| 382/400 [8:59:31<07:41, 25.66s/it]"
     ]
    },
    {
     "name": "stdout",
     "output_type": "stream",
     "text": [
      "1066951526\n",
      " 4click 1/2 complete\n",
      " 6click 2/2 complete\n",
      "1066951526 103 103\n"
     ]
    },
    {
     "name": "stderr",
     "output_type": "stream",
     "text": [
      " 96%|█████████▌| 383/400 [8:59:51<06:47, 23.96s/it]"
     ]
    },
    {
     "name": "stdout",
     "output_type": "stream",
     "text": [
      "37420971\n",
      " 3click 1/2 complete\n",
      " 12click 2/2 complete\n",
      "37420971 308 308\n"
     ]
    },
    {
     "name": "stderr",
     "output_type": "stream",
     "text": [
      " 96%|█████████▌| 384/400 [9:00:22<06:56, 26.03s/it]"
     ]
    },
    {
     "name": "stdout",
     "output_type": "stream",
     "text": [
      "1286991991\n",
      " 3click 1/2 complete\n",
      " 7click 2/2 complete\n",
      "1286991991 105 105\n"
     ]
    },
    {
     "name": "stderr",
     "output_type": "stream",
     "text": [
      " 96%|█████████▋| 385/400 [9:00:41<05:59, 23.96s/it]"
     ]
    },
    {
     "name": "stdout",
     "output_type": "stream",
     "text": [
      "1365918313\n",
      " 8click 1/2 complete\n",
      " 10click 2/2 complete\n",
      "1365918313 284 284\n"
     ]
    },
    {
     "name": "stderr",
     "output_type": "stream",
     "text": [
      " 96%|█████████▋| 386/400 [9:01:22<06:45, 28.96s/it]"
     ]
    },
    {
     "name": "stdout",
     "output_type": "stream",
     "text": [
      "36084418\n",
      " 6click 1/2 complete\n",
      " 11click 2/2 complete\n",
      "36084418 216 216\n"
     ]
    },
    {
     "name": "stderr",
     "output_type": "stream",
     "text": [
      " 97%|█████████▋| 387/400 [9:01:49<06:09, 28.44s/it]"
     ]
    },
    {
     "name": "stdout",
     "output_type": "stream",
     "text": [
      "1712994319\n",
      " 6click 1/2 complete\n",
      " 9click 2/2 complete\n",
      "1712994319 199 199\n"
     ]
    },
    {
     "name": "stderr",
     "output_type": "stream",
     "text": [
      " 97%|█████████▋| 388/400 [9:02:17<05:40, 28.39s/it]"
     ]
    },
    {
     "name": "stdout",
     "output_type": "stream",
     "text": [
      "1664979789\n",
      " 8click 1/2 complete\n",
      " 15click 2/2 complete\n",
      "1664979789 374 374\n"
     ]
    },
    {
     "name": "stderr",
     "output_type": "stream",
     "text": [
      " 97%|█████████▋| 389/400 [9:03:00<05:59, 32.66s/it]"
     ]
    },
    {
     "name": "stdout",
     "output_type": "stream",
     "text": [
      "1842455561\n",
      " 2click 1/2 complete\n",
      " 6click 2/2 complete\n",
      "1842455561 100 100\n"
     ]
    },
    {
     "name": "stderr",
     "output_type": "stream",
     "text": [
      " 98%|█████████▊| 390/400 [9:03:18<04:44, 28.46s/it]"
     ]
    },
    {
     "name": "stdout",
     "output_type": "stream",
     "text": [
      "18557409\n",
      " 5click 1/2 complete\n",
      " 12click 2/2 complete\n",
      "18557409 284 284\n"
     ]
    },
    {
     "name": "stderr",
     "output_type": "stream",
     "text": [
      " 98%|█████████▊| 391/400 [9:03:48<04:19, 28.81s/it]"
     ]
    },
    {
     "name": "stdout",
     "output_type": "stream",
     "text": [
      "33077999\n",
      " 7click 1/2 complete\n",
      " 17click 2/2 complete\n",
      "33077999 537 537\n"
     ]
    },
    {
     "name": "stderr",
     "output_type": "stream",
     "text": [
      " 98%|█████████▊| 392/400 [9:04:38<04:40, 35.08s/it]"
     ]
    },
    {
     "name": "stdout",
     "output_type": "stream",
     "text": [
      "773592092\n",
      " 14click 1/2 complete\n",
      " 34click 2/2 complete\n",
      "773592092 1800 1800\n"
     ]
    },
    {
     "name": "stderr",
     "output_type": "stream",
     "text": [
      " 98%|█████████▊| 393/400 [9:08:02<10:00, 85.85s/it]"
     ]
    },
    {
     "name": "stdout",
     "output_type": "stream",
     "text": [
      "1565757485\n",
      " 9click 1/2 complete\n",
      " 14click 2/2 complete\n",
      "1565757485 364 364\n"
     ]
    },
    {
     "name": "stderr",
     "output_type": "stream",
     "text": [
      " 98%|█████████▊| 394/400 [9:08:43<07:14, 72.36s/it]"
     ]
    },
    {
     "name": "stdout",
     "output_type": "stream",
     "text": [
      "1511230577\n",
      " 3click 1/2 complete\n",
      " 6click 2/2 complete\n",
      "1511230577 117 117\n"
     ]
    },
    {
     "name": "stderr",
     "output_type": "stream",
     "text": [
      " 99%|█████████▉| 395/400 [9:09:03<04:43, 56.63s/it]"
     ]
    },
    {
     "name": "stdout",
     "output_type": "stream",
     "text": [
      "1641417468\n",
      "click 1/2 complete\n",
      "click 2/2 complete\n",
      "1641417468 11 11\n"
     ]
    },
    {
     "name": "stderr",
     "output_type": "stream",
     "text": [
      " 99%|█████████▉| 396/400 [9:09:16<02:53, 43.47s/it]"
     ]
    },
    {
     "name": "stdout",
     "output_type": "stream",
     "text": [
      "1549807378\n",
      " 5click 1/2 complete\n",
      "click 2/2 complete\n",
      "1549807378 114 114\n"
     ]
    },
    {
     "name": "stderr",
     "output_type": "stream",
     "text": [
      " 99%|█████████▉| 397/400 [9:09:38<01:51, 37.07s/it]"
     ]
    },
    {
     "name": "stdout",
     "output_type": "stream",
     "text": [
      "1520771786\n",
      "click 1/2 complete\n",
      "click 2/2 complete\n",
      "1520771786 9 9\n"
     ]
    },
    {
     "name": "stderr",
     "output_type": "stream",
     "text": [
      "100%|█████████▉| 398/400 [9:09:50<00:59, 29.71s/it]"
     ]
    },
    {
     "name": "stdout",
     "output_type": "stream",
     "text": [
      "1017151589\n",
      " 7click 1/2 complete\n",
      " 16click 2/2 complete\n",
      "1017151589 406 406\n"
     ]
    },
    {
     "name": "stderr",
     "output_type": "stream",
     "text": [
      "100%|█████████▉| 399/400 [9:10:33<00:33, 33.70s/it]"
     ]
    },
    {
     "name": "stdout",
     "output_type": "stream",
     "text": [
      "18509142\n",
      " 4click 1/2 complete\n",
      " 10click 2/2 complete\n",
      "18509142 209 209\n"
     ]
    },
    {
     "name": "stderr",
     "output_type": "stream",
     "text": [
      "100%|██████████| 400/400 [9:10:58<00:00, 82.65s/it]"
     ]
    },
    {
     "name": "stdout",
     "output_type": "stream",
     "text": [
      "End~\n"
     ]
    },
    {
     "name": "stderr",
     "output_type": "stream",
     "text": [
      "\n"
     ]
    }
   ],
   "source": [
    "for _url in tqdm(url_list[start:end]):\n",
    "    try:\n",
    "        driver = webdriver.Chrome(executable_path='/opt/ml/input/project/crawings/chromedriver', chrome_options=chrome_options)\n",
    "        action = ActionChains(driver)\n",
    "        print(_url)\n",
    "        URL = f\"https://m.place.naver.com/restaurant/{_url}/review/visitor\"\n",
    "        driver.get(URL)\n",
    "        time.sleep(2.5)\n",
    "        count = 0\n",
    "        flag = False\n",
    "        while True:\n",
    "            try: action.move_to_element(driver.find_element(By.CLASS_NAME, \"lfH3O\")).click().perform()\n",
    "            except: break\n",
    "            print(\"\\r\",count, end=\"\")\n",
    "            count+= 1\n",
    "            if count >= 60: flag = True; break\n",
    "        print(\"click 1/2 complete\")\n",
    "        time.sleep(2.5)\n",
    "        try:\n",
    "            #action.move_to_element(driver.find_elements(By.CLASS_NAME, \"YeINN\")[-1]).perform()  #선택 리뷰 창 + 버튼 누르기\n",
    "            driver.find_element(By.CLASS_NAME, 'I8cuq').click()\n",
    "        except: print(\"NO 선택리뷰창\")\n",
    "        time.sleep(2.5)\n",
    "        action = ActionChains(driver)\n",
    "        while True:\n",
    "            try:\n",
    "                action.move_to_element(driver.find_element(By.CLASS_NAME, \"lfH3O\")).click().perform()\n",
    "            except:\n",
    "                break\n",
    "            print(\"\\r\",count, end=\"\")\n",
    "            count+= 1\n",
    "            if count >= 60: flag = True; break\n",
    "        print(\"click 2/2 complete\")\n",
    "        if flag:\n",
    "            with open(f\"./user_csv/{area}/notsaved_{start}.txt\", \"a\") as file:\n",
    "                file.write(f\"{str(current_status)}\\n\")\n",
    "                file.close()\n",
    "            current_status += 1\n",
    "            continue\n",
    "        html = driver.page_source\n",
    "        soup = BeautifulSoup(html,'html.parser')\n",
    "        user = soup.find_all(class_='YeINN')\n",
    "        link_list = [i.a['href'] for i in user]\n",
    "        user_list = [i.text for i in user]\n",
    "        #time.sleep(5)\n",
    "        print(_url, len(link_list), len(user_list))\n",
    "        userlink2 = pd.DataFrame({'link' : link_list, 'user' : user_list}, dtype = str)\n",
    "        userlink2['rest'] = _url\n",
    "        userlink = pd.concat([userlink, userlink2], axis = 0, sort=False)\n",
    "        userlink.to_csv(f'./user_csv/{area}/user_{start}.csv', index=False)#river_behind500\n",
    "        with open(f\"./user_csv/{area}/log.txt\", \"w\") as file:\n",
    "            file.writelines(str(current_status))\n",
    "        current_status += 1\n",
    "    except:\n",
    "        with open(f\"./user_csv/{area}/notsaved_{start}.txt\", \"a\") as file:\n",
    "            file.write(f\"{str(current_status)}\\n\")\n",
    "            file.close()\n",
    "        current_status += 1\n",
    "        continue\n",
    "print(\"End~\")"
   ]
  }
 ],
 "metadata": {
  "kernelspec": {
   "display_name": "Python 3",
   "language": "python",
   "name": "python3"
  },
  "language_info": {
   "codemirror_mode": {
    "name": "ipython",
    "version": 3
   },
   "file_extension": ".py",
   "mimetype": "text/x-python",
   "name": "python",
   "nbconvert_exporter": "python",
   "pygments_lexer": "ipython3",
   "version": "3.10.0 (tags/v3.10.0:b494f59, Oct  4 2021, 19:00:18) [MSC v.1929 64 bit (AMD64)]"
  },
  "vscode": {
   "interpreter": {
    "hash": "59300a66caa5e62ad7404915b4dc1744e8057567d9b1fc7eb5b1d9b6866a39cd"
   }
  }
 },
 "nbformat": 4,
 "nbformat_minor": 4
}
