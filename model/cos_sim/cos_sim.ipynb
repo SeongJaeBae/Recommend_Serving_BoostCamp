{
 "cells": [
  {
   "cell_type": "code",
   "execution_count": 127,
   "metadata": {},
   "outputs": [],
   "source": [
    "import pandas as pd\n",
    "import numpy as np\n",
    "from scipy.sparse import csr_matrix\n",
    "\n",
    "import warnings\n",
    "warnings.filterwarnings('ignore')"
   ]
  },
  {
   "cell_type": "code",
   "execution_count": 2,
   "metadata": {},
   "outputs": [],
   "source": [
    "train = pd.read_csv('./data/G_train.csv')\n",
    "test = pd.read_csv('./data/G_test.csv')"
   ]
  },
  {
   "cell_type": "code",
   "execution_count": 3,
   "metadata": {},
   "outputs": [],
   "source": [
    "user2idx = {user:idx for idx, user in enumerate(train['user_code'].unique())}\n",
    "train['user_idx'] = train['user_code'].map(user2idx)\n",
    "idx2user = {idx:user for idx, user in enumerate(train['user_code'].unique())}"
   ]
  },
  {
   "cell_type": "code",
   "execution_count": 4,
   "metadata": {},
   "outputs": [],
   "source": [
    "item2idx = {item:idx for idx, item in enumerate(train['rest_code'].unique())}\n",
    "train['rest_idx'] = train['rest_code'].map(item2idx)\n",
    "idx2item = {idx:item for idx, item in enumerate(train['rest_code'].unique())}"
   ]
  },
  {
   "cell_type": "code",
   "execution_count": 5,
   "metadata": {},
   "outputs": [],
   "source": [
    "test_user2idx = {user:idx for idx, user in enumerate(test['user_code'].unique())}\n",
    "test['user_idx'] = test['user_code'].map(user2idx)\n",
    "test_idx2user = {idx:user for idx, user in enumerate(test['user_code'].unique())}"
   ]
  },
  {
   "cell_type": "code",
   "execution_count": 6,
   "metadata": {},
   "outputs": [],
   "source": [
    "test_item2idx = {item:idx for idx, item in enumerate(test['rest_code'].unique())}\n",
    "test['rest_idx'] = test['rest_code'].map(item2idx)\n",
    "test_idx2item = {idx:item for idx, item in enumerate(test['rest_code'].unique())}"
   ]
  },
  {
   "cell_type": "code",
   "execution_count": 11,
   "metadata": {},
   "outputs": [],
   "source": [
    "def generate_rating_matrix_submission(user_seq, num_users, num_items):\n",
    "    # three lists are used to construct sparse matrix\n",
    "    \"\"\"\n",
    "    Args:\n",
    "        user_seq (2차원 list): [[1번 유저 item_id 리스트], [2번 유저 item_id 리스트] .. ]\n",
    "        num_users (int): 유저 수\n",
    "        num_items (int): 아이템 수(정확힌 max item_id)\n",
    "    Returns:\n",
    "        rating_matrix: 크기 (num_users, num_items) 유저-아이템 행렬, 유저의 영화시청기록 빼지 않음.\n",
    "    \"\"\" \n",
    "    row = [] # user_id가 담긴 리스트\n",
    "    col = [] # 유저 별 item_id 리스트가 담긴 리스트\n",
    "    data = [] # 1이 달린(positive sampling이라고 알려주는) 리스트.\n",
    "\n",
    "    # user_id : 유저 번호, item_list : 해당 유저 item_id list\n",
    "    for user_id, item_list in enumerate(user_seq):\n",
    "        for item in item_list[:]: # 해당 유저가 시청한 영화기록 제외하지 않고 모두 포함.\n",
    "            row.append(user_id)\n",
    "            col.append(item)\n",
    "            data.append(1)\n",
    "\n",
    "    # 리스트를 넘파이 array로 바꿔줍니다.\n",
    "    row = np.array(row)\n",
    "    col = np.array(col) # 이 때 2차원 리스트는 겉만 np.array로 바뀌고 속은 list를 유지합니다.\n",
    "    data = np.array(data)\n",
    "\n",
    "    # 희소행렬 메트릭스 연산을 도와주는 scipy 내 csr_matrix 함수를 이용해 유저-아이템 행렬 제작합니다.\n",
    "    rating_matrix = csr_matrix((data, (row, col)), shape=(num_users, num_items))\n",
    "\n",
    "    return rating_matrix"
   ]
  },
  {
   "cell_type": "code",
   "execution_count": 12,
   "metadata": {},
   "outputs": [],
   "source": [
    "def get_user_seqs(train, test):\n",
    "    \"\"\"\n",
    "    Args:\n",
    "        train : train 데이터 user/item csv 파일.\n",
    "        test : test t데이터 user/item csv 파일.\n",
    "\n",
    "    Returns:\n",
    "        user_seq : train 유저마다 따로 아이템 리스트 저장. 2차원 배열.\n",
    "        => [[1번 유저 item_id 리스트], [2번 유저 item_id 리스트] .. ]\n",
    "        test_user_seq : test 유저마다 따로 아이템 리스트 저장. 2차원 배열.\n",
    "        => [[1번 유저 item_id 리스트], [2번 유저 item_id 리스트] .. ]\n",
    "        max_item : 가장 큰 item_id, item의 개수를 나타냄.\n",
    "        train_matrix : 유저-아이템 희소행렬\n",
    "    \"\"\"    \n",
    "\n",
    "    # lines : 유저인덱스/아이템리스트 형식의 판다스가 나옵니다.\n",
    "    # ex) 11 [4643, 170, 531, 616, 2140, 2722, 2313, 2688, ...]\n",
    "    train_lines = train.groupby(\"user_idx\")[\"rest_idx\"].apply(list)\n",
    "    test_lines = test.groupby(\"user_idx\")[\"rest_idx\"].apply(list)\n",
    "\n",
    "    # user_seq : 유저마다 따로 아이템 리스트 저장. 2차원 배열.\n",
    "    # ex) [[1번 유저 item_id 리스트], [2번 유저 item_id 리스트] .. ]\n",
    "    user_seq = []\n",
    "    test_user_seq = []\n",
    "    \n",
    "    item_set = set()\n",
    "\n",
    "    for line in train_lines: # line : 한 유저의 아이템 리스트\n",
    "        items = line\n",
    "        user_seq.append(items) # append : 리스트를 하나의 원소로 보고 append함\n",
    "        item_set = item_set | set(items) # | : 합집합 연산자\n",
    "\n",
    "    for line in test_lines: # line : 한 유저의 아이템 리스트\n",
    "        items = line\n",
    "        test_user_seq.append(items) # append : 리스트를 하나의 원소로 보고 append함\n",
    "\n",
    "    # 기록된 가장 큰 아이템 id(번호)\n",
    "    max_item = max(item_set)\n",
    "    # len(lines) : 유저 수.\n",
    "    num_users = len(train_lines)\n",
    "    # num_items : 가장 큰 아이템 id를 기준으로 아이템 수 측정\n",
    "    num_items = max_item + 2\n",
    "\n",
    "\n",
    "    # train_matrix : 유저-아이템 희소행렬\n",
    "    train_matrix = generate_rating_matrix_submission(\n",
    "        user_seq, num_users, num_items\n",
    "    )\n",
    "    return (\n",
    "        user_seq,\n",
    "        test_user_seq,\n",
    "        max_item,\n",
    "        train_matrix,\n",
    "    )"
   ]
  },
  {
   "cell_type": "code",
   "execution_count": 14,
   "metadata": {},
   "outputs": [],
   "source": [
    "user_seq, test_user_seq, max_item, train_matrix = get_user_seqs(train, test)"
   ]
  },
  {
   "cell_type": "code",
   "execution_count": 19,
   "metadata": {},
   "outputs": [],
   "source": [
    "from sklearn.metrics.pairwise import linear_kernel"
   ]
  },
  {
   "cell_type": "code",
   "execution_count": 20,
   "metadata": {},
   "outputs": [],
   "source": [
    "cosine_sim = linear_kernel(train_matrix, train_matrix)"
   ]
  },
  {
   "cell_type": "code",
   "execution_count": 62,
   "metadata": {},
   "outputs": [],
   "source": [
    "def get_similar_user(user_idx: int, cosine_sim):\n",
    "    sim_scores = list(enumerate(cosine_sim[user_idx]))\n",
    "    sim_scores = sorted(sim_scores, key=lambda x:x[1], reverse = True)\n",
    "    sim_scores = sim_scores[1:11]\n",
    "    user_indices = [i[0] for i in sim_scores]\n",
    "    return user_indices"
   ]
  },
  {
   "cell_type": "code",
   "execution_count": 115,
   "metadata": {},
   "outputs": [],
   "source": [
    "def get_recommend_list(user_idx: int, cosine_sim, matrix):\n",
    "    \n",
    "    sim_user_list = get_similar_user(user_idx=user_idx, cosine_sim=cosine_sim)\n",
    "\n",
    "    sim_matrix = matrix[user_idx].toarray()# * -10\n",
    "\n",
    "    sim_matrix = np.vstack([sim_matrix * -10, matrix[sim_user_list].toarray()])\n",
    "        \n",
    "    sim_matrix_sum = sim_matrix.sum(axis=0)\n",
    "\n",
    "    topid = list(reversed(sorted(range(len(sim_matrix_sum)),key= lambda i: sim_matrix_sum[i])[-3:]))\n",
    "\n",
    "    result = []\n",
    "\n",
    "    for t in topid:\n",
    "        result.append(idx2item[t])\n",
    "\n",
    "    return result"
   ]
  },
  {
   "cell_type": "code",
   "execution_count": 39,
   "metadata": {},
   "outputs": [],
   "source": [
    "test.iloc[58691,5] = 2758"
   ]
  },
  {
   "cell_type": "code",
   "execution_count": 41,
   "metadata": {},
   "outputs": [],
   "source": [
    "data = pd.concat([train,test])"
   ]
  },
  {
   "cell_type": "code",
   "execution_count": 44,
   "metadata": {},
   "outputs": [],
   "source": [
    "data = data.sort_values(by='user_idx')"
   ]
  },
  {
   "cell_type": "code",
   "execution_count": 53,
   "metadata": {},
   "outputs": [],
   "source": [
    "data['rest_idx'] = data['rest_idx'].astype(int)"
   ]
  },
  {
   "cell_type": "code",
   "execution_count": 54,
   "metadata": {},
   "outputs": [],
   "source": [
    "data_lines = data.groupby(\"user_idx\")[\"rest_idx\"].apply(list)\n",
    "\n",
    "data_user_seq = []\n",
    "item_set = set()\n",
    "\n",
    "for line in data_lines: # line : 한 유저의 아이템 리스트\n",
    "        items = line\n",
    "        data_user_seq.append(items) # append : 리스트를 하나의 원소로 보고 append함\n",
    "        item_set = item_set | set(items) # | : 합집합 연산자\n",
    "\n",
    "# 기록된 가장 큰 아이템 id(번호)\n",
    "max_item = max(item_set)\n",
    "# len(lines) : 유저 수.\n",
    "num_users = len(data_lines)\n",
    "# num_items : 가장 큰 아이템 id를 기준으로 아이템 수 측정\n",
    "num_items = max_item + 2\n",
    "\n",
    "data_matrix = generate_rating_matrix_submission(\n",
    "        data_user_seq, num_users, num_items\n",
    "    )"
   ]
  },
  {
   "cell_type": "code",
   "execution_count": 73,
   "metadata": {},
   "outputs": [],
   "source": [
    "data_cos_sim = linear_kernel(data_matrix, data_matrix)"
   ]
  },
  {
   "cell_type": "code",
   "execution_count": 75,
   "metadata": {},
   "outputs": [
    {
     "data": {
      "text/plain": [
       "[594, 7, 23]"
      ]
     },
     "execution_count": 75,
     "metadata": {},
     "output_type": "execute_result"
    }
   ],
   "source": [
    "get_recommend_list(user_idx=0, cosine_sim=data_cos_sim, matrix=data_matrix)"
   ]
  },
  {
   "cell_type": "code",
   "execution_count": 86,
   "metadata": {},
   "outputs": [
    {
     "data": {
      "text/plain": [
       "[8175, 10184, 10739, 11700, 18171, 21007, 23394, 25440, 22, 105]"
      ]
     },
     "execution_count": 86,
     "metadata": {},
     "output_type": "execute_result"
    }
   ],
   "source": [
    "get_similar_user(user_idx=0, cosine_sim=cosine_sim)"
   ]
  },
  {
   "cell_type": "code",
   "execution_count": 116,
   "metadata": {},
   "outputs": [
    {
     "data": {
      "text/plain": [
       "[1558, 970, 7]"
      ]
     },
     "execution_count": 116,
     "metadata": {},
     "output_type": "execute_result"
    }
   ],
   "source": [
    "get_recommend_list(user_idx=0, cosine_sim=cosine_sim, matrix=train_matrix)"
   ]
  },
  {
   "cell_type": "code",
   "execution_count": 130,
   "metadata": {},
   "outputs": [],
   "source": [
    "_test = test.groupby('user_idx')['rest_code'].unique().to_frame().reset_index()\n",
    "_test['pred'] = _test['user_idx'].apply(lambda x : get_recommend_list(user_idx=x, cosine_sim=cosine_sim, matrix=train_matrix))"
   ]
  },
  {
   "cell_type": "code",
   "execution_count": null,
   "metadata": {},
   "outputs": [],
   "source": [
    "_test2 = _test.iloc[:300, :]\n",
    "_test2"
   ]
  },
  {
   "cell_type": "code",
   "execution_count": 123,
   "metadata": {},
   "outputs": [],
   "source": [
    "def recallk(actual, predicted, k = 3):\n",
    "    \"\"\" label과 prediction 사이의 recall 평가 함수 \n",
    "    Args:\n",
    "        actual : 실제로 본 상품 리스트\n",
    "        pred : 예측한 상품 리스트\n",
    "        k : 상위 몇개의 데이터를 볼지 (ex : k=5 상위 5개의 상품만 봄)\n",
    "    Returns: \n",
    "        recall_k : recall@k \n",
    "    \"\"\" \n",
    "    set_actual = set(actual)\n",
    "    recall_k = len(set_actual & set(predicted[:k])) / min(k, len(set_actual))\n",
    "    return recall_k"
   ]
  },
  {
   "cell_type": "code",
   "execution_count": 131,
   "metadata": {},
   "outputs": [],
   "source": [
    "_test['recall'] = _test.apply(lambda x : recallk(x['rest_code'], x['pred']), axis = 1)"
   ]
  },
  {
   "cell_type": "code",
   "execution_count": 132,
   "metadata": {},
   "outputs": [
    {
     "data": {
      "text/plain": [
       "0.05524447708218591"
      ]
     },
     "execution_count": 132,
     "metadata": {},
     "output_type": "execute_result"
    }
   ],
   "source": [
    "_test['recall'].mean()"
   ]
  },
  {
   "cell_type": "code",
   "execution_count": null,
   "metadata": {},
   "outputs": [],
   "source": []
  }
 ],
 "metadata": {
  "kernelspec": {
   "display_name": "base",
   "language": "python",
   "name": "python3"
  },
  "language_info": {
   "codemirror_mode": {
    "name": "ipython",
    "version": 3
   },
   "file_extension": ".py",
   "mimetype": "text/x-python",
   "name": "python",
   "nbconvert_exporter": "python",
   "pygments_lexer": "ipython3",
   "version": "3.8.15 | packaged by conda-forge | (default, Nov 22 2022, 08:49:35) \n[GCC 10.4.0]"
  },
  "orig_nbformat": 4,
  "vscode": {
   "interpreter": {
    "hash": "d4d1e4263499bec80672ea0156c357c1ee493ec2b1c70f0acce89fc37c4a6abe"
   }
  }
 },
 "nbformat": 4,
 "nbformat_minor": 2
}
