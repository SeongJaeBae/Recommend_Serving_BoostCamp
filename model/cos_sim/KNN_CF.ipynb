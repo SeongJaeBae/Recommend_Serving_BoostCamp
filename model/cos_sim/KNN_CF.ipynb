{
 "cells": [
  {
   "cell_type": "code",
   "execution_count": 1,
   "metadata": {},
   "outputs": [],
   "source": [
    "import os\n",
    "import pandas as pd\n",
    "import seaborn as sns\n",
    "import scipy\n",
    "import numpy as np\n",
    "import random\n",
    "from matplotlib import pyplot as plt\n",
    "from datetime import datetime\n",
    "from tqdm import tqdm\n",
    "%matplotlib inline\n",
    "\n",
    "from surprise import accuracy\n",
    "from surprise.model_selection import train_test_split\n",
    "from surprise import KNNBasic, KNNWithMeans, KNNWithZScore\n",
    "from surprise.model_selection.validation import cross_validate\n",
    "from sklearn.metrics import mean_squared_error, mean_absolute_error\n",
    "\n",
    "import warnings\n",
    "warnings.filterwarnings(\"ignore\")"
   ]
  },
  {
   "cell_type": "code",
   "execution_count": 2,
   "metadata": {},
   "outputs": [],
   "source": [
    "train = pd.read_csv('../data/train.csv')\n",
    "test = pd.read_csv('../data/test.csv')"
   ]
  },
  {
   "cell_type": "code",
   "execution_count": 3,
   "metadata": {},
   "outputs": [],
   "source": [
    "user2idx = {user:idx for idx, user in enumerate(train['user_code'].unique())}\n",
    "train['user_idx'] = train['user_code'].map(user2idx)\n",
    "idx2user = {idx:user for idx, user in enumerate(train['user_code'].unique())}"
   ]
  },
  {
   "cell_type": "code",
   "execution_count": 4,
   "metadata": {},
   "outputs": [],
   "source": [
    "item2idx = {item:idx for idx, item in enumerate(train['rest_code'].unique())}\n",
    "train['rest_idx'] = train['rest_code'].map(item2idx)\n",
    "idx2item = {idx:item for idx, item in enumerate(train['rest_code'].unique())}"
   ]
  },
  {
   "cell_type": "code",
   "execution_count": 5,
   "metadata": {},
   "outputs": [],
   "source": [
    "test_user2idx = {user:idx for idx, user in enumerate(test['user_code'].unique())}\n",
    "test['user_idx'] = test['user_code'].map(user2idx)\n",
    "test_idx2user = {idx:user for idx, user in enumerate(test['user_code'].unique())}"
   ]
  },
  {
   "cell_type": "code",
   "execution_count": 6,
   "metadata": {},
   "outputs": [],
   "source": [
    "test_item2idx = {item:idx for idx, item in enumerate(test['rest_code'].unique())}\n",
    "test['rest_idx'] = test['rest_code'].map(item2idx)\n",
    "test_idx2item = {idx:item for idx, item in enumerate(test['rest_code'].unique())}"
   ]
  },
  {
   "cell_type": "code",
   "execution_count": 7,
   "metadata": {},
   "outputs": [],
   "source": [
    "train['rating'] = 1\n",
    "test['rating'] = 1"
   ]
  },
  {
   "cell_type": "code",
   "execution_count": 8,
   "metadata": {},
   "outputs": [
    {
     "data": {
      "text/html": [
       "<div>\n",
       "<style scoped>\n",
       "    .dataframe tbody tr th:only-of-type {\n",
       "        vertical-align: middle;\n",
       "    }\n",
       "\n",
       "    .dataframe tbody tr th {\n",
       "        vertical-align: top;\n",
       "    }\n",
       "\n",
       "    .dataframe thead th {\n",
       "        text-align: right;\n",
       "    }\n",
       "</style>\n",
       "<table border=\"1\" class=\"dataframe\">\n",
       "  <thead>\n",
       "    <tr style=\"text-align: right;\">\n",
       "      <th></th>\n",
       "      <th>userid</th>\n",
       "      <th>rest</th>\n",
       "      <th>user_code</th>\n",
       "      <th>rest_code</th>\n",
       "      <th>user_idx</th>\n",
       "      <th>rest_idx</th>\n",
       "      <th>rating</th>\n",
       "    </tr>\n",
       "  </thead>\n",
       "  <tbody>\n",
       "    <tr>\n",
       "      <th>0</th>\n",
       "      <td>5b61c7658f8242cb2a1b1028</td>\n",
       "      <td>1.100141e+09</td>\n",
       "      <td>0</td>\n",
       "      <td>14</td>\n",
       "      <td>0</td>\n",
       "      <td>0</td>\n",
       "      <td>1</td>\n",
       "    </tr>\n",
       "    <tr>\n",
       "      <th>1</th>\n",
       "      <td>5b61c7658f8242cb2a1b1028</td>\n",
       "      <td>3.049867e+08</td>\n",
       "      <td>0</td>\n",
       "      <td>6</td>\n",
       "      <td>0</td>\n",
       "      <td>1</td>\n",
       "      <td>1</td>\n",
       "    </tr>\n",
       "    <tr>\n",
       "      <th>2</th>\n",
       "      <td>5b61c7658f8242cb2a1b1028</td>\n",
       "      <td>1.757111e+09</td>\n",
       "      <td>0</td>\n",
       "      <td>17</td>\n",
       "      <td>0</td>\n",
       "      <td>2</td>\n",
       "      <td>1</td>\n",
       "    </tr>\n",
       "    <tr>\n",
       "      <th>3</th>\n",
       "      <td>5b61c7658f8242cb2a1b1028</td>\n",
       "      <td>1.372911e+09</td>\n",
       "      <td>0</td>\n",
       "      <td>8</td>\n",
       "      <td>0</td>\n",
       "      <td>3</td>\n",
       "      <td>1</td>\n",
       "    </tr>\n",
       "    <tr>\n",
       "      <th>4</th>\n",
       "      <td>5b61c7658f8242cb2a1b1028</td>\n",
       "      <td>1.347553e+09</td>\n",
       "      <td>0</td>\n",
       "      <td>12</td>\n",
       "      <td>0</td>\n",
       "      <td>4</td>\n",
       "      <td>1</td>\n",
       "    </tr>\n",
       "    <tr>\n",
       "      <th>...</th>\n",
       "      <td>...</td>\n",
       "      <td>...</td>\n",
       "      <td>...</td>\n",
       "      <td>...</td>\n",
       "      <td>...</td>\n",
       "      <td>...</td>\n",
       "      <td>...</td>\n",
       "    </tr>\n",
       "    <tr>\n",
       "      <th>6735896</th>\n",
       "      <td>63c3c2141438fc3a9c0ab5ad</td>\n",
       "      <td>3.139818e+07</td>\n",
       "      <td>382939</td>\n",
       "      <td>37021</td>\n",
       "      <td>382939</td>\n",
       "      <td>35796</td>\n",
       "      <td>1</td>\n",
       "    </tr>\n",
       "    <tr>\n",
       "      <th>6735897</th>\n",
       "      <td>63c3c2141438fc3a9c0ab5ad</td>\n",
       "      <td>3.348144e+07</td>\n",
       "      <td>382939</td>\n",
       "      <td>30508</td>\n",
       "      <td>382939</td>\n",
       "      <td>28309</td>\n",
       "      <td>1</td>\n",
       "    </tr>\n",
       "    <tr>\n",
       "      <th>6735898</th>\n",
       "      <td>63c3c2141438fc3a9c0ab5ad</td>\n",
       "      <td>1.010941e+09</td>\n",
       "      <td>382939</td>\n",
       "      <td>6918</td>\n",
       "      <td>382939</td>\n",
       "      <td>8192</td>\n",
       "      <td>1</td>\n",
       "    </tr>\n",
       "    <tr>\n",
       "      <th>6735899</th>\n",
       "      <td>63c3c2141438fc3a9c0ab5ad</td>\n",
       "      <td>1.015348e+09</td>\n",
       "      <td>382939</td>\n",
       "      <td>9479</td>\n",
       "      <td>382939</td>\n",
       "      <td>12639</td>\n",
       "      <td>1</td>\n",
       "    </tr>\n",
       "    <tr>\n",
       "      <th>6735900</th>\n",
       "      <td>63c3c2141438fc3a9c0ab5ad</td>\n",
       "      <td>3.753460e+07</td>\n",
       "      <td>382939</td>\n",
       "      <td>12727</td>\n",
       "      <td>382939</td>\n",
       "      <td>10647</td>\n",
       "      <td>1</td>\n",
       "    </tr>\n",
       "  </tbody>\n",
       "</table>\n",
       "<p>6735901 rows × 7 columns</p>\n",
       "</div>"
      ],
      "text/plain": [
       "                           userid          rest  user_code  rest_code  \\\n",
       "0        5b61c7658f8242cb2a1b1028  1.100141e+09          0         14   \n",
       "1        5b61c7658f8242cb2a1b1028  3.049867e+08          0          6   \n",
       "2        5b61c7658f8242cb2a1b1028  1.757111e+09          0         17   \n",
       "3        5b61c7658f8242cb2a1b1028  1.372911e+09          0          8   \n",
       "4        5b61c7658f8242cb2a1b1028  1.347553e+09          0         12   \n",
       "...                           ...           ...        ...        ...   \n",
       "6735896  63c3c2141438fc3a9c0ab5ad  3.139818e+07     382939      37021   \n",
       "6735897  63c3c2141438fc3a9c0ab5ad  3.348144e+07     382939      30508   \n",
       "6735898  63c3c2141438fc3a9c0ab5ad  1.010941e+09     382939       6918   \n",
       "6735899  63c3c2141438fc3a9c0ab5ad  1.015348e+09     382939       9479   \n",
       "6735900  63c3c2141438fc3a9c0ab5ad  3.753460e+07     382939      12727   \n",
       "\n",
       "         user_idx  rest_idx  rating  \n",
       "0               0         0       1  \n",
       "1               0         1       1  \n",
       "2               0         2       1  \n",
       "3               0         3       1  \n",
       "4               0         4       1  \n",
       "...           ...       ...     ...  \n",
       "6735896    382939     35796       1  \n",
       "6735897    382939     28309       1  \n",
       "6735898    382939      8192       1  \n",
       "6735899    382939     12639       1  \n",
       "6735900    382939     10647       1  \n",
       "\n",
       "[6735901 rows x 7 columns]"
      ]
     },
     "execution_count": 8,
     "metadata": {},
     "output_type": "execute_result"
    }
   ],
   "source": [
    "train"
   ]
  },
  {
   "cell_type": "code",
   "execution_count": 9,
   "metadata": {},
   "outputs": [],
   "source": [
    "from surprise import Reader, Dataset\n",
    "\n",
    "reader = Reader(rating_scale=(0.5, 5.0))\n",
    "train_data = Dataset.load_from_df(train[['user_idx', 'rest_idx', 'rating']], reader)"
   ]
  },
  {
   "cell_type": "code",
   "execution_count": 10,
   "metadata": {},
   "outputs": [],
   "source": [
    "from surprise import Reader, Dataset\n",
    "\n",
    "reader = Reader(rating_scale=(0.5, 5.0))\n",
    "test_data = Dataset.load_from_df(test[['user_idx', 'rest_idx', 'rating']], reader)"
   ]
  },
  {
   "cell_type": "code",
   "execution_count": 11,
   "metadata": {},
   "outputs": [],
   "source": [
    "sim_options = {\n",
    "    'name': 'cosine',\n",
    "    'user_based': True\n",
    "}\n",
    "\n",
    "knn_basic = KNNBasic(k=40, min_k = 10, sim_options=sim_options)"
   ]
  },
  {
   "cell_type": "code",
   "execution_count": 12,
   "metadata": {},
   "outputs": [],
   "source": [
    "train_data = train_data.build_full_trainset()"
   ]
  },
  {
   "cell_type": "code",
   "execution_count": 13,
   "metadata": {},
   "outputs": [
    {
     "data": {
      "text/plain": [
       "surprise.trainset.Trainset"
      ]
     },
     "execution_count": 13,
     "metadata": {},
     "output_type": "execute_result"
    }
   ],
   "source": [
    "type(train_data)"
   ]
  },
  {
   "cell_type": "code",
   "execution_count": 14,
   "metadata": {},
   "outputs": [
    {
     "name": "stdout",
     "output_type": "stream",
     "text": [
      "Computing the cosine similarity matrix...\n"
     ]
    },
    {
     "ename": "MemoryError",
     "evalue": "Unable to allocate 1.07 TiB for an array with shape (382940, 382940) and data type float64",
     "output_type": "error",
     "traceback": [
      "\u001b[0;31m---------------------------------------------------------------------------\u001b[0m",
      "\u001b[0;31mMemoryError\u001b[0m                               Traceback (most recent call last)",
      "\u001b[1;32m/opt/ml/input/project/model/cos_sim/KNN_CF.ipynb Cell 14\u001b[0m in \u001b[0;36m<cell line: 1>\u001b[0;34m()\u001b[0m\n\u001b[0;32m----> <a href='vscode-notebook-cell://ssh-remote%2Baistage/opt/ml/input/project/model/cos_sim/KNN_CF.ipynb#X15sdnNjb2RlLXJlbW90ZQ%3D%3D?line=0'>1</a>\u001b[0m knn_basic\u001b[39m.\u001b[39;49mfit(train_data)\n\u001b[1;32m      <a href='vscode-notebook-cell://ssh-remote%2Baistage/opt/ml/input/project/model/cos_sim/KNN_CF.ipynb#X15sdnNjb2RlLXJlbW90ZQ%3D%3D?line=1'>2</a>\u001b[0m predictions \u001b[39m=\u001b[39m knn_basic\u001b[39m.\u001b[39mtest(test_data)\n",
      "File \u001b[0;32m/opt/conda/lib/python3.8/site-packages/surprise/prediction_algorithms/knns.py:98\u001b[0m, in \u001b[0;36mKNNBasic.fit\u001b[0;34m(self, trainset)\u001b[0m\n\u001b[1;32m     95\u001b[0m \u001b[39mdef\u001b[39;00m \u001b[39mfit\u001b[39m(\u001b[39mself\u001b[39m, trainset):\n\u001b[1;32m     97\u001b[0m     SymmetricAlgo\u001b[39m.\u001b[39mfit(\u001b[39mself\u001b[39m, trainset)\n\u001b[0;32m---> 98\u001b[0m     \u001b[39mself\u001b[39m\u001b[39m.\u001b[39msim \u001b[39m=\u001b[39m \u001b[39mself\u001b[39;49m\u001b[39m.\u001b[39;49mcompute_similarities()\n\u001b[1;32m    100\u001b[0m     \u001b[39mreturn\u001b[39;00m \u001b[39mself\u001b[39m\n",
      "File \u001b[0;32m/opt/conda/lib/python3.8/site-packages/surprise/prediction_algorithms/algo_base.py:248\u001b[0m, in \u001b[0;36mAlgoBase.compute_similarities\u001b[0;34m(self)\u001b[0m\n\u001b[1;32m    246\u001b[0m \u001b[39mif\u001b[39;00m \u001b[39mgetattr\u001b[39m(\u001b[39mself\u001b[39m, \u001b[39m\"\u001b[39m\u001b[39mverbose\u001b[39m\u001b[39m\"\u001b[39m, \u001b[39mFalse\u001b[39;00m):\n\u001b[1;32m    247\u001b[0m     \u001b[39mprint\u001b[39m(\u001b[39mf\u001b[39m\u001b[39m\"\u001b[39m\u001b[39mComputing the \u001b[39m\u001b[39m{\u001b[39;00mname\u001b[39m}\u001b[39;00m\u001b[39m similarity matrix...\u001b[39m\u001b[39m\"\u001b[39m)\n\u001b[0;32m--> 248\u001b[0m sim \u001b[39m=\u001b[39m construction_func[name](\u001b[39m*\u001b[39;49margs)\n\u001b[1;32m    249\u001b[0m \u001b[39mif\u001b[39;00m \u001b[39mgetattr\u001b[39m(\u001b[39mself\u001b[39m, \u001b[39m\"\u001b[39m\u001b[39mverbose\u001b[39m\u001b[39m\"\u001b[39m, \u001b[39mFalse\u001b[39;00m):\n\u001b[1;32m    250\u001b[0m     \u001b[39mprint\u001b[39m(\u001b[39m\"\u001b[39m\u001b[39mDone computing similarity matrix.\u001b[39m\u001b[39m\"\u001b[39m)\n",
      "File \u001b[0;32m/opt/conda/lib/python3.8/site-packages/surprise/similarities.pyx:54\u001b[0m, in \u001b[0;36msurprise.similarities.cosine\u001b[0;34m()\u001b[0m\n",
      "\u001b[0;31mMemoryError\u001b[0m: Unable to allocate 1.07 TiB for an array with shape (382940, 382940) and data type float64"
     ]
    }
   ],
   "source": [
    "knn_basic.fit(train_data)\n",
    "predictions = knn_basic.test(test_data)"
   ]
  }
 ],
 "metadata": {
  "kernelspec": {
   "display_name": "base",
   "language": "python",
   "name": "python3"
  },
  "language_info": {
   "codemirror_mode": {
    "name": "ipython",
    "version": 3
   },
   "file_extension": ".py",
   "mimetype": "text/x-python",
   "name": "python",
   "nbconvert_exporter": "python",
   "pygments_lexer": "ipython3",
   "version": "3.8.15"
  },
  "orig_nbformat": 4,
  "vscode": {
   "interpreter": {
    "hash": "d4d1e4263499bec80672ea0156c357c1ee493ec2b1c70f0acce89fc37c4a6abe"
   }
  }
 },
 "nbformat": 4,
 "nbformat_minor": 2
}
