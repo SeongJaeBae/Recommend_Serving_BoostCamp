{
 "cells": [
  {
   "cell_type": "code",
   "execution_count": 1,
   "metadata": {},
   "outputs": [
    {
     "data": {
      "text/html": [
       "<div>\n",
       "<style scoped>\n",
       "    .dataframe tbody tr th:only-of-type {\n",
       "        vertical-align: middle;\n",
       "    }\n",
       "\n",
       "    .dataframe tbody tr th {\n",
       "        vertical-align: top;\n",
       "    }\n",
       "\n",
       "    .dataframe thead th {\n",
       "        text-align: right;\n",
       "    }\n",
       "</style>\n",
       "<table border=\"1\" class=\"dataframe\">\n",
       "  <thead>\n",
       "    <tr style=\"text-align: right;\">\n",
       "      <th></th>\n",
       "      <th>user</th>\n",
       "      <th>item</th>\n",
       "      <th>userid</th>\n",
       "      <th>rest</th>\n",
       "    </tr>\n",
       "  </thead>\n",
       "  <tbody>\n",
       "    <tr>\n",
       "      <th>0</th>\n",
       "      <td>0</td>\n",
       "      <td>3</td>\n",
       "      <td>5b62e8065fffc95678a5a628</td>\n",
       "      <td>838819922</td>\n",
       "    </tr>\n",
       "    <tr>\n",
       "      <th>1</th>\n",
       "      <td>0</td>\n",
       "      <td>4</td>\n",
       "      <td>5b62e8065fffc95678a5a628</td>\n",
       "      <td>36466212</td>\n",
       "    </tr>\n",
       "    <tr>\n",
       "      <th>2</th>\n",
       "      <td>0</td>\n",
       "      <td>5</td>\n",
       "      <td>5b62e8065fffc95678a5a628</td>\n",
       "      <td>21900266</td>\n",
       "    </tr>\n",
       "    <tr>\n",
       "      <th>3</th>\n",
       "      <td>0</td>\n",
       "      <td>6</td>\n",
       "      <td>5b62e8065fffc95678a5a628</td>\n",
       "      <td>1756032132</td>\n",
       "    </tr>\n",
       "    <tr>\n",
       "      <th>4</th>\n",
       "      <td>0</td>\n",
       "      <td>7</td>\n",
       "      <td>5b62e8065fffc95678a5a628</td>\n",
       "      <td>11623967</td>\n",
       "    </tr>\n",
       "    <tr>\n",
       "      <th>...</th>\n",
       "      <td>...</td>\n",
       "      <td>...</td>\n",
       "      <td>...</td>\n",
       "      <td>...</td>\n",
       "    </tr>\n",
       "    <tr>\n",
       "      <th>98620</th>\n",
       "      <td>10083</td>\n",
       "      <td>722</td>\n",
       "      <td>636275962c777da5c98d7695</td>\n",
       "      <td>1679960108</td>\n",
       "    </tr>\n",
       "    <tr>\n",
       "      <th>98621</th>\n",
       "      <td>10083</td>\n",
       "      <td>344</td>\n",
       "      <td>636275962c777da5c98d7695</td>\n",
       "      <td>37921873</td>\n",
       "    </tr>\n",
       "    <tr>\n",
       "      <th>98622</th>\n",
       "      <td>10083</td>\n",
       "      <td>816</td>\n",
       "      <td>636275962c777da5c98d7695</td>\n",
       "      <td>1220094431</td>\n",
       "    </tr>\n",
       "    <tr>\n",
       "      <th>98623</th>\n",
       "      <td>10083</td>\n",
       "      <td>634</td>\n",
       "      <td>636275962c777da5c98d7695</td>\n",
       "      <td>31510379</td>\n",
       "    </tr>\n",
       "    <tr>\n",
       "      <th>98624</th>\n",
       "      <td>10083</td>\n",
       "      <td>630</td>\n",
       "      <td>636275962c777da5c98d7695</td>\n",
       "      <td>12853616</td>\n",
       "    </tr>\n",
       "  </tbody>\n",
       "</table>\n",
       "<p>98625 rows × 4 columns</p>\n",
       "</div>"
      ],
      "text/plain": [
       "        user  item                    userid        rest\n",
       "0          0     3  5b62e8065fffc95678a5a628   838819922\n",
       "1          0     4  5b62e8065fffc95678a5a628    36466212\n",
       "2          0     5  5b62e8065fffc95678a5a628    21900266\n",
       "3          0     6  5b62e8065fffc95678a5a628  1756032132\n",
       "4          0     7  5b62e8065fffc95678a5a628    11623967\n",
       "...      ...   ...                       ...         ...\n",
       "98620  10083   722  636275962c777da5c98d7695  1679960108\n",
       "98621  10083   344  636275962c777da5c98d7695    37921873\n",
       "98622  10083   816  636275962c777da5c98d7695  1220094431\n",
       "98623  10083   634  636275962c777da5c98d7695    31510379\n",
       "98624  10083   630  636275962c777da5c98d7695    12853616\n",
       "\n",
       "[98625 rows x 4 columns]"
      ]
     },
     "execution_count": 1,
     "metadata": {},
     "output_type": "execute_result"
    }
   ],
   "source": [
    "import numpy as np\n",
    "import pandas as pd\n",
    "import torch\n",
    "from scipy.sparse import csr_matrix\n",
    "from tqdm import tqdm\n",
    "from sklearn.preprocessing import LabelEncoder\n",
    "from multiprocessing import Pool, cpu_count\n",
    "path = '/opt/ml/input/project/model/data/'\n",
    "\n",
    "train = pd.read_csv(path + 'S_train.csv')   \n",
    "train\n"
   ]
  },
  {
   "cell_type": "code",
   "execution_count": 2,
   "metadata": {},
   "outputs": [
    {
     "data": {
      "text/plain": [
       "'\\ntrain => user, item, time 으로 이루어진 \\n5154471 rows × 3 columns 크기의 csv\\n'"
      ]
     },
     "execution_count": 2,
     "metadata": {},
     "output_type": "execute_result"
    }
   ],
   "source": [
    "'''\n",
    "train => user, item, time 으로 이루어진 \n",
    "5154471 rows × 3 columns 크기의 csv\n",
    "'''"
   ]
  },
  {
   "cell_type": "code",
   "execution_count": 3,
   "metadata": {},
   "outputs": [],
   "source": [
    "class EASE:\n",
    "    def __init__(self):\n",
    "        self.user_enc = LabelEncoder()\n",
    "        self.item_enc = LabelEncoder()\n",
    "\n",
    "    def _get_users_and_items(self, df):\n",
    "        users = self.user_enc.fit_transform(df.loc[:, 'user'])\n",
    "        items = self.item_enc.fit_transform(df.loc[:, 'item'])\n",
    "        return users, items\n",
    "\n",
    "    def fit(self, df, lambda_: float = 500, implicit=True):\n",
    "        \"\"\"\n",
    "        df: pandas.DataFrame with columns user_id, item_id and (rating)\n",
    "        lambda_: l2-regularization term\n",
    "        implicit: if True, ratings are ignored and taken as 1, else normalized ratings are used\n",
    "        \"\"\"\n",
    "        users, items = self._get_users_and_items(df)\n",
    "        values = (\n",
    "            np.ones(df.shape[0])\n",
    "            if implicit\n",
    "            else df['rating'].to_numpy() / df['rating'].max()\n",
    "        )\n",
    "\n",
    "        X = csr_matrix((values, (users, items)))\n",
    "        self.X = X\n",
    "\n",
    "        G = X.T.dot(X).toarray()\n",
    "        diagIndices = np.diag_indices(G.shape[0])\n",
    "        G[diagIndices] += lambda_\n",
    "        P = np.linalg.inv(G)\n",
    "        B = P / (-np.diag(P))\n",
    "        B[diagIndices] = 0\n",
    "\n",
    "        self.B = B\n",
    "        self.pred = X.dot(B)\n",
    "\n",
    "    def predict(self, train, users, items, k):\n",
    "        items = self.item_enc.transform(items)\n",
    "        dd = train.loc[train.user.isin(users)]\n",
    "        dd['ci'] = self.item_enc.transform(dd.item)\n",
    "        dd['cu'] = self.user_enc.transform(dd.user)\n",
    "        g = dd.groupby('cu')\n",
    "        with Pool(cpu_count()) as p:\n",
    "            user_preds = p.starmap(\n",
    "                self.predict_for_user,\n",
    "                [(user, group, self.pred[user, :], items, k) for user, group in g],\n",
    "            )\n",
    "        df = pd.concat(user_preds)\n",
    "        df['item'] = self.item_enc.inverse_transform(df['item'])\n",
    "        df['user'] = self.user_enc.inverse_transform(df['user'])\n",
    "        return df\n",
    "\n",
    "    @staticmethod\n",
    "    def predict_for_user(user, group, pred, items, k):\n",
    "        watched = set(group['ci'])\n",
    "        candidates = [item for item in items if item not in watched]\n",
    "        pred = np.take(pred, candidates)\n",
    "        res = np.argpartition(pred, -k)[-k:]\n",
    "        r = pd.DataFrame(\n",
    "            {\n",
    "                \"user\": [user] * len(res),\n",
    "                \"item\": np.take(candidates, res),\n",
    "                \"score\": np.take(pred, res),\n",
    "            }\n",
    "        ).sort_values('score', ascending=False)\n",
    "        return r\n",
    "        \n"
   ]
  },
  {
   "cell_type": "code",
   "execution_count": 4,
   "metadata": {},
   "outputs": [],
   "source": [
    "model = EASE()\n",
    "model.fit(train)\n",
    "predict = model.predict(train,train['user'].unique(),train['item'].unique(),3)\n",
    "predict = predict.drop('score',axis = 1)\n"
   ]
  },
  {
   "cell_type": "code",
   "execution_count": 6,
   "metadata": {},
   "outputs": [],
   "source": [
    "predict.to_csv('../output/ease_S.csv', index=False)"
   ]
  },
  {
   "attachments": {},
   "cell_type": "markdown",
   "metadata": {},
   "source": [
    "# Test(recall K)"
   ]
  },
  {
   "cell_type": "code",
   "execution_count": 7,
   "metadata": {},
   "outputs": [],
   "source": [
    "predict = pd.read_csv('/opt/ml/input/project/model/output/' + 'ease_S.csv')\n",
    "answer = pd.read_csv('/opt/ml/input/project/model/data/S_test.csv')\n",
    "\n"
   ]
  },
  {
   "cell_type": "code",
   "execution_count": 8,
   "metadata": {},
   "outputs": [],
   "source": [
    "predict_user = predict.groupby('user')['item'].apply(list) \n",
    "answer_user = answer.groupby('user')['item'].apply(list)\n"
   ]
  },
  {
   "cell_type": "code",
   "execution_count": 9,
   "metadata": {},
   "outputs": [],
   "source": [
    "_recall = []\n",
    "\n",
    "for i, ans in enumerate(answer_user):\n",
    "    a = 0\n",
    "    for j in ans:\n",
    "        if j in predict_user[i]:\n",
    "            a += 1 \n",
    "    _recall.append(a/2)"
   ]
  },
  {
   "cell_type": "code",
   "execution_count": 10,
   "metadata": {},
   "outputs": [
    {
     "data": {
      "text/plain": [
       "0.07566441888139627"
      ]
     },
     "execution_count": 10,
     "metadata": {},
     "output_type": "execute_result"
    }
   ],
   "source": [
    "recall = sum(_recall) / len(_recall)\n",
    "recall"
   ]
  },
  {
   "cell_type": "code",
   "execution_count": 10,
   "metadata": {},
   "outputs": [],
   "source": []
  },
  {
   "cell_type": "code",
   "execution_count": null,
   "metadata": {},
   "outputs": [],
   "source": [
    "scores = test_score(args, epoch, train_dataloader, model)\n",
    "print(\"recall_k = \", scores)"
   ]
  }
 ],
 "metadata": {
  "kernelspec": {
   "display_name": "base",
   "language": "python",
   "name": "python3"
  },
  "language_info": {
   "codemirror_mode": {
    "name": "ipython",
    "version": 3
   },
   "file_extension": ".py",
   "mimetype": "text/x-python",
   "name": "python",
   "nbconvert_exporter": "python",
   "pygments_lexer": "ipython3",
   "version": "3.8.5 (default, Sep  4 2020, 07:30:14) \n[GCC 7.3.0]"
  },
  "orig_nbformat": 4,
  "vscode": {
   "interpreter": {
    "hash": "d4d1e4263499bec80672ea0156c357c1ee493ec2b1c70f0acce89fc37c4a6abe"
   }
  }
 },
 "nbformat": 4,
 "nbformat_minor": 2
}
