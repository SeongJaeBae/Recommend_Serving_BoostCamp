{
 "cells": [
  {
   "cell_type": "code",
   "execution_count": 4,
   "metadata": {},
   "outputs": [
    {
     "data": {
      "text/html": [
       "<div>\n",
       "<style scoped>\n",
       "    .dataframe tbody tr th:only-of-type {\n",
       "        vertical-align: middle;\n",
       "    }\n",
       "\n",
       "    .dataframe tbody tr th {\n",
       "        vertical-align: top;\n",
       "    }\n",
       "\n",
       "    .dataframe thead th {\n",
       "        text-align: right;\n",
       "    }\n",
       "</style>\n",
       "<table border=\"1\" class=\"dataframe\">\n",
       "  <thead>\n",
       "    <tr style=\"text-align: right;\">\n",
       "      <th></th>\n",
       "      <th>userid</th>\n",
       "      <th>rest</th>\n",
       "      <th>user_code</th>\n",
       "      <th>rest_code</th>\n",
       "    </tr>\n",
       "  </thead>\n",
       "  <tbody>\n",
       "    <tr>\n",
       "      <th>0</th>\n",
       "      <td>5b61c7658f8242cb2a1b1028</td>\n",
       "      <td>1.172647e+07</td>\n",
       "      <td>166651</td>\n",
       "      <td>2073</td>\n",
       "    </tr>\n",
       "    <tr>\n",
       "      <th>1</th>\n",
       "      <td>5b61c7658f8242cb2a1b1028</td>\n",
       "      <td>2.140700e+07</td>\n",
       "      <td>166651</td>\n",
       "      <td>1604</td>\n",
       "    </tr>\n",
       "    <tr>\n",
       "      <th>2</th>\n",
       "      <td>5b61c7658f8242cb2a1b1028</td>\n",
       "      <td>1.176442e+07</td>\n",
       "      <td>166651</td>\n",
       "      <td>1160</td>\n",
       "    </tr>\n",
       "    <tr>\n",
       "      <th>3</th>\n",
       "      <td>5b61c7658f8242cb2a1b1028</td>\n",
       "      <td>1.987767e+07</td>\n",
       "      <td>166651</td>\n",
       "      <td>1571</td>\n",
       "    </tr>\n",
       "    <tr>\n",
       "      <th>4</th>\n",
       "      <td>5b61c7658f8242cb2a1b1028</td>\n",
       "      <td>1.100141e+09</td>\n",
       "      <td>166651</td>\n",
       "      <td>658</td>\n",
       "    </tr>\n",
       "    <tr>\n",
       "      <th>...</th>\n",
       "      <td>...</td>\n",
       "      <td>...</td>\n",
       "      <td>...</td>\n",
       "      <td>...</td>\n",
       "    </tr>\n",
       "    <tr>\n",
       "      <th>338124</th>\n",
       "      <td>6396b0ffadfbb231c28da55d</td>\n",
       "      <td>1.551480e+09</td>\n",
       "      <td>320304</td>\n",
       "      <td>2235</td>\n",
       "    </tr>\n",
       "    <tr>\n",
       "      <th>338125</th>\n",
       "      <td>6396b0ffadfbb231c28da55d</td>\n",
       "      <td>1.016763e+09</td>\n",
       "      <td>320304</td>\n",
       "      <td>2166</td>\n",
       "    </tr>\n",
       "    <tr>\n",
       "      <th>338126</th>\n",
       "      <td>6396b0ffadfbb231c28da55d</td>\n",
       "      <td>2.062259e+07</td>\n",
       "      <td>320304</td>\n",
       "      <td>2324</td>\n",
       "    </tr>\n",
       "    <tr>\n",
       "      <th>338127</th>\n",
       "      <td>6396b0ffadfbb231c28da55d</td>\n",
       "      <td>1.357503e+07</td>\n",
       "      <td>320304</td>\n",
       "      <td>2100</td>\n",
       "    </tr>\n",
       "    <tr>\n",
       "      <th>338128</th>\n",
       "      <td>6396b0ffadfbb231c28da55d</td>\n",
       "      <td>3.743779e+07</td>\n",
       "      <td>320304</td>\n",
       "      <td>2181</td>\n",
       "    </tr>\n",
       "  </tbody>\n",
       "</table>\n",
       "<p>338129 rows × 4 columns</p>\n",
       "</div>"
      ],
      "text/plain": [
       "                          userid          rest  user_code  rest_code\n",
       "0       5b61c7658f8242cb2a1b1028  1.172647e+07     166651       2073\n",
       "1       5b61c7658f8242cb2a1b1028  2.140700e+07     166651       1604\n",
       "2       5b61c7658f8242cb2a1b1028  1.176442e+07     166651       1160\n",
       "3       5b61c7658f8242cb2a1b1028  1.987767e+07     166651       1571\n",
       "4       5b61c7658f8242cb2a1b1028  1.100141e+09     166651        658\n",
       "...                          ...           ...        ...        ...\n",
       "338124  6396b0ffadfbb231c28da55d  1.551480e+09     320304       2235\n",
       "338125  6396b0ffadfbb231c28da55d  1.016763e+09     320304       2166\n",
       "338126  6396b0ffadfbb231c28da55d  2.062259e+07     320304       2324\n",
       "338127  6396b0ffadfbb231c28da55d  1.357503e+07     320304       2100\n",
       "338128  6396b0ffadfbb231c28da55d  3.743779e+07     320304       2181\n",
       "\n",
       "[338129 rows x 4 columns]"
      ]
     },
     "execution_count": 4,
     "metadata": {},
     "output_type": "execute_result"
    }
   ],
   "source": [
    "import numpy as np\n",
    "import pandas as pd\n",
    "import torch\n",
    "from scipy.sparse import csr_matrix\n",
    "from tqdm import tqdm\n",
    "from sklearn.preprocessing import LabelEncoder\n",
    "from multiprocessing import Pool, cpu_count\n",
    "path = '/opt/ml/input/project/model/data/'\n",
    "\n",
    "train = pd.read_csv(path + 'G_train2.csv')   \n",
    "train"
   ]
  },
  {
   "cell_type": "code",
   "execution_count": null,
   "metadata": {},
   "outputs": [
    {
     "data": {
      "text/plain": [
       "'\\ntrain => user, item, time 으로 이루어진 \\n5154471 rows × 3 columns 크기의 csv\\n'"
      ]
     },
     "execution_count": 2,
     "metadata": {},
     "output_type": "execute_result"
    }
   ],
   "source": [
    "'''\n",
    "train => user, item, time 으로 이루어진 \n",
    "5154471 rows × 3 columns 크기의 csv\n",
    "'''"
   ]
  },
  {
   "cell_type": "code",
   "execution_count": 14,
   "metadata": {},
   "outputs": [],
   "source": [
    "class EASE:\n",
    "    def __init__(self):\n",
    "        self.user_enc = LabelEncoder()\n",
    "        self.item_enc = LabelEncoder()\n",
    "\n",
    "    def _get_users_and_items(self, df):\n",
    "        users = self.user_enc.fit_transform(df.loc[:, 'user_code'])\n",
    "        items = self.item_enc.fit_transform(df.loc[:, 'rest_code'])\n",
    "        return users, items\n",
    "\n",
    "    def fit(self, df, lambda_: float = 500, implicit=True):\n",
    "        \"\"\"\n",
    "        df: pandas.DataFrame with columns user_id, item_id and (rating)\n",
    "        lambda_: l2-regularization term\n",
    "        implicit: if True, ratings are ignored and taken as 1, else normalized ratings are used\n",
    "        \"\"\"\n",
    "        users, items = self._get_users_and_items(df)\n",
    "        values = (\n",
    "            np.ones(df.shape[0])\n",
    "            if implicit\n",
    "            else df['rating'].to_numpy() / df['rating'].max()\n",
    "        )\n",
    "\n",
    "        X = csr_matrix((values, (users, items)))\n",
    "        self.X = X\n",
    "\n",
    "        G = X.T.dot(X).toarray()\n",
    "        diagIndices = np.diag_indices(G.shape[0])\n",
    "        G[diagIndices] += lambda_\n",
    "        P = np.linalg.inv(G)\n",
    "        B = P / (-np.diag(P))\n",
    "        B[diagIndices] = 0\n",
    "\n",
    "        self.B = B\n",
    "        self.pred = X.dot(B)\n",
    "\n",
    "    def predict(self, train, users, items, k):\n",
    "        items = self.item_enc.transform(items)\n",
    "        dd = train.loc[train.user_code.isin(users)]\n",
    "        dd['ci'] = self.item_enc.transform(dd.rest_code)\n",
    "        dd['cu'] = self.user_enc.transform(dd.user_code)\n",
    "        g = dd.groupby('cu')\n",
    "        with Pool(cpu_count()) as p:\n",
    "            user_preds = p.starmap(\n",
    "                self.predict_for_user,\n",
    "                [(user, group, self.pred[user, :], items, k) for user, group in g],\n",
    "            )\n",
    "        df = pd.concat(user_preds)\n",
    "        df['rest_code'] = self.item_enc.inverse_transform(df['rest_code'])\n",
    "        df['user_code'] = self.user_enc.inverse_transform(df['user_code'])\n",
    "        return df\n",
    "\n",
    "    @staticmethod\n",
    "    def predict_for_user(user, group, pred, items, k):\n",
    "        watched = set(group['ci'])\n",
    "        candidates = [item for item in items if item not in watched]\n",
    "        pred = np.take(pred, candidates)\n",
    "        res = np.argpartition(pred, -k)[-k:]\n",
    "        r = pd.DataFrame(\n",
    "            {\n",
    "                \"user_code\": [user] * len(res),\n",
    "                \"rest_code\": np.take(candidates, res),\n",
    "                \"score\": np.take(pred, res),\n",
    "            }\n",
    "        ).sort_values('score', ascending=False)\n",
    "        return r\n",
    "        \n"
   ]
  },
  {
   "cell_type": "code",
   "execution_count": 15,
   "metadata": {},
   "outputs": [],
   "source": [
    "model = EASE()\n",
    "model.fit(train)\n"
   ]
  },
  {
   "attachments": {},
   "cell_type": "markdown",
   "metadata": {},
   "source": [
    "# 모델 저장"
   ]
  },
  {
   "cell_type": "code",
   "execution_count": 5,
   "metadata": {},
   "outputs": [],
   "source": [
    "with open('model.pt', 'wb') as f:\n",
    "    torch.save(model, f)"
   ]
  },
  {
   "attachments": {},
   "cell_type": "markdown",
   "metadata": {},
   "source": [
    "# 모델 적용"
   ]
  },
  {
   "cell_type": "code",
   "execution_count": 7,
   "metadata": {},
   "outputs": [],
   "source": [
    "with open('model.pt', 'rb') as f:\n",
    "    model = torch.load(f)"
   ]
  },
  {
   "cell_type": "code",
   "execution_count": 34,
   "metadata": {},
   "outputs": [],
   "source": [
    "input = pd.read_csv(path + 'input.csv')\n",
    "'''\n",
    "input = pd.DataFrame({'user':[0],\n",
    "                      'item':[3],\n",
    "                      'userid':['5b62e8065fffc95678a5a628'],\n",
    "                      'rest' :['838819922']})\n",
    "'''"
   ]
  },
  {
   "cell_type": "code",
   "execution_count": 35,
   "metadata": {},
   "outputs": [],
   "source": [
    "predict = model.predict(input,input['user'].unique(),input['item'].unique(),3)\n",
    "predict = predict.drop('score',axis=1)"
   ]
  },
  {
   "cell_type": "code",
   "execution_count": 36,
   "metadata": {},
   "outputs": [
    {
     "data": {
      "text/html": [
       "<div>\n",
       "<style scoped>\n",
       "    .dataframe tbody tr th:only-of-type {\n",
       "        vertical-align: middle;\n",
       "    }\n",
       "\n",
       "    .dataframe tbody tr th {\n",
       "        vertical-align: top;\n",
       "    }\n",
       "\n",
       "    .dataframe thead th {\n",
       "        text-align: right;\n",
       "    }\n",
       "</style>\n",
       "<table border=\"1\" class=\"dataframe\">\n",
       "  <thead>\n",
       "    <tr style=\"text-align: right;\">\n",
       "      <th></th>\n",
       "      <th>user</th>\n",
       "      <th>item</th>\n",
       "    </tr>\n",
       "  </thead>\n",
       "  <tbody>\n",
       "    <tr>\n",
       "      <th>2</th>\n",
       "      <td>0</td>\n",
       "      <td>24</td>\n",
       "    </tr>\n",
       "    <tr>\n",
       "      <th>1</th>\n",
       "      <td>0</td>\n",
       "      <td>22</td>\n",
       "    </tr>\n",
       "    <tr>\n",
       "      <th>0</th>\n",
       "      <td>0</td>\n",
       "      <td>20</td>\n",
       "    </tr>\n",
       "    <tr>\n",
       "      <th>2</th>\n",
       "      <td>1</td>\n",
       "      <td>7</td>\n",
       "    </tr>\n",
       "    <tr>\n",
       "      <th>1</th>\n",
       "      <td>1</td>\n",
       "      <td>5</td>\n",
       "    </tr>\n",
       "    <tr>\n",
       "      <th>0</th>\n",
       "      <td>1</td>\n",
       "      <td>4</td>\n",
       "    </tr>\n",
       "  </tbody>\n",
       "</table>\n",
       "</div>"
      ],
      "text/plain": [
       "   user  item\n",
       "2     0    24\n",
       "1     0    22\n",
       "0     0    20\n",
       "2     1     7\n",
       "1     1     5\n",
       "0     1     4"
      ]
     },
     "execution_count": 36,
     "metadata": {},
     "output_type": "execute_result"
    }
   ],
   "source": [
    "predict"
   ]
  },
  {
   "cell_type": "code",
   "execution_count": 15,
   "metadata": {},
   "outputs": [],
   "source": [
    "predict = model.predict(train,train['user'].unique(),train['item'].unique(),3)\n",
    "predict = predict.drop('score',axis = 1)\n"
   ]
  },
  {
   "cell_type": "code",
   "execution_count": 17,
   "metadata": {},
   "outputs": [
    {
     "data": {
      "text/html": [
       "<div>\n",
       "<style scoped>\n",
       "    .dataframe tbody tr th:only-of-type {\n",
       "        vertical-align: middle;\n",
       "    }\n",
       "\n",
       "    .dataframe tbody tr th {\n",
       "        vertical-align: top;\n",
       "    }\n",
       "\n",
       "    .dataframe thead th {\n",
       "        text-align: right;\n",
       "    }\n",
       "</style>\n",
       "<table border=\"1\" class=\"dataframe\">\n",
       "  <thead>\n",
       "    <tr style=\"text-align: right;\">\n",
       "      <th></th>\n",
       "      <th>user</th>\n",
       "      <th>item</th>\n",
       "    </tr>\n",
       "  </thead>\n",
       "  <tbody>\n",
       "    <tr>\n",
       "      <th>2</th>\n",
       "      <td>0</td>\n",
       "      <td>502</td>\n",
       "    </tr>\n",
       "    <tr>\n",
       "      <th>1</th>\n",
       "      <td>0</td>\n",
       "      <td>451</td>\n",
       "    </tr>\n",
       "    <tr>\n",
       "      <th>0</th>\n",
       "      <td>0</td>\n",
       "      <td>210</td>\n",
       "    </tr>\n",
       "    <tr>\n",
       "      <th>2</th>\n",
       "      <td>1</td>\n",
       "      <td>154</td>\n",
       "    </tr>\n",
       "    <tr>\n",
       "      <th>1</th>\n",
       "      <td>1</td>\n",
       "      <td>41</td>\n",
       "    </tr>\n",
       "    <tr>\n",
       "      <th>...</th>\n",
       "      <td>...</td>\n",
       "      <td>...</td>\n",
       "    </tr>\n",
       "    <tr>\n",
       "      <th>1</th>\n",
       "      <td>10082</td>\n",
       "      <td>230</td>\n",
       "    </tr>\n",
       "    <tr>\n",
       "      <th>0</th>\n",
       "      <td>10082</td>\n",
       "      <td>41</td>\n",
       "    </tr>\n",
       "    <tr>\n",
       "      <th>2</th>\n",
       "      <td>10083</td>\n",
       "      <td>293</td>\n",
       "    </tr>\n",
       "    <tr>\n",
       "      <th>1</th>\n",
       "      <td>10083</td>\n",
       "      <td>545</td>\n",
       "    </tr>\n",
       "    <tr>\n",
       "      <th>0</th>\n",
       "      <td>10083</td>\n",
       "      <td>295</td>\n",
       "    </tr>\n",
       "  </tbody>\n",
       "</table>\n",
       "<p>30252 rows × 2 columns</p>\n",
       "</div>"
      ],
      "text/plain": [
       "     user  item\n",
       "2       0   502\n",
       "1       0   451\n",
       "0       0   210\n",
       "2       1   154\n",
       "1       1    41\n",
       "..    ...   ...\n",
       "1   10082   230\n",
       "0   10082    41\n",
       "2   10083   293\n",
       "1   10083   545\n",
       "0   10083   295\n",
       "\n",
       "[30252 rows x 2 columns]"
      ]
     },
     "execution_count": 17,
     "metadata": {},
     "output_type": "execute_result"
    }
   ],
   "source": [
    "predict"
   ]
  },
  {
   "cell_type": "code",
   "execution_count": 6,
   "metadata": {},
   "outputs": [],
   "source": [
    "predict.to_csv('./output/ease_G.csv', index=False)"
   ]
  },
  {
   "attachments": {},
   "cell_type": "markdown",
   "metadata": {},
   "source": [
    "# Test(recall K)"
   ]
  },
  {
   "cell_type": "code",
   "execution_count": 27,
   "metadata": {},
   "outputs": [],
   "source": [
    "predict = pd.read_csv('/opt/ml/input/project/model/EASE/output/' + 'ease_G.csv')\n",
    "answer = pd.read_csv('/opt/ml/input/project/model/data/G_test2.csv')\n"
   ]
  },
  {
   "cell_type": "code",
   "execution_count": 28,
   "metadata": {},
   "outputs": [
    {
     "data": {
      "text/html": [
       "<div>\n",
       "<style scoped>\n",
       "    .dataframe tbody tr th:only-of-type {\n",
       "        vertical-align: middle;\n",
       "    }\n",
       "\n",
       "    .dataframe tbody tr th {\n",
       "        vertical-align: top;\n",
       "    }\n",
       "\n",
       "    .dataframe thead th {\n",
       "        text-align: right;\n",
       "    }\n",
       "</style>\n",
       "<table border=\"1\" class=\"dataframe\">\n",
       "  <thead>\n",
       "    <tr style=\"text-align: right;\">\n",
       "      <th></th>\n",
       "      <th>userid</th>\n",
       "      <th>rest</th>\n",
       "      <th>user_code</th>\n",
       "      <th>rest_code</th>\n",
       "    </tr>\n",
       "  </thead>\n",
       "  <tbody>\n",
       "    <tr>\n",
       "      <th>0</th>\n",
       "      <td>5b61c7658f8242cb2a1b1028</td>\n",
       "      <td>1.757111e+09</td>\n",
       "      <td>166651</td>\n",
       "      <td>1447</td>\n",
       "    </tr>\n",
       "    <tr>\n",
       "      <th>1</th>\n",
       "      <td>5b61c7658f8242cb2a1b1028</td>\n",
       "      <td>1.375758e+09</td>\n",
       "      <td>166651</td>\n",
       "      <td>1501</td>\n",
       "    </tr>\n",
       "    <tr>\n",
       "      <th>2</th>\n",
       "      <td>5b62e6f60364c573d06114c1</td>\n",
       "      <td>1.415009e+09</td>\n",
       "      <td>98831</td>\n",
       "      <td>456</td>\n",
       "    </tr>\n",
       "    <tr>\n",
       "      <th>3</th>\n",
       "      <td>5b62e6f60364c573d06114c1</td>\n",
       "      <td>1.374996e+09</td>\n",
       "      <td>98831</td>\n",
       "      <td>356</td>\n",
       "    </tr>\n",
       "    <tr>\n",
       "      <th>4</th>\n",
       "      <td>5b62e707d6205156e6fa96f0</td>\n",
       "      <td>1.611312e+09</td>\n",
       "      <td>174612</td>\n",
       "      <td>750</td>\n",
       "    </tr>\n",
       "    <tr>\n",
       "      <th>...</th>\n",
       "      <td>...</td>\n",
       "      <td>...</td>\n",
       "      <td>...</td>\n",
       "      <td>...</td>\n",
       "    </tr>\n",
       "    <tr>\n",
       "      <th>65359</th>\n",
       "      <td>6353b5db1566f10006660c21</td>\n",
       "      <td>1.116538e+09</td>\n",
       "      <td>173687</td>\n",
       "      <td>1923</td>\n",
       "    </tr>\n",
       "    <tr>\n",
       "      <th>65360</th>\n",
       "      <td>63568cefbc1c4a789f7aec09</td>\n",
       "      <td>1.222516e+09</td>\n",
       "      <td>188377</td>\n",
       "      <td>858</td>\n",
       "    </tr>\n",
       "    <tr>\n",
       "      <th>65361</th>\n",
       "      <td>63568cefbc1c4a789f7aec09</td>\n",
       "      <td>1.647491e+09</td>\n",
       "      <td>188377</td>\n",
       "      <td>1025</td>\n",
       "    </tr>\n",
       "    <tr>\n",
       "      <th>65362</th>\n",
       "      <td>6396b0ffadfbb231c28da55d</td>\n",
       "      <td>6.301172e+08</td>\n",
       "      <td>320304</td>\n",
       "      <td>2120</td>\n",
       "    </tr>\n",
       "    <tr>\n",
       "      <th>65363</th>\n",
       "      <td>6396b0ffadfbb231c28da55d</td>\n",
       "      <td>1.276334e+09</td>\n",
       "      <td>320304</td>\n",
       "      <td>2097</td>\n",
       "    </tr>\n",
       "  </tbody>\n",
       "</table>\n",
       "<p>65364 rows × 4 columns</p>\n",
       "</div>"
      ],
      "text/plain": [
       "                         userid          rest  user_code  rest_code\n",
       "0      5b61c7658f8242cb2a1b1028  1.757111e+09     166651       1447\n",
       "1      5b61c7658f8242cb2a1b1028  1.375758e+09     166651       1501\n",
       "2      5b62e6f60364c573d06114c1  1.415009e+09      98831        456\n",
       "3      5b62e6f60364c573d06114c1  1.374996e+09      98831        356\n",
       "4      5b62e707d6205156e6fa96f0  1.611312e+09     174612        750\n",
       "...                         ...           ...        ...        ...\n",
       "65359  6353b5db1566f10006660c21  1.116538e+09     173687       1923\n",
       "65360  63568cefbc1c4a789f7aec09  1.222516e+09     188377        858\n",
       "65361  63568cefbc1c4a789f7aec09  1.647491e+09     188377       1025\n",
       "65362  6396b0ffadfbb231c28da55d  6.301172e+08     320304       2120\n",
       "65363  6396b0ffadfbb231c28da55d  1.276334e+09     320304       2097\n",
       "\n",
       "[65364 rows x 4 columns]"
      ]
     },
     "execution_count": 28,
     "metadata": {},
     "output_type": "execute_result"
    }
   ],
   "source": [
    "answer"
   ]
  },
  {
   "cell_type": "code",
   "execution_count": 29,
   "metadata": {},
   "outputs": [],
   "source": [
    "predict_user = predict.groupby('user_code')['rest_code'].apply(list) \n",
    "answer_user = answer.groupby('user_code')['rest_code'].apply(list)"
   ]
  },
  {
   "cell_type": "code",
   "execution_count": 40,
   "metadata": {},
   "outputs": [],
   "source": [
    "predict_user = predict_user.reset_index(drop=True)\n",
    "answer_user = answer_user.reset_index(drop=True)"
   ]
  },
  {
   "cell_type": "code",
   "execution_count": 42,
   "metadata": {},
   "outputs": [],
   "source": [
    "_recall = []\n",
    "\n",
    "for i, ans in enumerate(answer_user):\n",
    "    a = 0\n",
    "    for j in ans:\n",
    "        if j in predict_user[i]:\n",
    "            a += 1 \n",
    "    _recall.append(a/2)"
   ]
  },
  {
   "cell_type": "code",
   "execution_count": 43,
   "metadata": {},
   "outputs": [
    {
     "data": {
      "text/plain": [
       "0.07219570405727924"
      ]
     },
     "execution_count": 43,
     "metadata": {},
     "output_type": "execute_result"
    }
   ],
   "source": [
    "recall = sum(_recall) / len(_recall)\n",
    "recall"
   ]
  },
  {
   "cell_type": "code",
   "execution_count": 10,
   "metadata": {},
   "outputs": [],
   "source": []
  },
  {
   "cell_type": "code",
   "execution_count": null,
   "metadata": {},
   "outputs": [],
   "source": [
    "scores = test_score(args, epoch, train_dataloader, model)\n",
    "print(\"recall_k = \", scores)"
   ]
  }
 ],
 "metadata": {
  "kernelspec": {
   "display_name": "model",
   "language": "python",
   "name": "model"
  },
  "language_info": {
   "codemirror_mode": {
    "name": "ipython",
    "version": 3
   },
   "file_extension": ".py",
   "mimetype": "text/x-python",
   "name": "python",
   "nbconvert_exporter": "python",
   "pygments_lexer": "ipython3",
   "version": "3.8.5"
  },
  "orig_nbformat": 4,
  "vscode": {
   "interpreter": {
    "hash": "d4d1e4263499bec80672ea0156c357c1ee493ec2b1c70f0acce89fc37c4a6abe"
   }
  }
 },
 "nbformat": 4,
 "nbformat_minor": 2
}
