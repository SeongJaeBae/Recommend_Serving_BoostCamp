{
 "cells": [
  {
   "cell_type": "code",
   "execution_count": 1,
   "metadata": {},
   "outputs": [],
   "source": [
    "import numpy as np\n",
    "import pandas as pd\n",
    "from numpy import random\n",
    "import sqlite3\n",
    "\n",
    "import re\n",
    "\n",
    "import random\n",
    "\n",
    "import warnings\n",
    "warnings.filterwarnings('ignore')\n",
    "\n",
    "\n",
    "cnxn = sqlite3.connect(\"tem.db\")\n",
    "cursor = cnxn.cursor() \n",
    "\n",
    "seed = 1998"
   ]
  },
  {
   "cell_type": "code",
   "execution_count": 3,
   "metadata": {},
   "outputs": [],
   "source": [
    "user = pd.read_csv('user.csv')\n",
    "rest = pd.read_csv('rest.csv')"
   ]
  },
  {
   "cell_type": "code",
   "execution_count": 16,
   "metadata": {},
   "outputs": [],
   "source": [
    "positive_df = pd.DataFrame(columns = ['userid', 'rest'])\n",
    "tem_1 = {'userid' : '5d279b1849e9398b427fd334', 'rest' : 31442321}\n",
    "tem_2 = {'userid' : '5d279b1849e9398b427fd334', 'rest' : 1823283194}\n",
    "tem_3 = {'userid' : '5d279b1849e9398b427fd334', 'rest' : 1428465017}\n",
    "tem_4 = {'userid' : '5d279b1849e9398b427fd334', 'rest' : 17999136}\n",
    "tem_5 = {'userid' : '5d279b1849e9398b427fd334', 'rest' : 38014687}\n",
    "\n",
    "positive_df = positive_df.append(tem_1, ignore_index=True)\n",
    "positive_df = positive_df.append(tem_2, ignore_index=True)\n",
    "positive_df = positive_df.append(tem_3, ignore_index=True)\n",
    "positive_df = positive_df.append(tem_4, ignore_index=True)\n",
    "positive_df = positive_df.append(tem_5, ignore_index=True)\n",
    "#positive_df['date'] = '2023년 1월 31일'"
   ]
  },
  {
   "cell_type": "code",
   "execution_count": 17,
   "metadata": {},
   "outputs": [],
   "source": [
    "\"\"\"\n",
    "rest 테이블 DB 저장\n",
    "\"\"\"\n",
    "cursor.execute(\"DROP TABLE rest\")\n",
    "cnxn.commit()  # this commits changes to the database\n",
    "\n",
    "cursor.execute(\"CREATE TABLE rest (\"\n",
    "               \"name VARCHAR(255),\"\n",
    "               \"tag VARCHAR(511),\"\n",
    "               \"url INT(127),\"\n",
    "               \"x INT(127),\"\n",
    "               \"y INT(127),\"\n",
    "               \"image VARCHAR(511),\"\n",
    "               \"rest_code INT(127),\"\n",
    "               \"cnt INT(127))\"\n",
    ")\n",
    "cnxn.commit()  # this commits changes to the database\n",
    "\n",
    "a = rest.values.tolist()\n",
    "for i in range(len(a)):\n",
    "    a[i] = tuple(list(a[i]))\n",
    "\n",
    "for i in a:\n",
    "    #print(i)\n",
    "    cursor.execute(\"INSERT INTO rest VALUES (?, ?, ?, ?, ?, ?, ?, ?)\", i)\n",
    "    #except: pass\n",
    "cnxn.commit()"
   ]
  },
  {
   "cell_type": "code",
   "execution_count": 18,
   "metadata": {},
   "outputs": [],
   "source": [
    "\"\"\"\n",
    "user 방문 기록(rest_code) 테이블 DB 저장\n",
    "\"\"\"\n",
    "cursor.execute(\"DROP TABLE user\")\n",
    "cnxn.commit()  # this commits changes to the database\n",
    "\n",
    "cursor.execute(\"CREATE TABLE user (\"\n",
    "               \"user_code INT(127),\"\n",
    "               \"rest_code VARCHAR(16383),\"\n",
    "               \"user VARCHAR(255))\"\n",
    ")\n",
    "cnxn.commit()  # this commits changes to the database\n",
    "\n",
    "a = user.values.tolist()\n",
    "for i in range(len(a)):\n",
    "    a[i] = tuple(list(a[i]))\n",
    "\n",
    "for i in a:\n",
    "    #print(i)\n",
    "    cursor.execute(\"INSERT INTO user VALUES (?, ?, ?)\", i)\n",
    "    #except: pass\n",
    "cnxn.commit()"
   ]
  },
  {
   "cell_type": "code",
   "execution_count": 19,
   "metadata": {},
   "outputs": [],
   "source": [
    "cursor.execute(\"DROP TABLE positive\")\n",
    "cnxn.commit()  # this commits changes to the database\n",
    "\n",
    "cursor.execute(\"CREATE TABLE positive (\"\n",
    "               \"user VARCHAR(255),\"\n",
    "               \"url INT(127))\"\n",
    ")\n",
    "cnxn.commit()  # this commits changes to the database\n",
    "\n",
    "a = positive_df.values.tolist()\n",
    "for i in range(len(a)):\n",
    "    a[i] = tuple(list(a[i]))\n",
    "\n",
    "for i in a:\n",
    "    #print(i)\n",
    "    cursor.execute(\"INSERT INTO positive VALUES (?, ?)\", i)\n",
    "    #except: pass\n",
    "cnxn.commit()"
   ]
  },
  {
   "cell_type": "code",
   "execution_count": null,
   "metadata": {},
   "outputs": [],
   "source": []
  }
 ],
 "metadata": {
  "kernelspec": {
   "display_name": "data",
   "language": "python",
   "name": "data"
  },
  "orig_nbformat": 4
 },
 "nbformat": 4,
 "nbformat_minor": 2
}
