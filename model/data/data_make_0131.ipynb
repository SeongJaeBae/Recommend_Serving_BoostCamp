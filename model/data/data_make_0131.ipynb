{
 "cells": [
  {
   "cell_type": "code",
   "execution_count": 1,
   "metadata": {},
   "outputs": [],
   "source": [
    "import numpy as np\n",
    "import pandas as pd\n",
    "from numpy import random\n",
    "import sqlite3\n",
    "\n",
    "import re\n",
    "\n",
    "import random\n",
    "\n",
    "import warnings\n",
    "warnings.filterwarnings('ignore')\n",
    "\n",
    "\n",
    "cnxn = sqlite3.connect(\"reccar.db\")\n",
    "cursor = cnxn.cursor() \n",
    "\n",
    "seed = 1998"
   ]
  },
  {
   "cell_type": "code",
   "execution_count": 2,
   "metadata": {},
   "outputs": [
    {
     "data": {
      "text/plain": [
       "25"
      ]
     },
     "execution_count": 2,
     "metadata": {},
     "output_type": "execute_result"
    }
   ],
   "source": [
    "area_list = ['Dobong', 'Dongdaemun', 'Dongjag', 'eunpyeong', 'geumcheon',\n",
    "'Guro', 'GwanUck', 'Jongno', 'Junggu', 'Jungnang', 'Kongbuk',\n",
    "'Kongdong', 'Kongjin', 'Kongnam', 'Kongseo', 'Mapo', 'Nowon', 'Seocho',\n",
    "'Seodaemun', 'Seongbuk', 'Seongdong', 'songpa', 'Yangcheon',\n",
    "'Yeongdeungpo', 'Yongsan']\n",
    "\n",
    "len(area_list)"
   ]
  },
  {
   "cell_type": "code",
   "execution_count": 3,
   "metadata": {},
   "outputs": [
    {
     "name": "stdout",
     "output_type": "stream",
     "text": [
      "25\n"
     ]
    }
   ],
   "source": [
    "data = pd.DataFrame()\n",
    "\n",
    "for area in area_list:\n",
    "    tem = pd.read_csv(f'./user/{area}.csv')\n",
    "    tem['userid'] = tem['link'].apply(lambda x: str(re.findall(r'my/[a-z0-9]+/', x))[5:-3])\n",
    "    tem['date'] = tem['user'].apply(lambda x: solve(x))\n",
    "\n",
    "    tem = tem[['userid', 'rest', 'date']]\n",
    "    tem = tem.drop_duplicates()\n",
    "    data = pd.concat([data, tem])\n",
    "\n",
    "data = data.drop_duplicates() # 30만개정도 빠짐\n",
    "data = data[~data['rest'].isnull()] # 7개정도 null 값이 있더라\n",
    "data.reset_index(drop=True, inplace = True)\n",
    "rest.reset_index(drop=True, inplace = True)\n",
    "print(cnt)"
   ]
  },
  {
   "cell_type": "code",
   "execution_count": 7,
   "metadata": {},
   "outputs": [],
   "source": [
    "rest = pd.read_csv('rest.csv')\n",
    "rest = rest[['url', 'rest_code']]\n",
    "\n",
    "user = pd.read_csv('user.csv')\n",
    "user = user[['user','user_code']]"
   ]
  },
  {
   "cell_type": "code",
   "execution_count": 13,
   "metadata": {},
   "outputs": [],
   "source": [
    "rest2idx = rest.set_index('url')\n",
    "\n",
    "def make_restcode(x):\n",
    "    try:\n",
    "        tem = rest2idx.loc[x]\n",
    "        return tem\n",
    "    except:\n",
    "        return -1\n",
    "\n",
    "data['rest_code'] = data['rest'].apply(lambda x : make_restcode(x))\n",
    "data"
   ]
  },
  {
   "cell_type": "code",
   "execution_count": null,
   "metadata": {},
   "outputs": [],
   "source": [
    "user2idx = user.set_index('user')\n",
    "\n",
    "def make_usercode(x):\n",
    "    try:\n",
    "        tem = user2idx.loc[x]\n",
    "        return tem\n",
    "    except:\n",
    "        return -1\n",
    "\n",
    "data['user_code'] = data['userid'].apply(lambda x : make_usercode(x))\n",
    "data"
   ]
  },
  {
   "cell_type": "code",
   "execution_count": null,
   "metadata": {},
   "outputs": [],
   "source": [
    "data"
   ]
  }
 ],
 "metadata": {
  "kernelspec": {
   "display_name": "data",
   "language": "python",
   "name": "data"
  },
  "orig_nbformat": 4
 },
 "nbformat": 4,
 "nbformat_minor": 2
}
