{
 "cells": [
  {
   "cell_type": "code",
   "execution_count": 1,
   "metadata": {},
   "outputs": [],
   "source": [
    "import numpy as np\n",
    "import pandas as pd\n",
    "from numpy import random\n",
    "\n",
    "import re\n",
    "\n",
    "import random\n",
    "\n",
    "import warnings\n",
    "warnings.filterwarnings('ignore')"
   ]
  },
  {
   "cell_type": "code",
   "execution_count": 2,
   "metadata": {},
   "outputs": [],
   "source": [
    "# 데이터 불러오는 부분\n",
    "\n",
    "area = 'Gangnam' # 데이터 불러오는 지역\n",
    "data = pd.read_csv(f'../../crawings/user_csv/{area}/user_concat.csv')\n",
    "data['userid'] = data['link'].apply(lambda x: str(re.findall(r'my/[a-z0-9]+/', x))[5:-3])\n",
    "data = data[['userid', 'rest']]\n",
    "data = data.drop_duplicates()"
   ]
  },
  {
   "cell_type": "code",
   "execution_count": 3,
   "metadata": {},
   "outputs": [],
   "source": [
    "# train/ test 분할하는 부분\n",
    "\n",
    "data['rand'] = data['rest'].apply(lambda x : random.random())\n",
    "_user = data['userid'].value_counts().reset_index()\n",
    "_user.columns = ['userid', 'cnt']\n",
    "data = pd.merge(data, _user, how = 'left', on = 'userid')\n",
    "data = data[data['cnt'] > 5].reset_index(drop = True)\n",
    "data = data[~(data['userid'] == '')].reset_index(drop = True)\n",
    "data = data.sort_values(['userid', 'rand']).reset_index(drop = True)\n",
    "data['tem'] = 1\n",
    "data['seq'] = data.groupby('userid')['tem'].apply(lambda x : x.cumsum())\n",
    "\n",
    "train = data[data['tem'] + 1 < data['seq']]\n",
    "test = data[data['tem'] + 1 >= data['seq']]"
   ]
  },
  {
   "cell_type": "code",
   "execution_count": 6,
   "metadata": {},
   "outputs": [],
   "source": [
    "train[['userid', 'rest']].to_csv('G_train.csv', index = False)\n",
    "test[['userid', 'rest']].to_csv('G_test.csv', index = False)"
   ]
  },
  {
   "cell_type": "code",
   "execution_count": null,
   "metadata": {},
   "outputs": [],
   "source": []
  }
 ],
 "metadata": {
  "kernelspec": {
   "display_name": "model",
   "language": "python",
   "name": "model"
  },
  "language_info": {
   "codemirror_mode": {
    "name": "ipython",
    "version": 3
   },
   "file_extension": ".py",
   "mimetype": "text/x-python",
   "name": "python",
   "nbconvert_exporter": "python",
   "pygments_lexer": "ipython3",
   "version": "3.8.15"
  },
  "orig_nbformat": 4
 },
 "nbformat": 4,
 "nbformat_minor": 2
}
