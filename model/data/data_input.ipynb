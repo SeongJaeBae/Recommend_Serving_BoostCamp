{
 "cells": [
  {
   "cell_type": "code",
   "execution_count": 1,
   "metadata": {},
   "outputs": [],
   "source": [
    "import numpy as np\n",
    "import pandas as pd\n",
    "from numpy import random\n",
    "\n",
    "import re\n",
    "\n",
    "import random\n",
    "\n",
    "import warnings\n",
    "warnings.filterwarnings('ignore')\n",
    "\n",
    "seed = 1998"
   ]
  },
  {
   "cell_type": "code",
   "execution_count": 4,
   "metadata": {},
   "outputs": [],
   "source": [
    "area_list = ['Dobong', 'Dongdaemun', 'Dongjag', 'eunpyeong', \n",
    "'Guro', 'GwanUck', 'Jongno', 'Junggu', 'Jungnang', 'Kongbuk',\n",
    "'Kongdong', 'Kongjin', 'Kongnam', 'Kongseo', 'Nowon', 'Seocho',\n",
    "'Seodaemun', 'Seongbuk', 'Seongdong', 'songpa', 'Yangcheon',\n",
    "'Yeongdeungpo', 'Yongsan', 'geumcheon', 'Mapo']"
   ]
  },
  {
   "cell_type": "code",
   "execution_count": 5,
   "metadata": {},
   "outputs": [
    {
     "data": {
      "text/plain": [
       "25"
      ]
     },
     "execution_count": 5,
     "metadata": {},
     "output_type": "execute_result"
    }
   ],
   "source": [
    "len(area_list)"
   ]
  },
  {
   "cell_type": "code",
   "execution_count": 6,
   "metadata": {},
   "outputs": [
    {
     "ename": "KeyError",
     "evalue": "'link'",
     "output_type": "error",
     "traceback": [
      "\u001b[0;31m---------------------------------------------------------------------------\u001b[0m",
      "\u001b[0;31mKeyError\u001b[0m                                  Traceback (most recent call last)",
      "File \u001b[0;32m/opt/conda/envs/model/lib/python3.8/site-packages/pandas/core/indexes/base.py:3803\u001b[0m, in \u001b[0;36mIndex.get_loc\u001b[0;34m(self, key, method, tolerance)\u001b[0m\n\u001b[1;32m   3802\u001b[0m \u001b[39mtry\u001b[39;00m:\n\u001b[0;32m-> 3803\u001b[0m     \u001b[39mreturn\u001b[39;00m \u001b[39mself\u001b[39;49m\u001b[39m.\u001b[39;49m_engine\u001b[39m.\u001b[39;49mget_loc(casted_key)\n\u001b[1;32m   3804\u001b[0m \u001b[39mexcept\u001b[39;00m \u001b[39mKeyError\u001b[39;00m \u001b[39mas\u001b[39;00m err:\n",
      "File \u001b[0;32m/opt/conda/envs/model/lib/python3.8/site-packages/pandas/_libs/index.pyx:138\u001b[0m, in \u001b[0;36mpandas._libs.index.IndexEngine.get_loc\u001b[0;34m()\u001b[0m\n",
      "File \u001b[0;32m/opt/conda/envs/model/lib/python3.8/site-packages/pandas/_libs/index.pyx:165\u001b[0m, in \u001b[0;36mpandas._libs.index.IndexEngine.get_loc\u001b[0;34m()\u001b[0m\n",
      "File \u001b[0;32mpandas/_libs/hashtable_class_helper.pxi:5745\u001b[0m, in \u001b[0;36mpandas._libs.hashtable.PyObjectHashTable.get_item\u001b[0;34m()\u001b[0m\n",
      "File \u001b[0;32mpandas/_libs/hashtable_class_helper.pxi:5753\u001b[0m, in \u001b[0;36mpandas._libs.hashtable.PyObjectHashTable.get_item\u001b[0;34m()\u001b[0m\n",
      "\u001b[0;31mKeyError\u001b[0m: 'link'",
      "\nThe above exception was the direct cause of the following exception:\n",
      "\u001b[0;31mKeyError\u001b[0m                                  Traceback (most recent call last)",
      "Cell \u001b[0;32mIn[6], line 10\u001b[0m\n\u001b[1;32m      7\u001b[0m     tem \u001b[39m=\u001b[39m tem\u001b[39m.\u001b[39mdrop_duplicates()\n\u001b[1;32m      8\u001b[0m     data \u001b[39m=\u001b[39m pd\u001b[39m.\u001b[39mconcat([data, tem])    \n\u001b[0;32m---> 10\u001b[0m data[\u001b[39m'\u001b[39m\u001b[39muserid\u001b[39m\u001b[39m'\u001b[39m] \u001b[39m=\u001b[39m data[\u001b[39m'\u001b[39;49m\u001b[39mlink\u001b[39;49m\u001b[39m'\u001b[39;49m]\u001b[39m.\u001b[39mapply(\u001b[39mlambda\u001b[39;00m x: \u001b[39mstr\u001b[39m(re\u001b[39m.\u001b[39mfindall(\u001b[39mr\u001b[39m\u001b[39m'\u001b[39m\u001b[39mmy/[a-z0-9]+/\u001b[39m\u001b[39m'\u001b[39m, x))[\u001b[39m5\u001b[39m:\u001b[39m-\u001b[39m\u001b[39m3\u001b[39m])\n\u001b[1;32m     11\u001b[0m data \u001b[39m=\u001b[39m data[[\u001b[39m'\u001b[39m\u001b[39muserid\u001b[39m\u001b[39m'\u001b[39m, \u001b[39m'\u001b[39m\u001b[39mrest\u001b[39m\u001b[39m'\u001b[39m]]\n\u001b[1;32m     12\u001b[0m data \u001b[39m=\u001b[39m data\u001b[39m.\u001b[39mdrop_duplicates()\n",
      "File \u001b[0;32m/opt/conda/envs/model/lib/python3.8/site-packages/pandas/core/frame.py:3805\u001b[0m, in \u001b[0;36mDataFrame.__getitem__\u001b[0;34m(self, key)\u001b[0m\n\u001b[1;32m   3803\u001b[0m \u001b[39mif\u001b[39;00m \u001b[39mself\u001b[39m\u001b[39m.\u001b[39mcolumns\u001b[39m.\u001b[39mnlevels \u001b[39m>\u001b[39m \u001b[39m1\u001b[39m:\n\u001b[1;32m   3804\u001b[0m     \u001b[39mreturn\u001b[39;00m \u001b[39mself\u001b[39m\u001b[39m.\u001b[39m_getitem_multilevel(key)\n\u001b[0;32m-> 3805\u001b[0m indexer \u001b[39m=\u001b[39m \u001b[39mself\u001b[39;49m\u001b[39m.\u001b[39;49mcolumns\u001b[39m.\u001b[39;49mget_loc(key)\n\u001b[1;32m   3806\u001b[0m \u001b[39mif\u001b[39;00m is_integer(indexer):\n\u001b[1;32m   3807\u001b[0m     indexer \u001b[39m=\u001b[39m [indexer]\n",
      "File \u001b[0;32m/opt/conda/envs/model/lib/python3.8/site-packages/pandas/core/indexes/base.py:3805\u001b[0m, in \u001b[0;36mIndex.get_loc\u001b[0;34m(self, key, method, tolerance)\u001b[0m\n\u001b[1;32m   3803\u001b[0m     \u001b[39mreturn\u001b[39;00m \u001b[39mself\u001b[39m\u001b[39m.\u001b[39m_engine\u001b[39m.\u001b[39mget_loc(casted_key)\n\u001b[1;32m   3804\u001b[0m \u001b[39mexcept\u001b[39;00m \u001b[39mKeyError\u001b[39;00m \u001b[39mas\u001b[39;00m err:\n\u001b[0;32m-> 3805\u001b[0m     \u001b[39mraise\u001b[39;00m \u001b[39mKeyError\u001b[39;00m(key) \u001b[39mfrom\u001b[39;00m \u001b[39merr\u001b[39;00m\n\u001b[1;32m   3806\u001b[0m \u001b[39mexcept\u001b[39;00m \u001b[39mTypeError\u001b[39;00m:\n\u001b[1;32m   3807\u001b[0m     \u001b[39m# If we have a listlike key, _check_indexing_error will raise\u001b[39;00m\n\u001b[1;32m   3808\u001b[0m     \u001b[39m#  InvalidIndexError. Otherwise we fall through and re-raise\u001b[39;00m\n\u001b[1;32m   3809\u001b[0m     \u001b[39m#  the TypeError.\u001b[39;00m\n\u001b[1;32m   3810\u001b[0m     \u001b[39mself\u001b[39m\u001b[39m.\u001b[39m_check_indexing_error(key)\n",
      "\u001b[0;31mKeyError\u001b[0m: 'link'"
     ]
    }
   ],
   "source": [
    "data = pd.DataFrame()\n",
    "for area in area_list:\n",
    "    #print(area)\n",
    "    tem = pd.read_csv(f'./user/{area}.csv')\n",
    "    tem['userid'] = tem['link'].apply(lambda x: str(re.findall(r'my/[a-z0-9]+/', x))[5:-3])\n",
    "    tem = tem[['userid', 'rest']]\n",
    "    tem = tem.drop_duplicates()\n",
    "    data = pd.concat([data, tem])    \n",
    "\n",
    "data = data.drop_duplicates() # 30만개정도 빠짐\n",
    "data = data[~data['rest'].isnull()] # 7개정도 null 값이 있더라\n",
    "data.reset_index(drop=True, replace = True)"
   ]
  },
  {
   "cell_type": "code",
   "execution_count": 13,
   "metadata": {},
   "outputs": [
    {
     "data": {
      "text/html": [
       "<div>\n",
       "<style scoped>\n",
       "    .dataframe tbody tr th:only-of-type {\n",
       "        vertical-align: middle;\n",
       "    }\n",
       "\n",
       "    .dataframe tbody tr th {\n",
       "        vertical-align: top;\n",
       "    }\n",
       "\n",
       "    .dataframe thead th {\n",
       "        text-align: right;\n",
       "    }\n",
       "</style>\n",
       "<table border=\"1\" class=\"dataframe\">\n",
       "  <thead>\n",
       "    <tr style=\"text-align: right;\">\n",
       "      <th></th>\n",
       "      <th>userid</th>\n",
       "      <th>rest</th>\n",
       "    </tr>\n",
       "  </thead>\n",
       "  <tbody>\n",
       "    <tr>\n",
       "      <th>0</th>\n",
       "      <td>61836eb882ac4fbb28ec8614</td>\n",
       "      <td>3.144232e+07</td>\n",
       "    </tr>\n",
       "    <tr>\n",
       "      <th>1</th>\n",
       "      <td>5b9df8bcce3e9302c4c6e455</td>\n",
       "      <td>3.144232e+07</td>\n",
       "    </tr>\n",
       "    <tr>\n",
       "      <th>2</th>\n",
       "      <td>5fe311dbc6045131b90d40e2</td>\n",
       "      <td>3.144232e+07</td>\n",
       "    </tr>\n",
       "    <tr>\n",
       "      <th>3</th>\n",
       "      <td>5c9645b66d633b3d2257e846</td>\n",
       "      <td>3.144232e+07</td>\n",
       "    </tr>\n",
       "    <tr>\n",
       "      <th>5</th>\n",
       "      <td>5c6f708d452b497e76246294</td>\n",
       "      <td>3.144232e+07</td>\n",
       "    </tr>\n",
       "    <tr>\n",
       "      <th>...</th>\n",
       "      <td>...</td>\n",
       "      <td>...</td>\n",
       "    </tr>\n",
       "    <tr>\n",
       "      <th>384900</th>\n",
       "      <td>5cc43501e95b902d31944f43</td>\n",
       "      <td>1.552762e+09</td>\n",
       "    </tr>\n",
       "    <tr>\n",
       "      <th>384901</th>\n",
       "      <td>5e412c4d8f87a842bcfeeb29</td>\n",
       "      <td>1.552762e+09</td>\n",
       "    </tr>\n",
       "    <tr>\n",
       "      <th>384902</th>\n",
       "      <td>60381f06be3a3d3ca846ba38</td>\n",
       "      <td>1.552762e+09</td>\n",
       "    </tr>\n",
       "    <tr>\n",
       "      <th>384903</th>\n",
       "      <td>5ebe29768f87a842bc8b0273</td>\n",
       "      <td>1.552762e+09</td>\n",
       "    </tr>\n",
       "    <tr>\n",
       "      <th>384906</th>\n",
       "      <td>5fe0713a9be4e353a5abbb39</td>\n",
       "      <td>1.552762e+09</td>\n",
       "    </tr>\n",
       "  </tbody>\n",
       "</table>\n",
       "<p>10886610 rows × 2 columns</p>\n",
       "</div>"
      ],
      "text/plain": [
       "                          userid          rest\n",
       "0       61836eb882ac4fbb28ec8614  3.144232e+07\n",
       "1       5b9df8bcce3e9302c4c6e455  3.144232e+07\n",
       "2       5fe311dbc6045131b90d40e2  3.144232e+07\n",
       "3       5c9645b66d633b3d2257e846  3.144232e+07\n",
       "5       5c6f708d452b497e76246294  3.144232e+07\n",
       "...                          ...           ...\n",
       "384900  5cc43501e95b902d31944f43  1.552762e+09\n",
       "384901  5e412c4d8f87a842bcfeeb29  1.552762e+09\n",
       "384902  60381f06be3a3d3ca846ba38  1.552762e+09\n",
       "384903  5ebe29768f87a842bc8b0273  1.552762e+09\n",
       "384906  5fe0713a9be4e353a5abbb39  1.552762e+09\n",
       "\n",
       "[10886610 rows x 2 columns]"
      ]
     },
     "execution_count": 13,
     "metadata": {},
     "output_type": "execute_result"
    }
   ],
   "source": [
    "data = data[~data['rest'].isnull()]\n",
    "data.reset_index(drop=True, replace = True)"
   ]
  },
  {
   "cell_type": "code",
   "execution_count": 7,
   "metadata": {},
   "outputs": [],
   "source": [
    "data = data.drop_duplicates()\n",
    "data['rest'].isnull()"
   ]
  },
  {
   "cell_type": "code",
   "execution_count": 7,
   "metadata": {},
   "outputs": [],
   "source": [
    "user2idx = {user:idx for idx, user in enumerate(data['userid'].unique())}\n",
    "idx2user = {idx:user for idx, user in enumerate(data['userid'].unique())}\n",
    "\n",
    "## 패딩 때문에 0 비워놓음\n",
    "item2idx = {item:(idx+1) for idx, item in enumerate(data['rest'].unique())}\n",
    "idx2item = {(idx+1):item for idx, item in enumerate(data['rest'].unique())}\n",
    "\n",
    "data['user_code'] = data['userid'].map(user2idx)\n",
    "data['rest_code'] = data['rest'].map(item2idx)\n",
    "rest['rest_code'] = rest['url'].map(item2idx)"
   ]
  },
  {
   "cell_type": "code",
   "execution_count": null,
   "metadata": {},
   "outputs": [],
   "source": [
    "random.seed(seed)"
   ]
  },
  {
   "cell_type": "code",
   "execution_count": 14,
   "metadata": {},
   "outputs": [],
   "source": [
    "data['rand'] = data['rest'].apply(lambda x : random.random())\n",
    "_user = data['userid'].value_counts().reset_index()\n",
    "_user.columns = ['userid', 'cnt']\n",
    "data = pd.merge(data, _user, how = 'left', on = 'userid')\n",
    "data = data[data['cnt'] > 5].reset_index(drop = True)\n",
    "data = data[~(data['userid'] == '')].reset_index(drop = True)\n",
    "data = data.sort_values(['userid', 'rand']).reset_index(drop = True)\n",
    "data['tem'] = 1\n",
    "data['seq'] = data.groupby('userid')['tem'].apply(lambda x : x.cumsum())\n",
    "data['cnt'] = data['cnt'] // 5 + 1"
   ]
  },
  {
   "cell_type": "code",
   "execution_count": 15,
   "metadata": {},
   "outputs": [],
   "source": [
    "# train/ test 분할하는 부분\n",
    "train = data[data['tem'] + 1 < data['seq']]\n",
    "test = data[data['tem'] + 1 >= data['seq']]"
   ]
  },
  {
   "cell_type": "code",
   "execution_count": 18,
   "metadata": {},
   "outputs": [
    {
     "data": {
      "text/html": [
       "<div>\n",
       "<style scoped>\n",
       "    .dataframe tbody tr th:only-of-type {\n",
       "        vertical-align: middle;\n",
       "    }\n",
       "\n",
       "    .dataframe tbody tr th {\n",
       "        vertical-align: top;\n",
       "    }\n",
       "\n",
       "    .dataframe thead th {\n",
       "        text-align: right;\n",
       "    }\n",
       "</style>\n",
       "<table border=\"1\" class=\"dataframe\">\n",
       "  <thead>\n",
       "    <tr style=\"text-align: right;\">\n",
       "      <th></th>\n",
       "      <th>user_code</th>\n",
       "      <th>rest_code</th>\n",
       "      <th>user</th>\n",
       "    </tr>\n",
       "  </thead>\n",
       "  <tbody>\n",
       "    <tr>\n",
       "      <th>0</th>\n",
       "      <td>0</td>\n",
       "      <td>[2062, 2840, 875, 2841, 2867, 2855, 2846, 1, 2...</td>\n",
       "      <td>6130db4973adbe125329a3e4</td>\n",
       "    </tr>\n",
       "    <tr>\n",
       "      <th>1</th>\n",
       "      <td>4</td>\n",
       "      <td>[2433, 2391, 2719, 1228, 265, 2646, 1048, 2440...</td>\n",
       "      <td>5dafbac38f87a842bcb2ed5e</td>\n",
       "    </tr>\n",
       "    <tr>\n",
       "      <th>2</th>\n",
       "      <td>12</td>\n",
       "      <td>[832, 1245, 1061, 1428]</td>\n",
       "      <td>5e251c708f87a842bcd7b4ce</td>\n",
       "    </tr>\n",
       "    <tr>\n",
       "      <th>3</th>\n",
       "      <td>13</td>\n",
       "      <td>[505, 490, 1, 293, 147, 2125, 1226]</td>\n",
       "      <td>5cf8f9149fa0794fb6921317</td>\n",
       "    </tr>\n",
       "    <tr>\n",
       "      <th>4</th>\n",
       "      <td>22</td>\n",
       "      <td>[1561, 1798, 318, 1602, 19, 2062, 600, 1557, 9...</td>\n",
       "      <td>5d9b10208f87a842bca49a9a</td>\n",
       "    </tr>\n",
       "    <tr>\n",
       "      <th>...</th>\n",
       "      <td>...</td>\n",
       "      <td>...</td>\n",
       "      <td>...</td>\n",
       "    </tr>\n",
       "    <tr>\n",
       "      <th>32677</th>\n",
       "      <td>396071</td>\n",
       "      <td>[2841, 2870, 2838, 2876]</td>\n",
       "      <td>5ff3db65a95a075d8049a8b1</td>\n",
       "    </tr>\n",
       "    <tr>\n",
       "      <th>32678</th>\n",
       "      <td>396072</td>\n",
       "      <td>[2838, 2841, 2855, 2870]</td>\n",
       "      <td>5cdd4ef5f3c1899b7e2c1be1</td>\n",
       "    </tr>\n",
       "    <tr>\n",
       "      <th>32679</th>\n",
       "      <td>396170</td>\n",
       "      <td>[2846, 2849, 2868, 2863]</td>\n",
       "      <td>6107d8f05a49a18e3be5bea2</td>\n",
       "    </tr>\n",
       "    <tr>\n",
       "      <th>32680</th>\n",
       "      <td>396378</td>\n",
       "      <td>[2841, 2854, 2849, 2863]</td>\n",
       "      <td>5bf35aabe1ca0bee57c838df</td>\n",
       "    </tr>\n",
       "    <tr>\n",
       "      <th>32681</th>\n",
       "      <td>396612</td>\n",
       "      <td>[2867, 2849, 2855, 2876, 2842]</td>\n",
       "      <td>5d898ed58f87a842bc4e6224</td>\n",
       "    </tr>\n",
       "  </tbody>\n",
       "</table>\n",
       "<p>32682 rows × 3 columns</p>\n",
       "</div>"
      ],
      "text/plain": [
       "       user_code                                          rest_code  \\\n",
       "0              0  [2062, 2840, 875, 2841, 2867, 2855, 2846, 1, 2...   \n",
       "1              4  [2433, 2391, 2719, 1228, 265, 2646, 1048, 2440...   \n",
       "2             12                            [832, 1245, 1061, 1428]   \n",
       "3             13                [505, 490, 1, 293, 147, 2125, 1226]   \n",
       "4             22  [1561, 1798, 318, 1602, 19, 2062, 600, 1557, 9...   \n",
       "...          ...                                                ...   \n",
       "32677     396071                           [2841, 2870, 2838, 2876]   \n",
       "32678     396072                           [2838, 2841, 2855, 2870]   \n",
       "32679     396170                           [2846, 2849, 2868, 2863]   \n",
       "32680     396378                           [2841, 2854, 2849, 2863]   \n",
       "32681     396612                     [2867, 2849, 2855, 2876, 2842]   \n",
       "\n",
       "                           user  \n",
       "0      6130db4973adbe125329a3e4  \n",
       "1      5dafbac38f87a842bcb2ed5e  \n",
       "2      5e251c708f87a842bcd7b4ce  \n",
       "3      5cf8f9149fa0794fb6921317  \n",
       "4      5d9b10208f87a842bca49a9a  \n",
       "...                         ...  \n",
       "32677  5ff3db65a95a075d8049a8b1  \n",
       "32678  5cdd4ef5f3c1899b7e2c1be1  \n",
       "32679  6107d8f05a49a18e3be5bea2  \n",
       "32680  5bf35aabe1ca0bee57c838df  \n",
       "32681  5d898ed58f87a842bc4e6224  \n",
       "\n",
       "[32682 rows x 3 columns]"
      ]
     },
     "execution_count": 18,
     "metadata": {},
     "output_type": "execute_result"
    }
   ],
   "source": [
    "user = train.groupby('user_code')['rest_code'].unique().to_frame().reset_index()\n",
    "user['user'] = user['user_code'].map(idx2user)\n",
    "rest = rest.drop(['review', 'len','rating','count'], axis = 1)"
   ]
  },
  {
   "cell_type": "code",
   "execution_count": 26,
   "metadata": {},
   "outputs": [],
   "source": [
    "train[['userid', 'rest', 'user_code', 'rest_code']].to_csv('G_train2.csv', index = False)\n",
    "test[['userid', 'rest', 'user_code', 'rest_code']].to_csv('G_test2.csv', index = False)\n",
    "\n",
    "user.to_csv('user.csv', index = False)\n",
    "rest.to_csv('rest.csv', index = False)"
   ]
  },
  {
   "cell_type": "code",
   "execution_count": null,
   "metadata": {},
   "outputs": [],
   "source": []
  }
 ],
 "metadata": {
  "kernelspec": {
   "display_name": "model",
   "language": "python",
   "name": "model"
  },
  "language_info": {
   "codemirror_mode": {
    "name": "ipython",
    "version": 3
   },
   "file_extension": ".py",
   "mimetype": "text/x-python",
   "name": "python",
   "nbconvert_exporter": "python",
   "pygments_lexer": "ipython3",
   "version": "3.8.15"
  },
  "orig_nbformat": 4,
  "vscode": {
   "interpreter": {
    "hash": "d4d1e4263499bec80672ea0156c357c1ee493ec2b1c70f0acce89fc37c4a6abe"
   }
  }
 },
 "nbformat": 4,
 "nbformat_minor": 2
}
