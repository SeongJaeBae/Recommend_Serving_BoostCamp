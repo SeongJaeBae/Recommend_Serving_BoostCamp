{
 "cells": [
  {
   "attachments": {},
   "cell_type": "markdown",
   "metadata": {},
   "source": [
    "## 데이터 불러오기"
   ]
  },
  {
   "cell_type": "code",
   "execution_count": 1,
   "metadata": {},
   "outputs": [],
   "source": [
    "import numpy as np\n",
    "import pandas as pd\n",
    "\n",
    "import os\n",
    "\n",
    "import warnings\n",
    "warnings.filterwarnings('ignore')\n",
    "\n",
    "path = '../data/'\n",
    "\n",
    "train = pd.read_csv(path + 'G_train.csv')\n"
   ]
  },
  {
   "attachments": {},
   "cell_type": "markdown",
   "metadata": {},
   "source": [
    "## 베이스라인 시작 전 해야하는 train_new 파일 및 item2attributes 생성 코드"
   ]
  },
  {
   "cell_type": "code",
   "execution_count": 4,
   "metadata": {},
   "outputs": [],
   "source": [
    "# 모델 시작 전 인코딩하는 과정입니다.\n",
    "user2idx = {user:idx for idx, user in enumerate(train['userid'].unique())}\n",
    "idx2user = {idx:user for idx, user in enumerate(train['userid'].unique())}\n",
    "\n",
    "## 패딩 때문에 0 비워놓음\n",
    "item2idx = {item:(idx+1) for idx, item in enumerate(train['rest'].unique())}\n",
    "idx2item = {(idx+1):item for idx, item in enumerate(train['rest'].unique())}\n",
    "\n",
    "\n",
    "train_new = train.copy()\n",
    "\n",
    "train_new['userid'] = train_new['userid'].map(user2idx)\n",
    "train_new['rest'] = train_new['rest'].map(item2idx)\n",
    "\n",
    "\n",
    "train_new.to_csv(os.path.join(path, 'train_new.csv'), index = False)\n",
    "\n"
   ]
  },
  {
   "attachments": {},
   "cell_type": "markdown",
   "metadata": {},
   "source": [
    "## 모델 학습 후 submission 값 디코딩하는 코드"
   ]
  },
  {
   "cell_type": "code",
   "execution_count": null,
   "metadata": {},
   "outputs": [],
   "source": [
    "# 모델 학습 후 디코딩하는 과정입니다.\n",
    "out_path = './output'\n",
    "output = pd.read_csv(os.path.join(out_path, 'submission.csv'))\n",
    "output['user'] = output['user'].map(idx2user)\n",
    "output['item'] = output['item'].map(idx2item)\n",
    "output.to_csv(os.path.join(out_path, 'deco_trainAG_submission.csv'), index = False)"
   ]
  },
  {
   "attachments": {},
   "cell_type": "markdown",
   "metadata": {},
   "source": [
    "## 앙상블 하는 코드"
   ]
  },
  {
   "cell_type": "code",
   "execution_count": null,
   "metadata": {},
   "outputs": [],
   "source": [
    "# 베이스라인 저장된 csv 호출\n",
    "baseline = pd.read_csv(os.path.join(out_path, 'deco_trainAG_submission.csv'))\n",
    "# ease 모델 저장된 csv 호출\n",
    "ease = pd.read_csv(os.path.join(out_path, 'ease.csv'))"
   ]
  },
  {
   "cell_type": "code",
   "execution_count": null,
   "metadata": {},
   "outputs": [],
   "source": [
    "# tem : seq 만들어주기 위한 도구\n",
    "# seq : 랭킹을 매기기 위한 값. 낮을 수록 더 유망한 것.\n",
    "baseline['tem'] = 2\n",
    "ease['tem'] = 2\n",
    "baseline['seq'] = baseline.groupby('user')['tem'].apply(lambda x : x.cumsum())\n",
    "ease['seq'] = ease.groupby('user')['tem'].apply(lambda x : x.cumsum())\n",
    "ease['seq'] = ease['seq'] - 1 # ease를 한 단계 높게 처주기 위해.\n",
    "baseline['seq'] = baseline['seq'] # (+ 2) : 10개 중 baseline 4개만 반영하기 위해 +2, +4 등 조치 취함."
   ]
  },
  {
   "cell_type": "code",
   "execution_count": null,
   "metadata": {},
   "outputs": [],
   "source": [
    "# 베이스라인과 ease 합침.\n",
    "final = pd.concat([baseline, ease])\n",
    "# 베이스라인과 ease에서 모두 추천하는 영화 찾기 위한 코드.\n",
    "# 두 모델에서 모두 추천하는 영화는 0순위로 놓기로 함\n",
    "final['seq'][final.duplicated(['user','item'], False)] = 0 # 0 : 0순위.\n",
    "# 이후 중복 제거\n",
    "final = final.drop_duplicates(['user','item'])\n",
    "# 유저 단위로, seq가 낮을 수록 더 높은 순위에 추천이기 때문에 이렇게 함.\n",
    "final = final.sort_values(['user','seq']).reset_index(drop = True)\n",
    "# 상위 10개만 추림\n",
    "final = final.groupby('user').apply(lambda x : x[:10]).reset_index(drop = True)\n",
    "final[['user','item']].to_csv(os.path.join(out_path, 'ensemble2.csv'), index = False)"
   ]
  }
 ],
 "metadata": {
  "kernelspec": {
   "display_name": "base",
   "language": "python",
   "name": "python3"
  },
  "language_info": {
   "codemirror_mode": {
    "name": "ipython",
    "version": 3
   },
   "file_extension": ".py",
   "mimetype": "text/x-python",
   "name": "python",
   "nbconvert_exporter": "python",
   "pygments_lexer": "ipython3",
   "version": "3.8.5"
  },
  "orig_nbformat": 4,
  "vscode": {
   "interpreter": {
    "hash": "d4d1e4263499bec80672ea0156c357c1ee493ec2b1c70f0acce89fc37c4a6abe"
   }
  }
 },
 "nbformat": 4,
 "nbformat_minor": 2
}
