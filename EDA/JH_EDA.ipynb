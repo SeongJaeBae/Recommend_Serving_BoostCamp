{
 "cells": [
  {
   "cell_type": "code",
   "execution_count": 56,
   "metadata": {},
   "outputs": [],
   "source": [
    "import pandas as pd\n",
    "import numpy as np\n",
    "\n",
    "import matplotlib.pyplot as plt\n",
    "\n",
    "import re"
   ]
  },
  {
   "cell_type": "code",
   "execution_count": 57,
   "metadata": {},
   "outputs": [],
   "source": [
    "area = 'Gangnam'"
   ]
  },
  {
   "cell_type": "code",
   "execution_count": 58,
   "metadata": {},
   "outputs": [],
   "source": [
    "rest = pd.read_csv(f'../crawings/area_csv/{area}/rest_concat.csv')\n",
    "data = pd.read_csv(f'../crawings/user_csv/{area}/user_concat.csv')\n",
    "data_concat = pd.merge(data, rest, left_on = 'rest', right_on = 'url', how = \"left\")\n",
    "data_concat = data_concat[~data_concat['rest'].isna()]"
   ]
  },
  {
   "cell_type": "code",
   "execution_count": 59,
   "metadata": {},
   "outputs": [],
   "source": [
    "#data_concat[data_concat['tag'].str.contains('72420')]#\n",
    "data_concat['tag'] = data_concat['tag'].apply(lambda x : x.split(','))"
   ]
  },
  {
   "cell_type": "code",
   "execution_count": 61,
   "metadata": {},
   "outputs": [
    {
     "data": {
      "text/plain": [
       "{'가정식',\n",
       " '갈비탕',\n",
       " '감자탕',\n",
       " '게요리',\n",
       " '고기뷔페',\n",
       " '고기요리',\n",
       " '곰탕',\n",
       " '곱창',\n",
       " '공방',\n",
       " '과일',\n",
       " '국밥',\n",
       " '국수',\n",
       " '굴요리',\n",
       " '기사식당',\n",
       " '김밥',\n",
       " '꼬치',\n",
       " '낙지요리',\n",
       " '남미음식',\n",
       " '냉면',\n",
       " '다이어트',\n",
       " '달빛오징어광어',\n",
       " '닭갈비',\n",
       " '닭강정',\n",
       " '닭발',\n",
       " '닭볶음탕',\n",
       " '닭요리',\n",
       " '닭장수후라이드',\n",
       " '덮밥',\n",
       " '도넛',\n",
       " '도시락',\n",
       " '돈가스',\n",
       " '돼지고기구이',\n",
       " '두부요리',\n",
       " '디저트',\n",
       " '딤섬',\n",
       " '떡볶이',\n",
       " '라이브카페',\n",
       " '롤',\n",
       " '립',\n",
       " '막국수',\n",
       " '막창',\n",
       " '만두',\n",
       " '매운탕',\n",
       " '맥주',\n",
       " '먹장어요리',\n",
       " '멕시코',\n",
       " '민속주점',\n",
       " '밀키트',\n",
       " '바(BAR)',\n",
       " '바나프레소',\n",
       " '바닷가재요리',\n",
       " '백반',\n",
       " '백숙',\n",
       " '베이글',\n",
       " '베이커리',\n",
       " '베트남음식',\n",
       " '보리밥',\n",
       " '보쌈',\n",
       " '복어요리',\n",
       " '북카페',\n",
       " '분식',\n",
       " '뷔페',\n",
       " '브런치',\n",
       " '블루보틀',\n",
       " '빈대떡',\n",
       " '빙수',\n",
       " '삼계탕',\n",
       " '샌드위치',\n",
       " '샐러드',\n",
       " '샐러드뷔페',\n",
       " '생선구이',\n",
       " '생선요리',\n",
       " '생선회',\n",
       " '샤브샤브',\n",
       " '설렁탕',\n",
       " '소고기구이',\n",
       " '소바',\n",
       " '순대',\n",
       " '순댓국',\n",
       " '술집',\n",
       " '스마일명품찹쌀꽈배기',\n",
       " '스마일찹쌀꽈배기',\n",
       " '스터디카페',\n",
       " '스테이크',\n",
       " '스파게티',\n",
       " '스파게티스토리',\n",
       " '스페인음식',\n",
       " '심야오뎅',\n",
       " '쌈밥',\n",
       " '아귀찜',\n",
       " '아시아음식',\n",
       " '아이스크림',\n",
       " '양',\n",
       " '양갈비',\n",
       " '양꼬치',\n",
       " '양식',\n",
       " '오뎅',\n",
       " '오리요리',\n",
       " '오징어요리',\n",
       " '와인',\n",
       " '와플',\n",
       " '요리주점',\n",
       " '우동',\n",
       " '육류',\n",
       " '음식점',\n",
       " '이북음식',\n",
       " '이자카야',\n",
       " '이탈리아음식',\n",
       " '인도음식',\n",
       " '일도씨닭갈비',\n",
       " '일본식라면',\n",
       " '일식',\n",
       " '일식당',\n",
       " '일품향',\n",
       " '장어',\n",
       " '전',\n",
       " '전골',\n",
       " '전복요리',\n",
       " '전통',\n",
       " '정육식당',\n",
       " '조개요리',\n",
       " '족발',\n",
       " '족황상제',\n",
       " '종합분식',\n",
       " '종합패션',\n",
       " '주스전문점',\n",
       " '죽',\n",
       " '중식당',\n",
       " '중식만두',\n",
       " '찌개',\n",
       " '찜닭',\n",
       " '차',\n",
       " '채식',\n",
       " '초밥',\n",
       " '초밥뷔페',\n",
       " '추어탕',\n",
       " '치킨',\n",
       " '카레',\n",
       " '카페',\n",
       " '칼국수',\n",
       " '컵밥',\n",
       " '케이크전문',\n",
       " '킹크랩요리',\n",
       " '태국음식',\n",
       " '테이크아웃커피',\n",
       " '토스트',\n",
       " '파스타전문',\n",
       " '패밀리레스토랑',\n",
       " '포장마차',\n",
       " '푸드코트',\n",
       " '퓨전음식',\n",
       " '프랑스음식',\n",
       " '피자',\n",
       " '한식',\n",
       " '한식뷔페',\n",
       " '한정식',\n",
       " '해물',\n",
       " '해물찜',\n",
       " '해물탕',\n",
       " '해산물뷔페',\n",
       " '해장국',\n",
       " '햄버거',\n",
       " '향토음식',\n",
       " '호두과자',\n",
       " '호떡',\n",
       " '호프',\n",
       " '홍차전문점'}"
      ]
     },
     "execution_count": 61,
     "metadata": {},
     "output_type": "execute_result"
    }
   ],
   "source": [
    "values"
   ]
  },
  {
   "cell_type": "code",
   "execution_count": 60,
   "metadata": {},
   "outputs": [
    {
     "data": {
      "text/plain": [
       "0          [스테이크, 립]\n",
       "1          [스테이크, 립]\n",
       "2          [스테이크, 립]\n",
       "3          [스테이크, 립]\n",
       "4          [스테이크, 립]\n",
       "             ...    \n",
       "1168365         [쌈밥]\n",
       "1168366         [쌈밥]\n",
       "1168367         [쌈밥]\n",
       "1168368         [쌈밥]\n",
       "1168369         [쌈밥]\n",
       "Name: tag, Length: 1168368, dtype: object"
      ]
     },
     "execution_count": 60,
     "metadata": {},
     "output_type": "execute_result"
    }
   ],
   "source": [
    "values = set()\n",
    "\n",
    "def funs(x):\n",
    "    values.update(x)\n",
    "    return x\n",
    "\n",
    "data_concat['tag'].apply(lambda x : funs(x))"
   ]
  },
  {
   "cell_type": "code",
   "execution_count": 18,
   "metadata": {},
   "outputs": [],
   "source": [
    "data['userid'] = data['link'].apply(lambda x: str(re.findall(r'my/[a-z0-9]+/', x))[5:-3])"
   ]
  },
  {
   "cell_type": "code",
   "execution_count": 19,
   "metadata": {},
   "outputs": [
    {
     "data": {
      "text/html": [
       "<div>\n",
       "<style scoped>\n",
       "    .dataframe tbody tr th:only-of-type {\n",
       "        vertical-align: middle;\n",
       "    }\n",
       "\n",
       "    .dataframe tbody tr th {\n",
       "        vertical-align: top;\n",
       "    }\n",
       "\n",
       "    .dataframe thead th {\n",
       "        text-align: right;\n",
       "    }\n",
       "</style>\n",
       "<table border=\"1\" class=\"dataframe\">\n",
       "  <thead>\n",
       "    <tr style=\"text-align: right;\">\n",
       "      <th></th>\n",
       "      <th>link</th>\n",
       "      <th>user</th>\n",
       "      <th>rest</th>\n",
       "      <th>userid</th>\n",
       "    </tr>\n",
       "  </thead>\n",
       "  <tbody>\n",
       "    <tr>\n",
       "      <th>0</th>\n",
       "      <td>https://m.place.naver.com/my/6130db4973adbe125...</td>\n",
       "      <td>로지씨리뷰 574사진 458팔로워 46팔로우방문자리뷰방문자리뷰방문자리뷰방문자리뷰이전...</td>\n",
       "      <td>1.675303e+09</td>\n",
       "      <td>6130db4973adbe125329a3e4</td>\n",
       "    </tr>\n",
       "    <tr>\n",
       "      <th>1</th>\n",
       "      <td>https://m.place.naver.com/my/5daf02038f87a842b...</td>\n",
       "      <td>딴2리뷰 224사진 303팔로워 7팔로우방문자리뷰방문자리뷰방문자리뷰방문자리뷰방문자리...</td>\n",
       "      <td>1.675303e+09</td>\n",
       "      <td>5daf02038f87a842bc4da53f</td>\n",
       "    </tr>\n",
       "    <tr>\n",
       "      <th>2</th>\n",
       "      <td>https://m.place.naver.com/my/5c6fba93cfc813f61...</td>\n",
       "      <td>제제7225리뷰 56사진 168팔로워 3팔로우방문자리뷰방문자리뷰방문자리뷰방문자리뷰방...</td>\n",
       "      <td>1.675303e+09</td>\n",
       "      <td>5c6fba93cfc813f61e418d7f</td>\n",
       "    </tr>\n",
       "  </tbody>\n",
       "</table>\n",
       "</div>"
      ],
      "text/plain": [
       "                                                link  \\\n",
       "0  https://m.place.naver.com/my/6130db4973adbe125...   \n",
       "1  https://m.place.naver.com/my/5daf02038f87a842b...   \n",
       "2  https://m.place.naver.com/my/5c6fba93cfc813f61...   \n",
       "\n",
       "                                                user          rest  \\\n",
       "0  로지씨리뷰 574사진 458팔로워 46팔로우방문자리뷰방문자리뷰방문자리뷰방문자리뷰이전...  1.675303e+09   \n",
       "1  딴2리뷰 224사진 303팔로워 7팔로우방문자리뷰방문자리뷰방문자리뷰방문자리뷰방문자리...  1.675303e+09   \n",
       "2  제제7225리뷰 56사진 168팔로워 3팔로우방문자리뷰방문자리뷰방문자리뷰방문자리뷰방...  1.675303e+09   \n",
       "\n",
       "                     userid  \n",
       "0  6130db4973adbe125329a3e4  \n",
       "1  5daf02038f87a842bc4da53f  \n",
       "2  5c6fba93cfc813f61e418d7f  "
      ]
     },
     "execution_count": 19,
     "metadata": {},
     "output_type": "execute_result"
    }
   ],
   "source": [
    "data = data.drop_duplicates(['userid','rest'])\n",
    "data.head(3)"
   ]
  },
  {
   "cell_type": "code",
   "execution_count": 20,
   "metadata": {},
   "outputs": [
    {
     "data": {
      "text/plain": [
       "99.91583057243874"
      ]
     },
     "execution_count": 20,
     "metadata": {},
     "output_type": "execute_result"
    }
   ],
   "source": [
    "100 - len(data) / (len(data['userid'].unique()) * len(data['rest'].unique())) * 100"
   ]
  },
  {
   "cell_type": "code",
   "execution_count": 26,
   "metadata": {},
   "outputs": [
    {
     "data": {
      "text/html": [
       "<div>\n",
       "<style scoped>\n",
       "    .dataframe tbody tr th:only-of-type {\n",
       "        vertical-align: middle;\n",
       "    }\n",
       "\n",
       "    .dataframe tbody tr th {\n",
       "        vertical-align: top;\n",
       "    }\n",
       "\n",
       "    .dataframe thead th {\n",
       "        text-align: right;\n",
       "    }\n",
       "</style>\n",
       "<table border=\"1\" class=\"dataframe\">\n",
       "  <thead>\n",
       "    <tr style=\"text-align: right;\">\n",
       "      <th></th>\n",
       "      <th>link</th>\n",
       "      <th>user</th>\n",
       "      <th>rest</th>\n",
       "    </tr>\n",
       "    <tr>\n",
       "      <th>userid</th>\n",
       "      <th></th>\n",
       "      <th></th>\n",
       "      <th></th>\n",
       "    </tr>\n",
       "  </thead>\n",
       "  <tbody>\n",
       "    <tr>\n",
       "      <th></th>\n",
       "      <td>24</td>\n",
       "      <td>24</td>\n",
       "      <td>23</td>\n",
       "    </tr>\n",
       "    <tr>\n",
       "      <th>5b61c7658f8242cb2a1b1028</th>\n",
       "      <td>9</td>\n",
       "      <td>9</td>\n",
       "      <td>9</td>\n",
       "    </tr>\n",
       "    <tr>\n",
       "      <th>5b62c91cd898db2e71efcc59</th>\n",
       "      <td>2</td>\n",
       "      <td>2</td>\n",
       "      <td>2</td>\n",
       "    </tr>\n",
       "    <tr>\n",
       "      <th>5b62d3b7906905381fbd623a</th>\n",
       "      <td>1</td>\n",
       "      <td>1</td>\n",
       "      <td>1</td>\n",
       "    </tr>\n",
       "    <tr>\n",
       "      <th>5b62e55e10599e4793d54f8a</th>\n",
       "      <td>1</td>\n",
       "      <td>1</td>\n",
       "      <td>1</td>\n",
       "    </tr>\n",
       "    <tr>\n",
       "      <th>...</th>\n",
       "      <td>...</td>\n",
       "      <td>...</td>\n",
       "      <td>...</td>\n",
       "    </tr>\n",
       "    <tr>\n",
       "      <th>63b7b6b8abbacd00063f8407</th>\n",
       "      <td>1</td>\n",
       "      <td>1</td>\n",
       "      <td>1</td>\n",
       "    </tr>\n",
       "    <tr>\n",
       "      <th>63b943ae9ad79c4c19386bdf</th>\n",
       "      <td>1</td>\n",
       "      <td>1</td>\n",
       "      <td>1</td>\n",
       "    </tr>\n",
       "    <tr>\n",
       "      <th>63ba9a3e1438fc3a9c9e1618</th>\n",
       "      <td>1</td>\n",
       "      <td>1</td>\n",
       "      <td>1</td>\n",
       "    </tr>\n",
       "    <tr>\n",
       "      <th>63bb91761438fc3a9caff9ea</th>\n",
       "      <td>1</td>\n",
       "      <td>1</td>\n",
       "      <td>1</td>\n",
       "    </tr>\n",
       "    <tr>\n",
       "      <th>63bba00c4eaa1133e1aec988</th>\n",
       "      <td>1</td>\n",
       "      <td>1</td>\n",
       "      <td>1</td>\n",
       "    </tr>\n",
       "  </tbody>\n",
       "</table>\n",
       "<p>400640 rows × 3 columns</p>\n",
       "</div>"
      ],
      "text/plain": [
       "                          link  user  rest\n",
       "userid                                    \n",
       "                            24    24    23\n",
       "5b61c7658f8242cb2a1b1028     9     9     9\n",
       "5b62c91cd898db2e71efcc59     2     2     2\n",
       "5b62d3b7906905381fbd623a     1     1     1\n",
       "5b62e55e10599e4793d54f8a     1     1     1\n",
       "...                        ...   ...   ...\n",
       "63b7b6b8abbacd00063f8407     1     1     1\n",
       "63b943ae9ad79c4c19386bdf     1     1     1\n",
       "63ba9a3e1438fc3a9c9e1618     1     1     1\n",
       "63bb91761438fc3a9caff9ea     1     1     1\n",
       "63bba00c4eaa1133e1aec988     1     1     1\n",
       "\n",
       "[400640 rows x 3 columns]"
      ]
     },
     "execution_count": 26,
     "metadata": {},
     "output_type": "execute_result"
    }
   ],
   "source": [
    "data.groupby(['userid']).count()"
   ]
  },
  {
   "cell_type": "code",
   "execution_count": 21,
   "metadata": {},
   "outputs": [
    {
     "data": {
      "text/plain": [
       "<AxesSubplot: >"
      ]
     },
     "execution_count": 21,
     "metadata": {},
     "output_type": "execute_result"
    },
    {
     "data": {
      "image/png": "[encoded data removed]",
      "text/plain": [
       "<Figure size 640x480 with 1 Axes>"
      ]
     },
     "metadata": {},
     "output_type": "display_data"
    }
   ],
   "source": [
    "tem = data['userid'].value_counts()\n",
    "tem.hist()"
   ]
  },
  {
   "cell_type": "code",
   "execution_count": 24,
   "metadata": {},
   "outputs": [
    {
     "data": {
      "text/plain": [
       "5b9b838c21b2eab77f739133    153\n",
       "5bc69fac446df35606a76b9d    146\n",
       "5dcfce8b8f87a842bcc962d8    142\n",
       "5d7a014d8f87a842bcc7940b    139\n",
       "5b9b32873671c97c9ae39b6b    139\n",
       "                           ... \n",
       "5cb175f5febed35c6b8ef3a4      6\n",
       "5cbd9813e112c9bbd51e33c4      6\n",
       "5da1f5c48f87a842bc94bccd      6\n",
       "5f0652f73b535016872ab61e      6\n",
       "5e0c13aa8f87a842bc008be4      6\n",
       "Name: userid, Length: 32683, dtype: int64"
      ]
     },
     "execution_count": 24,
     "metadata": {},
     "output_type": "execute_result"
    }
   ],
   "source": [
    "tem[tem > 5]"
   ]
  },
  {
   "cell_type": "code",
   "execution_count": 22,
   "metadata": {},
   "outputs": [
    {
     "data": {
      "text/plain": [
       "<AxesSubplot: >"
      ]
     },
     "execution_count": 22,
     "metadata": {},
     "output_type": "execute_result"
    },
    {
     "data": {
      "image/png": "[encoded data removed]",
      "text/plain": [
       "<Figure size 640x480 with 1 Axes>"
      ]
     },
     "metadata": {},
     "output_type": "display_data"
    }
   ],
   "source": [
    "tem.hist(bins = 100)"
   ]
  },
  {
   "cell_type": "code",
   "execution_count": 35,
   "metadata": {},
   "outputs": [],
   "source": [
    "data.drop(columns=[\"len\", 'rest'], inplace=True)"
   ]
  },
  {
   "cell_type": "code",
   "execution_count": 37,
   "metadata": {},
   "outputs": [
    {
     "data": {
      "text/plain": [
       "0         https://m.place.naver.com/my/5e6cf9188f87a842b...\n",
       "1         https://m.place.naver.com/my/5bf2ff7e24985666f...\n",
       "2         https://m.place.naver.com/my/5c4be21cc5ad8f866...\n",
       "3         https://m.place.naver.com/my/5c01351971707708c...\n",
       "4         https://m.place.naver.com/my/5d23fdcac0a4f6992...\n",
       "                                ...                        \n",
       "512459    https://m.place.naver.com/my/5edb0a9a8f87a842b...\n",
       "512460    https://m.place.naver.com/my/5efddb1267c6d4320...\n",
       "512461    https://m.place.naver.com/my/5c216c0f1962c56f2...\n",
       "512462    https://m.place.naver.com/my/5d49103b9b890b505...\n",
       "512463    https://m.place.naver.com/my/5ba1fda47b1f543d3...\n",
       "Name: link, Length: 512464, dtype: object"
      ]
     },
     "execution_count": 37,
     "metadata": {},
     "output_type": "execute_result"
    }
   ],
   "source": [
    "test['link']"
   ]
  },
  {
   "cell_type": "code",
   "execution_count": 115,
   "metadata": {},
   "outputs": [
    {
     "data": {
      "text/html": [
       "<div>\n",
       "<style scoped>\n",
       "    .dataframe tbody tr th:only-of-type {\n",
       "        vertical-align: middle;\n",
       "    }\n",
       "\n",
       "    .dataframe tbody tr th {\n",
       "        vertical-align: top;\n",
       "    }\n",
       "\n",
       "    .dataframe thead th {\n",
       "        text-align: right;\n",
       "    }\n",
       "</style>\n",
       "<table border=\"1\" class=\"dataframe\">\n",
       "  <thead>\n",
       "    <tr style=\"text-align: right;\">\n",
       "      <th></th>\n",
       "      <th>restaurant</th>\n",
       "      <th>tag</th>\n",
       "      <th>url</th>\n",
       "      <th>rating</th>\n",
       "      <th>count</th>\n",
       "      <th>userid</th>\n",
       "    </tr>\n",
       "  </thead>\n",
       "  <tbody>\n",
       "    <tr>\n",
       "      <th>0</th>\n",
       "      <td>아빌스 베이커리</td>\n",
       "      <td>베이커리</td>\n",
       "      <td>1813071841</td>\n",
       "      <td>NaN</td>\n",
       "      <td>40.0</td>\n",
       "      <td>5e6cf9188f87a842bc7b797d</td>\n",
       "    </tr>\n",
       "    <tr>\n",
       "      <th>1</th>\n",
       "      <td>아빌스 베이커리</td>\n",
       "      <td>베이커리</td>\n",
       "      <td>1813071841</td>\n",
       "      <td>NaN</td>\n",
       "      <td>40.0</td>\n",
       "      <td>5bf2ff7e24985666f8f90f91</td>\n",
       "    </tr>\n",
       "    <tr>\n",
       "      <th>2</th>\n",
       "      <td>아빌스 베이커리</td>\n",
       "      <td>베이커리</td>\n",
       "      <td>1813071841</td>\n",
       "      <td>NaN</td>\n",
       "      <td>40.0</td>\n",
       "      <td>5c4be21cc5ad8f866e1ad0db</td>\n",
       "    </tr>\n",
       "    <tr>\n",
       "      <th>3</th>\n",
       "      <td>아빌스 베이커리</td>\n",
       "      <td>베이커리</td>\n",
       "      <td>1813071841</td>\n",
       "      <td>NaN</td>\n",
       "      <td>40.0</td>\n",
       "      <td>5c01351971707708c6ea27e2</td>\n",
       "    </tr>\n",
       "    <tr>\n",
       "      <th>4</th>\n",
       "      <td>아빌스 베이커리</td>\n",
       "      <td>베이커리</td>\n",
       "      <td>1813071841</td>\n",
       "      <td>NaN</td>\n",
       "      <td>40.0</td>\n",
       "      <td>5d23fdcac0a4f6992dbbd069</td>\n",
       "    </tr>\n",
       "    <tr>\n",
       "      <th>...</th>\n",
       "      <td>...</td>\n",
       "      <td>...</td>\n",
       "      <td>...</td>\n",
       "      <td>...</td>\n",
       "      <td>...</td>\n",
       "      <td>...</td>\n",
       "    </tr>\n",
       "    <tr>\n",
       "      <th>512459</th>\n",
       "      <td>에그드랍 연신내역점</td>\n",
       "      <td>샌드위치</td>\n",
       "      <td>1767206129</td>\n",
       "      <td>4.28</td>\n",
       "      <td>999.0</td>\n",
       "      <td>5edb0a9a8f87a842bcb3a6fd</td>\n",
       "    </tr>\n",
       "    <tr>\n",
       "      <th>512460</th>\n",
       "      <td>에그드랍 연신내역점</td>\n",
       "      <td>샌드위치</td>\n",
       "      <td>1767206129</td>\n",
       "      <td>4.28</td>\n",
       "      <td>999.0</td>\n",
       "      <td>5efddb1267c6d4320f56ba07</td>\n",
       "    </tr>\n",
       "    <tr>\n",
       "      <th>512461</th>\n",
       "      <td>에그드랍 연신내역점</td>\n",
       "      <td>샌드위치</td>\n",
       "      <td>1767206129</td>\n",
       "      <td>4.28</td>\n",
       "      <td>999.0</td>\n",
       "      <td>5c216c0f1962c56f29f2b3d7</td>\n",
       "    </tr>\n",
       "    <tr>\n",
       "      <th>512462</th>\n",
       "      <td>에그드랍 연신내역점</td>\n",
       "      <td>샌드위치</td>\n",
       "      <td>1767206129</td>\n",
       "      <td>4.28</td>\n",
       "      <td>999.0</td>\n",
       "      <td>5d49103b9b890b505c2ad718</td>\n",
       "    </tr>\n",
       "    <tr>\n",
       "      <th>512463</th>\n",
       "      <td>에그드랍 연신내역점</td>\n",
       "      <td>샌드위치</td>\n",
       "      <td>1767206129</td>\n",
       "      <td>4.28</td>\n",
       "      <td>999.0</td>\n",
       "      <td>5ba1fda47b1f543d3dfb5499</td>\n",
       "    </tr>\n",
       "  </tbody>\n",
       "</table>\n",
       "<p>512464 rows × 6 columns</p>\n",
       "</div>"
      ],
      "text/plain": [
       "        restaurant   tag         url  rating  count                    userid\n",
       "0         아빌스 베이커리  베이커리  1813071841     NaN   40.0  5e6cf9188f87a842bc7b797d\n",
       "1         아빌스 베이커리  베이커리  1813071841     NaN   40.0  5bf2ff7e24985666f8f90f91\n",
       "2         아빌스 베이커리  베이커리  1813071841     NaN   40.0  5c4be21cc5ad8f866e1ad0db\n",
       "3         아빌스 베이커리  베이커리  1813071841     NaN   40.0  5c01351971707708c6ea27e2\n",
       "4         아빌스 베이커리  베이커리  1813071841     NaN   40.0  5d23fdcac0a4f6992dbbd069\n",
       "...            ...   ...         ...     ...    ...                       ...\n",
       "512459  에그드랍 연신내역점  샌드위치  1767206129    4.28  999.0  5edb0a9a8f87a842bcb3a6fd\n",
       "512460  에그드랍 연신내역점  샌드위치  1767206129    4.28  999.0  5efddb1267c6d4320f56ba07\n",
       "512461  에그드랍 연신내역점  샌드위치  1767206129    4.28  999.0  5c216c0f1962c56f29f2b3d7\n",
       "512462  에그드랍 연신내역점  샌드위치  1767206129    4.28  999.0  5d49103b9b890b505c2ad718\n",
       "512463  에그드랍 연신내역점  샌드위치  1767206129    4.28  999.0  5ba1fda47b1f543d3dfb5499\n",
       "\n",
       "[512464 rows x 6 columns]"
      ]
     },
     "execution_count": 115,
     "metadata": {},
     "output_type": "execute_result"
    }
   ],
   "source": [
    "test"
   ]
  },
  {
   "cell_type": "code",
   "execution_count": 104,
   "metadata": {},
   "outputs": [],
   "source": [
    "test['userid'] = test['link'].apply(lambda x: str(re.findall(r'my/[a-z0-9]+/', x))[5:-3])"
   ]
  },
  {
   "cell_type": "code",
   "execution_count": 106,
   "metadata": {},
   "outputs": [],
   "source": [
    "test.drop(columns=['link'], inplace=True)"
   ]
  },
  {
   "cell_type": "code",
   "execution_count": 112,
   "metadata": {},
   "outputs": [],
   "source": [
    "test.drop(columns=['review'], inplace=True)"
   ]
  },
  {
   "cell_type": "code",
   "execution_count": 114,
   "metadata": {},
   "outputs": [],
   "source": [
    "test.drop(columns=['user'], inplace=True)"
   ]
  },
  {
   "cell_type": "code",
   "execution_count": 110,
   "metadata": {},
   "outputs": [
    {
     "data": {
      "text/plain": [
       "count    97208.000000\n",
       "mean         5.271829\n",
       "std         13.653532\n",
       "min          1.000000\n",
       "25%          1.000000\n",
       "50%          2.000000\n",
       "75%          4.000000\n",
       "max        812.000000\n",
       "Name: userid, dtype: float64"
      ]
     },
     "execution_count": 110,
     "metadata": {},
     "output_type": "execute_result"
    }
   ],
   "source": [
    "test['userid'].value_counts().describe()"
   ]
  },
  {
   "cell_type": "code",
   "execution_count": null,
   "metadata": {},
   "outputs": [],
   "source": []
  },
  {
   "cell_type": "code",
   "execution_count": 95,
   "metadata": {},
   "outputs": [
    {
     "data": {
      "text/plain": [
       "link           object\n",
       "user           object\n",
       "restaurant     object\n",
       "tag            object\n",
       "url             int64\n",
       "review         object\n",
       "rating        float64\n",
       "count         float64\n",
       "userid         object\n",
       "dtype: object"
      ]
     },
     "execution_count": 95,
     "metadata": {},
     "output_type": "execute_result"
    }
   ],
   "source": [
    "test.dtypes"
   ]
  },
  {
   "cell_type": "code",
   "execution_count": 82,
   "metadata": {},
   "outputs": [
    {
     "ename": "KeyError",
     "evalue": "'userid'",
     "output_type": "error",
     "traceback": [
      "\u001b[1;31m---------------------------------------------------------------------------\u001b[0m",
      "\u001b[1;31mKeyError\u001b[0m                                  Traceback (most recent call last)",
      "\u001b[1;32mc:\\Users\\secre\\anaconda3\\lib\\site-packages\\pandas\\core\\indexes\\base.py\u001b[0m in \u001b[0;36mget_loc\u001b[1;34m(self, key, method, tolerance)\u001b[0m\n\u001b[0;32m   3628\u001b[0m             \u001b[1;32mtry\u001b[0m\u001b[1;33m:\u001b[0m\u001b[1;33m\u001b[0m\u001b[1;33m\u001b[0m\u001b[0m\n\u001b[1;32m-> 3629\u001b[1;33m                 \u001b[1;32mreturn\u001b[0m \u001b[0mself\u001b[0m\u001b[1;33m.\u001b[0m\u001b[0m_engine\u001b[0m\u001b[1;33m.\u001b[0m\u001b[0mget_loc\u001b[0m\u001b[1;33m(\u001b[0m\u001b[0mcasted_key\u001b[0m\u001b[1;33m)\u001b[0m\u001b[1;33m\u001b[0m\u001b[1;33m\u001b[0m\u001b[0m\n\u001b[0m\u001b[0;32m   3630\u001b[0m             \u001b[1;32mexcept\u001b[0m \u001b[0mKeyError\u001b[0m \u001b[1;32mas\u001b[0m \u001b[0merr\u001b[0m\u001b[1;33m:\u001b[0m\u001b[1;33m\u001b[0m\u001b[1;33m\u001b[0m\u001b[0m\n",
      "\u001b[1;32mc:\\Users\\secre\\anaconda3\\lib\\site-packages\\pandas\\_libs\\index.pyx\u001b[0m in \u001b[0;36mpandas._libs.index.IndexEngine.get_loc\u001b[1;34m()\u001b[0m\n",
      "\u001b[1;32mc:\\Users\\secre\\anaconda3\\lib\\site-packages\\pandas\\_libs\\index.pyx\u001b[0m in \u001b[0;36mpandas._libs.index.IndexEngine.get_loc\u001b[1;34m()\u001b[0m\n",
      "\u001b[1;32mpandas\\_libs\\hashtable_class_helper.pxi\u001b[0m in \u001b[0;36mpandas._libs.hashtable.PyObjectHashTable.get_item\u001b[1;34m()\u001b[0m\n",
      "\u001b[1;32mpandas\\_libs\\hashtable_class_helper.pxi\u001b[0m in \u001b[0;36mpandas._libs.hashtable.PyObjectHashTable.get_item\u001b[1;34m()\u001b[0m\n",
      "\u001b[1;31mKeyError\u001b[0m: 'userid'",
      "\nThe above exception was the direct cause of the following exception:\n",
      "\u001b[1;31mKeyError\u001b[0m                                  Traceback (most recent call last)",
      "\u001b[1;32m~\\AppData\\Local\\Temp\\ipykernel_8832\\936459048.py\u001b[0m in \u001b[0;36m<module>\u001b[1;34m\u001b[0m\n\u001b[1;32m----> 1\u001b[1;33m \u001b[0mdata\u001b[0m\u001b[1;33m[\u001b[0m\u001b[1;34m'userid'\u001b[0m\u001b[1;33m]\u001b[0m \u001b[1;33m=\u001b[0m \u001b[0mdata\u001b[0m\u001b[1;33m[\u001b[0m\u001b[1;34m'userid'\u001b[0m\u001b[1;33m]\u001b[0m\u001b[1;33m.\u001b[0m\u001b[0mastype\u001b[0m\u001b[1;33m(\u001b[0m\u001b[1;34m'str'\u001b[0m\u001b[1;33m)\u001b[0m\u001b[1;33m\u001b[0m\u001b[1;33m\u001b[0m\u001b[0m\n\u001b[0m",
      "\u001b[1;32mc:\\Users\\secre\\anaconda3\\lib\\site-packages\\pandas\\core\\frame.py\u001b[0m in \u001b[0;36m__getitem__\u001b[1;34m(self, key)\u001b[0m\n\u001b[0;32m   3503\u001b[0m             \u001b[1;32mif\u001b[0m \u001b[0mself\u001b[0m\u001b[1;33m.\u001b[0m\u001b[0mcolumns\u001b[0m\u001b[1;33m.\u001b[0m\u001b[0mnlevels\u001b[0m \u001b[1;33m>\u001b[0m \u001b[1;36m1\u001b[0m\u001b[1;33m:\u001b[0m\u001b[1;33m\u001b[0m\u001b[1;33m\u001b[0m\u001b[0m\n\u001b[0;32m   3504\u001b[0m                 \u001b[1;32mreturn\u001b[0m \u001b[0mself\u001b[0m\u001b[1;33m.\u001b[0m\u001b[0m_getitem_multilevel\u001b[0m\u001b[1;33m(\u001b[0m\u001b[0mkey\u001b[0m\u001b[1;33m)\u001b[0m\u001b[1;33m\u001b[0m\u001b[1;33m\u001b[0m\u001b[0m\n\u001b[1;32m-> 3505\u001b[1;33m             \u001b[0mindexer\u001b[0m \u001b[1;33m=\u001b[0m \u001b[0mself\u001b[0m\u001b[1;33m.\u001b[0m\u001b[0mcolumns\u001b[0m\u001b[1;33m.\u001b[0m\u001b[0mget_loc\u001b[0m\u001b[1;33m(\u001b[0m\u001b[0mkey\u001b[0m\u001b[1;33m)\u001b[0m\u001b[1;33m\u001b[0m\u001b[1;33m\u001b[0m\u001b[0m\n\u001b[0m\u001b[0;32m   3506\u001b[0m             \u001b[1;32mif\u001b[0m \u001b[0mis_integer\u001b[0m\u001b[1;33m(\u001b[0m\u001b[0mindexer\u001b[0m\u001b[1;33m)\u001b[0m\u001b[1;33m:\u001b[0m\u001b[1;33m\u001b[0m\u001b[1;33m\u001b[0m\u001b[0m\n\u001b[0;32m   3507\u001b[0m                 \u001b[0mindexer\u001b[0m \u001b[1;33m=\u001b[0m \u001b[1;33m[\u001b[0m\u001b[0mindexer\u001b[0m\u001b[1;33m]\u001b[0m\u001b[1;33m\u001b[0m\u001b[1;33m\u001b[0m\u001b[0m\n",
      "\u001b[1;32mc:\\Users\\secre\\anaconda3\\lib\\site-packages\\pandas\\core\\indexes\\base.py\u001b[0m in \u001b[0;36mget_loc\u001b[1;34m(self, key, method, tolerance)\u001b[0m\n\u001b[0;32m   3629\u001b[0m                 \u001b[1;32mreturn\u001b[0m \u001b[0mself\u001b[0m\u001b[1;33m.\u001b[0m\u001b[0m_engine\u001b[0m\u001b[1;33m.\u001b[0m\u001b[0mget_loc\u001b[0m\u001b[1;33m(\u001b[0m\u001b[0mcasted_key\u001b[0m\u001b[1;33m)\u001b[0m\u001b[1;33m\u001b[0m\u001b[1;33m\u001b[0m\u001b[0m\n\u001b[0;32m   3630\u001b[0m             \u001b[1;32mexcept\u001b[0m \u001b[0mKeyError\u001b[0m \u001b[1;32mas\u001b[0m \u001b[0merr\u001b[0m\u001b[1;33m:\u001b[0m\u001b[1;33m\u001b[0m\u001b[1;33m\u001b[0m\u001b[0m\n\u001b[1;32m-> 3631\u001b[1;33m                 \u001b[1;32mraise\u001b[0m \u001b[0mKeyError\u001b[0m\u001b[1;33m(\u001b[0m\u001b[0mkey\u001b[0m\u001b[1;33m)\u001b[0m \u001b[1;32mfrom\u001b[0m \u001b[0merr\u001b[0m\u001b[1;33m\u001b[0m\u001b[1;33m\u001b[0m\u001b[0m\n\u001b[0m\u001b[0;32m   3632\u001b[0m             \u001b[1;32mexcept\u001b[0m \u001b[0mTypeError\u001b[0m\u001b[1;33m:\u001b[0m\u001b[1;33m\u001b[0m\u001b[1;33m\u001b[0m\u001b[0m\n\u001b[0;32m   3633\u001b[0m                 \u001b[1;31m# If we have a listlike key, _check_indexing_error will raise\u001b[0m\u001b[1;33m\u001b[0m\u001b[1;33m\u001b[0m\u001b[0m\n",
      "\u001b[1;31mKeyError\u001b[0m: 'userid'"
     ]
    }
   ],
   "source": [
    "data['userid'] = data['userid'].astype('str')"
   ]
  },
  {
   "cell_type": "code",
   "execution_count": 101,
   "metadata": {},
   "outputs": [
    {
     "data": {
      "text/plain": [
       "'5bf2ff7e24985666f8f90f91'"
      ]
     },
     "execution_count": 101,
     "metadata": {},
     "output_type": "execute_result"
    }
   ],
   "source": [
    "test.iloc[1][-1][5:-3]"
   ]
  },
  {
   "cell_type": "code",
   "execution_count": null,
   "metadata": {},
   "outputs": [],
   "source": [
    "data['url']= data['url'].apply(lambda x: re.findall(r'/[0-9]+', x)[0][1:])\n",
    "data['review'] = data['review'].apply(lambda x: re.findall(r'[\\d{1.2}]+', x))\n",
    "data['len'] = data['review'].apply(lambda x : len(x))\n",
    "data = data[data['len'] > 0]\n",
    "data['rating'] = data['review'].apply(lambda x: x[0] if len(x) == 2 else np.nan)\n",
    "data['count'] = data['review'].apply(lambda x: x[1] if len(x) == 2 else x[0])\n",
    "data"
   ]
  },
  {
   "cell_type": "code",
   "execution_count": null,
   "metadata": {},
   "outputs": [],
   "source": [
    "data['count'] = data['count'].astype('float')\n",
    "data['count']"
   ]
  },
  {
   "cell_type": "code",
   "execution_count": null,
   "metadata": {},
   "outputs": [],
   "source": [
    "data = data.drop_duplicates('url') # restaurant"
   ]
  },
  {
   "cell_type": "code",
   "execution_count": null,
   "metadata": {},
   "outputs": [],
   "source": [
    "data.to_csv('./save_csv/river_behind_concat.csv', index=False)"
   ]
  }
 ],
 "metadata": {
  "kernelspec": {
   "display_name": "final",
   "language": "python",
   "name": "final"
  },
  "language_info": {
   "codemirror_mode": {
    "name": "ipython",
    "version": 3
   },
   "file_extension": ".py",
   "mimetype": "text/x-python",
   "name": "python",
   "nbconvert_exporter": "python",
   "pygments_lexer": "ipython3",
   "version": "3.8.15"
  },
  "vscode": {
   "interpreter": {
    "hash": "c0d07f6d1b588df06992a3ebb12e6b30ff5ec3ab47dcce5911add949478db3bf"
   }
  }
 },
 "nbformat": 4,
 "nbformat_minor": 4
}
