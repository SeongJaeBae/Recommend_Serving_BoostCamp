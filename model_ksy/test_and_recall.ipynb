{
 "cells": [
  {
   "cell_type": "code",
   "execution_count": 39,
   "metadata": {},
   "outputs": [],
   "source": [
    "import numpy as np\n",
    "import pandas as pd\n",
    "from numpy import random\n",
    "\n",
    "import re\n",
    "\n",
    "import random\n",
    "\n",
    "import warnings\n",
    "warnings.filterwarnings('ignore')\n",
    "\n",
    "area = 'Gangnam'\n",
    "data = pd.read_csv(f'../crawings/user_csv/{area}/user_concat.csv')\n",
    "data['userid'] = data['link'].apply(lambda x: str(re.findall(r'my/[a-z0-9]+/', x))[5:-3])"
   ]
  },
  {
   "cell_type": "code",
   "execution_count": 40,
   "metadata": {},
   "outputs": [],
   "source": [
    "# train/test 생성 코드\n",
    "data = data[['userid', 'rest']]\n",
    "data = data.drop_duplicates()\n",
    "\n",
    "data['rand'] = data['rest'].apply(lambda x : random.random())\n",
    "_user = data['userid'].value_counts().reset_index()\n",
    "_user.columns = ['userid', 'cnt']\n",
    "data = pd.merge(data, _user, how = 'left', on = 'userid')\n",
    "data = data[data['cnt'] > 5].reset_index(drop = True)\n",
    "data = data[~(data['userid'] == '')].reset_index(drop = True)\n",
    "data = data.sort_values(['userid', 'rand']).reset_index(drop = True)\n",
    "data['tem'] = 1\n",
    "data['seq'] = data.groupby('userid')['tem'].apply(lambda x : x.cumsum())\n",
    "\n",
    "train = data[data['tem'] + 1 < data['seq']]\n",
    "test = data[data['tem'] + 1 >= data['seq']]"
   ]
  },
  {
   "cell_type": "code",
   "execution_count": 41,
   "metadata": {},
   "outputs": [
    {
     "data": {
      "text/plain": [
       "array([0.21530169])"
      ]
     },
     "execution_count": 41,
     "metadata": {},
     "output_type": "execute_result"
    }
   ],
   "source": [
    "# trash(random) 모델 생성 작업.\n",
    "# 모델 작업을 할 것이면 여기에 모델 제작하면 됨.\n",
    "import torch\n",
    "import torch.nn as nn\n",
    "import torch.nn.functional as F\n",
    "from numpy import random\n",
    "\n",
    "# 랜덤 추천(아에 랜덤 음식점 추천)\n",
    "# recall 0.001\n",
    "class trash_model(nn.Module):\n",
    "    def __init__(self):\n",
    "        super().__init__()\n",
    "\n",
    "    def forward(self, user, rest):\n",
    "        return random.randn(len(user))\n",
    "\n",
    "model = trash_model()\n",
    "model([1],[2])"
   ]
  },
  {
   "cell_type": "code",
   "execution_count": 42,
   "metadata": {},
   "outputs": [],
   "source": [
    "# 인기도 추천(상위 3개 음식점만)\n",
    "# recall 0.005\n",
    "class pop_model(nn.Module):\n",
    "    def __init__(self, train):\n",
    "        super().__init__()\n",
    "        self.rest_poplist = train['rest'].value_counts()\n",
    "        \n",
    "    def forward(self, user, rest):\n",
    "        return np.where(np.isin(rest, self.rest_poplist.iloc[:3].index), 1 , 0)\n",
    "\n",
    "#model = pop_model(train)"
   ]
  },
  {
   "cell_type": "code",
   "execution_count": 43,
   "metadata": {},
   "outputs": [],
   "source": [
    "lst_rest = train['rest'].unique()\n",
    "lst_user = train['userid'].unique()\n",
    "n_rest = train['rest'].nunique()\n",
    "#lst_rest = torch.LongTensor(lst_rest)\n",
    "\n",
    "def recallk(actual, predicted, k = 3):\n",
    "    \"\"\" label과 prediction 사이의 recall 평가 함수 \n",
    "    Args:\n",
    "        actual : 실제로 본 상품 리스트\n",
    "        pred : 예측한 상품 리스트\n",
    "        k : 상위 몇개의 데이터를 볼지 (ex : k=5 상위 5개의 상품만 봄)\n",
    "    Returns: \n",
    "        recall_k : recall@k \n",
    "    \"\"\" \n",
    "    set_actual = set(actual)\n",
    "    recall_k = len(set_actual & set(predicted[:k])) / min(k, len(set_actual))\n",
    "    return recall_k\n",
    "\n",
    "def funs(user_id):\n",
    "    user_ids = np.full(n_rest, user_id)\n",
    "    #user_ids = torch.LongTensor(user_ids)\n",
    "    output = model(user_ids, lst_rest)\n",
    "    idx = np.argpartition(output, -3)[-3:]\n",
    "    pred_u = lst_rest[idx]\n",
    "\n",
    "    return pred_u\n",
    "    \n",
    "test = test.groupby('userid')['rest'].unique().to_frame().reset_index()\n",
    "test['pred'] = test['userid'].apply(lambda x : funs(x))\n",
    "test['recall'] = test.apply(lambda x : recallk(x['rest'],x['pred']), axis = 1)"
   ]
  },
  {
   "cell_type": "code",
   "execution_count": 44,
   "metadata": {},
   "outputs": [
    {
     "data": {
      "text/plain": [
       "0.001009730126675234"
      ]
     },
     "execution_count": 44,
     "metadata": {},
     "output_type": "execute_result"
    }
   ],
   "source": [
    "test['recall'].mean()"
   ]
  },
  {
   "cell_type": "code",
   "execution_count": null,
   "metadata": {},
   "outputs": [],
   "source": []
  }
 ],
 "metadata": {
  "kernelspec": {
   "display_name": "Python 3",
   "language": "python",
   "name": "python3"
  },
  "language_info": {
   "codemirror_mode": {
    "name": "ipython",
    "version": 3
   },
   "file_extension": ".py",
   "mimetype": "text/x-python",
   "name": "python",
   "nbconvert_exporter": "python",
   "pygments_lexer": "ipython3",
   "version": "3.8.5 (default, Sep  4 2020, 07:30:14) \n[GCC 7.3.0]"
  },
  "orig_nbformat": 4,
  "vscode": {
   "interpreter": {
    "hash": "1cfea99ddb1530243f84c54dcb8e85aa2669e3564d5e91958ee376acd329ed7e"
   }
  }
 },
 "nbformat": 4,
 "nbformat_minor": 2
}
