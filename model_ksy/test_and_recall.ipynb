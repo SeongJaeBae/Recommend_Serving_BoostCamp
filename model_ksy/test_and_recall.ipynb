{
 "cells": [
  {
   "cell_type": "code",
   "execution_count": 14,
   "metadata": {},
   "outputs": [],
   "source": [
    "import numpy as np\n",
    "import pandas as pd\n",
    "from numpy import random\n",
    "\n",
    "import re\n",
    "\n",
    "import random\n",
    "\n",
    "import warnings\n",
    "warnings.filterwarnings('ignore')\n",
    "\n",
    "train = pd.read_csv(f'../model/data/train_time.csv')\n",
    "test = pd.read_csv(f'../model/data/test_time.csv')"
   ]
  },
  {
   "cell_type": "code",
   "execution_count": 15,
   "metadata": {},
   "outputs": [
    {
     "data": {
      "text/plain": [
       "array([-0.25550431])"
      ]
     },
     "execution_count": 15,
     "metadata": {},
     "output_type": "execute_result"
    }
   ],
   "source": [
    "# trash(random) 모델 생성 작업.\n",
    "# 모델 작업을 할 것이면 여기에 모델 제작하면 됨.\n",
    "import torch\n",
    "import torch.nn as nn\n",
    "import torch.nn.functional as F\n",
    "from numpy import random\n",
    "\n",
    "# 랜덤 추천(아에 랜덤 음식점 추천)\n",
    "# recall 0.00012\n",
    "class trash_model(nn.Module):\n",
    "    def __init__(self):\n",
    "        super().__init__()\n",
    "\n",
    "    def forward(self, user, rest):\n",
    "        return random.randn(len(user))\n",
    "\n",
    "model = trash_model()\n",
    "model([1],[2])"
   ]
  },
  {
   "cell_type": "code",
   "execution_count": 16,
   "metadata": {},
   "outputs": [],
   "source": [
    "# 인기도 추천(상위 3개 음식점만)\n",
    "# recall 0.0014\n",
    "class pop_model(nn.Module):\n",
    "    def __init__(self, train):\n",
    "        super().__init__()\n",
    "        self.rest_poplist = train['rest'].value_counts()\n",
    "        \n",
    "    def forward(self, user, rest):\n",
    "        return np.where(np.isin(rest, self.rest_poplist.iloc[:3].index), 1 , 0)\n",
    "\n",
    "model = pop_model(train)"
   ]
  },
  {
   "cell_type": "code",
   "execution_count": 19,
   "metadata": {},
   "outputs": [],
   "source": [
    "lst_rest = train['rest'].unique()\n",
    "lst_user = train['userid'].unique()\n",
    "n_rest = train['rest'].nunique()\n",
    "#lst_rest = torch.LongTensor(lst_rest)\n",
    "\n",
    "def recallk(actual, predicted, k = 3):\n",
    "    \"\"\" label과 prediction 사이의 recall 평가 함수 \n",
    "    Args:\n",
    "        actual : 실제로 본 상품 리스트\n",
    "        pred : 예측한 상품 리스트\n",
    "        k : 상위 몇개의 데이터를 볼지 (ex : k=5 상위 5개의 상품만 봄)\n",
    "    Returns: \n",
    "        recall_k : recall@k \n",
    "    \"\"\" \n",
    "    set_actual = set(actual)\n",
    "    recall_k = len(set_actual & set(predicted[:k])) / min(k, len(set_actual))\n",
    "    return recall_k\n",
    "\n",
    "def funs(user_id):\n",
    "    user_ids = np.full(n_rest, user_id)\n",
    "    #user_ids = torch.LongTensor(user_ids)\n",
    "    output = model(user_ids, lst_rest)\n",
    "    idx = np.argpartition(output, -3)[-3:]\n",
    "    pred_u = lst_rest[idx]\n",
    "\n",
    "    return pred_u\n",
    "    \n",
    "test = test.groupby('userid')['rest'].unique().to_frame().reset_index()\n",
    "test['pred'] = test['userid'].apply(lambda x : funs(x))\n",
    "test['recall'] = test.apply(lambda x : recallk(x['rest'],x['pred']), axis = 1)"
   ]
  },
  {
   "cell_type": "code",
   "execution_count": 20,
   "metadata": {},
   "outputs": [
    {
     "data": {
      "text/plain": [
       "0.0010632649153043993"
      ]
     },
     "execution_count": 20,
     "metadata": {},
     "output_type": "execute_result"
    }
   ],
   "source": [
    "test['recall'].mean()"
   ]
  },
  {
   "cell_type": "code",
   "execution_count": null,
   "metadata": {},
   "outputs": [],
   "source": []
  }
 ],
 "metadata": {
  "kernelspec": {
   "display_name": "model",
   "language": "python",
   "name": "model"
  },
  "orig_nbformat": 4,
  "vscode": {
   "interpreter": {
    "hash": "1cfea99ddb1530243f84c54dcb8e85aa2669e3564d5e91958ee376acd329ed7e"
   }
  }
 },
 "nbformat": 4,
 "nbformat_minor": 2
}
