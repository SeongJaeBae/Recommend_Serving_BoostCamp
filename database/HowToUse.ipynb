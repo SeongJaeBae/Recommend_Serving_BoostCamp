{
 "cells": [
  {
   "attachments": {},
   "cell_type": "markdown",
   "metadata": {},
   "source": [
    "**필수 설치**"
   ]
  },
  {
   "cell_type": "code",
   "execution_count": null,
   "metadata": {},
   "outputs": [],
   "source": [
    "# !pip install pymysql\n",
    "# !pip install tqdm"
   ]
  },
  {
   "attachments": {},
   "cell_type": "markdown",
   "metadata": {},
   "source": [
    "**DB 연결**"
   ]
  },
  {
   "cell_type": "code",
   "execution_count": null,
   "metadata": {},
   "outputs": [],
   "source": [
    "import pandas as pd\n",
    "import pymysql\n",
    "cnxn = pymysql.connect(host='1.238.57.88', user='newuser', password='ghdwogud1028', charset='utf8', port = 9876)\n",
    "cursor = cnxn.cursor() "
   ]
  },
  {
   "attachments": {},
   "cell_type": "markdown",
   "metadata": {},
   "source": [
    "**Database 생성코드**"
   ]
  },
  {
   "cell_type": "code",
   "execution_count": null,
   "metadata": {},
   "outputs": [],
   "source": [
    "cursor.execute('CREATE DATABASE rest')"
   ]
  },
  {
   "attachments": {},
   "cell_type": "markdown",
   "metadata": {},
   "source": [
    "**위에서 생성한 Database는 아래 코드를 이용하여 연결시킬 수 있다.**"
   ]
  },
  {
   "cell_type": "code",
   "execution_count": null,
   "metadata": {},
   "outputs": [],
   "source": [
    "import pandas as pd\n",
    "import pymysql\n",
    "cnxn = pymysql.connect(host='1.238.57.88', user='newuser', password='ghdwogud1028', charset='utf8', port = 9876, database = 'rest')\n",
    "cursor = cnxn.cursor() "
   ]
  },
  {
   "attachments": {},
   "cell_type": "markdown",
   "metadata": {},
   "source": [
    "**접속한 Database안에 테이블 생성하는 코드**"
   ]
  },
  {
   "cell_type": "code",
   "execution_count": 29,
   "metadata": {},
   "outputs": [],
   "source": [
    "cursor.execute(\"CREATE TABLE test1 (\"\n",
    "               \"link VARCHAR(255),\"\n",
    "               \"user VARCHAR(511),\"\n",
    "               \"rest VARCHAR(255))\"\n",
    ")\n",
    "cnxn.commit()  # this commits changes to the database"
   ]
  },
  {
   "attachments": {},
   "cell_type": "markdown",
   "metadata": {},
   "source": [
    "**위에서 만든 테이블 삭제하는 코드**"
   ]
  },
  {
   "cell_type": "code",
   "execution_count": 28,
   "metadata": {},
   "outputs": [],
   "source": [
    "cursor.execute(\"DROP TABLE test1\")\n",
    "cnxn.commit()  # this commits changes to the database"
   ]
  },
  {
   "attachments": {},
   "cell_type": "markdown",
   "metadata": {},
   "source": [
    "**위에서 만든 테이블에 데이터를 넣기위해 데이터 전처리 하는 코드**"
   ]
  },
  {
   "cell_type": "code",
   "execution_count": 30,
   "metadata": {},
   "outputs": [],
   "source": [
    "import re\n",
    "area = 'yangcheon'\n",
    "rest = pd.read_csv(f'../crawings/user_csv/{area}/user_concat.csv')\n",
    "rest['link'] = rest['link'].apply(lambda x: str(re.findall(r'my/[a-z0-9]+/', x))[5:-3])\n",
    "rest['user'] = rest['user'].apply(lambda x: str(x))\n",
    "rest['rest'] = rest['rest'].apply(lambda x: str(x))"
   ]
  },
  {
   "attachments": {},
   "cell_type": "markdown",
   "metadata": {},
   "source": [
    "**위에서 만든 테이블에 데이터를 넣는 코드**"
   ]
  },
  {
   "cell_type": "code",
   "execution_count": 31,
   "metadata": {},
   "outputs": [],
   "source": [
    "query = \"INSERT INTO test1 (link, user, rest) VALUES (%s, %s, %s)\"\n",
    "a = rest.values.tolist()\n",
    "for i in range(len(a)):\n",
    "    a[i] = tuple(list(a[i]))"
   ]
  },
  {
   "cell_type": "code",
   "execution_count": 34,
   "metadata": {},
   "outputs": [
    {
     "name": "stderr",
     "output_type": "stream",
     "text": [
      " 16%|█▌        | 55443/353768 [04:29<17:04, 291.20it/s]  "
     ]
    }
   ],
   "source": [
    "from tqdm import tqdm\n",
    "for i in tqdm(a):\n",
    "    try: cursor.executemany(query, [i])\n",
    "    except: pass\n",
    "cnxn.commit()"
   ]
  },
  {
   "attachments": {},
   "cell_type": "markdown",
   "metadata": {},
   "source": [
    "**위에서 넣은 데이터를 조회하는 코드**"
   ]
  },
  {
   "cell_type": "code",
   "execution_count": null,
   "metadata": {},
   "outputs": [],
   "source": [
    "select_sql = \"select * from test\"# where rating = 4.42\"\n",
    "cursor.execute(select_sql)\n",
    "result = cursor.fetchall()\n",
    "result"
   ]
  }
 ],
 "metadata": {
  "kernelspec": {
   "display_name": "base",
   "language": "python",
   "name": "python3"
  },
  "language_info": {
   "codemirror_mode": {
    "name": "ipython",
    "version": 3
   },
   "file_extension": ".py",
   "mimetype": "text/x-python",
   "name": "python",
   "nbconvert_exporter": "python",
   "pygments_lexer": "ipython3",
   "version": "3.8.5 (default, Sep  4 2020, 07:30:14) \n[GCC 7.3.0]"
  },
  "orig_nbformat": 4,
  "vscode": {
   "interpreter": {
    "hash": "8a5edab282632443219e051e4ade2d1d5bbc671c781051bf1437897cbdfea0f1"
   }
  }
 },
 "nbformat": 4,
 "nbformat_minor": 2
}
