{
 "cells": [
  {
   "cell_type": "code",
   "execution_count": 107,
   "id": "1c53ab74",
   "metadata": {
    "ExecuteTime": {
     "end_time": "2022-12-23T06:51:07.340566Z",
     "start_time": "2022-12-23T06:51:01.208792Z"
    }
   },
   "outputs": [],
   "source": [
    "from IPython.core.interactiveshell import InteractiveShell\n",
    "InteractiveShell.ast_node_interactivity=\"all\"\n",
    "\n",
    "import os\n",
    "import json\n",
    "import argparse\n",
    "import pandas as pd\n",
    "import numpy as np\n",
    "import time, datetime\n",
    "from tqdm import tqdm\n",
    "from logging import getLogger\n",
    "import torch\n",
    "\n",
    "# from recbole.model.general_recommender.ease import EASE\n",
    "# from recbole.model.context_aware_recommender.ffm import FFM\n",
    "# from recbole.model.general_recommender.neumf import NeuMF\n",
    "\n",
    "from recbole.config import Config\n",
    "from recbole.data import create_dataset, data_preparation, Interaction\n",
    "from recbole.utils import init_logger, get_trainer, get_model, init_seed, set_color\n",
    "\n",
    "\n",
    "SEED=13"
   ]
  },
  {
   "cell_type": "code",
   "execution_count": 108,
   "id": "c169d301",
   "metadata": {
    "ExecuteTime": {
     "end_time": "2022-12-23T06:51:07.603222Z",
     "start_time": "2022-12-23T06:51:07.343232Z"
    }
   },
   "outputs": [
    {
     "name": "stdout",
     "output_type": "stream",
     "text": [
      "pro_sg\ttrain_ratings.csv\n",
      "/opt/ml/input/data/train/train_ratings.csv\n"
     ]
    }
   ],
   "source": [
    "!ls ../../data/train\n",
    "!readlink -ef ../../data/train/train_ratings.csv"
   ]
  },
  {
   "cell_type": "markdown",
   "id": "91ba6987",
   "metadata": {},
   "source": [
    "## 데이터 로드"
   ]
  },
  {
   "cell_type": "code",
   "execution_count": 109,
   "id": "e8bbba30",
   "metadata": {
    "ExecuteTime": {
     "end_time": "2022-12-23T06:51:08.996003Z",
     "start_time": "2022-12-23T06:51:07.605399Z"
    }
   },
   "outputs": [],
   "source": [
    "train = pd.read_csv(\"/opt/ml/input/project/model/data/train.csv\")"
   ]
  },
  {
   "cell_type": "code",
   "execution_count": 110,
   "id": "7d1c0b07",
   "metadata": {},
   "outputs": [
    {
     "data": {
      "text/html": [
       "<div>\n",
       "<style scoped>\n",
       "    .dataframe tbody tr th:only-of-type {\n",
       "        vertical-align: middle;\n",
       "    }\n",
       "\n",
       "    .dataframe tbody tr th {\n",
       "        vertical-align: top;\n",
       "    }\n",
       "\n",
       "    .dataframe thead th {\n",
       "        text-align: right;\n",
       "    }\n",
       "</style>\n",
       "<table border=\"1\" class=\"dataframe\">\n",
       "  <thead>\n",
       "    <tr style=\"text-align: right;\">\n",
       "      <th></th>\n",
       "      <th>userid</th>\n",
       "      <th>rest</th>\n",
       "      <th>user_code</th>\n",
       "      <th>rest_code</th>\n",
       "    </tr>\n",
       "  </thead>\n",
       "  <tbody>\n",
       "    <tr>\n",
       "      <th>0</th>\n",
       "      <td>5b61c7658f8242cb2a1b1028</td>\n",
       "      <td>1.100141e+09</td>\n",
       "      <td>0</td>\n",
       "      <td>14</td>\n",
       "    </tr>\n",
       "    <tr>\n",
       "      <th>1</th>\n",
       "      <td>5b61c7658f8242cb2a1b1028</td>\n",
       "      <td>3.049867e+08</td>\n",
       "      <td>0</td>\n",
       "      <td>6</td>\n",
       "    </tr>\n",
       "  </tbody>\n",
       "</table>\n",
       "</div>"
      ],
      "text/plain": [
       "                     userid          rest  user_code  rest_code\n",
       "0  5b61c7658f8242cb2a1b1028  1.100141e+09          0         14\n",
       "1  5b61c7658f8242cb2a1b1028  3.049867e+08          0          6"
      ]
     },
     "execution_count": 110,
     "metadata": {},
     "output_type": "execute_result"
    }
   ],
   "source": [
    "train[:2]"
   ]
  },
  {
   "cell_type": "code",
   "execution_count": 111,
   "id": "6954c698",
   "metadata": {
    "ExecuteTime": {
     "end_time": "2022-12-23T06:51:11.858012Z",
     "start_time": "2022-12-23T06:51:08.998778Z"
    }
   },
   "outputs": [],
   "source": [
    "user2idx = {v:k for k,v in enumerate(sorted(set(train.user_code)))}\n",
    "item2idx = {v:k for k,v in enumerate(sorted(set(train.rest_code)))}\n",
    "uidx2user = {k:v for k,v in enumerate(sorted(set(train.user_code)))}\n",
    "iidx2item = {k:v for k,v in enumerate(sorted(set(train.rest_code)))}"
   ]
  },
  {
   "cell_type": "markdown",
   "id": "1dcea99e",
   "metadata": {},
   "source": [
    "## make inter file"
   ]
  },
  {
   "cell_type": "code",
   "execution_count": 113,
   "id": "4aed392f",
   "metadata": {
    "ExecuteTime": {
     "end_time": "2022-12-23T06:51:12.286795Z",
     "start_time": "2022-12-23T06:51:12.283008Z"
    }
   },
   "outputs": [],
   "source": [
    "train.columns=['userid:token','restid:token','user_id:token','item_id:token']"
   ]
  },
  {
   "cell_type": "code",
   "execution_count": 114,
   "id": "3d5f8092",
   "metadata": {
    "ExecuteTime": {
     "end_time": "2022-12-23T06:51:12.305595Z",
     "start_time": "2022-12-23T06:51:12.288827Z"
    }
   },
   "outputs": [
    {
     "data": {
      "text/html": [
       "<div>\n",
       "<style scoped>\n",
       "    .dataframe tbody tr th:only-of-type {\n",
       "        vertical-align: middle;\n",
       "    }\n",
       "\n",
       "    .dataframe tbody tr th {\n",
       "        vertical-align: top;\n",
       "    }\n",
       "\n",
       "    .dataframe thead th {\n",
       "        text-align: right;\n",
       "    }\n",
       "</style>\n",
       "<table border=\"1\" class=\"dataframe\">\n",
       "  <thead>\n",
       "    <tr style=\"text-align: right;\">\n",
       "      <th></th>\n",
       "      <th>userid:token</th>\n",
       "      <th>restid:token</th>\n",
       "      <th>user_id:token</th>\n",
       "      <th>item_id:token</th>\n",
       "    </tr>\n",
       "  </thead>\n",
       "  <tbody>\n",
       "    <tr>\n",
       "      <th>0</th>\n",
       "      <td>5b61c7658f8242cb2a1b1028</td>\n",
       "      <td>1.100141e+09</td>\n",
       "      <td>0</td>\n",
       "      <td>14</td>\n",
       "    </tr>\n",
       "    <tr>\n",
       "      <th>1</th>\n",
       "      <td>5b61c7658f8242cb2a1b1028</td>\n",
       "      <td>3.049867e+08</td>\n",
       "      <td>0</td>\n",
       "      <td>6</td>\n",
       "    </tr>\n",
       "  </tbody>\n",
       "</table>\n",
       "</div>"
      ],
      "text/plain": [
       "               userid:token  restid:token  user_id:token  item_id:token\n",
       "0  5b61c7658f8242cb2a1b1028  1.100141e+09              0             14\n",
       "1  5b61c7658f8242cb2a1b1028  3.049867e+08              0              6"
      ]
     },
     "execution_count": 114,
     "metadata": {},
     "output_type": "execute_result"
    }
   ],
   "source": [
    "train[:2]"
   ]
  },
  {
   "cell_type": "code",
   "execution_count": 115,
   "id": "286c0b14",
   "metadata": {
    "ExecuteTime": {
     "end_time": "2022-12-23T06:53:41.566235Z",
     "start_time": "2022-12-23T06:53:32.937279Z"
    }
   },
   "outputs": [],
   "source": [
    "outpath = f\"dataset/train_data\"\n",
    "os.makedirs(outpath, exist_ok=True)\n",
    "# sub_train=train.groupby(\"user\").sample(n=10, random_state=SEED)\n",
    "# sub_train.shape\n",
    "train.to_csv(os.path.join(outpath,\"train_data.inter\"),sep='\\t',index=False)"
   ]
  },
  {
   "cell_type": "markdown",
   "id": "f2d8b45f",
   "metadata": {},
   "source": [
    "## make yaml file"
   ]
  },
  {
   "cell_type": "code",
   "execution_count": 116,
   "id": "fc936e99",
   "metadata": {
    "ExecuteTime": {
     "end_time": "2022-12-23T06:53:41.578979Z",
     "start_time": "2022-12-23T06:53:41.574905Z"
    }
   },
   "outputs": [
    {
     "data": {
      "text/plain": [
       "121"
      ]
     },
     "execution_count": 116,
     "metadata": {},
     "output_type": "execute_result"
    }
   ],
   "source": [
    "yamldata=\"\"\"\n",
    "USER_ID_FIELD: user_id\n",
    "ITEM_ID_FIELD: item_id\n",
    "TIME_FIELD: timestamp\n",
    "\n",
    "load_col:\n",
    "    inter: [user_id, item_id, timestamp]\n",
    "\"\"\"\n",
    "with open(\"ease.yaml\", \"w\") as f:\n",
    "    f.write(yamldata)"
   ]
  },
  {
   "cell_type": "markdown",
   "id": "729f6f4f",
   "metadata": {},
   "source": [
    "## make config, logger"
   ]
  },
  {
   "cell_type": "code",
   "execution_count": 178,
   "id": "41efa260",
   "metadata": {
    "ExecuteTime": {
     "end_time": "2022-12-23T06:53:42.771394Z",
     "start_time": "2022-12-23T06:53:41.581254Z"
    },
    "scrolled": true
   },
   "outputs": [
    {
     "name": "stderr",
     "output_type": "stream",
     "text": [
      "31 Jan 05:51    INFO  \n",
      "General Hyper Parameters:\n",
      "gpu_id = 0\n",
      "use_gpu = True\n",
      "seed = 2020\n",
      "state = INFO\n",
      "reproducibility = True\n",
      "data_path = dataset/train_data\n",
      "checkpoint_dir = saved\n",
      "show_progress = False\n",
      "save_dataset = False\n",
      "dataset_save_path = None\n",
      "save_dataloaders = False\n",
      "dataloaders_save_path = None\n",
      "log_wandb = False\n",
      "\n",
      "Training Hyper Parameters:\n",
      "epochs = 10\n",
      "train_batch_size = 2048\n",
      "learner = adam\n",
      "learning_rate = 0.01\n",
      "train_neg_sample_args = {'distribution': 'uniform', 'sample_num': 1, 'alpha': 1.0, 'dynamic': False, 'candidate_num': 0}\n",
      "eval_step = 1\n",
      "stopping_step = 10\n",
      "clip_grad_norm = None\n",
      "weight_decay = 0.0\n",
      "loss_decimal_place = 4\n",
      "\n",
      "Evaluation Hyper Parameters:\n",
      "eval_args = {'split': {'RS': [1, 0, 0]}, 'group_by': 'user', 'order': 'RO', 'mode': 'full'}\n",
      "repeatable = False\n",
      "metrics = ['Recall', 'MRR', 'NDCG', 'Hit', 'Precision']\n",
      "topk = [20]\n",
      "valid_metric = Recall@10\n",
      "valid_metric_bigger = True\n",
      "eval_batch_size = 4096\n",
      "metric_decimal_place = 4\n",
      "\n",
      "Dataset Hyper Parameters:\n",
      "field_separator = \t\n",
      "seq_separator =  \n",
      "USER_ID_FIELD = user_id\n",
      "ITEM_ID_FIELD = item_id\n",
      "RATING_FIELD = rating\n",
      "TIME_FIELD = timestamp\n",
      "seq_len = None\n",
      "LABEL_FIELD = label\n",
      "threshold = None\n",
      "NEG_PREFIX = neg_\n",
      "load_col = {'inter': ['user_id', 'item_id', 'timestamp']}\n",
      "unload_col = None\n",
      "unused_col = None\n",
      "additional_feat_suffix = None\n",
      "rm_dup_inter = None\n",
      "val_interval = None\n",
      "filter_inter_by_user_or_item = True\n",
      "user_inter_num_interval = [0,inf)\n",
      "item_inter_num_interval = [0,inf)\n",
      "alias_of_user_id = None\n",
      "alias_of_item_id = None\n",
      "alias_of_entity_id = None\n",
      "alias_of_relation_id = None\n",
      "preload_weight = None\n",
      "normalize_field = None\n",
      "normalize_all = None\n",
      "ITEM_LIST_LENGTH_FIELD = item_length\n",
      "LIST_SUFFIX = _list\n",
      "MAX_ITEM_LIST_LENGTH = 50\n",
      "POSITION_FIELD = position_id\n",
      "HEAD_ENTITY_ID_FIELD = head_id\n",
      "TAIL_ENTITY_ID_FIELD = tail_id\n",
      "RELATION_ID_FIELD = relation_id\n",
      "ENTITY_ID_FIELD = entity_id\n",
      "benchmark_filename = None\n",
      "\n",
      "Other Hyper Parameters: \n",
      "worker = 0\n",
      "wandb_project = recbole\n",
      "shuffle = True\n",
      "require_pow = False\n",
      "enable_amp = False\n",
      "enable_scaler = False\n",
      "transform = None\n",
      "mlp_hidden_size = [800, 200, 100]\n",
      "latent_dimension = 128\n",
      "dropout_prob = 0.5\n",
      "anneal_cap = 0.2\n",
      "total_anneal_steps = 200000\n",
      "numerical_features = []\n",
      "discretization = None\n",
      "kg_reverse_r = False\n",
      "entity_kg_num_interval = [0,inf)\n",
      "relation_kg_num_interval = [0,inf)\n",
      "MODEL_TYPE = ModelType.GENERAL\n",
      "MODEL_INPUT_TYPE = InputType.PAIRWISE\n",
      "eval_type = EvaluatorType.RANKING\n",
      "single_spec = True\n",
      "local_rank = 0\n",
      "device = cuda\n",
      "eval_neg_sample_args = {'distribution': 'uniform', 'sample_num': 'none'}\n",
      "\n",
      "\n"
     ]
    }
   ],
   "source": [
    "logger = getLogger()\n",
    "\n",
    "# configurations initialization\n",
    "config = Config(model='MultiVAE', dataset=\"train_data\", config_file_list=[f'ease.yaml'])\n",
    "config['epochs'] = 10\n",
    "config['show_progress'] = False\n",
    "config['device'] = torch.device(\"cuda\" if torch.cuda.is_available() else \"cpu\")\n",
    "config['valid_metric'] = \"Recall@10\"\n",
    "config['eval_args'] = {'split': {'RS': [1, 0, 0]},\n",
    "                         'group_by': 'user',\n",
    "                         'order': 'RO',\n",
    "                         'mode': 'full'}\n",
    "config['learning_rate'] = 0.01\n",
    "config['topk']=[20]\n",
    "config['mlp_hidden_size'] = [800,200,100]\n",
    "init_seed(config['seed'], config['reproducibility'])\n",
    "# logger initialization\n",
    "init_logger(config)\n",
    "logger.info(config)"
   ]
  },
  {
   "cell_type": "markdown",
   "id": "e5c4ee8a",
   "metadata": {},
   "source": [
    "## make dataset"
   ]
  },
  {
   "cell_type": "code",
   "execution_count": 140,
   "id": "4b8abda8",
   "metadata": {
    "ExecuteTime": {
     "end_time": "2022-12-23T06:54:25.066199Z",
     "start_time": "2022-12-23T06:53:43.271187Z"
    }
   },
   "outputs": [
    {
     "name": "stderr",
     "output_type": "stream",
     "text": [
      "31 Jan 05:10    INFO  train_data\n",
      "The number of users: 382941\n",
      "Average actions of users: 17.58996448529796\n",
      "The number of items: 41408\n",
      "Average actions of items: 162.67541719999033\n",
      "The number of inters: 6735901\n",
      "The sparsity of the dataset: 99.95752048263277%\n",
      "Remain Fields: ['user_id', 'item_id']\n",
      "31 Jan 05:10    INFO  [Training]: train_batch_size = [2048] train_neg_sample_args: [{'distribution': 'uniform', 'sample_num': 1, 'alpha': 1.0, 'dynamic': False, 'candidate_num': 0}]\n",
      "31 Jan 05:10    INFO  [Evaluation]: eval_batch_size = [4096] eval_args: [{'split': {'RS': [1, 0, 0]}, 'group_by': 'user', 'order': 'RO', 'mode': 'full'}]\n"
     ]
    }
   ],
   "source": [
    "# dataset filtering\n",
    "dataset = create_dataset(config)\n",
    "logger.info(dataset)\n",
    "\n",
    "# dataset splitting\n",
    "train_data, valid_data, test_data = data_preparation(config, dataset)"
   ]
  },
  {
   "cell_type": "code",
   "execution_count": 141,
   "id": "90215db4",
   "metadata": {
    "ExecuteTime": {
     "end_time": "2022-12-23T06:54:26.812308Z",
     "start_time": "2022-12-23T06:54:25.068691Z"
    }
   },
   "outputs": [
    {
     "name": "stderr",
     "output_type": "stream",
     "text": [
      "/opt/conda/envs/recbole/lib/python3.8/site-packages/numpy/core/fromnumeric.py:3464: RuntimeWarning: Mean of empty slice.\n",
      "  return _methods._mean(a, axis=axis, dtype=dtype,\n",
      "/opt/conda/envs/recbole/lib/python3.8/site-packages/numpy/core/_methods.py:192: RuntimeWarning: invalid value encountered in scalar divide\n",
      "  ret = ret.dtype.type(ret / rcount)\n"
     ]
    },
    {
     "data": {
      "text/plain": [
       "\u001b[1;35mtrain_data\u001b[0m\n",
       "\u001b[1;34mThe number of users\u001b[0m: 382941\n",
       "\u001b[1;34mAverage actions of users\u001b[0m: nan\n",
       "\u001b[1;34mThe number of items\u001b[0m: 41408\n",
       "\u001b[1;34mAverage actions of items\u001b[0m: nan\n",
       "\u001b[1;34mThe number of inters\u001b[0m: 0\n",
       "\u001b[1;34mThe sparsity of the dataset\u001b[0m: 100.0%\n",
       "\u001b[1;34mRemain Fields\u001b[0m: ['user_id', 'item_id']"
      ]
     },
     "execution_count": 141,
     "metadata": {},
     "output_type": "execute_result"
    }
   ],
   "source": [
    "train_data.dataset\n",
    "valid_data.dataset\n",
    "test_data.dataset"
   ]
  },
  {
   "cell_type": "markdown",
   "id": "ee19f483",
   "metadata": {},
   "source": [
    "## make model"
   ]
  },
  {
   "cell_type": "code",
   "execution_count": 142,
   "id": "a444e0a4",
   "metadata": {},
   "outputs": [],
   "source": [
    "from recbole.model.general_recommender.multivae import MultiVAE"
   ]
  },
  {
   "cell_type": "code",
   "execution_count": 179,
   "id": "4ee187fa",
   "metadata": {
    "ExecuteTime": {
     "end_time": "2022-12-23T06:54:55.239195Z",
     "start_time": "2022-12-23T06:54:26.814385Z"
    }
   },
   "outputs": [
    {
     "name": "stderr",
     "output_type": "stream",
     "text": [
      "31 Jan 05:52    INFO  MultiVAE(\n",
      "  (encoder): Sequential(\n",
      "    (0): Linear(in_features=41408, out_features=800, bias=True)\n",
      "    (1): Tanh()\n",
      "    (2): Linear(in_features=800, out_features=200, bias=True)\n",
      "    (3): Tanh()\n",
      "    (4): Linear(in_features=200, out_features=100, bias=True)\n",
      "    (5): Tanh()\n",
      "    (6): Linear(in_features=100, out_features=128, bias=True)\n",
      "  )\n",
      "  (decoder): Sequential(\n",
      "    (0): Linear(in_features=64, out_features=100, bias=True)\n",
      "    (1): Tanh()\n",
      "    (2): Linear(in_features=100, out_features=200, bias=True)\n",
      "    (3): Tanh()\n",
      "    (4): Linear(in_features=200, out_features=800, bias=True)\n",
      "    (5): Tanh()\n",
      "    (6): Linear(in_features=800, out_features=41408, bias=True)\n",
      "  )\n",
      ")\n",
      "Trainable parameters: 66675736\n"
     ]
    }
   ],
   "source": [
    "# model loading and initialization\n",
    "init_seed(config['seed'], config['reproducibility'])\n",
    "model = MultiVAE(config, train_data.dataset).to(config['device'])\n",
    "logger.info(model)"
   ]
  },
  {
   "cell_type": "markdown",
   "id": "03bd695a",
   "metadata": {},
   "source": [
    "## train"
   ]
  },
  {
   "cell_type": "code",
   "execution_count": 180,
   "id": "9a2e35d5",
   "metadata": {
    "ExecuteTime": {
     "end_time": "2022-12-23T06:55:09.380447Z",
     "start_time": "2022-12-23T06:54:55.242022Z"
    },
    "scrolled": false
   },
   "outputs": [
    {
     "name": "stderr",
     "output_type": "stream",
     "text": [
      "31 Jan 05:53    INFO  epoch 0 training [time: 12.74s, train loss: 32740.8203]\n",
      "31 Jan 05:53    INFO  Saving current: saved/MultiVAE-Jan-31-2023_05-53-14.pth\n",
      "31 Jan 05:53    INFO  epoch 1 training [time: 12.74s, train loss: 29053.8846]\n",
      "31 Jan 05:53    INFO  Saving current: saved/MultiVAE-Jan-31-2023_05-53-14.pth\n",
      "31 Jan 05:53    INFO  epoch 2 training [time: 12.81s, train loss: 27582.7622]\n",
      "31 Jan 05:54    INFO  Saving current: saved/MultiVAE-Jan-31-2023_05-53-14.pth\n",
      "31 Jan 05:54    INFO  epoch 3 training [time: 12.80s, train loss: 26584.3931]\n",
      "31 Jan 05:54    INFO  Saving current: saved/MultiVAE-Jan-31-2023_05-53-14.pth\n",
      "31 Jan 05:54    INFO  epoch 4 training [time: 12.80s, train loss: 25755.2664]\n",
      "31 Jan 05:54    INFO  Saving current: saved/MultiVAE-Jan-31-2023_05-53-14.pth\n",
      "31 Jan 05:54    INFO  epoch 5 training [time: 12.83s, train loss: 25183.4543]\n",
      "31 Jan 05:55    INFO  Saving current: saved/MultiVAE-Jan-31-2023_05-53-14.pth\n",
      "31 Jan 05:55    INFO  epoch 6 training [time: 12.81s, train loss: 24813.4172]\n",
      "31 Jan 05:55    INFO  Saving current: saved/MultiVAE-Jan-31-2023_05-53-14.pth\n",
      "31 Jan 05:55    INFO  epoch 7 training [time: 12.81s, train loss: 24601.2885]\n",
      "31 Jan 05:55    INFO  Saving current: saved/MultiVAE-Jan-31-2023_05-53-14.pth\n",
      "31 Jan 05:55    INFO  epoch 8 training [time: 12.82s, train loss: 24473.1869]\n",
      "31 Jan 05:55    INFO  Saving current: saved/MultiVAE-Jan-31-2023_05-53-14.pth\n",
      "31 Jan 05:56    INFO  epoch 9 training [time: 12.82s, train loss: 24384.1858]\n",
      "31 Jan 05:56    INFO  Saving current: saved/MultiVAE-Jan-31-2023_05-53-14.pth\n"
     ]
    }
   ],
   "source": [
    "# trainer loading and initialization\n",
    "trainer = get_trainer(config['MODEL_TYPE'], config['model'])(config, model)\n",
    "\n",
    "# model training\n",
    "best_valid_score, best_valid_result = trainer.fit(\n",
    "    train_data, valid_data, saved=True, show_progress=config['show_progress']\n",
    ")"
   ]
  },
  {
   "cell_type": "code",
   "execution_count": 145,
   "id": "cec8a633",
   "metadata": {
    "ExecuteTime": {
     "end_time": "2022-12-23T06:55:09.385714Z",
     "start_time": "2022-12-23T06:55:09.382683Z"
    }
   },
   "outputs": [],
   "source": [
    "from IPython.core.interactiveshell import InteractiveShell\n",
    "InteractiveShell.ast_node_interactivity=\"last\""
   ]
  },
  {
   "cell_type": "markdown",
   "id": "b79572b1",
   "metadata": {},
   "source": [
    "## inference"
   ]
  },
  {
   "cell_type": "code",
   "execution_count": 181,
   "id": "54c9f3b7",
   "metadata": {
    "ExecuteTime": {
     "end_time": "2022-12-23T06:56:10.435390Z",
     "start_time": "2022-12-23T06:56:10.432244Z"
    }
   },
   "outputs": [],
   "source": [
    "model_path='./saved/MultiVAE-Jan-31-2023_05-53-14.pth'\n",
    "# rank K 설정\n",
    "K = 20"
   ]
  },
  {
   "cell_type": "code",
   "execution_count": 182,
   "id": "9753e240",
   "metadata": {
    "ExecuteTime": {
     "end_time": "2022-12-23T02:01:25.573389Z",
     "start_time": "2022-12-23T01:59:54.577168Z"
    }
   },
   "outputs": [],
   "source": [
    "# config, model, dataset 불러오기\n",
    "checkpoint = torch.load(model_path)\n",
    "config = checkpoint['config']\n",
    "config['dataset'] = 'train_data'\n",
    "\n",
    "dataset = create_dataset(config)\n",
    "train_data, valid_data, test_data = data_preparation(config, dataset)\n",
    "\n",
    "model = get_model(config['model'])(config, test_data.dataset).to(config['device'])\n",
    "model.load_state_dict(checkpoint['state_dict'])\n",
    "model.load_other_parameter(checkpoint.get('other_parameter'))\n",
    "\n",
    "# device 설정\n",
    "device = config.final_config_dict['device']\n",
    "\n",
    "# user, item id -> token 변환 array\n",
    "user_id = config['USER_ID_FIELD']\n",
    "item_id = config['ITEM_ID_FIELD']\n",
    "user_id2token = dataset.field2id_token[user_id]\n",
    "item_id2token = dataset.field2id_token[item_id]\n"
   ]
  },
  {
   "cell_type": "code",
   "execution_count": null,
   "id": "c7fc856a",
   "metadata": {},
   "outputs": [],
   "source": [
    "# user id list\n",
    "all_user_list = torch.arange(1, len(user_id2token)).view(-1,820) # 2335 , 164\n",
    "\n",
    "# user, item 길이\n",
    "user_len = len(user_id2token) # 382941 (PAD 포함)\n",
    "item_len = len(item_id2token) # 41408 (PAD 포함)\n",
    "\n",
    "# user-item sparse matrix\n",
    "matrix = dataset.inter_matrix(form='csr') # (382941, 41408)\n",
    "\n",
    "# user id, predict item id 저장 변수\n",
    "pred_list = None\n",
    "user_list = None"
   ]
  },
  {
   "cell_type": "code",
   "execution_count": null,
   "id": "54324f33",
   "metadata": {},
   "outputs": [
    {
     "name": "stderr",
     "output_type": "stream",
     "text": [
      "Inference:   0%|          | 0/467 [00:00<?, ?it/s]:   0%|          | 1/467 [00:00<05:14,  1.48it/s]:   0%|          | 2/467 [00:01<05:10,  1.50it/s]:   1%|          | 3/467 [00:02<05:13,  1.48it/s]:   1%|          | 4/467 [00:02<05:11,  1.49it/s]:   1%|          | 5/467 [00:03<05:11,  1.48it/s]:   1%|▏         | 6/467 [00:04<05:13,  1.47it/s]:   1%|▏         | 7/467 [00:04<05:12,  1.47it/s]:   2%|▏         | 8/467 [00:05<05:12,  1.47it/s]:   2%|▏         | 9/467 [00:06<05:09,  1.48it/s]:   2%|▏         | 10/467 [00:06<05:08,  1.48it/s]:   2%|▏         | 11/467 [00:07<05:09,  1.47it/s]:   3%|▎         | 12/467 [00:08<05:07,  1.48it/s]:   3%|▎         | 13/467 [00:08<05:08,  1.47it/s]:   3%|▎         | 14/467 [00:09<05:06,  1.48it/s]:   3%|▎         | 15/467 [00:10<05:05,  1.48it/s]:   3%|▎         | 16/467 [00:10<05:05,  1.48it/s]:   4%|▎         | 17/467 [00:11<05:04,  1.48it/s]:   4%|▍         | 18/467 [00:12<05:03,  1.48it/s]:   4%|▍         | 19/467 [00:12<05:02,  1.48it/s]:   4%|▍         | 20/467 [00:13<05:02,  1.48it/s]:   4%|▍         | 21/467 [00:14<05:02,  1.48it/s]:   5%|▍         | 22/467 [00:14<05:01,  1.48it/s]:   5%|▍         | 23/467 [00:15<04:59,  1.48it/s]:   5%|▌         | 24/467 [00:16<04:58,  1.48it/s]:   5%|▌         | 25/467 [00:16<04:58,  1.48it/s]:   6%|▌         | 26/467 [00:17<04:56,  1.49it/s]:   6%|▌         | 27/467 [00:18<04:56,  1.48it/s]:   6%|▌         | 28/467 [00:18<04:55,  1.49it/s]:   6%|▌         | 29/467 [00:19<04:54,  1.49it/s]:   6%|▋         | 30/467 [00:20<04:54,  1.48it/s]:   7%|▋         | 31/467 [00:20<04:53,  1.48it/s]:   7%|▋         | 32/467 [00:21<04:53,  1.48it/s]:   7%|▋         | 33/467 [00:22<04:51,  1.49it/s]:   7%|▋         | 34/467 [00:22<04:51,  1.49it/s]:   7%|▋         | 35/467 [00:23<04:50,  1.49it/s]:   8%|▊         | 36/467 [00:24<04:49,  1.49it/s]:   8%|▊         | 37/467 [00:24<04:50,  1.48it/s]:   8%|▊         | 38/467 [00:25<04:47,  1.49it/s]:   8%|▊         | 39/467 [00:26<04:47,  1.49it/s]:   9%|▊         | 40/467 [00:26<04:46,  1.49it/s]:   9%|▉         | 41/467 [00:27<04:46,  1.49it/s]:   9%|▉         | 42/467 [00:28<04:46,  1.48it/s]:   9%|▉         | 43/467 [00:29<04:45,  1.48it/s]:   9%|▉         | 44/467 [00:29<04:44,  1.48it/s]:  10%|▉         | 45/467 [00:30<04:45,  1.48it/s]:  10%|▉         | 46/467 [00:31<04:43,  1.49it/s]:  10%|█         | 47/467 [00:31<04:42,  1.48it/s]:  10%|█         | 48/467 [00:32<04:41,  1.49it/s]:  10%|█         | 49/467 [00:33<04:40,  1.49it/s]:  11%|█         | 50/467 [00:33<04:40,  1.49it/s]:  11%|█         | 51/467 [00:34<04:39,  1.49it/s]:  11%|█         | 52/467 [00:35<04:39,  1.49it/s]:  11%|█▏        | 53/467 [00:35<04:38,  1.49it/s]:  12%|█▏        | 54/467 [00:36<04:37,  1.49it/s]:  12%|█▏        | 55/467 [00:37<04:37,  1.48it/s]:  12%|█▏        | 56/467 [00:37<04:36,  1.49it/s]:  12%|█▏        | 57/467 [00:38<04:36,  1.48it/s]:  12%|█▏        | 58/467 [00:39<04:35,  1.49it/s]:  13%|█▎        | 59/467 [00:39<04:33,  1.49it/s]:  13%|█▎        | 60/467 [00:40<04:33,  1.49it/s]:  13%|█▎        | 61/467 [00:41<04:31,  1.49it/s]:  13%|█▎        | 62/467 [00:41<04:32,  1.49it/s]:  13%|█▎        | 63/467 [00:42<04:31,  1.49it/s]:  14%|█▎        | 64/467 [00:43<04:29,  1.49it/s]:  14%|█▍        | 65/467 [00:43<04:30,  1.49it/s]:  14%|█▍        | 66/467 [00:44<04:29,  1.49it/s]:  14%|█▍        | 67/467 [00:45<04:28,  1.49it/s]:  15%|█▍        | 68/467 [00:45<04:27,  1.49it/s]:  15%|█▍        | 69/467 [00:46<04:28,  1.48it/s]:  15%|█▍        | 70/467 [00:47<04:27,  1.48it/s]:  15%|█▌        | 71/467 [00:47<04:26,  1.48it/s]:  15%|█▌        | 72/467 [00:48<04:26,  1.48it/s]:  16%|█▌        | 73/467 [00:49<04:26,  1.48it/s]:  16%|█▌        | 74/467 [00:49<04:25,  1.48it/s]:  16%|█▌        | 75/467 [00:50<04:24,  1.48it/s]:  16%|█▋        | 76/467 [00:51<04:24,  1.48it/s]:  16%|█▋        | 77/467 [00:51<04:23,  1.48it/s]:  17%|█▋        | 78/467 [00:52<04:23,  1.48it/s]:  17%|█▋        | 79/467 [00:53<04:22,  1.48it/s]:  17%|█▋        | 80/467 [00:53<04:21,  1.48it/s]:  17%|█▋        | 81/467 [00:54<04:20,  1.48it/s]:  18%|█▊        | 82/467 [00:55<04:18,  1.49it/s]:  18%|█▊        | 83/467 [00:55<04:19,  1.48it/s]:  18%|█▊        | 84/467 [00:56<04:18,  1.48it/s]:  18%|█▊        | 85/467 [00:57<04:17,  1.48it/s]:  18%|█▊        | 86/467 [00:57<04:17,  1.48it/s]:  19%|█▊        | 87/467 [00:58<04:16,  1.48it/s]:  19%|█▉        | 88/467 [00:59<04:16,  1.48it/s]:  19%|█▉        | 89/467 [01:00<04:15,  1.48it/s]:  19%|█▉        | 90/467 [01:00<04:14,  1.48it/s]:  19%|█▉        | 91/467 [01:01<04:14,  1.48it/s]:  20%|█▉        | 92/467 [01:02<04:13,  1.48it/s]:  20%|█▉        | 93/467 [01:02<04:13,  1.48it/s]:  20%|██        | 94/467 [01:03<04:13,  1.47it/s]:  20%|██        | 95/467 [01:04<04:11,  1.48it/s]:  21%|██        | 96/467 [01:04<04:11,  1.47it/s]:  21%|██        | 97/467 [01:05<04:10,  1.48it/s]:  21%|██        | 98/467 [01:06<04:09,  1.48it/s]:  21%|██        | 99/467 [01:06<04:09,  1.48it/s]:  21%|██▏       | 100/467 [01:07<04:09,  1.47it/s]:  22%|██▏       | 101/467 [01:08<04:08,  1.47it/s]:  22%|██▏       | 102/467 [01:08<04:07,  1.48it/s]:  22%|██▏       | 103/467 [01:09<04:07,  1.47it/s]:  22%|██▏       | 104/467 [01:10<04:04,  1.48it/s]:  22%|██▏       | 105/467 [01:10<04:04,  1.48it/s]:  23%|██▎       | 106/467 [01:11<04:04,  1.48it/s]:  23%|██▎       | 107/467 [01:12<04:02,  1.48it/s]:  23%|██▎       | 108/467 [01:12<04:03,  1.47it/s]:  23%|██▎       | 109/467 [01:13<04:02,  1.48it/s]:  24%|██▎       | 110/467 [01:14<04:01,  1.48it/s]:  24%|██▍       | 111/467 [01:14<04:00,  1.48it/s]:  24%|██▍       | 112/467 [01:15<03:59,  1.48it/s]:  24%|██▍       | 113/467 [01:16<03:59,  1.48it/s]:  24%|██▍       | 114/467 [01:16<03:58,  1.48it/s]:  25%|██▍       | 115/467 [01:17<03:57,  1.48it/s]:  25%|██▍       | 116/467 [01:18<03:56,  1.48it/s]:  25%|██▌       | 117/467 [01:18<03:56,  1.48it/s]:  25%|██▌       | 118/467 [01:19<03:56,  1.48it/s]:  25%|██▌       | 119/467 [01:20<03:57,  1.47it/s]:  26%|██▌       | 120/467 [01:20<03:55,  1.47it/s]:  26%|██▌       | 121/467 [01:21<03:54,  1.47it/s]:  26%|██▌       | 122/467 [01:22<03:54,  1.47it/s]:  26%|██▋       | 123/467 [01:23<03:52,  1.48it/s]:  27%|██▋       | 124/467 [01:23<03:52,  1.48it/s]:  27%|██▋       | 125/467 [01:24<03:51,  1.48it/s]:  27%|██▋       | 126/467 [01:25<03:50,  1.48it/s]:  27%|██▋       | 127/467 [01:25<03:50,  1.48it/s]:  27%|██▋       | 128/467 [01:26<03:48,  1.48it/s]:  28%|██▊       | 129/467 [01:27<03:48,  1.48it/s]:  28%|██▊       | 130/467 [01:27<03:46,  1.49it/s]:  28%|██▊       | 131/467 [01:28<03:46,  1.49it/s]:  28%|██▊       | 132/467 [01:29<03:46,  1.48it/s]:  28%|██▊       | 133/467 [01:29<03:44,  1.49it/s]:  29%|██▊       | 134/467 [01:30<03:44,  1.48it/s]:  29%|██▉       | 135/467 [01:31<03:44,  1.48it/s]:  29%|██▉       | 136/467 [01:31<03:42,  1.49it/s]:  29%|██▉       | 137/467 [01:32<03:42,  1.48it/s]:  30%|██▉       | 138/467 [01:33<03:41,  1.49it/s]:  30%|██▉       | 139/467 [01:33<03:41,  1.48it/s]:  30%|██▉       | 140/467 [01:34<03:40,  1.48it/s]:  30%|███       | 141/467 [01:35<03:39,  1.48it/s]:  30%|███       | 142/467 [01:35<03:39,  1.48it/s]:  31%|███       | 143/467 [01:36<03:37,  1.49it/s]:  31%|███       | 144/467 [01:37<03:37,  1.48it/s]:  31%|███       | 145/467 [01:37<03:37,  1.48it/s]:  31%|███▏      | 146/467 [01:38<03:36,  1.48it/s]:  31%|███▏      | 147/467 [01:39<03:35,  1.48it/s]:  32%|███▏      | 148/467 [01:39<03:34,  1.49it/s]:  32%|███▏      | 149/467 [01:40<03:34,  1.48it/s]:  32%|███▏      | 150/467 [01:41<03:33,  1.48it/s]:  32%|███▏      | 151/467 [01:41<03:32,  1.49it/s]:  33%|███▎      | 152/467 [01:42<03:32,  1.48it/s]:  33%|███▎      | 153/467 [01:43<03:31,  1.49it/s]:  33%|███▎      | 154/467 [01:43<03:31,  1.48it/s]:  33%|███▎      | 155/467 [01:44<03:30,  1.48it/s]:  33%|███▎      | 156/467 [01:45<03:29,  1.49it/s]:  34%|███▎      | 157/467 [01:45<03:29,  1.48it/s]:  34%|███▍      | 158/467 [01:46<03:27,  1.49it/s]:  34%|███▍      | 159/467 [01:47<03:26,  1.49it/s]:  34%|███▍      | 160/467 [01:47<03:26,  1.49it/s]:  34%|███▍      | 161/467 [01:48<03:25,  1.49it/s]:  35%|███▍      | 162/467 [01:49<03:25,  1.48it/s]:  35%|███▍      | 163/467 [01:49<03:24,  1.49it/s]:  35%|███▌      | 164/467 [01:50<03:23,  1.49it/s]:  35%|███▌      | 165/467 [01:51<03:23,  1.48it/s]:  36%|███▌      | 166/467 [01:51<03:22,  1.48it/s]:  36%|███▌      | 167/467 [01:52<03:23,  1.48it/s]:  36%|███▌      | 168/467 [01:53<03:21,  1.48it/s]:  36%|███▌      | 169/467 [01:54<03:21,  1.48it/s]:  36%|███▋      | 170/467 [01:54<03:20,  1.48it/s]:  37%|███▋      | 171/467 [01:55<03:19,  1.49it/s]:  37%|███▋      | 172/467 [01:56<03:18,  1.49it/s]:  37%|███▋      | 173/467 [01:56<03:17,  1.49it/s]:  37%|███▋      | 174/467 [01:57<03:16,  1.49it/s]:  37%|███▋      | 175/467 [01:58<03:16,  1.48it/s]:  38%|███▊      | 176/467 [01:58<03:15,  1.49it/s]:  38%|███▊      | 177/467 [01:59<03:15,  1.48it/s]:  38%|███▊      | 178/467 [02:00<03:14,  1.49it/s]:  38%|███▊      | 179/467 [02:00<03:13,  1.49it/s]:  39%|███▊      | 180/467 [02:01<03:13,  1.48it/s]:  39%|███▉      | 181/467 [02:02<03:12,  1.49it/s]:  39%|███▉      | 182/467 [02:02<03:11,  1.49it/s]:  39%|███▉      | 183/467 [02:03<03:10,  1.49it/s]:  39%|███▉      | 184/467 [02:04<03:10,  1.49it/s]:  40%|███▉      | 185/467 [02:04<03:09,  1.49it/s]:  40%|███▉      | 186/467 [02:05<03:08,  1.49it/s]:  40%|████      | 187/467 [02:06<03:08,  1.48it/s]:  40%|████      | 188/467 [02:06<03:07,  1.49it/s]:  40%|████      | 189/467 [02:07<03:07,  1.48it/s]:  41%|████      | 190/467 [02:08<03:06,  1.48it/s]:  41%|████      | 191/467 [02:08<03:05,  1.49it/s]:  41%|████      | 192/467 [02:09<03:04,  1.49it/s]:  41%|████▏     | 193/467 [02:10<03:03,  1.49it/s]:  42%|████▏     | 194/467 [02:10<03:03,  1.49it/s]:  42%|████▏     | 195/467 [02:11<03:02,  1.49it/s]:  42%|████▏     | 196/467 [02:12<03:01,  1.49it/s]:  42%|████▏     | 197/467 [02:12<03:02,  1.48it/s]:  42%|████▏     | 198/467 [02:13<03:01,  1.48it/s]:  43%|████▎     | 199/467 [02:14<03:00,  1.48it/s]:  43%|████▎     | 200/467 [02:14<03:00,  1.48it/s]:  43%|████▎     | 201/467 [02:15<02:59,  1.48it/s]:  43%|████▎     | 202/467 [02:16<02:58,  1.48it/s]:  43%|████▎     | 203/467 [02:16<02:57,  1.49it/s]:  44%|████▎     | 204/467 [02:17<02:57,  1.48it/s]:  44%|████▍     | 205/467 [02:18<02:57,  1.48it/s]:  44%|████▍     | 206/467 [02:18<02:56,  1.48it/s]:  44%|████▍     | 207/467 [02:19<02:56,  1.47it/s]:  45%|████▍     | 208/467 [02:20<02:56,  1.47it/s]:  45%|████▍     | 209/467 [02:20<02:55,  1.47it/s]:  45%|████▍     | 210/467 [02:21<02:55,  1.47it/s]:  45%|████▌     | 211/467 [02:22<02:53,  1.47it/s]:  45%|████▌     | 212/467 [02:23<02:53,  1.47it/s]:  46%|████▌     | 213/467 [02:23<02:52,  1.47it/s]:  46%|████▌     | 214/467 [02:24<02:51,  1.47it/s]:  46%|████▌     | 215/467 [02:25<02:50,  1.48it/s]:  46%|████▋     | 216/467 [02:25<02:51,  1.47it/s]:  46%|████▋     | 217/467 [02:26<02:49,  1.47it/s]:  47%|████▋     | 218/467 [02:27<02:48,  1.48it/s]:  47%|████▋     | 219/467 [02:27<02:48,  1.47it/s]:  47%|████▋     | 220/467 [02:28<02:47,  1.48it/s]:  47%|████▋     | 221/467 [02:29<02:46,  1.48it/s]:  48%|████▊     | 222/467 [02:29<02:46,  1.47it/s]:  48%|████▊     | 223/467 [02:30<02:45,  1.47it/s]:  48%|████▊     | 224/467 [02:31<02:44,  1.47it/s]:  48%|████▊     | 225/467 [02:31<02:43,  1.48it/s]:  48%|████▊     | 226/467 [02:32<02:43,  1.48it/s]:  49%|████▊     | 227/467 [02:33<02:42,  1.48it/s]:  49%|████▉     | 228/467 [02:33<02:42,  1.47it/s]:  49%|████▉     | 229/467 [02:34<02:41,  1.47it/s]:  49%|████▉     | 230/467 [02:35<02:40,  1.48it/s]:  49%|████▉     | 231/467 [02:35<02:40,  1.47it/s]:  50%|████▉     | 232/467 [02:36<02:40,  1.47it/s]:  50%|████▉     | 233/467 [02:37<02:38,  1.47it/s]:  50%|█████     | 234/467 [02:37<02:38,  1.47it/s]:  50%|█████     | 235/467 [02:38<02:37,  1.48it/s]:  51%|█████     | 236/467 [02:39<02:35,  1.48it/s]:  51%|█████     | 237/467 [02:39<02:36,  1.47it/s]:  51%|█████     | 238/467 [02:40<02:35,  1.47it/s]:  51%|█████     | 239/467 [02:41<02:34,  1.48it/s]:  51%|█████▏    | 240/467 [02:42<02:34,  1.47it/s]:  52%|█████▏    | 241/467 [02:42<02:34,  1.47it/s]:  52%|█████▏    | 242/467 [02:43<02:33,  1.46it/s]:  52%|█████▏    | 243/467 [02:44<02:33,  1.46it/s]:  52%|█████▏    | 244/467 [02:44<02:33,  1.45it/s]:  52%|█████▏    | 245/467 [02:45<02:31,  1.46it/s]:  53%|█████▎    | 246/467 [02:46<02:31,  1.45it/s]:  53%|█████▎    | 247/467 [02:46<02:32,  1.45it/s]:  53%|█████▎    | 248/467 [02:47<02:30,  1.45it/s]:  53%|█████▎    | 249/467 [02:48<02:30,  1.45it/s]:  54%|█████▎    | 250/467 [02:48<02:30,  1.45it/s]:  54%|█████▎    | 251/467 [02:49<02:28,  1.45it/s]:  54%|█████▍    | 252/467 [02:50<02:28,  1.45it/s]:  54%|█████▍    | 253/467 [02:50<02:27,  1.45it/s]:  54%|█████▍    | 254/467 [02:51<02:26,  1.46it/s]:  55%|█████▍    | 255/467 [02:52<02:25,  1.45it/s]:  55%|█████▍    | 256/467 [02:53<02:25,  1.45it/s]:  55%|█████▌    | 257/467 [02:53<02:24,  1.45it/s]:  55%|█████▌    | 258/467 [02:54<02:24,  1.45it/s]:  55%|█████▌    | 259/467 [02:55<02:23,  1.45it/s]:  56%|█████▌    | 260/467 [02:55<02:22,  1.45it/s]:  56%|█████▌    | 261/467 [02:56<02:23,  1.44it/s]:  56%|█████▌    | 262/467 [02:57<02:21,  1.45it/s]:  56%|█████▋    | 263/467 [02:57<02:21,  1.44it/s]:  57%|█████▋    | 264/467 [02:58<02:19,  1.45it/s]:  57%|█████▋    | 265/467 [02:59<02:20,  1.44it/s]:  57%|█████▋    | 266/467 [02:59<02:18,  1.45it/s]:  57%|█████▋    | 267/467 [03:00<02:18,  1.45it/s]:  57%|█████▋    | 268/467 [03:01<02:17,  1.45it/s]:  58%|█████▊    | 269/467 [03:02<02:16,  1.45it/s]:  58%|█████▊    | 270/467 [03:02<02:15,  1.46it/s]:  58%|█████▊    | 271/467 [03:03<02:15,  1.45it/s]:  58%|█████▊    | 272/467 [03:04<02:13,  1.46it/s]:  58%|█████▊    | 273/467 [03:04<02:14,  1.45it/s]:  59%|█████▊    | 274/467 [03:05<02:12,  1.46it/s]:  59%|█████▉    | 275/467 [03:06<02:12,  1.45it/s]:  59%|█████▉    | 276/467 [03:06<02:11,  1.45it/s]:  59%|█████▉    | 277/467 [03:07<02:11,  1.44it/s]:  60%|█████▉    | 278/467 [03:08<02:10,  1.45it/s]:  60%|█████▉    | 279/467 [03:08<02:10,  1.44it/s]:  60%|█████▉    | 280/467 [03:09<02:08,  1.45it/s]:  60%|██████    | 281/467 [03:10<02:09,  1.44it/s]:  60%|██████    | 282/467 [03:10<02:07,  1.45it/s]:  61%|██████    | 283/467 [03:11<02:07,  1.44it/s]:  61%|██████    | 284/467 [03:12<02:05,  1.45it/s]:  61%|██████    | 285/467 [03:13<02:05,  1.45it/s]:  61%|██████    | 286/467 [03:13<02:04,  1.45it/s]:  61%|██████▏   | 287/467 [03:14<02:04,  1.44it/s]:  62%|██████▏   | 288/467 [03:15<02:03,  1.45it/s]:  62%|██████▏   | 289/467 [03:15<02:03,  1.44it/s]:  62%|██████▏   | 290/467 [03:16<02:01,  1.46it/s]:  62%|██████▏   | 291/467 [03:17<02:01,  1.44it/s]:  63%|██████▎   | 292/467 [03:17<02:00,  1.45it/s]:  63%|██████▎   | 293/467 [03:18<02:00,  1.44it/s]:  63%|██████▎   | 294/467 [03:19<01:59,  1.45it/s]:  63%|██████▎   | 295/467 [03:19<01:59,  1.44it/s]:  63%|██████▎   | 296/467 [03:20<01:57,  1.45it/s]:  64%|██████▎   | 297/467 [03:21<01:58,  1.44it/s]:  64%|██████▍   | 298/467 [03:22<01:55,  1.46it/s]:  64%|██████▍   | 299/467 [03:22<01:56,  1.44it/s]:  64%|██████▍   | 300/467 [03:23<01:54,  1.45it/s]:  64%|██████▍   | 301/467 [03:24<01:54,  1.45it/s]:  65%|██████▍   | 302/467 [03:24<01:53,  1.45it/s]:  65%|██████▍   | 303/467 [03:25<01:53,  1.44it/s]:  65%|██████▌   | 304/467 [03:26<01:52,  1.45it/s]:  65%|██████▌   | 305/467 [03:26<01:52,  1.44it/s]:  66%|██████▌   | 306/467 [03:27<01:52,  1.44it/s]:  66%|██████▌   | 307/467 [03:28<01:51,  1.44it/s]:  66%|██████▌   | 308/467 [03:28<01:50,  1.44it/s]:  66%|██████▌   | 309/467 [03:29<01:50,  1.43it/s]:  66%|██████▋   | 310/467 [03:30<01:48,  1.44it/s]:  67%|██████▋   | 311/467 [03:31<01:48,  1.43it/s]:  67%|██████▋   | 312/467 [03:31<01:47,  1.44it/s]:  67%|██████▋   | 313/467 [03:32<01:47,  1.44it/s]:  67%|██████▋   | 314/467 [03:33<01:46,  1.44it/s]:  67%|██████▋   | 315/467 [03:33<01:45,  1.44it/s]:  68%|██████▊   | 316/467 [03:34<01:44,  1.44it/s]:  68%|██████▊   | 317/467 [03:35<01:45,  1.43it/s]:  68%|██████▊   | 318/467 [03:35<01:44,  1.43it/s]:  68%|██████▊   | 319/467 [03:36<01:43,  1.43it/s]:  69%|██████▊   | 320/467 [03:37<01:42,  1.43it/s]:  69%|██████▊   | 321/467 [03:38<01:41,  1.43it/s]:  69%|██████▉   | 322/467 [03:38<01:41,  1.43it/s]:  69%|██████▉   | 323/467 [03:39<01:40,  1.43it/s]:  69%|██████▉   | 324/467 [03:40<01:39,  1.43it/s]:  70%|██████▉   | 325/467 [03:40<01:39,  1.43it/s]:  70%|██████▉   | 326/467 [03:41<01:37,  1.44it/s]:  70%|███████   | 327/467 [03:42<01:37,  1.44it/s]:  70%|███████   | 328/467 [03:42<01:37,  1.43it/s]:  70%|███████   | 329/467 [03:43<01:36,  1.43it/s]:  71%|███████   | 330/467 [03:44<01:35,  1.44it/s]:  71%|███████   | 331/467 [03:45<01:34,  1.44it/s]:  71%|███████   | 332/467 [03:45<01:33,  1.44it/s]:  71%|███████▏  | 333/467 [03:46<01:33,  1.44it/s]:  72%|███████▏  | 334/467 [03:47<01:32,  1.43it/s]:  72%|███████▏  | 335/467 [03:47<01:31,  1.44it/s]:  72%|███████▏  | 336/467 [03:48<01:30,  1.44it/s]:  72%|███████▏  | 337/467 [03:49<01:30,  1.44it/s]:  72%|███████▏  | 338/467 [03:49<01:29,  1.44it/s]:  73%|███████▎  | 339/467 [03:50<01:28,  1.44it/s]:  73%|███████▎  | 340/467 [03:51<01:28,  1.44it/s]:  73%|███████▎  | 341/467 [03:51<01:27,  1.45it/s]:  73%|███████▎  | 342/467 [03:52<01:26,  1.44it/s]:  73%|███████▎  | 343/467 [03:53<01:25,  1.44it/s]:  74%|███████▎  | 344/467 [03:54<01:24,  1.45it/s]:  74%|███████▍  | 345/467 [03:54<01:24,  1.44it/s]:  74%|███████▍  | 346/467 [03:55<01:23,  1.45it/s]:  74%|███████▍  | 347/467 [03:56<01:22,  1.45it/s]:  75%|███████▍  | 348/467 [03:56<01:22,  1.45it/s]:  75%|███████▍  | 349/467 [03:57<01:21,  1.45it/s]:  75%|███████▍  | 350/467 [03:58<01:20,  1.45it/s]:  75%|███████▌  | 351/467 [03:58<01:19,  1.45it/s]:  75%|███████▌  | 352/467 [03:59<01:19,  1.45it/s]:  76%|███████▌  | 353/467 [04:00<01:18,  1.45it/s]:  76%|███████▌  | 354/467 [04:00<01:17,  1.45it/s]:  76%|███████▌  | 355/467 [04:01<01:17,  1.45it/s]:  76%|███████▌  | 356/467 [04:02<01:16,  1.45it/s]:  76%|███████▋  | 357/467 [04:02<01:15,  1.45it/s]:  77%|███████▋  | 358/467 [04:03<01:15,  1.45it/s]:  77%|███████▋  | 359/467 [04:04<01:14,  1.44it/s]:  77%|███████▋  | 360/467 [04:05<01:14,  1.44it/s]:  77%|███████▋  | 361/467 [04:05<01:13,  1.44it/s]:  78%|███████▊  | 362/467 [04:06<01:12,  1.44it/s]:  78%|███████▊  | 363/467 [04:07<01:12,  1.44it/s]:  78%|███████▊  | 364/467 [04:07<01:11,  1.44it/s]:  78%|███████▊  | 365/467 [04:08<01:10,  1.44it/s]:  78%|███████▊  | 366/467 [04:09<01:10,  1.44it/s]:  79%|███████▊  | 367/467 [04:09<01:09,  1.44it/s]:  79%|███████▉  | 368/467 [04:10<01:08,  1.44it/s]:  79%|███████▉  | 369/467 [04:11<01:07,  1.44it/s]:  79%|███████▉  | 370/467 [04:12<01:07,  1.44it/s]:  79%|███████▉  | 371/467 [04:12<01:06,  1.44it/s]:  80%|███████▉  | 372/467 [04:13<01:05,  1.44it/s]:  80%|███████▉  | 373/467 [04:14<01:05,  1.44it/s]:  80%|████████  | 374/467 [04:14<01:04,  1.44it/s]:  80%|████████  | 375/467 [04:15<01:03,  1.44it/s]:  81%|████████  | 376/467 [04:16<01:03,  1.44it/s]:  81%|████████  | 377/467 [04:16<01:02,  1.44it/s]:  81%|████████  | 378/467 [04:17<01:01,  1.44it/s]:  81%|████████  | 379/467 [04:18<01:01,  1.44it/s]:  81%|████████▏ | 380/467 [04:18<01:00,  1.44it/s]:  82%|████████▏ | 381/467 [04:19<00:59,  1.44it/s]:  82%|████████▏ | 382/467 [04:20<00:59,  1.43it/s]:  82%|████████▏ | 383/467 [04:21<00:58,  1.44it/s]:  82%|████████▏ | 384/467 [04:21<00:57,  1.43it/s]:  82%|████████▏ | 385/467 [04:22<00:57,  1.43it/s]:  83%|████████▎ | 386/467 [04:23<00:56,  1.43it/s]:  83%|████████▎ | 387/467 [04:23<00:55,  1.43it/s]:  83%|████████▎ | 388/467 [04:24<00:55,  1.43it/s]:  83%|████████▎ | 389/467 [04:25<00:54,  1.43it/s]:  84%|████████▎ | 390/467 [04:25<00:53,  1.43it/s]:  84%|████████▎ | 391/467 [04:26<00:53,  1.43it/s]:  84%|████████▍ | 392/467 [04:27<00:52,  1.43it/s]:  84%|████████▍ | 393/467 [04:28<00:51,  1.43it/s]:  84%|████████▍ | 394/467 [04:28<00:51,  1.42it/s]:  85%|████████▍ | 395/467 [04:29<00:50,  1.43it/s]:  85%|████████▍ | 396/467 [04:30<00:49,  1.43it/s]:  85%|████████▌ | 397/467 [04:30<00:49,  1.42it/s]:  85%|████████▌ | 398/467 [04:31<00:48,  1.43it/s]:  85%|████████▌ | 399/467 [04:32<00:47,  1.43it/s]:  86%|████████▌ | 400/467 [04:32<00:46,  1.43it/s]:  86%|████████▌ | 401/467 [04:33<00:46,  1.43it/s]:  86%|████████▌ | 402/467 [04:34<00:45,  1.42it/s]:  86%|████████▋ | 403/467 [04:35<00:44,  1.42it/s]:  87%|████████▋ | 404/467 [04:35<00:44,  1.42it/s]:  87%|████████▋ | 405/467 [04:36<00:43,  1.42it/s]:  87%|████████▋ | 406/467 [04:37<00:43,  1.41it/s]:  87%|████████▋ | 407/467 [04:37<00:42,  1.42it/s]:  87%|████████▋ | 408/467 [04:38<00:41,  1.42it/s]:  88%|████████▊ | 409/467 [04:39<00:40,  1.42it/s]:  88%|████████▊ | 410/467 [04:40<00:40,  1.42it/s]:  88%|████████▊ | 411/467 [04:40<00:39,  1.42it/s]:  88%|████████▊ | 412/467 [04:41<00:38,  1.42it/s]:  88%|████████▊ | 413/467 [04:42<00:37,  1.42it/s]:  89%|████████▊ | 414/467 [04:42<00:37,  1.42it/s]:  89%|████████▉ | 415/467 [04:43<00:36,  1.41it/s]:  89%|████████▉ | 416/467 [04:44<00:35,  1.42it/s]:  89%|████████▉ | 417/467 [04:44<00:35,  1.42it/s]:  90%|████████▉ | 418/467 [04:45<00:34,  1.42it/s]:  90%|████████▉ | 419/467 [04:46<00:33,  1.42it/s]:  90%|████████▉ | 420/467 [04:47<00:33,  1.42it/s]:  90%|█████████ | 421/467 [04:47<00:32,  1.42it/s]:  90%|█████████ | 422/467 [04:48<00:31,  1.42it/s]:  91%|█████████ | 423/467 [04:49<00:30,  1.42it/s]:  91%|█████████ | 424/467 [04:49<00:30,  1.43it/s]:  91%|█████████ | 425/467 [04:50<00:29,  1.43it/s]:  91%|█████████ | 426/467 [04:51<00:28,  1.44it/s]:  91%|█████████▏| 427/467 [04:51<00:27,  1.44it/s]:  92%|█████████▏| 428/467 [04:52<00:27,  1.44it/s]:  92%|█████████▏| 429/467 [04:53<00:26,  1.44it/s]:  92%|█████████▏| 430/467 [04:54<00:25,  1.44it/s]:  92%|█████████▏| 431/467 [04:54<00:25,  1.43it/s]:  93%|█████████▎| 432/467 [04:55<00:24,  1.43it/s]:  93%|█████████▎| 433/467 [04:56<00:23,  1.42it/s]:  93%|█████████▎| 434/467 [04:56<00:23,  1.43it/s]:  93%|█████████▎| 435/467 [04:57<00:22,  1.42it/s]:  93%|█████████▎| 436/467 [04:58<00:21,  1.43it/s]:  94%|█████████▎| 437/467 [04:58<00:21,  1.43it/s]:  94%|█████████▍| 438/467 [04:59<00:20,  1.43it/s]:  94%|█████████▍| 439/467 [05:00<00:19,  1.43it/s]:  94%|█████████▍| 440/467 [05:01<00:18,  1.43it/s]:  94%|█████████▍| 441/467 [05:01<00:18,  1.43it/s]:  95%|█████████▍| 442/467 [05:02<00:17,  1.43it/s]:  95%|█████████▍| 443/467 [05:03<00:16,  1.43it/s]:  95%|█████████▌| 444/467 [05:03<00:16,  1.43it/s]:  95%|█████████▌| 445/467 [05:04<00:15,  1.43it/s]:  96%|█████████▌| 446/467 [05:05<00:14,  1.42it/s]:  96%|█████████▌| 447/467 [05:05<00:14,  1.43it/s]:  96%|█████████▌| 448/467 [05:06<00:13,  1.42it/s]:  96%|█████████▌| 449/467 [05:07<00:12,  1.43it/s]:  96%|█████████▋| 450/467 [05:08<00:11,  1.43it/s]:  97%|█████████▋| 451/467 [05:08<00:11,  1.42it/s]:  97%|█████████▋| 452/467 [05:09<00:10,  1.42it/s]:  97%|█████████▋| 453/467 [05:10<00:09,  1.42it/s]:  97%|█████████▋| 454/467 [05:10<00:09,  1.42it/s]:  97%|█████████▋| 455/467 [05:11<00:08,  1.42it/s]:  98%|█████████▊| 456/467 [05:12<00:07,  1.42it/s]:  98%|█████████▊| 457/467 [05:12<00:07,  1.43it/s]:  98%|█████████▊| 458/467 [05:13<00:06,  1.43it/s]:  98%|█████████▊| 459/467 [05:14<00:05,  1.43it/s]:  99%|█████████▊| 460/467 [05:15<00:04,  1.42it/s]:  99%|█████████▊| 461/467 [05:15<00:04,  1.41it/s]:  99%|█████████▉| 462/467 [05:16<00:03,  1.42it/s]:  99%|█████████▉| 463/467 [05:17<00:02,  1.42it/s]:  99%|█████████▉| 464/467 [05:17<00:02,  1.41it/s]: 100%|█████████▉| 465/467 [05:18<00:01,  1.42it/s]: 100%|█████████▉| 466/467 [05:19<00:00,  1.41it/s]: 100%|██████████| 467/467 [05:20<00:00,  1.42it/s]: 100%|██████████| 467/467 [05:20<00:00,  1.46it/s]\n"
     ]
    },
    {
     "name": "stdout",
     "output_type": "stream",
     "text": [
      "inference done!\n"
     ]
    }
   ],
   "source": [
    "\n",
    "# model 평가모드 전환\n",
    "model.eval()\n",
    "\n",
    "# progress bar 설정\n",
    "tbar = tqdm(all_user_list, desc=set_color(f\"Inference\", 'pink')) # 245, 128\n",
    "\n",
    "for data in tbar: # data: 128, \n",
    "    # interaction 생성\n",
    "    interaction = dict()\n",
    "    interaction = Interaction(interaction)\n",
    "    interaction[user_id] = data\n",
    "    interaction = interaction.to(device)\n",
    "\n",
    "    # user item별 score 예측\n",
    "    score = model.full_sort_predict(interaction) # [1, 871424]\n",
    "    score = score.view(-1, item_len) # 128, 6808\n",
    "\n",
    "    rating_pred = score.cpu().data.numpy().copy() # 128, 6808\n",
    "\n",
    "    user_index = data.numpy() # 128,\n",
    "\n",
    "    # idx에는 128명의 영화상호작용이 True, False로 있다.\n",
    "    idx = matrix[user_index].toarray() > 0 # idx shape: 128, 6808\n",
    "\n",
    "    rating_pred[idx] = -np.inf # idx에서 True부분이 -inf로 변경\n",
    "    rating_pred[:, 0] = -np.inf # 첫번째 PAD 열도 -inf로 변경\n",
    "    \n",
    "    # np.argpartition(배열, -K) : 배열에서 순서 상관없이 큰 값 K개를 뽑아 오른쪽에 놓겠다 -> 인덱스반환\n",
    "    # rating_pred에서 각 행마다 K개의 score가 큰 인덱스를 오른쪽에 두고, 그 K개만 가져오기\n",
    "    ind = np.argpartition(rating_pred, -K)[:, -K:] # rating_pred: (128, 6808) -> ind: (128, 20)\n",
    "\n",
    "    user_row_index = np.arange(len(rating_pred)).reshape(-1,1) # [[0],[1],...,[127]]\n",
    "    arr_ind = rating_pred[user_row_index, ind] # 128, 6808 -> 128, 20\n",
    "\n",
    "    # arr_ind 내부에서 행별로, 내림차순 정렬해서 index 나오도록\n",
    "    arr_ind_argsort = np.argsort(arr_ind)[np.arange(len(rating_pred)), ::-1]\n",
    "\n",
    "    # ind는 item의 real index를 갖는 128,20 -> arr_ind_argsort를 통해 pred가 높은 상위 20개 read index 추출\n",
    "    batch_pred_list = ind[user_row_index, arr_ind_argsort] # 128,20 -> 128,20\n",
    "\n",
    "    if pred_list is None: # 처음에는 직접 정의\n",
    "        pred_list = batch_pred_list\n",
    "        user_list = user_index\n",
    "    else: # pred_list가 있을 때는, append\n",
    "        pred_list = np.append(pred_list, batch_pred_list, axis=0)\n",
    "        user_list = np.append(\n",
    "            user_list, user_index, axis=0\n",
    "        )\n",
    "\n",
    "result = []\n",
    "for user, pred in zip(user_list, pred_list):\n",
    "    for item in pred:\n",
    "        result.append((int(user_id2token[user]), int(item_id2token[item])))\n",
    "\n",
    "# 데이터 저장\n",
    "sub = pd.DataFrame(result, columns=[\"user\", \"item\"])\n",
    "sub.to_csv(\n",
    "    \"submission.csv\", index=False\n",
    ")\n",
    "print('inference done!')"
   ]
  },
  {
   "attachments": {},
   "cell_type": "markdown",
   "id": "934a19ad",
   "metadata": {},
   "source": [
    "## Recall@K"
   ]
  },
  {
   "cell_type": "code",
   "execution_count": 101,
   "id": "26992968",
   "metadata": {},
   "outputs": [],
   "source": [
    "answer = pd.read_csv('/opt/ml/input/project/model/data/S_test.csv')"
   ]
  },
  {
   "cell_type": "code",
   "execution_count": null,
   "id": "4c3836f3",
   "metadata": {},
   "outputs": [],
   "source": [
    "predict_user = sub.groupby('user')['item'].apply(list) \n",
    "answer_user = answer.groupby('user')['item'].apply(list)\n"
   ]
  },
  {
   "cell_type": "code",
   "execution_count": 158,
   "id": "4e68e884",
   "metadata": {},
   "outputs": [
    {
     "data": {
      "text/plain": [
       "5619     1795\n",
       "408      1623\n",
       "1959     1505\n",
       "1303     1453\n",
       "3996     1430\n",
       "         ... \n",
       "41232       1\n",
       "38818       1\n",
       "41231       1\n",
       "41230       1\n",
       "41460       1\n",
       "Name: item_id:token, Length: 41407, dtype: int64"
      ]
     },
     "execution_count": 158,
     "metadata": {},
     "output_type": "execute_result"
    }
   ],
   "source": [
    "train['item_id:token'].value_counts()"
   ]
  },
  {
   "cell_type": "code",
   "execution_count": null,
   "id": "1a9f51db",
   "metadata": {},
   "outputs": [
    {
     "data": {
      "text/plain": [
       "user\n",
       "0         [341, 408, 3996, 1592, 7837, 11058, 3220, 1435...\n",
       "1         [341, 408, 3996, 1592, 7837, 11058, 3220, 1435...\n",
       "2         [341, 408, 3996, 1592, 7837, 11058, 3220, 1435...\n",
       "3         [341, 408, 3996, 1592, 7837, 11058, 3220, 1435...\n",
       "4         [341, 408, 3996, 1592, 7837, 11058, 3220, 1435...\n",
       "                                ...                        \n",
       "382935    [341, 408, 3996, 1592, 7837, 11058, 3220, 1435...\n",
       "382936    [341, 408, 3996, 1592, 7837, 11058, 3220, 1435...\n",
       "382937    [341, 408, 3996, 1592, 7837, 11058, 3220, 1435...\n",
       "382938    [341, 408, 3996, 1592, 7837, 11058, 3220, 1435...\n",
       "382939    [341, 408, 3996, 1592, 7837, 11058, 3220, 1435...\n",
       "Name: item, Length: 382940, dtype: object"
      ]
     },
     "execution_count": 156,
     "metadata": {},
     "output_type": "execute_result"
    }
   ],
   "source": [
    "predict_user"
   ]
  },
  {
   "cell_type": "code",
   "execution_count": 132,
   "id": "5fecd6e0",
   "metadata": {},
   "outputs": [],
   "source": [
    "_recall = []\n",
    "\n",
    "for i, ans in enumerate(answer_user):\n",
    "    a = 0\n",
    "    for j in ans:\n",
    "        if j in predict_user[i]:\n",
    "            a += 1 \n",
    "    _recall.append(a/2)"
   ]
  },
  {
   "cell_type": "code",
   "execution_count": 133,
   "id": "9619a513",
   "metadata": {},
   "outputs": [
    {
     "data": {
      "text/plain": [
       "9.916699722332408e-05"
      ]
     },
     "execution_count": 133,
     "metadata": {},
     "output_type": "execute_result"
    }
   ],
   "source": [
    "recall = sum(_recall) / len(_recall)\n",
    "recall"
   ]
  }
 ],
 "metadata": {
  "kernelspec": {
   "display_name": "recbole",
   "language": "python",
   "name": "python3"
  },
  "language_info": {
   "codemirror_mode": {
    "name": "ipython",
    "version": 3
   },
   "file_extension": ".py",
   "mimetype": "text/x-python",
   "name": "python",
   "nbconvert_exporter": "python",
   "pygments_lexer": "ipython3",
   "version": "3.8.16"
  },
  "toc": {
   "base_numbering": 1,
   "nav_menu": {},
   "number_sections": true,
   "sideBar": true,
   "skip_h1_title": false,
   "title_cell": "Table of Contents",
   "title_sidebar": "Contents",
   "toc_cell": false,
   "toc_position": {
    "height": "764px",
    "left": "26px",
    "top": "111.141px",
    "width": "393.391px"
   },
   "toc_section_display": true,
   "toc_window_display": true
  },
  "vscode": {
   "interpreter": {
    "hash": "6a17f5d7f65aafa62cc4054b3c810fbf96b404e241e2b813ba4cd864a199129e"
   }
  }
 },
 "nbformat": 4,
 "nbformat_minor": 5
}
